{
 "cells": [
  {
   "cell_type": "code",
   "execution_count": null,
   "id": "3e0205a9",
   "metadata": {},
   "outputs": [],
   "source": []
  },
  {
   "cell_type": "code",
   "execution_count": 2,
   "id": "6d28f10a",
   "metadata": {},
   "outputs": [],
   "source": [
    "import os\n",
    "import numpy as np\n",
    "import pandas as pd\n",
    "import seaborn as sns\n",
    "from pathlib import Path\n",
    "from itertools import chain\n",
    "import matplotlib.pyplot as plt\n",
    "\n",
    "from sklearn.preprocessing import MinMaxScaler\n",
    "import joblib\n",
    "\n",
    "# Mis utilitarios\n",
    "from utils import *\n"
   ]
  },
  {
   "cell_type": "code",
   "execution_count": 17,
   "id": "358ae829",
   "metadata": {},
   "outputs": [],
   "source": [
    "\n",
    "from tensorflow.keras.preprocessing.sequence import pad_sequences\n",
    "from tensorflow.keras.utils import to_categorical\n",
    "\n",
    "from tensorflow.keras import Sequential, Model, Input\n",
    "from tensorflow.keras.layers import LSTM, Embedding, Dense, TimeDistributed, Dropout, Bidirectional, Concatenate, ConvLSTM2D\n",
    "from tensorflow.keras.initializers import Constant\n",
    "from tensorflow.keras.utils import plot_model"
   ]
  },
  {
   "cell_type": "markdown",
   "id": "ee697857",
   "metadata": {},
   "source": [
    "# Set Path"
   ]
  },
  {
   "cell_type": "code",
   "execution_count": 4,
   "id": "162a5a19",
   "metadata": {},
   "outputs": [
    {
     "data": {
      "text/plain": [
       "WindowsPath('e:/backup Asus G15 27_10_2021/Colegio de Mates Bourbaki/DLA2501 - Deep Learning Avanzado/Flood forecasting')"
      ]
     },
     "execution_count": 4,
     "metadata": {},
     "output_type": "execute_result"
    }
   ],
   "source": [
    "el_path_main = Path(os.getcwd()).parent\n",
    "el_path_main"
   ]
  },
  {
   "cell_type": "code",
   "execution_count": 35,
   "id": "056921a6",
   "metadata": {},
   "outputs": [],
   "source": [
    "# En caso sea en google Colab"
   ]
  },
  {
   "cell_type": "markdown",
   "id": "ac0045e1",
   "metadata": {},
   "source": [
    "# Load Tensors"
   ]
  },
  {
   "cell_type": "code",
   "execution_count": 5,
   "id": "008e7b74",
   "metadata": {},
   "outputs": [],
   "source": [
    "X_gts_train, Y_train, X_gts_miss_train, X_ctry_lvl_train = joblib.load(el_path_main / '2. Datos/Processed data/TRAIN_data.pkl')\n",
    "X_gts_oot, Y_oot, X_gts_miss_oot, X_ctry_lvl_oot = joblib.load(el_path_main / '2. Datos/Processed data/OOT_data.pkl')"
   ]
  },
  {
   "cell_type": "code",
   "execution_count": null,
   "id": "db532fc7",
   "metadata": {},
   "outputs": [],
   "source": [
    "# En caso sea en google Colab\n",
    "X_gts_train, Y_train, X_gts_miss_train, X_ctry_lvl_train = joblib.load(el_path_main / '2. Datos/Processed data/TRAIN_data.pkl')\n",
    "X_gts_oot, Y_oot, X_gts_miss_oot, X_ctry_lvl_oot = joblib.load(el_path_main / '2. Datos/Processed data/OOT_data.pkl')"
   ]
  },
  {
   "cell_type": "code",
   "execution_count": 6,
   "id": "0833f1c0",
   "metadata": {},
   "outputs": [
    {
     "data": {
      "text/plain": [
       "((193, 10, 96, 36, 28), (193, 12, 36, 28), (193, 10, 96, 36, 28), (193, 180))"
      ]
     },
     "execution_count": 6,
     "metadata": {},
     "output_type": "execute_result"
    }
   ],
   "source": [
    "X_gts_oot.shape, Y_oot.shape, X_gts_miss_oot.shape, X_ctry_lvl_oot.shape"
   ]
  },
  {
   "cell_type": "code",
   "execution_count": 7,
   "id": "ada1844b",
   "metadata": {},
   "outputs": [
    {
     "data": {
      "text/plain": [
       "((1177, 10, 96, 36, 28),\n",
       " (1177, 12, 36, 28),\n",
       " (1177, 10, 96, 36, 28),\n",
       " (1177, 180))"
      ]
     },
     "execution_count": 7,
     "metadata": {},
     "output_type": "execute_result"
    }
   ],
   "source": [
    "X_gts_train.shape, Y_train.shape, X_gts_miss_train.shape, X_ctry_lvl_train.shape"
   ]
  },
  {
   "cell_type": "markdown",
   "id": "0c4bd3e6",
   "metadata": {},
   "source": [
    "# Conv-LSTM"
   ]
  },
  {
   "cell_type": "code",
   "execution_count": 24,
   "id": "c6cb1e87",
   "metadata": {},
   "outputs": [],
   "source": [
    "n_vars_from_gts = X_gts_train.shape[1] # N of variables from GTS\n",
    "n_times_for_lstm = X_gts_train.shape[2] # N of time steps usted for LSTM\n",
    "n_lats = X_gts_train.shape[3] # N of latitudes\n",
    "n_lons = X_gts_train.shape[4] # N of longitudes\n",
    "\n",
    "# Set of parameters that will be tunned\n",
    "recurrent_dropout = 0.2\n",
    "dropout = 0.2\n",
    "n_filters = 2"
   ]
  },
  {
   "cell_type": "code",
   "execution_count": 25,
   "id": "ecad83bf",
   "metadata": {},
   "outputs": [
    {
     "data": {
      "text/plain": [
       "(1177, 96, 36, 28)"
      ]
     },
     "execution_count": 25,
     "metadata": {},
     "output_type": "execute_result"
    }
   ],
   "source": [
    "X_prueba = X_gts_train[:,0,:]\n",
    "X_prueba.shape"
   ]
  },
  {
   "cell_type": "code",
   "execution_count": null,
   "id": "d9dd6487",
   "metadata": {},
   "outputs": [
    {
     "data": {
      "text/html": [
       "<pre style=\"white-space:pre;overflow-x:auto;line-height:normal;font-family:Menlo,'DejaVu Sans Mono',consolas,'Courier New',monospace\"><span style=\"font-weight: bold\">Model: \"functional_3\"</span>\n",
       "</pre>\n"
      ],
      "text/plain": [
       "\u001b[1mModel: \"functional_3\"\u001b[0m\n"
      ]
     },
     "metadata": {},
     "output_type": "display_data"
    },
    {
     "data": {
      "text/html": [
       "<pre style=\"white-space:pre;overflow-x:auto;line-height:normal;font-family:Menlo,'DejaVu Sans Mono',consolas,'Courier New',monospace\">┏━━━━━━━━━━━━━━━━━━━━━━━━━━━━━━━━━┳━━━━━━━━━━━━━━━━━━━━━━━━┳━━━━━━━━━━━━━━━┓\n",
       "┃<span style=\"font-weight: bold\"> Layer (type)                    </span>┃<span style=\"font-weight: bold\"> Output Shape           </span>┃<span style=\"font-weight: bold\">       Param # </span>┃\n",
       "┡━━━━━━━━━━━━━━━━━━━━━━━━━━━━━━━━━╇━━━━━━━━━━━━━━━━━━━━━━━━╇━━━━━━━━━━━━━━━┩\n",
       "│ inp1 (<span style=\"color: #0087ff; text-decoration-color: #0087ff\">InputLayer</span>)               │ (<span style=\"color: #00d7ff; text-decoration-color: #00d7ff\">None</span>, <span style=\"color: #00af00; text-decoration-color: #00af00\">96</span>, <span style=\"color: #00af00; text-decoration-color: #00af00\">36</span>, <span style=\"color: #00af00; text-decoration-color: #00af00\">28</span>, <span style=\"color: #00af00; text-decoration-color: #00af00\">2</span>)  │             <span style=\"color: #00af00; text-decoration-color: #00af00\">0</span> │\n",
       "├─────────────────────────────────┼────────────────────────┼───────────────┤\n",
       "│ conv_lstm2d_9 (<span style=\"color: #0087ff; text-decoration-color: #0087ff\">ConvLSTM2D</span>)      │ (<span style=\"color: #00d7ff; text-decoration-color: #00d7ff\">None</span>, <span style=\"color: #00af00; text-decoration-color: #00af00\">96</span>, <span style=\"color: #00af00; text-decoration-color: #00af00\">34</span>, <span style=\"color: #00af00; text-decoration-color: #00af00\">26</span>, <span style=\"color: #00af00; text-decoration-color: #00af00\">2</span>)  │           <span style=\"color: #00af00; text-decoration-color: #00af00\">296</span> │\n",
       "├─────────────────────────────────┼────────────────────────┼───────────────┤\n",
       "│ mi_out (<span style=\"color: #0087ff; text-decoration-color: #0087ff\">Dense</span>)                  │ (<span style=\"color: #00d7ff; text-decoration-color: #00d7ff\">None</span>, <span style=\"color: #00af00; text-decoration-color: #00af00\">96</span>, <span style=\"color: #00af00; text-decoration-color: #00af00\">34</span>, <span style=\"color: #00af00; text-decoration-color: #00af00\">26</span>, <span style=\"color: #00af00; text-decoration-color: #00af00\">1</span>)  │             <span style=\"color: #00af00; text-decoration-color: #00af00\">3</span> │\n",
       "└─────────────────────────────────┴────────────────────────┴───────────────┘\n",
       "</pre>\n"
      ],
      "text/plain": [
       "┏━━━━━━━━━━━━━━━━━━━━━━━━━━━━━━━━━┳━━━━━━━━━━━━━━━━━━━━━━━━┳━━━━━━━━━━━━━━━┓\n",
       "┃\u001b[1m \u001b[0m\u001b[1mLayer (type)                   \u001b[0m\u001b[1m \u001b[0m┃\u001b[1m \u001b[0m\u001b[1mOutput Shape          \u001b[0m\u001b[1m \u001b[0m┃\u001b[1m \u001b[0m\u001b[1m      Param #\u001b[0m\u001b[1m \u001b[0m┃\n",
       "┡━━━━━━━━━━━━━━━━━━━━━━━━━━━━━━━━━╇━━━━━━━━━━━━━━━━━━━━━━━━╇━━━━━━━━━━━━━━━┩\n",
       "│ inp1 (\u001b[38;5;33mInputLayer\u001b[0m)               │ (\u001b[38;5;45mNone\u001b[0m, \u001b[38;5;34m96\u001b[0m, \u001b[38;5;34m36\u001b[0m, \u001b[38;5;34m28\u001b[0m, \u001b[38;5;34m2\u001b[0m)  │             \u001b[38;5;34m0\u001b[0m │\n",
       "├─────────────────────────────────┼────────────────────────┼───────────────┤\n",
       "│ conv_lstm2d_9 (\u001b[38;5;33mConvLSTM2D\u001b[0m)      │ (\u001b[38;5;45mNone\u001b[0m, \u001b[38;5;34m96\u001b[0m, \u001b[38;5;34m34\u001b[0m, \u001b[38;5;34m26\u001b[0m, \u001b[38;5;34m2\u001b[0m)  │           \u001b[38;5;34m296\u001b[0m │\n",
       "├─────────────────────────────────┼────────────────────────┼───────────────┤\n",
       "│ mi_out (\u001b[38;5;33mDense\u001b[0m)                  │ (\u001b[38;5;45mNone\u001b[0m, \u001b[38;5;34m96\u001b[0m, \u001b[38;5;34m34\u001b[0m, \u001b[38;5;34m26\u001b[0m, \u001b[38;5;34m1\u001b[0m)  │             \u001b[38;5;34m3\u001b[0m │\n",
       "└─────────────────────────────────┴────────────────────────┴───────────────┘\n"
      ]
     },
     "metadata": {},
     "output_type": "display_data"
    },
    {
     "data": {
      "text/html": [
       "<pre style=\"white-space:pre;overflow-x:auto;line-height:normal;font-family:Menlo,'DejaVu Sans Mono',consolas,'Courier New',monospace\"><span style=\"font-weight: bold\"> Total params: </span><span style=\"color: #00af00; text-decoration-color: #00af00\">299</span> (1.17 KB)\n",
       "</pre>\n"
      ],
      "text/plain": [
       "\u001b[1m Total params: \u001b[0m\u001b[38;5;34m299\u001b[0m (1.17 KB)\n"
      ]
     },
     "metadata": {},
     "output_type": "display_data"
    },
    {
     "data": {
      "text/html": [
       "<pre style=\"white-space:pre;overflow-x:auto;line-height:normal;font-family:Menlo,'DejaVu Sans Mono',consolas,'Courier New',monospace\"><span style=\"font-weight: bold\"> Trainable params: </span><span style=\"color: #00af00; text-decoration-color: #00af00\">299</span> (1.17 KB)\n",
       "</pre>\n"
      ],
      "text/plain": [
       "\u001b[1m Trainable params: \u001b[0m\u001b[38;5;34m299\u001b[0m (1.17 KB)\n"
      ]
     },
     "metadata": {},
     "output_type": "display_data"
    },
    {
     "data": {
      "text/html": [
       "<pre style=\"white-space:pre;overflow-x:auto;line-height:normal;font-family:Menlo,'DejaVu Sans Mono',consolas,'Courier New',monospace\"><span style=\"font-weight: bold\"> Non-trainable params: </span><span style=\"color: #00af00; text-decoration-color: #00af00\">0</span> (0.00 B)\n",
       "</pre>\n"
      ],
      "text/plain": [
       "\u001b[1m Non-trainable params: \u001b[0m\u001b[38;5;34m0\u001b[0m (0.00 B)\n"
      ]
     },
     "metadata": {},
     "output_type": "display_data"
    }
   ],
   "source": [
    "\n",
    "inp1 = Input(shape=(n_times_for_lstm, n_lats, n_lons, 2, ), name='inp1')\n",
    "\n",
    "mi_lstm= ConvLSTM2D(\n",
    "                    filters = n_filters,\n",
    "                    kernel_size = (3, 3), # Tamaño del kernel\n",
    "                    data_format='channels_last', # Forma en que recibe los datos:Docu -> 5D tensor with shape: (samples, time, rows, cols, channels)\n",
    "                    return_sequences=True, # Retorna cada secuencia de salida\n",
    "                    recurrent_dropout=recurrent_dropout, dropout=dropout  # Para evitar sobreajuste\n",
    "                    )(inp1)\n",
    "\n",
    "mi_out = Dense(1, activation='linear', name='mi_out')(mi_lstm)\n",
    "\n",
    "\n",
    "CODE_model = Model(inputs=[inp1], outputs = mi_out)  # unión del modelo\n",
    "CODE_model.summary()"
   ]
  },
  {
   "cell_type": "code",
   "execution_count": null,
   "id": "24338db5",
   "metadata": {},
   "outputs": [],
   "source": [
    "\n",
    "# Input gts\n",
    "dict_gts_inputs = {}\n",
    "dict_gts_lstms = {}\n",
    "for i in range(n_vars_from_gts):\n",
    "    dict_gts_inputs[f'input_gts_{i}'] = Input(shape=(1,), name=f'input_gts_{i}')\n",
    "\n",
    "    dict_gts_lstms[f'lstm_gts_{i}'] = LSTM(units = hidden_units_lstm,\n",
    "                              return_sequences=False, # No retornamos todos los estados h para cada timestep (caracter) (en Name entity recog le pusimos True para scar los predicts de cada palabra)\n",
    "                              recurrent_dropout=0.2, dropout=0.2  # Para evitar sobreajuste\n",
    "                              )(dict_gts_inputs[f'input_gts_{i}'])\n",
    "\n"
   ]
  },
  {
   "cell_type": "markdown",
   "id": "365109f4",
   "metadata": {},
   "source": []
  },
  {
   "cell_type": "markdown",
   "id": "7adf4b4e",
   "metadata": {},
   "source": [
    "# Benchmark (Logit)"
   ]
  },
  {
   "cell_type": "markdown",
   "id": "36219c5a",
   "metadata": {},
   "source": []
  },
  {
   "cell_type": "code",
   "execution_count": null,
   "id": "acceaeff",
   "metadata": {},
   "outputs": [],
   "source": []
  }
 ],
 "metadata": {
  "kernelspec": {
   "display_name": ".venv",
   "language": "python",
   "name": "python3"
  },
  "language_info": {
   "codemirror_mode": {
    "name": "ipython",
    "version": 3
   },
   "file_extension": ".py",
   "mimetype": "text/x-python",
   "name": "python",
   "nbconvert_exporter": "python",
   "pygments_lexer": "ipython3",
   "version": "3.11.7"
  }
 },
 "nbformat": 4,
 "nbformat_minor": 5
}
