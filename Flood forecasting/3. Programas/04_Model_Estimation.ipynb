{
 "cells": [
  {
   "cell_type": "code",
   "execution_count": 2,
   "id": "6d28f10a",
   "metadata": {},
   "outputs": [],
   "source": [
    "import os\n",
    "import numpy as np\n",
    "import pandas as pd\n",
    "import seaborn as sns\n",
    "from pathlib import Path\n",
    "from itertools import chain\n",
    "import matplotlib.pyplot as plt\n",
    "\n",
    "from sklearn.preprocessing import MinMaxScaler\n",
    "from sklearn.model_selection import GridSearchCV\n",
    "from sklearn.linear_model import LogisticRegression\n",
    "\n",
    "import joblib\n",
    "\n",
    "# Mis utilitarios\n",
    "from utils import *\n"
   ]
  },
  {
   "cell_type": "code",
   "execution_count": 3,
   "id": "358ae829",
   "metadata": {},
   "outputs": [],
   "source": [
    "\n",
    "from tensorflow.keras.preprocessing.sequence import pad_sequences\n",
    "from tensorflow.keras.utils import to_categorical\n",
    "\n",
    "import tensorflow as tf\n",
    "from tensorflow.keras import Sequential, Model, Input\n",
    "from tensorflow.keras.layers import LSTM, Embedding, Dense, TimeDistributed, Dropout, Bidirectional, Concatenate, ConvLSTM2D, Reshape, Conv2D, Lambda\n",
    "from tensorflow.keras.initializers import Constant\n",
    "from tensorflow.keras.utils import plot_model"
   ]
  },
  {
   "cell_type": "markdown",
   "id": "ee697857",
   "metadata": {},
   "source": [
    "# Set Path"
   ]
  },
  {
   "cell_type": "code",
   "execution_count": 4,
   "id": "162a5a19",
   "metadata": {},
   "outputs": [
    {
     "data": {
      "text/plain": [
       "WindowsPath('e:/backup Asus G15 27_10_2021/Colegio de Mates Bourbaki/DLA2501 - Deep Learning Avanzado/Flood forecasting')"
      ]
     },
     "execution_count": 4,
     "metadata": {},
     "output_type": "execute_result"
    }
   ],
   "source": [
    "el_path_main = Path(os.getcwd()).parent\n",
    "el_path_main"
   ]
  },
  {
   "cell_type": "code",
   "execution_count": 5,
   "id": "056921a6",
   "metadata": {},
   "outputs": [],
   "source": [
    "# En caso sea en google Colab\n",
    "# from google.colab import drive\n",
    "# drive.mount('/content/drive')"
   ]
  },
  {
   "cell_type": "markdown",
   "id": "ac0045e1",
   "metadata": {},
   "source": [
    "# Load Tensors"
   ]
  },
  {
   "cell_type": "code",
   "execution_count": 6,
   "id": "008e7b74",
   "metadata": {},
   "outputs": [],
   "source": [
    "X_gts_train, Y_train, X_gts_miss_train, X_ctry_lvl_train = joblib.load(el_path_main / '2. Datos/Processed data/TRAIN_data.pkl')\n",
    "X_gts_oot, Y_oot, X_gts_miss_oot, X_ctry_lvl_oot = joblib.load(el_path_main / '2. Datos/Processed data/OOT_data.pkl')\n",
    "\n",
    "# El orden de los inputs en X_gts_train es:\n",
    "# ['cld', 'dtr', 'frs', 'pet', 'pre', 'tmn', 'tmp', 'tmx', 'vap', 'wet']"
   ]
  },
  {
   "cell_type": "code",
   "execution_count": 7,
   "id": "db532fc7",
   "metadata": {},
   "outputs": [],
   "source": [
    "# Reducimos el tamaño del dataset para que pueda ser ejecutado en local (no  sirvió, pero en Cloud sí)\n",
    "desde_index = 700\n",
    "X_gts_train = X_gts_train[desde_index:,:]\n",
    "Y_train = Y_train[desde_index:,:]\n",
    "X_gts_miss_train = X_gts_miss_train[desde_index:,:]\n",
    "X_ctry_lvl_train = X_ctry_lvl_train[desde_index:,:]"
   ]
  },
  {
   "cell_type": "code",
   "execution_count": 8,
   "id": "0833f1c0",
   "metadata": {},
   "outputs": [
    {
     "data": {
      "text/plain": [
       "((477, 10, 96, 36, 28), (477, 12, 36, 28), (477, 10, 96, 36, 28), (477, 180))"
      ]
     },
     "execution_count": 8,
     "metadata": {},
     "output_type": "execute_result"
    }
   ],
   "source": [
    "# X_gts_train.shape, Y_train.shape, X_gts_miss_oot.shape, X_ctry_lvl_oot.shape\n",
    "X_gts_train.shape, Y_train.shape, X_gts_miss_train.shape, X_ctry_lvl_train.shape"
   ]
  },
  {
   "cell_type": "code",
   "execution_count": 9,
   "id": "d546ea96",
   "metadata": {},
   "outputs": [],
   "source": [
    "def format_Y(Y):\n",
    "    \"\"\"\n",
    "    Formatea Y para que sea un array de numpy con la forma (n_samples, n_classes)\n",
    "    \"\"\"\n",
    "    Y = np.array(Y)\n",
    "    Y = to_categorical(Y, num_classes=2)\n",
    "    return Y"
   ]
  },
  {
   "cell_type": "code",
   "execution_count": 11,
   "id": "08a1317c",
   "metadata": {},
   "outputs": [],
   "source": [
    "Y_train_f = format_Y(Y_train)\n",
    "Y_oot_f = format_Y(Y_oot)"
   ]
  },
  {
   "cell_type": "code",
   "execution_count": 12,
   "id": "ada1844b",
   "metadata": {},
   "outputs": [
    {
     "data": {
      "text/plain": [
       "((477, 10, 96, 36, 28),\n",
       " (477, 12, 36, 28),\n",
       " (477, 12, 36, 28, 2),\n",
       " (477, 10, 96, 36, 28),\n",
       " (477, 180))"
      ]
     },
     "execution_count": 12,
     "metadata": {},
     "output_type": "execute_result"
    }
   ],
   "source": [
    "X_gts_train.shape, Y_train.shape, Y_train_f.shape, X_gts_miss_train.shape, X_ctry_lvl_train.shape"
   ]
  },
  {
   "cell_type": "code",
   "execution_count": 12,
   "id": "b3f73e3d",
   "metadata": {},
   "outputs": [],
   "source": [
    "def gen_X_gts_for_model(X_gts, X_gts_miss):\n",
    "    n_vars = X_gts.shape[1]\n",
    "    lista_array = []\n",
    "    for var in range(n_vars):\n",
    "        X_tmp      = np.expand_dims(X_gts[:, var, :], -1)\n",
    "        X_tmp_miss = np.expand_dims(X_gts_miss[:, var, :], -1)\n",
    "        X = np.concat((X_tmp, X_tmp_miss), axis=-1)\n",
    "        lista_array.append(X)\n",
    "    return lista_array"
   ]
  },
  {
   "cell_type": "code",
   "execution_count": 13,
   "id": "e703f877",
   "metadata": {},
   "outputs": [],
   "source": [
    "la_lista_de_arrays_oot = gen_X_gts_for_model(X_gts_oot, X_gts_miss_oot)\n",
    "la_lista_de_arrays_train = gen_X_gts_for_model(X_gts_train, X_gts_miss_train)"
   ]
  },
  {
   "cell_type": "code",
   "execution_count": null,
   "id": "8528d8e9",
   "metadata": {},
   "outputs": [
    {
     "data": {
      "text/plain": [
       "(477, 96, 36, 28, 2)"
      ]
     },
     "execution_count": 13,
     "metadata": {},
     "output_type": "execute_result"
    }
   ],
   "source": [
    "la_lista_de_arrays_train[0].shape"
   ]
  },
  {
   "cell_type": "markdown",
   "id": "9ee353c4",
   "metadata": {},
   "source": [
    "# Version Simple"
   ]
  },
  {
   "cell_type": "code",
   "execution_count": null,
   "id": "f01d8c15",
   "metadata": {},
   "outputs": [],
   "source": [
    "n_vars_from_gts = X_gts_train.shape[1] # N of variables from GTS\n",
    "n_times_for_lstm = X_gts_train.shape[2] # N of time steps usted for LSTM\n",
    "n_lats = X_gts_train.shape[3] # N of latitudes\n",
    "n_lons = X_gts_train.shape[4] # N of longitudes\n",
    "vars_ctry_lvl = X_ctry_lvl_train.shape[1] # N of variables from country level data\n",
    "n_codmes_fcast = Y_train.shape[1] # N of codmes for forecast\n",
    "\n",
    "# Set of parameters that will be tunned\n",
    "recurrent_dropout = 0.2\n",
    "dropout = 0.2   \n",
    "n_filters = 2\n",
    "kernel_size = 3\n",
    "include_miss_layer = True\n",
    "dims_nn_ctry_lvl_tmp = [16] # La longitud de esta lista indica la cantidad de capas -1 (colcoar lista vacía para que sea de tamaño 1), los valores dentro indican el tamaño de la capa\n",
    "\n",
    "# Set of parameters that are based on the previous ones\n",
    "n_channels_conv_lstm = 2 if include_miss_layer else 1\n",
    "dims_nn_ctry_lvl = dims_nn_ctry_lvl_tmp+[n_lats*n_lons*n_channels_conv_lstm] # La longitud de esta lista indica la cantidad de capas, los valores dentro indican el tamaño de la capa"
   ]
  },
  {
   "cell_type": "code",
   "execution_count": 15,
   "id": "1d9d48e2",
   "metadata": {},
   "outputs": [],
   "source": [
    "def repeat_latent(x):\n",
    "    return tf.repeat(x, repeats=n_codmes_fcast, axis=1)  # Repeat along time axis"
   ]
  },
  {
   "cell_type": "code",
   "execution_count": null,
   "id": "65d639ec",
   "metadata": {},
   "outputs": [
    {
     "name": "stdout",
     "output_type": "stream",
     "text": [
      "WARNING:tensorflow:From e:\\backup Asus G15 27_10_2021\\Colegio de Mates Bourbaki\\DLA2501 - Deep Learning Avanzado\\.venv\\Lib\\site-packages\\keras\\src\\backend\\tensorflow\\core.py:219: The name tf.placeholder is deprecated. Please use tf.compat.v1.placeholder instead.\n",
      "\n"
     ]
    },
    {
     "data": {
      "text/html": [
       "<pre style=\"white-space:pre;overflow-x:auto;line-height:normal;font-family:Menlo,'DejaVu Sans Mono',consolas,'Courier New',monospace\"><span style=\"font-weight: bold\">Model: \"functional\"</span>\n",
       "</pre>\n"
      ],
      "text/plain": [
       "\u001b[1mModel: \"functional\"\u001b[0m\n"
      ]
     },
     "metadata": {},
     "output_type": "display_data"
    },
    {
     "data": {
      "text/html": [
       "<pre style=\"white-space:pre;overflow-x:auto;line-height:normal;font-family:Menlo,'DejaVu Sans Mono',consolas,'Courier New',monospace\">┏━━━━━━━━━━━━━━━━━━━━━┳━━━━━━━━━━━━━━━━━━━┳━━━━━━━━━━━━┳━━━━━━━━━━━━━━━━━━━┓\n",
       "┃<span style=\"font-weight: bold\"> Layer (type)        </span>┃<span style=\"font-weight: bold\"> Output Shape      </span>┃<span style=\"font-weight: bold\">    Param # </span>┃<span style=\"font-weight: bold\"> Connected to      </span>┃\n",
       "┡━━━━━━━━━━━━━━━━━━━━━╇━━━━━━━━━━━━━━━━━━━╇━━━━━━━━━━━━╇━━━━━━━━━━━━━━━━━━━┩\n",
       "│ input_ctry          │ (<span style=\"color: #00d7ff; text-decoration-color: #00d7ff\">None</span>, <span style=\"color: #00af00; text-decoration-color: #00af00\">180</span>)       │          <span style=\"color: #00af00; text-decoration-color: #00af00\">0</span> │ -                 │\n",
       "│ (<span style=\"color: #0087ff; text-decoration-color: #0087ff\">InputLayer</span>)        │                   │            │                   │\n",
       "├─────────────────────┼───────────────────┼────────────┼───────────────────┤\n",
       "│ input_gts           │ (<span style=\"color: #00d7ff; text-decoration-color: #00d7ff\">None</span>, <span style=\"color: #00af00; text-decoration-color: #00af00\">96</span>, <span style=\"color: #00af00; text-decoration-color: #00af00\">36</span>,    │          <span style=\"color: #00af00; text-decoration-color: #00af00\">0</span> │ -                 │\n",
       "│ (<span style=\"color: #0087ff; text-decoration-color: #0087ff\">InputLayer</span>)        │ <span style=\"color: #00af00; text-decoration-color: #00af00\">28</span>, <span style=\"color: #00af00; text-decoration-color: #00af00\">2</span>)            │            │                   │\n",
       "├─────────────────────┼───────────────────┼────────────┼───────────────────┤\n",
       "│ dense (<span style=\"color: #0087ff; text-decoration-color: #0087ff\">Dense</span>)       │ (<span style=\"color: #00d7ff; text-decoration-color: #00d7ff\">None</span>, <span style=\"color: #00af00; text-decoration-color: #00af00\">1008</span>)      │    <span style=\"color: #00af00; text-decoration-color: #00af00\">182,448</span> │ input_ctry[<span style=\"color: #00af00; text-decoration-color: #00af00\">0</span>][<span style=\"color: #00af00; text-decoration-color: #00af00\">0</span>]  │\n",
       "├─────────────────────┼───────────────────┼────────────┼───────────────────┤\n",
       "│ conv_lstm_1         │ (<span style=\"color: #00d7ff; text-decoration-color: #00d7ff\">None</span>, <span style=\"color: #00af00; text-decoration-color: #00af00\">36</span>, <span style=\"color: #00af00; text-decoration-color: #00af00\">28</span>, <span style=\"color: #00af00; text-decoration-color: #00af00\">2</span>) │        <span style=\"color: #00af00; text-decoration-color: #00af00\">296</span> │ input_gts[<span style=\"color: #00af00; text-decoration-color: #00af00\">0</span>][<span style=\"color: #00af00; text-decoration-color: #00af00\">0</span>]   │\n",
       "│ (<span style=\"color: #0087ff; text-decoration-color: #0087ff\">ConvLSTM2D</span>)        │                   │            │                   │\n",
       "├─────────────────────┼───────────────────┼────────────┼───────────────────┤\n",
       "│ reshape (<span style=\"color: #0087ff; text-decoration-color: #0087ff\">Reshape</span>)   │ (<span style=\"color: #00d7ff; text-decoration-color: #00d7ff\">None</span>, <span style=\"color: #00af00; text-decoration-color: #00af00\">36</span>, <span style=\"color: #00af00; text-decoration-color: #00af00\">28</span>, <span style=\"color: #00af00; text-decoration-color: #00af00\">1</span>) │          <span style=\"color: #00af00; text-decoration-color: #00af00\">0</span> │ dense[<span style=\"color: #00af00; text-decoration-color: #00af00\">0</span>][<span style=\"color: #00af00; text-decoration-color: #00af00\">0</span>]       │\n",
       "├─────────────────────┼───────────────────┼────────────┼───────────────────┤\n",
       "│ concatenate         │ (<span style=\"color: #00d7ff; text-decoration-color: #00d7ff\">None</span>, <span style=\"color: #00af00; text-decoration-color: #00af00\">36</span>, <span style=\"color: #00af00; text-decoration-color: #00af00\">28</span>, <span style=\"color: #00af00; text-decoration-color: #00af00\">3</span>) │          <span style=\"color: #00af00; text-decoration-color: #00af00\">0</span> │ conv_lstm_1[<span style=\"color: #00af00; text-decoration-color: #00af00\">0</span>][<span style=\"color: #00af00; text-decoration-color: #00af00\">0</span>… │\n",
       "│ (<span style=\"color: #0087ff; text-decoration-color: #0087ff\">Concatenate</span>)       │                   │            │ reshape[<span style=\"color: #00af00; text-decoration-color: #00af00\">0</span>][<span style=\"color: #00af00; text-decoration-color: #00af00\">0</span>]     │\n",
       "├─────────────────────┼───────────────────┼────────────┼───────────────────┤\n",
       "│ reshape_1 (<span style=\"color: #0087ff; text-decoration-color: #0087ff\">Reshape</span>) │ (<span style=\"color: #00d7ff; text-decoration-color: #00d7ff\">None</span>, <span style=\"color: #00af00; text-decoration-color: #00af00\">1</span>, <span style=\"color: #00af00; text-decoration-color: #00af00\">36</span>, <span style=\"color: #00af00; text-decoration-color: #00af00\">28</span>, │          <span style=\"color: #00af00; text-decoration-color: #00af00\">0</span> │ concatenate[<span style=\"color: #00af00; text-decoration-color: #00af00\">0</span>][<span style=\"color: #00af00; text-decoration-color: #00af00\">0</span>] │\n",
       "│                     │ <span style=\"color: #00af00; text-decoration-color: #00af00\">3</span>)                │            │                   │\n",
       "├─────────────────────┼───────────────────┼────────────┼───────────────────┤\n",
       "│ lambda (<span style=\"color: #0087ff; text-decoration-color: #0087ff\">Lambda</span>)     │ (<span style=\"color: #00d7ff; text-decoration-color: #00d7ff\">None</span>, <span style=\"color: #00af00; text-decoration-color: #00af00\">12</span>, <span style=\"color: #00af00; text-decoration-color: #00af00\">36</span>,    │          <span style=\"color: #00af00; text-decoration-color: #00af00\">0</span> │ reshape_1[<span style=\"color: #00af00; text-decoration-color: #00af00\">0</span>][<span style=\"color: #00af00; text-decoration-color: #00af00\">0</span>]   │\n",
       "│                     │ <span style=\"color: #00af00; text-decoration-color: #00af00\">28</span>, <span style=\"color: #00af00; text-decoration-color: #00af00\">3</span>)            │            │                   │\n",
       "├─────────────────────┼───────────────────┼────────────┼───────────────────┤\n",
       "│ conv_lstm_2         │ (<span style=\"color: #00d7ff; text-decoration-color: #00d7ff\">None</span>, <span style=\"color: #00af00; text-decoration-color: #00af00\">12</span>, <span style=\"color: #00af00; text-decoration-color: #00af00\">36</span>,    │        <span style=\"color: #00af00; text-decoration-color: #00af00\">368</span> │ lambda[<span style=\"color: #00af00; text-decoration-color: #00af00\">0</span>][<span style=\"color: #00af00; text-decoration-color: #00af00\">0</span>]      │\n",
       "│ (<span style=\"color: #0087ff; text-decoration-color: #0087ff\">ConvLSTM2D</span>)        │ <span style=\"color: #00af00; text-decoration-color: #00af00\">28</span>, <span style=\"color: #00af00; text-decoration-color: #00af00\">2</span>)            │            │                   │\n",
       "├─────────────────────┼───────────────────┼────────────┼───────────────────┤\n",
       "│ time_distributed    │ (<span style=\"color: #00d7ff; text-decoration-color: #00d7ff\">None</span>, <span style=\"color: #00af00; text-decoration-color: #00af00\">12</span>, <span style=\"color: #00af00; text-decoration-color: #00af00\">36</span>,    │          <span style=\"color: #00af00; text-decoration-color: #00af00\">6</span> │ conv_lstm_2[<span style=\"color: #00af00; text-decoration-color: #00af00\">0</span>][<span style=\"color: #00af00; text-decoration-color: #00af00\">0</span>] │\n",
       "│ (<span style=\"color: #0087ff; text-decoration-color: #0087ff\">TimeDistributed</span>)   │ <span style=\"color: #00af00; text-decoration-color: #00af00\">28</span>, <span style=\"color: #00af00; text-decoration-color: #00af00\">2</span>)            │            │                   │\n",
       "└─────────────────────┴───────────────────┴────────────┴───────────────────┘\n",
       "</pre>\n"
      ],
      "text/plain": [
       "┏━━━━━━━━━━━━━━━━━━━━━┳━━━━━━━━━━━━━━━━━━━┳━━━━━━━━━━━━┳━━━━━━━━━━━━━━━━━━━┓\n",
       "┃\u001b[1m \u001b[0m\u001b[1mLayer (type)       \u001b[0m\u001b[1m \u001b[0m┃\u001b[1m \u001b[0m\u001b[1mOutput Shape     \u001b[0m\u001b[1m \u001b[0m┃\u001b[1m \u001b[0m\u001b[1m   Param #\u001b[0m\u001b[1m \u001b[0m┃\u001b[1m \u001b[0m\u001b[1mConnected to     \u001b[0m\u001b[1m \u001b[0m┃\n",
       "┡━━━━━━━━━━━━━━━━━━━━━╇━━━━━━━━━━━━━━━━━━━╇━━━━━━━━━━━━╇━━━━━━━━━━━━━━━━━━━┩\n",
       "│ input_ctry          │ (\u001b[38;5;45mNone\u001b[0m, \u001b[38;5;34m180\u001b[0m)       │          \u001b[38;5;34m0\u001b[0m │ -                 │\n",
       "│ (\u001b[38;5;33mInputLayer\u001b[0m)        │                   │            │                   │\n",
       "├─────────────────────┼───────────────────┼────────────┼───────────────────┤\n",
       "│ input_gts           │ (\u001b[38;5;45mNone\u001b[0m, \u001b[38;5;34m96\u001b[0m, \u001b[38;5;34m36\u001b[0m,    │          \u001b[38;5;34m0\u001b[0m │ -                 │\n",
       "│ (\u001b[38;5;33mInputLayer\u001b[0m)        │ \u001b[38;5;34m28\u001b[0m, \u001b[38;5;34m2\u001b[0m)            │            │                   │\n",
       "├─────────────────────┼───────────────────┼────────────┼───────────────────┤\n",
       "│ dense (\u001b[38;5;33mDense\u001b[0m)       │ (\u001b[38;5;45mNone\u001b[0m, \u001b[38;5;34m1008\u001b[0m)      │    \u001b[38;5;34m182,448\u001b[0m │ input_ctry[\u001b[38;5;34m0\u001b[0m][\u001b[38;5;34m0\u001b[0m]  │\n",
       "├─────────────────────┼───────────────────┼────────────┼───────────────────┤\n",
       "│ conv_lstm_1         │ (\u001b[38;5;45mNone\u001b[0m, \u001b[38;5;34m36\u001b[0m, \u001b[38;5;34m28\u001b[0m, \u001b[38;5;34m2\u001b[0m) │        \u001b[38;5;34m296\u001b[0m │ input_gts[\u001b[38;5;34m0\u001b[0m][\u001b[38;5;34m0\u001b[0m]   │\n",
       "│ (\u001b[38;5;33mConvLSTM2D\u001b[0m)        │                   │            │                   │\n",
       "├─────────────────────┼───────────────────┼────────────┼───────────────────┤\n",
       "│ reshape (\u001b[38;5;33mReshape\u001b[0m)   │ (\u001b[38;5;45mNone\u001b[0m, \u001b[38;5;34m36\u001b[0m, \u001b[38;5;34m28\u001b[0m, \u001b[38;5;34m1\u001b[0m) │          \u001b[38;5;34m0\u001b[0m │ dense[\u001b[38;5;34m0\u001b[0m][\u001b[38;5;34m0\u001b[0m]       │\n",
       "├─────────────────────┼───────────────────┼────────────┼───────────────────┤\n",
       "│ concatenate         │ (\u001b[38;5;45mNone\u001b[0m, \u001b[38;5;34m36\u001b[0m, \u001b[38;5;34m28\u001b[0m, \u001b[38;5;34m3\u001b[0m) │          \u001b[38;5;34m0\u001b[0m │ conv_lstm_1[\u001b[38;5;34m0\u001b[0m][\u001b[38;5;34m0\u001b[0m… │\n",
       "│ (\u001b[38;5;33mConcatenate\u001b[0m)       │                   │            │ reshape[\u001b[38;5;34m0\u001b[0m][\u001b[38;5;34m0\u001b[0m]     │\n",
       "├─────────────────────┼───────────────────┼────────────┼───────────────────┤\n",
       "│ reshape_1 (\u001b[38;5;33mReshape\u001b[0m) │ (\u001b[38;5;45mNone\u001b[0m, \u001b[38;5;34m1\u001b[0m, \u001b[38;5;34m36\u001b[0m, \u001b[38;5;34m28\u001b[0m, │          \u001b[38;5;34m0\u001b[0m │ concatenate[\u001b[38;5;34m0\u001b[0m][\u001b[38;5;34m0\u001b[0m] │\n",
       "│                     │ \u001b[38;5;34m3\u001b[0m)                │            │                   │\n",
       "├─────────────────────┼───────────────────┼────────────┼───────────────────┤\n",
       "│ lambda (\u001b[38;5;33mLambda\u001b[0m)     │ (\u001b[38;5;45mNone\u001b[0m, \u001b[38;5;34m12\u001b[0m, \u001b[38;5;34m36\u001b[0m,    │          \u001b[38;5;34m0\u001b[0m │ reshape_1[\u001b[38;5;34m0\u001b[0m][\u001b[38;5;34m0\u001b[0m]   │\n",
       "│                     │ \u001b[38;5;34m28\u001b[0m, \u001b[38;5;34m3\u001b[0m)            │            │                   │\n",
       "├─────────────────────┼───────────────────┼────────────┼───────────────────┤\n",
       "│ conv_lstm_2         │ (\u001b[38;5;45mNone\u001b[0m, \u001b[38;5;34m12\u001b[0m, \u001b[38;5;34m36\u001b[0m,    │        \u001b[38;5;34m368\u001b[0m │ lambda[\u001b[38;5;34m0\u001b[0m][\u001b[38;5;34m0\u001b[0m]      │\n",
       "│ (\u001b[38;5;33mConvLSTM2D\u001b[0m)        │ \u001b[38;5;34m28\u001b[0m, \u001b[38;5;34m2\u001b[0m)            │            │                   │\n",
       "├─────────────────────┼───────────────────┼────────────┼───────────────────┤\n",
       "│ time_distributed    │ (\u001b[38;5;45mNone\u001b[0m, \u001b[38;5;34m12\u001b[0m, \u001b[38;5;34m36\u001b[0m,    │          \u001b[38;5;34m6\u001b[0m │ conv_lstm_2[\u001b[38;5;34m0\u001b[0m][\u001b[38;5;34m0\u001b[0m] │\n",
       "│ (\u001b[38;5;33mTimeDistributed\u001b[0m)   │ \u001b[38;5;34m28\u001b[0m, \u001b[38;5;34m2\u001b[0m)            │            │                   │\n",
       "└─────────────────────┴───────────────────┴────────────┴───────────────────┘\n"
      ]
     },
     "metadata": {},
     "output_type": "display_data"
    },
    {
     "data": {
      "text/html": [
       "<pre style=\"white-space:pre;overflow-x:auto;line-height:normal;font-family:Menlo,'DejaVu Sans Mono',consolas,'Courier New',monospace\"><span style=\"font-weight: bold\"> Total params: </span><span style=\"color: #00af00; text-decoration-color: #00af00\">183,118</span> (715.30 KB)\n",
       "</pre>\n"
      ],
      "text/plain": [
       "\u001b[1m Total params: \u001b[0m\u001b[38;5;34m183,118\u001b[0m (715.30 KB)\n"
      ]
     },
     "metadata": {},
     "output_type": "display_data"
    },
    {
     "data": {
      "text/html": [
       "<pre style=\"white-space:pre;overflow-x:auto;line-height:normal;font-family:Menlo,'DejaVu Sans Mono',consolas,'Courier New',monospace\"><span style=\"font-weight: bold\"> Trainable params: </span><span style=\"color: #00af00; text-decoration-color: #00af00\">183,118</span> (715.30 KB)\n",
       "</pre>\n"
      ],
      "text/plain": [
       "\u001b[1m Trainable params: \u001b[0m\u001b[38;5;34m183,118\u001b[0m (715.30 KB)\n"
      ]
     },
     "metadata": {},
     "output_type": "display_data"
    },
    {
     "data": {
      "text/html": [
       "<pre style=\"white-space:pre;overflow-x:auto;line-height:normal;font-family:Menlo,'DejaVu Sans Mono',consolas,'Courier New',monospace\"><span style=\"font-weight: bold\"> Non-trainable params: </span><span style=\"color: #00af00; text-decoration-color: #00af00\">0</span> (0.00 B)\n",
       "</pre>\n"
      ],
      "text/plain": [
       "\u001b[1m Non-trainable params: \u001b[0m\u001b[38;5;34m0\u001b[0m (0.00 B)\n"
      ]
     },
     "metadata": {},
     "output_type": "display_data"
    }
   ],
   "source": [
    "mi_inp_gts = Input(shape=(n_times_for_lstm, n_lats, n_lons, n_channels_conv_lstm, ), name=f'input_gts')\n",
    "mi_inp_ctry = Input(shape=(vars_ctry_lvl, ), name=f'input_ctry')\n",
    "\n",
    "mi_lstm = ConvLSTM2D(filters=n_filters,\n",
    "                     kernel_size=(kernel_size, kernel_size),\n",
    "                     padding='same',\n",
    "                     data_format = 'channels_last',\n",
    "                     return_sequences=False,\n",
    "                     recurrent_dropout=recurrent_dropout,\n",
    "                     dropout=dropout,\n",
    "                     name='conv_lstm_1')(mi_inp_gts)\n",
    "\n",
    "mi_dense_ctry = Dense(36*28, activation='relu')(mi_inp_ctry)\n",
    "mi_dense_ctry = Reshape((36, 28, 1))(mi_dense_ctry)\n",
    "\n",
    "mi_encoded = Concatenate(axis=-1)([mi_lstm, mi_dense_ctry])\n",
    "mi_encoded = Reshape((1, n_lats, n_lons, 3))(mi_encoded)\n",
    "mi_encoded = Lambda(repeat_latent)(mi_encoded)\n",
    "\n",
    "mi_decoder = ConvLSTM2D(filters=n_filters,\n",
    "                        kernel_size=(kernel_size, kernel_size),\n",
    "                        padding='same',\n",
    "                        data_format = 'channels_last',\n",
    "                        return_sequences=True,\n",
    "                        recurrent_dropout=recurrent_dropout,\n",
    "                        dropout=dropout,\n",
    "                        name='conv_lstm_2')(mi_encoded)\n",
    "output = TimeDistributed(Conv2D(2, (1, 1), activation='softmax'))(mi_decoder)\n",
    "# Model\n",
    "mi_simple_model = Model(inputs=[mi_inp_gts, mi_inp_ctry], outputs=output)\n",
    "mi_simple_model.compile(optimizer='adam', loss='categorical_crossentropy', metrics=['accuracy'])\n",
    "mi_simple_model.summary()\n"
   ]
  },
  {
   "cell_type": "code",
   "execution_count": null,
   "id": "c303b6f0",
   "metadata": {},
   "outputs": [
    {
     "name": "stdout",
     "output_type": "stream",
     "text": [
      "Epoch 1/20\n",
      "\u001b[1m8/8\u001b[0m \u001b[32m━━━━━━━━━━━━━━━━━━━━\u001b[0m\u001b[37m\u001b[0m \u001b[1m18s\u001b[0m 1s/step - accuracy: 0.7760 - loss: 0.6810 - val_accuracy: 0.8446 - val_loss: 0.6561\n",
      "Epoch 2/20\n",
      "\u001b[1m8/8\u001b[0m \u001b[32m━━━━━━━━━━━━━━━━━━━━\u001b[0m\u001b[37m\u001b[0m \u001b[1m8s\u001b[0m 996ms/step - accuracy: 0.7927 - loss: 0.6674 - val_accuracy: 0.8467 - val_loss: 0.6452\n",
      "Epoch 3/20\n",
      "\u001b[1m8/8\u001b[0m \u001b[32m━━━━━━━━━━━━━━━━━━━━\u001b[0m\u001b[37m\u001b[0m \u001b[1m8s\u001b[0m 955ms/step - accuracy: 0.8014 - loss: 0.6565 - val_accuracy: 0.8613 - val_loss: 0.6347\n",
      "Epoch 4/20\n",
      "\u001b[1m8/8\u001b[0m \u001b[32m━━━━━━━━━━━━━━━━━━━━\u001b[0m\u001b[37m\u001b[0m \u001b[1m8s\u001b[0m 931ms/step - accuracy: 0.8130 - loss: 0.6469 - val_accuracy: 0.8645 - val_loss: 0.6260\n",
      "Epoch 5/20\n",
      "\u001b[1m8/8\u001b[0m \u001b[32m━━━━━━━━━━━━━━━━━━━━\u001b[0m\u001b[37m\u001b[0m \u001b[1m8s\u001b[0m 943ms/step - accuracy: 0.8197 - loss: 0.6381 - val_accuracy: 0.8744 - val_loss: 0.6180\n",
      "Epoch 6/20\n",
      "\u001b[1m8/8\u001b[0m \u001b[32m━━━━━━━━━━━━━━━━━━━━\u001b[0m\u001b[37m\u001b[0m \u001b[1m8s\u001b[0m 956ms/step - accuracy: 0.8292 - loss: 0.6295 - val_accuracy: 0.8797 - val_loss: 0.6109\n",
      "Epoch 7/20\n",
      "\u001b[1m8/8\u001b[0m \u001b[32m━━━━━━━━━━━━━━━━━━━━\u001b[0m\u001b[37m\u001b[0m \u001b[1m8s\u001b[0m 942ms/step - accuracy: 0.8354 - loss: 0.6213 - val_accuracy: 0.8875 - val_loss: 0.6028\n",
      "Epoch 8/20\n",
      "\u001b[1m8/8\u001b[0m \u001b[32m━━━━━━━━━━━━━━━━━━━━\u001b[0m\u001b[37m\u001b[0m \u001b[1m8s\u001b[0m 964ms/step - accuracy: 0.8399 - loss: 0.6138 - val_accuracy: 0.9065 - val_loss: 0.5946\n",
      "Epoch 9/20\n",
      "\u001b[1m8/8\u001b[0m \u001b[32m━━━━━━━━━━━━━━━━━━━━\u001b[0m\u001b[37m\u001b[0m \u001b[1m8s\u001b[0m 944ms/step - accuracy: 0.8779 - loss: 0.6048 - val_accuracy: 0.9033 - val_loss: 0.5866\n",
      "Epoch 10/20\n",
      "\u001b[1m8/8\u001b[0m \u001b[32m━━━━━━━━━━━━━━━━━━━━\u001b[0m\u001b[37m\u001b[0m \u001b[1m8s\u001b[0m 950ms/step - accuracy: 0.8803 - loss: 0.5954 - val_accuracy: 0.9042 - val_loss: 0.5777\n",
      "Epoch 11/20\n",
      "\u001b[1m8/8\u001b[0m \u001b[32m━━━━━━━━━━━━━━━━━━━━\u001b[0m\u001b[37m\u001b[0m \u001b[1m8s\u001b[0m 931ms/step - accuracy: 0.8815 - loss: 0.5873 - val_accuracy: 0.9047 - val_loss: 0.5679\n",
      "Epoch 12/20\n",
      "\u001b[1m8/8\u001b[0m \u001b[32m━━━━━━━━━━━━━━━━━━━━\u001b[0m\u001b[37m\u001b[0m \u001b[1m8s\u001b[0m 937ms/step - accuracy: 0.8829 - loss: 0.5780 - val_accuracy: 0.9059 - val_loss: 0.5591\n",
      "Epoch 13/20\n",
      "\u001b[1m8/8\u001b[0m \u001b[32m━━━━━━━━━━━━━━━━━━━━\u001b[0m\u001b[37m\u001b[0m \u001b[1m8s\u001b[0m 936ms/step - accuracy: 0.8823 - loss: 0.5694 - val_accuracy: 0.9065 - val_loss: 0.5508\n",
      "Epoch 14/20\n",
      "\u001b[1m8/8\u001b[0m \u001b[32m━━━━━━━━━━━━━━━━━━━━\u001b[0m\u001b[37m\u001b[0m \u001b[1m8s\u001b[0m 939ms/step - accuracy: 0.8820 - loss: 0.5607 - val_accuracy: 0.9062 - val_loss: 0.5417\n",
      "Epoch 15/20\n",
      "\u001b[1m8/8\u001b[0m \u001b[32m━━━━━━━━━━━━━━━━━━━━\u001b[0m\u001b[37m\u001b[0m \u001b[1m8s\u001b[0m 947ms/step - accuracy: 0.8826 - loss: 0.5522 - val_accuracy: 0.9061 - val_loss: 0.5333\n",
      "Epoch 16/20\n",
      "\u001b[1m8/8\u001b[0m \u001b[32m━━━━━━━━━━━━━━━━━━━━\u001b[0m\u001b[37m\u001b[0m \u001b[1m8s\u001b[0m 928ms/step - accuracy: 0.8839 - loss: 0.5427 - val_accuracy: 0.9024 - val_loss: 0.5235\n",
      "Epoch 17/20\n",
      "\u001b[1m8/8\u001b[0m \u001b[32m━━━━━━━━━━━━━━━━━━━━\u001b[0m\u001b[37m\u001b[0m \u001b[1m8s\u001b[0m 938ms/step - accuracy: 0.8832 - loss: 0.5341 - val_accuracy: 0.9035 - val_loss: 0.5162\n",
      "Epoch 18/20\n",
      "\u001b[1m8/8\u001b[0m \u001b[32m━━━━━━━━━━━━━━━━━━━━\u001b[0m\u001b[37m\u001b[0m \u001b[1m8s\u001b[0m 958ms/step - accuracy: 0.8840 - loss: 0.5259 - val_accuracy: 0.9080 - val_loss: 0.5055\n",
      "Epoch 19/20\n",
      "\u001b[1m8/8\u001b[0m \u001b[32m━━━━━━━━━━━━━━━━━━━━\u001b[0m\u001b[37m\u001b[0m \u001b[1m8s\u001b[0m 938ms/step - accuracy: 0.8843 - loss: 0.5183 - val_accuracy: 0.9132 - val_loss: 0.4959\n",
      "Epoch 20/20\n",
      "\u001b[1m8/8\u001b[0m \u001b[32m━━━━━━━━━━━━━━━━━━━━\u001b[0m\u001b[37m\u001b[0m \u001b[1m8s\u001b[0m 939ms/step - accuracy: 0.8867 - loss: 0.5111 - val_accuracy: 0.9176 - val_loss: 0.4891\n"
     ]
    }
   ],
   "source": [
    "mi_simple_model.compile(optimizer='adam',         # el optimizador sirve para encontrar los pesos que minimizan la función de pérdida\n",
    "                                            # adam: stochastic gradient descent adaptativo\n",
    "                                            # https://www.tensorflow.org/api_docs/python/tf/keras/optimizers\n",
    "                  loss=\"categorical_crossentropy\", # función que evalua que tan bien el algoritmo modela el conjunto de datos\n",
    "                                                   # https://www.tensorflow.org/api_docs/python/tf/keras/losses\n",
    "                  metrics=['accuracy'])\n",
    "\n",
    "mi_simple_model_history = mi_simple_model.fit(x = [la_lista_de_arrays_train[9], X_ctry_lvl_train],\n",
    "                         y = Y_train_f,\n",
    "                        validation_split=0.2,\n",
    "                        batch_size=128,\n",
    "                        epochs=20,   # número de iteraciones sobre los datos\n",
    "                        verbose=1)"
   ]
  },
  {
   "cell_type": "code",
   "execution_count": null,
   "id": "d4a2780d",
   "metadata": {},
   "outputs": [],
   "source": [
    "mi_simple_model.save_weights(el_path_main/'4. Analisis/mi_simple_model.weights.h5')"
   ]
  },
  {
   "cell_type": "markdown",
   "id": "0c4bd3e6",
   "metadata": {},
   "source": [
    "# Conv-LSTM"
   ]
  },
  {
   "cell_type": "code",
   "execution_count": 14,
   "id": "c6cb1e87",
   "metadata": {},
   "outputs": [],
   "source": [
    "n_vars_from_gts = X_gts_train.shape[1] # N of variables from GTS\n",
    "n_times_for_lstm = X_gts_train.shape[2] # N of time steps usted for LSTM\n",
    "n_lats = X_gts_train.shape[3] # N of latitudes\n",
    "n_lons = X_gts_train.shape[4] # N of longitudes\n",
    "vars_ctry_lvl = X_ctry_lvl_train.shape[1] # N of variables from country level data\n",
    "n_codmes_fcast = Y_train.shape[1] # N of codmes for forecast\n",
    "\n",
    "# Set of parameters that will be tunned\n",
    "recurrent_dropout = 0.2\n",
    "dropout = 0.2   \n",
    "n_filters = 2\n",
    "kernel_size = 3\n",
    "include_miss_layer = True\n",
    "dims_nn_ctry_lvl_tmp = [16] # La longitud de esta lista indica la cantidad de capas -1 (colcoar lista vacía para que sea de tamaño 1), los valores dentro indican el tamaño de la capa\n",
    "\n",
    "# Set of parameters that are based on the previous ones\n",
    "n_channels_conv_lstm = 2 if include_miss_layer else 1\n",
    "dims_nn_ctry_lvl = dims_nn_ctry_lvl_tmp+[n_lats*n_lons*n_channels_conv_lstm] # La longitud de esta lista indica la cantidad de capas, los valores dentro indican el tamaño de la capa"
   ]
  },
  {
   "cell_type": "code",
   "execution_count": 15,
   "id": "9d3b0c06",
   "metadata": {},
   "outputs": [],
   "source": [
    "def repeat_latent(x):\n",
    "    return tf.repeat(x, repeats=n_codmes_fcast, axis=1)  # Repeat along time axis"
   ]
  },
  {
   "cell_type": "code",
   "execution_count": 16,
   "id": "24338db5",
   "metadata": {},
   "outputs": [
    {
     "name": "stdout",
     "output_type": "stream",
     "text": [
      "WARNING:tensorflow:From e:\\backup Asus G15 27_10_2021\\Colegio de Mates Bourbaki\\DLA2501 - Deep Learning Avanzado\\.venv\\Lib\\site-packages\\keras\\src\\backend\\tensorflow\\core.py:219: The name tf.placeholder is deprecated. Please use tf.compat.v1.placeholder instead.\n",
      "\n"
     ]
    },
    {
     "data": {
      "text/html": [
       "<pre style=\"white-space:pre;overflow-x:auto;line-height:normal;font-family:Menlo,'DejaVu Sans Mono',consolas,'Courier New',monospace\"><span style=\"font-weight: bold\">Model: \"functional\"</span>\n",
       "</pre>\n"
      ],
      "text/plain": [
       "\u001b[1mModel: \"functional\"\u001b[0m\n"
      ]
     },
     "metadata": {},
     "output_type": "display_data"
    },
    {
     "data": {
      "text/html": [
       "<pre style=\"white-space:pre;overflow-x:auto;line-height:normal;font-family:Menlo,'DejaVu Sans Mono',consolas,'Courier New',monospace\">┏━━━━━━━━━━━━━━━━━━━━━┳━━━━━━━━━━━━━━━━━━━┳━━━━━━━━━━━━┳━━━━━━━━━━━━━━━━━━━┓\n",
       "┃<span style=\"font-weight: bold\"> Layer (type)        </span>┃<span style=\"font-weight: bold\"> Output Shape      </span>┃<span style=\"font-weight: bold\">    Param # </span>┃<span style=\"font-weight: bold\"> Connected to      </span>┃\n",
       "┡━━━━━━━━━━━━━━━━━━━━━╇━━━━━━━━━━━━━━━━━━━╇━━━━━━━━━━━━╇━━━━━━━━━━━━━━━━━━━┩\n",
       "│ input_ctry_lvl      │ (<span style=\"color: #00d7ff; text-decoration-color: #00d7ff\">None</span>, <span style=\"color: #00af00; text-decoration-color: #00af00\">180</span>)       │          <span style=\"color: #00af00; text-decoration-color: #00af00\">0</span> │ -                 │\n",
       "│ (<span style=\"color: #0087ff; text-decoration-color: #0087ff\">InputLayer</span>)        │                   │            │                   │\n",
       "├─────────────────────┼───────────────────┼────────────┼───────────────────┤\n",
       "│ dense (<span style=\"color: #0087ff; text-decoration-color: #0087ff\">Dense</span>)       │ (<span style=\"color: #00d7ff; text-decoration-color: #00d7ff\">None</span>, <span style=\"color: #00af00; text-decoration-color: #00af00\">16</span>)        │      <span style=\"color: #00af00; text-decoration-color: #00af00\">2,896</span> │ input_ctry_lvl[<span style=\"color: #00af00; text-decoration-color: #00af00\">0</span>… │\n",
       "├─────────────────────┼───────────────────┼────────────┼───────────────────┤\n",
       "│ input_gts_0         │ (<span style=\"color: #00d7ff; text-decoration-color: #00d7ff\">None</span>, <span style=\"color: #00af00; text-decoration-color: #00af00\">96</span>, <span style=\"color: #00af00; text-decoration-color: #00af00\">36</span>,    │          <span style=\"color: #00af00; text-decoration-color: #00af00\">0</span> │ -                 │\n",
       "│ (<span style=\"color: #0087ff; text-decoration-color: #0087ff\">InputLayer</span>)        │ <span style=\"color: #00af00; text-decoration-color: #00af00\">28</span>, <span style=\"color: #00af00; text-decoration-color: #00af00\">2</span>)            │            │                   │\n",
       "├─────────────────────┼───────────────────┼────────────┼───────────────────┤\n",
       "│ input_gts_1         │ (<span style=\"color: #00d7ff; text-decoration-color: #00d7ff\">None</span>, <span style=\"color: #00af00; text-decoration-color: #00af00\">96</span>, <span style=\"color: #00af00; text-decoration-color: #00af00\">36</span>,    │          <span style=\"color: #00af00; text-decoration-color: #00af00\">0</span> │ -                 │\n",
       "│ (<span style=\"color: #0087ff; text-decoration-color: #0087ff\">InputLayer</span>)        │ <span style=\"color: #00af00; text-decoration-color: #00af00\">28</span>, <span style=\"color: #00af00; text-decoration-color: #00af00\">2</span>)            │            │                   │\n",
       "├─────────────────────┼───────────────────┼────────────┼───────────────────┤\n",
       "│ input_gts_2         │ (<span style=\"color: #00d7ff; text-decoration-color: #00d7ff\">None</span>, <span style=\"color: #00af00; text-decoration-color: #00af00\">96</span>, <span style=\"color: #00af00; text-decoration-color: #00af00\">36</span>,    │          <span style=\"color: #00af00; text-decoration-color: #00af00\">0</span> │ -                 │\n",
       "│ (<span style=\"color: #0087ff; text-decoration-color: #0087ff\">InputLayer</span>)        │ <span style=\"color: #00af00; text-decoration-color: #00af00\">28</span>, <span style=\"color: #00af00; text-decoration-color: #00af00\">2</span>)            │            │                   │\n",
       "├─────────────────────┼───────────────────┼────────────┼───────────────────┤\n",
       "│ input_gts_3         │ (<span style=\"color: #00d7ff; text-decoration-color: #00d7ff\">None</span>, <span style=\"color: #00af00; text-decoration-color: #00af00\">96</span>, <span style=\"color: #00af00; text-decoration-color: #00af00\">36</span>,    │          <span style=\"color: #00af00; text-decoration-color: #00af00\">0</span> │ -                 │\n",
       "│ (<span style=\"color: #0087ff; text-decoration-color: #0087ff\">InputLayer</span>)        │ <span style=\"color: #00af00; text-decoration-color: #00af00\">28</span>, <span style=\"color: #00af00; text-decoration-color: #00af00\">2</span>)            │            │                   │\n",
       "├─────────────────────┼───────────────────┼────────────┼───────────────────┤\n",
       "│ input_gts_4         │ (<span style=\"color: #00d7ff; text-decoration-color: #00d7ff\">None</span>, <span style=\"color: #00af00; text-decoration-color: #00af00\">96</span>, <span style=\"color: #00af00; text-decoration-color: #00af00\">36</span>,    │          <span style=\"color: #00af00; text-decoration-color: #00af00\">0</span> │ -                 │\n",
       "│ (<span style=\"color: #0087ff; text-decoration-color: #0087ff\">InputLayer</span>)        │ <span style=\"color: #00af00; text-decoration-color: #00af00\">28</span>, <span style=\"color: #00af00; text-decoration-color: #00af00\">2</span>)            │            │                   │\n",
       "├─────────────────────┼───────────────────┼────────────┼───────────────────┤\n",
       "│ input_gts_5         │ (<span style=\"color: #00d7ff; text-decoration-color: #00d7ff\">None</span>, <span style=\"color: #00af00; text-decoration-color: #00af00\">96</span>, <span style=\"color: #00af00; text-decoration-color: #00af00\">36</span>,    │          <span style=\"color: #00af00; text-decoration-color: #00af00\">0</span> │ -                 │\n",
       "│ (<span style=\"color: #0087ff; text-decoration-color: #0087ff\">InputLayer</span>)        │ <span style=\"color: #00af00; text-decoration-color: #00af00\">28</span>, <span style=\"color: #00af00; text-decoration-color: #00af00\">2</span>)            │            │                   │\n",
       "├─────────────────────┼───────────────────┼────────────┼───────────────────┤\n",
       "│ input_gts_6         │ (<span style=\"color: #00d7ff; text-decoration-color: #00d7ff\">None</span>, <span style=\"color: #00af00; text-decoration-color: #00af00\">96</span>, <span style=\"color: #00af00; text-decoration-color: #00af00\">36</span>,    │          <span style=\"color: #00af00; text-decoration-color: #00af00\">0</span> │ -                 │\n",
       "│ (<span style=\"color: #0087ff; text-decoration-color: #0087ff\">InputLayer</span>)        │ <span style=\"color: #00af00; text-decoration-color: #00af00\">28</span>, <span style=\"color: #00af00; text-decoration-color: #00af00\">2</span>)            │            │                   │\n",
       "├─────────────────────┼───────────────────┼────────────┼───────────────────┤\n",
       "│ input_gts_7         │ (<span style=\"color: #00d7ff; text-decoration-color: #00d7ff\">None</span>, <span style=\"color: #00af00; text-decoration-color: #00af00\">96</span>, <span style=\"color: #00af00; text-decoration-color: #00af00\">36</span>,    │          <span style=\"color: #00af00; text-decoration-color: #00af00\">0</span> │ -                 │\n",
       "│ (<span style=\"color: #0087ff; text-decoration-color: #0087ff\">InputLayer</span>)        │ <span style=\"color: #00af00; text-decoration-color: #00af00\">28</span>, <span style=\"color: #00af00; text-decoration-color: #00af00\">2</span>)            │            │                   │\n",
       "├─────────────────────┼───────────────────┼────────────┼───────────────────┤\n",
       "│ input_gts_8         │ (<span style=\"color: #00d7ff; text-decoration-color: #00d7ff\">None</span>, <span style=\"color: #00af00; text-decoration-color: #00af00\">96</span>, <span style=\"color: #00af00; text-decoration-color: #00af00\">36</span>,    │          <span style=\"color: #00af00; text-decoration-color: #00af00\">0</span> │ -                 │\n",
       "│ (<span style=\"color: #0087ff; text-decoration-color: #0087ff\">InputLayer</span>)        │ <span style=\"color: #00af00; text-decoration-color: #00af00\">28</span>, <span style=\"color: #00af00; text-decoration-color: #00af00\">2</span>)            │            │                   │\n",
       "├─────────────────────┼───────────────────┼────────────┼───────────────────┤\n",
       "│ input_gts_9         │ (<span style=\"color: #00d7ff; text-decoration-color: #00d7ff\">None</span>, <span style=\"color: #00af00; text-decoration-color: #00af00\">96</span>, <span style=\"color: #00af00; text-decoration-color: #00af00\">36</span>,    │          <span style=\"color: #00af00; text-decoration-color: #00af00\">0</span> │ -                 │\n",
       "│ (<span style=\"color: #0087ff; text-decoration-color: #0087ff\">InputLayer</span>)        │ <span style=\"color: #00af00; text-decoration-color: #00af00\">28</span>, <span style=\"color: #00af00; text-decoration-color: #00af00\">2</span>)            │            │                   │\n",
       "├─────────────────────┼───────────────────┼────────────┼───────────────────┤\n",
       "│ dense_1 (<span style=\"color: #0087ff; text-decoration-color: #0087ff\">Dense</span>)     │ (<span style=\"color: #00d7ff; text-decoration-color: #00d7ff\">None</span>, <span style=\"color: #00af00; text-decoration-color: #00af00\">2016</span>)      │     <span style=\"color: #00af00; text-decoration-color: #00af00\">34,272</span> │ dense[<span style=\"color: #00af00; text-decoration-color: #00af00\">0</span>][<span style=\"color: #00af00; text-decoration-color: #00af00\">0</span>]       │\n",
       "├─────────────────────┼───────────────────┼────────────┼───────────────────┤\n",
       "│ conv_lstm2d         │ (<span style=\"color: #00d7ff; text-decoration-color: #00d7ff\">None</span>, <span style=\"color: #00af00; text-decoration-color: #00af00\">36</span>, <span style=\"color: #00af00; text-decoration-color: #00af00\">28</span>, <span style=\"color: #00af00; text-decoration-color: #00af00\">2</span>) │        <span style=\"color: #00af00; text-decoration-color: #00af00\">296</span> │ input_gts_0[<span style=\"color: #00af00; text-decoration-color: #00af00\">0</span>][<span style=\"color: #00af00; text-decoration-color: #00af00\">0</span>] │\n",
       "│ (<span style=\"color: #0087ff; text-decoration-color: #0087ff\">ConvLSTM2D</span>)        │                   │            │                   │\n",
       "├─────────────────────┼───────────────────┼────────────┼───────────────────┤\n",
       "│ conv_lstm2d_1       │ (<span style=\"color: #00d7ff; text-decoration-color: #00d7ff\">None</span>, <span style=\"color: #00af00; text-decoration-color: #00af00\">36</span>, <span style=\"color: #00af00; text-decoration-color: #00af00\">28</span>, <span style=\"color: #00af00; text-decoration-color: #00af00\">2</span>) │        <span style=\"color: #00af00; text-decoration-color: #00af00\">296</span> │ input_gts_1[<span style=\"color: #00af00; text-decoration-color: #00af00\">0</span>][<span style=\"color: #00af00; text-decoration-color: #00af00\">0</span>] │\n",
       "│ (<span style=\"color: #0087ff; text-decoration-color: #0087ff\">ConvLSTM2D</span>)        │                   │            │                   │\n",
       "├─────────────────────┼───────────────────┼────────────┼───────────────────┤\n",
       "│ conv_lstm2d_2       │ (<span style=\"color: #00d7ff; text-decoration-color: #00d7ff\">None</span>, <span style=\"color: #00af00; text-decoration-color: #00af00\">36</span>, <span style=\"color: #00af00; text-decoration-color: #00af00\">28</span>, <span style=\"color: #00af00; text-decoration-color: #00af00\">2</span>) │        <span style=\"color: #00af00; text-decoration-color: #00af00\">296</span> │ input_gts_2[<span style=\"color: #00af00; text-decoration-color: #00af00\">0</span>][<span style=\"color: #00af00; text-decoration-color: #00af00\">0</span>] │\n",
       "│ (<span style=\"color: #0087ff; text-decoration-color: #0087ff\">ConvLSTM2D</span>)        │                   │            │                   │\n",
       "├─────────────────────┼───────────────────┼────────────┼───────────────────┤\n",
       "│ conv_lstm2d_3       │ (<span style=\"color: #00d7ff; text-decoration-color: #00d7ff\">None</span>, <span style=\"color: #00af00; text-decoration-color: #00af00\">36</span>, <span style=\"color: #00af00; text-decoration-color: #00af00\">28</span>, <span style=\"color: #00af00; text-decoration-color: #00af00\">2</span>) │        <span style=\"color: #00af00; text-decoration-color: #00af00\">296</span> │ input_gts_3[<span style=\"color: #00af00; text-decoration-color: #00af00\">0</span>][<span style=\"color: #00af00; text-decoration-color: #00af00\">0</span>] │\n",
       "│ (<span style=\"color: #0087ff; text-decoration-color: #0087ff\">ConvLSTM2D</span>)        │                   │            │                   │\n",
       "├─────────────────────┼───────────────────┼────────────┼───────────────────┤\n",
       "│ conv_lstm2d_4       │ (<span style=\"color: #00d7ff; text-decoration-color: #00d7ff\">None</span>, <span style=\"color: #00af00; text-decoration-color: #00af00\">36</span>, <span style=\"color: #00af00; text-decoration-color: #00af00\">28</span>, <span style=\"color: #00af00; text-decoration-color: #00af00\">2</span>) │        <span style=\"color: #00af00; text-decoration-color: #00af00\">296</span> │ input_gts_4[<span style=\"color: #00af00; text-decoration-color: #00af00\">0</span>][<span style=\"color: #00af00; text-decoration-color: #00af00\">0</span>] │\n",
       "│ (<span style=\"color: #0087ff; text-decoration-color: #0087ff\">ConvLSTM2D</span>)        │                   │            │                   │\n",
       "├─────────────────────┼───────────────────┼────────────┼───────────────────┤\n",
       "│ conv_lstm2d_5       │ (<span style=\"color: #00d7ff; text-decoration-color: #00d7ff\">None</span>, <span style=\"color: #00af00; text-decoration-color: #00af00\">36</span>, <span style=\"color: #00af00; text-decoration-color: #00af00\">28</span>, <span style=\"color: #00af00; text-decoration-color: #00af00\">2</span>) │        <span style=\"color: #00af00; text-decoration-color: #00af00\">296</span> │ input_gts_5[<span style=\"color: #00af00; text-decoration-color: #00af00\">0</span>][<span style=\"color: #00af00; text-decoration-color: #00af00\">0</span>] │\n",
       "│ (<span style=\"color: #0087ff; text-decoration-color: #0087ff\">ConvLSTM2D</span>)        │                   │            │                   │\n",
       "├─────────────────────┼───────────────────┼────────────┼───────────────────┤\n",
       "│ conv_lstm2d_6       │ (<span style=\"color: #00d7ff; text-decoration-color: #00d7ff\">None</span>, <span style=\"color: #00af00; text-decoration-color: #00af00\">36</span>, <span style=\"color: #00af00; text-decoration-color: #00af00\">28</span>, <span style=\"color: #00af00; text-decoration-color: #00af00\">2</span>) │        <span style=\"color: #00af00; text-decoration-color: #00af00\">296</span> │ input_gts_6[<span style=\"color: #00af00; text-decoration-color: #00af00\">0</span>][<span style=\"color: #00af00; text-decoration-color: #00af00\">0</span>] │\n",
       "│ (<span style=\"color: #0087ff; text-decoration-color: #0087ff\">ConvLSTM2D</span>)        │                   │            │                   │\n",
       "├─────────────────────┼───────────────────┼────────────┼───────────────────┤\n",
       "│ conv_lstm2d_7       │ (<span style=\"color: #00d7ff; text-decoration-color: #00d7ff\">None</span>, <span style=\"color: #00af00; text-decoration-color: #00af00\">36</span>, <span style=\"color: #00af00; text-decoration-color: #00af00\">28</span>, <span style=\"color: #00af00; text-decoration-color: #00af00\">2</span>) │        <span style=\"color: #00af00; text-decoration-color: #00af00\">296</span> │ input_gts_7[<span style=\"color: #00af00; text-decoration-color: #00af00\">0</span>][<span style=\"color: #00af00; text-decoration-color: #00af00\">0</span>] │\n",
       "│ (<span style=\"color: #0087ff; text-decoration-color: #0087ff\">ConvLSTM2D</span>)        │                   │            │                   │\n",
       "├─────────────────────┼───────────────────┼────────────┼───────────────────┤\n",
       "│ conv_lstm2d_8       │ (<span style=\"color: #00d7ff; text-decoration-color: #00d7ff\">None</span>, <span style=\"color: #00af00; text-decoration-color: #00af00\">36</span>, <span style=\"color: #00af00; text-decoration-color: #00af00\">28</span>, <span style=\"color: #00af00; text-decoration-color: #00af00\">2</span>) │        <span style=\"color: #00af00; text-decoration-color: #00af00\">296</span> │ input_gts_8[<span style=\"color: #00af00; text-decoration-color: #00af00\">0</span>][<span style=\"color: #00af00; text-decoration-color: #00af00\">0</span>] │\n",
       "│ (<span style=\"color: #0087ff; text-decoration-color: #0087ff\">ConvLSTM2D</span>)        │                   │            │                   │\n",
       "├─────────────────────┼───────────────────┼────────────┼───────────────────┤\n",
       "│ conv_lstm2d_9       │ (<span style=\"color: #00d7ff; text-decoration-color: #00d7ff\">None</span>, <span style=\"color: #00af00; text-decoration-color: #00af00\">36</span>, <span style=\"color: #00af00; text-decoration-color: #00af00\">28</span>, <span style=\"color: #00af00; text-decoration-color: #00af00\">2</span>) │        <span style=\"color: #00af00; text-decoration-color: #00af00\">296</span> │ input_gts_9[<span style=\"color: #00af00; text-decoration-color: #00af00\">0</span>][<span style=\"color: #00af00; text-decoration-color: #00af00\">0</span>] │\n",
       "│ (<span style=\"color: #0087ff; text-decoration-color: #0087ff\">ConvLSTM2D</span>)        │                   │            │                   │\n",
       "├─────────────────────┼───────────────────┼────────────┼───────────────────┤\n",
       "│ reshape (<span style=\"color: #0087ff; text-decoration-color: #0087ff\">Reshape</span>)   │ (<span style=\"color: #00d7ff; text-decoration-color: #00d7ff\">None</span>, <span style=\"color: #00af00; text-decoration-color: #00af00\">36</span>, <span style=\"color: #00af00; text-decoration-color: #00af00\">28</span>, <span style=\"color: #00af00; text-decoration-color: #00af00\">2</span>) │          <span style=\"color: #00af00; text-decoration-color: #00af00\">0</span> │ dense_1[<span style=\"color: #00af00; text-decoration-color: #00af00\">0</span>][<span style=\"color: #00af00; text-decoration-color: #00af00\">0</span>]     │\n",
       "├─────────────────────┼───────────────────┼────────────┼───────────────────┤\n",
       "│ concatenate         │ (<span style=\"color: #00d7ff; text-decoration-color: #00d7ff\">None</span>, <span style=\"color: #00af00; text-decoration-color: #00af00\">36</span>, <span style=\"color: #00af00; text-decoration-color: #00af00\">28</span>,    │          <span style=\"color: #00af00; text-decoration-color: #00af00\">0</span> │ conv_lstm2d[<span style=\"color: #00af00; text-decoration-color: #00af00\">0</span>][<span style=\"color: #00af00; text-decoration-color: #00af00\">0</span>… │\n",
       "│ (<span style=\"color: #0087ff; text-decoration-color: #0087ff\">Concatenate</span>)       │ <span style=\"color: #00af00; text-decoration-color: #00af00\">22</span>)               │            │ conv_lstm2d_1[<span style=\"color: #00af00; text-decoration-color: #00af00\">0</span>]… │\n",
       "│                     │                   │            │ conv_lstm2d_2[<span style=\"color: #00af00; text-decoration-color: #00af00\">0</span>]… │\n",
       "│                     │                   │            │ conv_lstm2d_3[<span style=\"color: #00af00; text-decoration-color: #00af00\">0</span>]… │\n",
       "│                     │                   │            │ conv_lstm2d_4[<span style=\"color: #00af00; text-decoration-color: #00af00\">0</span>]… │\n",
       "│                     │                   │            │ conv_lstm2d_5[<span style=\"color: #00af00; text-decoration-color: #00af00\">0</span>]… │\n",
       "│                     │                   │            │ conv_lstm2d_6[<span style=\"color: #00af00; text-decoration-color: #00af00\">0</span>]… │\n",
       "│                     │                   │            │ conv_lstm2d_7[<span style=\"color: #00af00; text-decoration-color: #00af00\">0</span>]… │\n",
       "│                     │                   │            │ conv_lstm2d_8[<span style=\"color: #00af00; text-decoration-color: #00af00\">0</span>]… │\n",
       "│                     │                   │            │ conv_lstm2d_9[<span style=\"color: #00af00; text-decoration-color: #00af00\">0</span>]… │\n",
       "│                     │                   │            │ reshape[<span style=\"color: #00af00; text-decoration-color: #00af00\">0</span>][<span style=\"color: #00af00; text-decoration-color: #00af00\">0</span>]     │\n",
       "├─────────────────────┼───────────────────┼────────────┼───────────────────┤\n",
       "│ conv2d (<span style=\"color: #0087ff; text-decoration-color: #0087ff\">Conv2D</span>)     │ (<span style=\"color: #00d7ff; text-decoration-color: #00d7ff\">None</span>, <span style=\"color: #00af00; text-decoration-color: #00af00\">36</span>, <span style=\"color: #00af00; text-decoration-color: #00af00\">28</span>, <span style=\"color: #00af00; text-decoration-color: #00af00\">2</span>) │        <span style=\"color: #00af00; text-decoration-color: #00af00\">398</span> │ concatenate[<span style=\"color: #00af00; text-decoration-color: #00af00\">0</span>][<span style=\"color: #00af00; text-decoration-color: #00af00\">0</span>] │\n",
       "├─────────────────────┼───────────────────┼────────────┼───────────────────┤\n",
       "│ reshape_1 (<span style=\"color: #0087ff; text-decoration-color: #0087ff\">Reshape</span>) │ (<span style=\"color: #00d7ff; text-decoration-color: #00d7ff\">None</span>, <span style=\"color: #00af00; text-decoration-color: #00af00\">1</span>, <span style=\"color: #00af00; text-decoration-color: #00af00\">36</span>, <span style=\"color: #00af00; text-decoration-color: #00af00\">28</span>, │          <span style=\"color: #00af00; text-decoration-color: #00af00\">0</span> │ conv2d[<span style=\"color: #00af00; text-decoration-color: #00af00\">0</span>][<span style=\"color: #00af00; text-decoration-color: #00af00\">0</span>]      │\n",
       "│                     │ <span style=\"color: #00af00; text-decoration-color: #00af00\">2</span>)                │            │                   │\n",
       "├─────────────────────┼───────────────────┼────────────┼───────────────────┤\n",
       "│ lambda (<span style=\"color: #0087ff; text-decoration-color: #0087ff\">Lambda</span>)     │ (<span style=\"color: #00d7ff; text-decoration-color: #00d7ff\">None</span>, <span style=\"color: #00af00; text-decoration-color: #00af00\">12</span>, <span style=\"color: #00af00; text-decoration-color: #00af00\">36</span>,    │          <span style=\"color: #00af00; text-decoration-color: #00af00\">0</span> │ reshape_1[<span style=\"color: #00af00; text-decoration-color: #00af00\">0</span>][<span style=\"color: #00af00; text-decoration-color: #00af00\">0</span>]   │\n",
       "│                     │ <span style=\"color: #00af00; text-decoration-color: #00af00\">28</span>, <span style=\"color: #00af00; text-decoration-color: #00af00\">2</span>)            │            │                   │\n",
       "├─────────────────────┼───────────────────┼────────────┼───────────────────┤\n",
       "│ conv_lstm2d_10      │ (<span style=\"color: #00d7ff; text-decoration-color: #00d7ff\">None</span>, <span style=\"color: #00af00; text-decoration-color: #00af00\">12</span>, <span style=\"color: #00af00; text-decoration-color: #00af00\">36</span>,    │        <span style=\"color: #00af00; text-decoration-color: #00af00\">296</span> │ lambda[<span style=\"color: #00af00; text-decoration-color: #00af00\">0</span>][<span style=\"color: #00af00; text-decoration-color: #00af00\">0</span>]      │\n",
       "│ (<span style=\"color: #0087ff; text-decoration-color: #0087ff\">ConvLSTM2D</span>)        │ <span style=\"color: #00af00; text-decoration-color: #00af00\">28</span>, <span style=\"color: #00af00; text-decoration-color: #00af00\">2</span>)            │            │                   │\n",
       "├─────────────────────┼───────────────────┼────────────┼───────────────────┤\n",
       "│ time_distributed    │ (<span style=\"color: #00d7ff; text-decoration-color: #00d7ff\">None</span>, <span style=\"color: #00af00; text-decoration-color: #00af00\">12</span>, <span style=\"color: #00af00; text-decoration-color: #00af00\">36</span>,    │          <span style=\"color: #00af00; text-decoration-color: #00af00\">6</span> │ conv_lstm2d_10[<span style=\"color: #00af00; text-decoration-color: #00af00\">0</span>… │\n",
       "│ (<span style=\"color: #0087ff; text-decoration-color: #0087ff\">TimeDistributed</span>)   │ <span style=\"color: #00af00; text-decoration-color: #00af00\">28</span>, <span style=\"color: #00af00; text-decoration-color: #00af00\">2</span>)            │            │                   │\n",
       "└─────────────────────┴───────────────────┴────────────┴───────────────────┘\n",
       "</pre>\n"
      ],
      "text/plain": [
       "┏━━━━━━━━━━━━━━━━━━━━━┳━━━━━━━━━━━━━━━━━━━┳━━━━━━━━━━━━┳━━━━━━━━━━━━━━━━━━━┓\n",
       "┃\u001b[1m \u001b[0m\u001b[1mLayer (type)       \u001b[0m\u001b[1m \u001b[0m┃\u001b[1m \u001b[0m\u001b[1mOutput Shape     \u001b[0m\u001b[1m \u001b[0m┃\u001b[1m \u001b[0m\u001b[1m   Param #\u001b[0m\u001b[1m \u001b[0m┃\u001b[1m \u001b[0m\u001b[1mConnected to     \u001b[0m\u001b[1m \u001b[0m┃\n",
       "┡━━━━━━━━━━━━━━━━━━━━━╇━━━━━━━━━━━━━━━━━━━╇━━━━━━━━━━━━╇━━━━━━━━━━━━━━━━━━━┩\n",
       "│ input_ctry_lvl      │ (\u001b[38;5;45mNone\u001b[0m, \u001b[38;5;34m180\u001b[0m)       │          \u001b[38;5;34m0\u001b[0m │ -                 │\n",
       "│ (\u001b[38;5;33mInputLayer\u001b[0m)        │                   │            │                   │\n",
       "├─────────────────────┼───────────────────┼────────────┼───────────────────┤\n",
       "│ dense (\u001b[38;5;33mDense\u001b[0m)       │ (\u001b[38;5;45mNone\u001b[0m, \u001b[38;5;34m16\u001b[0m)        │      \u001b[38;5;34m2,896\u001b[0m │ input_ctry_lvl[\u001b[38;5;34m0\u001b[0m… │\n",
       "├─────────────────────┼───────────────────┼────────────┼───────────────────┤\n",
       "│ input_gts_0         │ (\u001b[38;5;45mNone\u001b[0m, \u001b[38;5;34m96\u001b[0m, \u001b[38;5;34m36\u001b[0m,    │          \u001b[38;5;34m0\u001b[0m │ -                 │\n",
       "│ (\u001b[38;5;33mInputLayer\u001b[0m)        │ \u001b[38;5;34m28\u001b[0m, \u001b[38;5;34m2\u001b[0m)            │            │                   │\n",
       "├─────────────────────┼───────────────────┼────────────┼───────────────────┤\n",
       "│ input_gts_1         │ (\u001b[38;5;45mNone\u001b[0m, \u001b[38;5;34m96\u001b[0m, \u001b[38;5;34m36\u001b[0m,    │          \u001b[38;5;34m0\u001b[0m │ -                 │\n",
       "│ (\u001b[38;5;33mInputLayer\u001b[0m)        │ \u001b[38;5;34m28\u001b[0m, \u001b[38;5;34m2\u001b[0m)            │            │                   │\n",
       "├─────────────────────┼───────────────────┼────────────┼───────────────────┤\n",
       "│ input_gts_2         │ (\u001b[38;5;45mNone\u001b[0m, \u001b[38;5;34m96\u001b[0m, \u001b[38;5;34m36\u001b[0m,    │          \u001b[38;5;34m0\u001b[0m │ -                 │\n",
       "│ (\u001b[38;5;33mInputLayer\u001b[0m)        │ \u001b[38;5;34m28\u001b[0m, \u001b[38;5;34m2\u001b[0m)            │            │                   │\n",
       "├─────────────────────┼───────────────────┼────────────┼───────────────────┤\n",
       "│ input_gts_3         │ (\u001b[38;5;45mNone\u001b[0m, \u001b[38;5;34m96\u001b[0m, \u001b[38;5;34m36\u001b[0m,    │          \u001b[38;5;34m0\u001b[0m │ -                 │\n",
       "│ (\u001b[38;5;33mInputLayer\u001b[0m)        │ \u001b[38;5;34m28\u001b[0m, \u001b[38;5;34m2\u001b[0m)            │            │                   │\n",
       "├─────────────────────┼───────────────────┼────────────┼───────────────────┤\n",
       "│ input_gts_4         │ (\u001b[38;5;45mNone\u001b[0m, \u001b[38;5;34m96\u001b[0m, \u001b[38;5;34m36\u001b[0m,    │          \u001b[38;5;34m0\u001b[0m │ -                 │\n",
       "│ (\u001b[38;5;33mInputLayer\u001b[0m)        │ \u001b[38;5;34m28\u001b[0m, \u001b[38;5;34m2\u001b[0m)            │            │                   │\n",
       "├─────────────────────┼───────────────────┼────────────┼───────────────────┤\n",
       "│ input_gts_5         │ (\u001b[38;5;45mNone\u001b[0m, \u001b[38;5;34m96\u001b[0m, \u001b[38;5;34m36\u001b[0m,    │          \u001b[38;5;34m0\u001b[0m │ -                 │\n",
       "│ (\u001b[38;5;33mInputLayer\u001b[0m)        │ \u001b[38;5;34m28\u001b[0m, \u001b[38;5;34m2\u001b[0m)            │            │                   │\n",
       "├─────────────────────┼───────────────────┼────────────┼───────────────────┤\n",
       "│ input_gts_6         │ (\u001b[38;5;45mNone\u001b[0m, \u001b[38;5;34m96\u001b[0m, \u001b[38;5;34m36\u001b[0m,    │          \u001b[38;5;34m0\u001b[0m │ -                 │\n",
       "│ (\u001b[38;5;33mInputLayer\u001b[0m)        │ \u001b[38;5;34m28\u001b[0m, \u001b[38;5;34m2\u001b[0m)            │            │                   │\n",
       "├─────────────────────┼───────────────────┼────────────┼───────────────────┤\n",
       "│ input_gts_7         │ (\u001b[38;5;45mNone\u001b[0m, \u001b[38;5;34m96\u001b[0m, \u001b[38;5;34m36\u001b[0m,    │          \u001b[38;5;34m0\u001b[0m │ -                 │\n",
       "│ (\u001b[38;5;33mInputLayer\u001b[0m)        │ \u001b[38;5;34m28\u001b[0m, \u001b[38;5;34m2\u001b[0m)            │            │                   │\n",
       "├─────────────────────┼───────────────────┼────────────┼───────────────────┤\n",
       "│ input_gts_8         │ (\u001b[38;5;45mNone\u001b[0m, \u001b[38;5;34m96\u001b[0m, \u001b[38;5;34m36\u001b[0m,    │          \u001b[38;5;34m0\u001b[0m │ -                 │\n",
       "│ (\u001b[38;5;33mInputLayer\u001b[0m)        │ \u001b[38;5;34m28\u001b[0m, \u001b[38;5;34m2\u001b[0m)            │            │                   │\n",
       "├─────────────────────┼───────────────────┼────────────┼───────────────────┤\n",
       "│ input_gts_9         │ (\u001b[38;5;45mNone\u001b[0m, \u001b[38;5;34m96\u001b[0m, \u001b[38;5;34m36\u001b[0m,    │          \u001b[38;5;34m0\u001b[0m │ -                 │\n",
       "│ (\u001b[38;5;33mInputLayer\u001b[0m)        │ \u001b[38;5;34m28\u001b[0m, \u001b[38;5;34m2\u001b[0m)            │            │                   │\n",
       "├─────────────────────┼───────────────────┼────────────┼───────────────────┤\n",
       "│ dense_1 (\u001b[38;5;33mDense\u001b[0m)     │ (\u001b[38;5;45mNone\u001b[0m, \u001b[38;5;34m2016\u001b[0m)      │     \u001b[38;5;34m34,272\u001b[0m │ dense[\u001b[38;5;34m0\u001b[0m][\u001b[38;5;34m0\u001b[0m]       │\n",
       "├─────────────────────┼───────────────────┼────────────┼───────────────────┤\n",
       "│ conv_lstm2d         │ (\u001b[38;5;45mNone\u001b[0m, \u001b[38;5;34m36\u001b[0m, \u001b[38;5;34m28\u001b[0m, \u001b[38;5;34m2\u001b[0m) │        \u001b[38;5;34m296\u001b[0m │ input_gts_0[\u001b[38;5;34m0\u001b[0m][\u001b[38;5;34m0\u001b[0m] │\n",
       "│ (\u001b[38;5;33mConvLSTM2D\u001b[0m)        │                   │            │                   │\n",
       "├─────────────────────┼───────────────────┼────────────┼───────────────────┤\n",
       "│ conv_lstm2d_1       │ (\u001b[38;5;45mNone\u001b[0m, \u001b[38;5;34m36\u001b[0m, \u001b[38;5;34m28\u001b[0m, \u001b[38;5;34m2\u001b[0m) │        \u001b[38;5;34m296\u001b[0m │ input_gts_1[\u001b[38;5;34m0\u001b[0m][\u001b[38;5;34m0\u001b[0m] │\n",
       "│ (\u001b[38;5;33mConvLSTM2D\u001b[0m)        │                   │            │                   │\n",
       "├─────────────────────┼───────────────────┼────────────┼───────────────────┤\n",
       "│ conv_lstm2d_2       │ (\u001b[38;5;45mNone\u001b[0m, \u001b[38;5;34m36\u001b[0m, \u001b[38;5;34m28\u001b[0m, \u001b[38;5;34m2\u001b[0m) │        \u001b[38;5;34m296\u001b[0m │ input_gts_2[\u001b[38;5;34m0\u001b[0m][\u001b[38;5;34m0\u001b[0m] │\n",
       "│ (\u001b[38;5;33mConvLSTM2D\u001b[0m)        │                   │            │                   │\n",
       "├─────────────────────┼───────────────────┼────────────┼───────────────────┤\n",
       "│ conv_lstm2d_3       │ (\u001b[38;5;45mNone\u001b[0m, \u001b[38;5;34m36\u001b[0m, \u001b[38;5;34m28\u001b[0m, \u001b[38;5;34m2\u001b[0m) │        \u001b[38;5;34m296\u001b[0m │ input_gts_3[\u001b[38;5;34m0\u001b[0m][\u001b[38;5;34m0\u001b[0m] │\n",
       "│ (\u001b[38;5;33mConvLSTM2D\u001b[0m)        │                   │            │                   │\n",
       "├─────────────────────┼───────────────────┼────────────┼───────────────────┤\n",
       "│ conv_lstm2d_4       │ (\u001b[38;5;45mNone\u001b[0m, \u001b[38;5;34m36\u001b[0m, \u001b[38;5;34m28\u001b[0m, \u001b[38;5;34m2\u001b[0m) │        \u001b[38;5;34m296\u001b[0m │ input_gts_4[\u001b[38;5;34m0\u001b[0m][\u001b[38;5;34m0\u001b[0m] │\n",
       "│ (\u001b[38;5;33mConvLSTM2D\u001b[0m)        │                   │            │                   │\n",
       "├─────────────────────┼───────────────────┼────────────┼───────────────────┤\n",
       "│ conv_lstm2d_5       │ (\u001b[38;5;45mNone\u001b[0m, \u001b[38;5;34m36\u001b[0m, \u001b[38;5;34m28\u001b[0m, \u001b[38;5;34m2\u001b[0m) │        \u001b[38;5;34m296\u001b[0m │ input_gts_5[\u001b[38;5;34m0\u001b[0m][\u001b[38;5;34m0\u001b[0m] │\n",
       "│ (\u001b[38;5;33mConvLSTM2D\u001b[0m)        │                   │            │                   │\n",
       "├─────────────────────┼───────────────────┼────────────┼───────────────────┤\n",
       "│ conv_lstm2d_6       │ (\u001b[38;5;45mNone\u001b[0m, \u001b[38;5;34m36\u001b[0m, \u001b[38;5;34m28\u001b[0m, \u001b[38;5;34m2\u001b[0m) │        \u001b[38;5;34m296\u001b[0m │ input_gts_6[\u001b[38;5;34m0\u001b[0m][\u001b[38;5;34m0\u001b[0m] │\n",
       "│ (\u001b[38;5;33mConvLSTM2D\u001b[0m)        │                   │            │                   │\n",
       "├─────────────────────┼───────────────────┼────────────┼───────────────────┤\n",
       "│ conv_lstm2d_7       │ (\u001b[38;5;45mNone\u001b[0m, \u001b[38;5;34m36\u001b[0m, \u001b[38;5;34m28\u001b[0m, \u001b[38;5;34m2\u001b[0m) │        \u001b[38;5;34m296\u001b[0m │ input_gts_7[\u001b[38;5;34m0\u001b[0m][\u001b[38;5;34m0\u001b[0m] │\n",
       "│ (\u001b[38;5;33mConvLSTM2D\u001b[0m)        │                   │            │                   │\n",
       "├─────────────────────┼───────────────────┼────────────┼───────────────────┤\n",
       "│ conv_lstm2d_8       │ (\u001b[38;5;45mNone\u001b[0m, \u001b[38;5;34m36\u001b[0m, \u001b[38;5;34m28\u001b[0m, \u001b[38;5;34m2\u001b[0m) │        \u001b[38;5;34m296\u001b[0m │ input_gts_8[\u001b[38;5;34m0\u001b[0m][\u001b[38;5;34m0\u001b[0m] │\n",
       "│ (\u001b[38;5;33mConvLSTM2D\u001b[0m)        │                   │            │                   │\n",
       "├─────────────────────┼───────────────────┼────────────┼───────────────────┤\n",
       "│ conv_lstm2d_9       │ (\u001b[38;5;45mNone\u001b[0m, \u001b[38;5;34m36\u001b[0m, \u001b[38;5;34m28\u001b[0m, \u001b[38;5;34m2\u001b[0m) │        \u001b[38;5;34m296\u001b[0m │ input_gts_9[\u001b[38;5;34m0\u001b[0m][\u001b[38;5;34m0\u001b[0m] │\n",
       "│ (\u001b[38;5;33mConvLSTM2D\u001b[0m)        │                   │            │                   │\n",
       "├─────────────────────┼───────────────────┼────────────┼───────────────────┤\n",
       "│ reshape (\u001b[38;5;33mReshape\u001b[0m)   │ (\u001b[38;5;45mNone\u001b[0m, \u001b[38;5;34m36\u001b[0m, \u001b[38;5;34m28\u001b[0m, \u001b[38;5;34m2\u001b[0m) │          \u001b[38;5;34m0\u001b[0m │ dense_1[\u001b[38;5;34m0\u001b[0m][\u001b[38;5;34m0\u001b[0m]     │\n",
       "├─────────────────────┼───────────────────┼────────────┼───────────────────┤\n",
       "│ concatenate         │ (\u001b[38;5;45mNone\u001b[0m, \u001b[38;5;34m36\u001b[0m, \u001b[38;5;34m28\u001b[0m,    │          \u001b[38;5;34m0\u001b[0m │ conv_lstm2d[\u001b[38;5;34m0\u001b[0m][\u001b[38;5;34m0\u001b[0m… │\n",
       "│ (\u001b[38;5;33mConcatenate\u001b[0m)       │ \u001b[38;5;34m22\u001b[0m)               │            │ conv_lstm2d_1[\u001b[38;5;34m0\u001b[0m]… │\n",
       "│                     │                   │            │ conv_lstm2d_2[\u001b[38;5;34m0\u001b[0m]… │\n",
       "│                     │                   │            │ conv_lstm2d_3[\u001b[38;5;34m0\u001b[0m]… │\n",
       "│                     │                   │            │ conv_lstm2d_4[\u001b[38;5;34m0\u001b[0m]… │\n",
       "│                     │                   │            │ conv_lstm2d_5[\u001b[38;5;34m0\u001b[0m]… │\n",
       "│                     │                   │            │ conv_lstm2d_6[\u001b[38;5;34m0\u001b[0m]… │\n",
       "│                     │                   │            │ conv_lstm2d_7[\u001b[38;5;34m0\u001b[0m]… │\n",
       "│                     │                   │            │ conv_lstm2d_8[\u001b[38;5;34m0\u001b[0m]… │\n",
       "│                     │                   │            │ conv_lstm2d_9[\u001b[38;5;34m0\u001b[0m]… │\n",
       "│                     │                   │            │ reshape[\u001b[38;5;34m0\u001b[0m][\u001b[38;5;34m0\u001b[0m]     │\n",
       "├─────────────────────┼───────────────────┼────────────┼───────────────────┤\n",
       "│ conv2d (\u001b[38;5;33mConv2D\u001b[0m)     │ (\u001b[38;5;45mNone\u001b[0m, \u001b[38;5;34m36\u001b[0m, \u001b[38;5;34m28\u001b[0m, \u001b[38;5;34m2\u001b[0m) │        \u001b[38;5;34m398\u001b[0m │ concatenate[\u001b[38;5;34m0\u001b[0m][\u001b[38;5;34m0\u001b[0m] │\n",
       "├─────────────────────┼───────────────────┼────────────┼───────────────────┤\n",
       "│ reshape_1 (\u001b[38;5;33mReshape\u001b[0m) │ (\u001b[38;5;45mNone\u001b[0m, \u001b[38;5;34m1\u001b[0m, \u001b[38;5;34m36\u001b[0m, \u001b[38;5;34m28\u001b[0m, │          \u001b[38;5;34m0\u001b[0m │ conv2d[\u001b[38;5;34m0\u001b[0m][\u001b[38;5;34m0\u001b[0m]      │\n",
       "│                     │ \u001b[38;5;34m2\u001b[0m)                │            │                   │\n",
       "├─────────────────────┼───────────────────┼────────────┼───────────────────┤\n",
       "│ lambda (\u001b[38;5;33mLambda\u001b[0m)     │ (\u001b[38;5;45mNone\u001b[0m, \u001b[38;5;34m12\u001b[0m, \u001b[38;5;34m36\u001b[0m,    │          \u001b[38;5;34m0\u001b[0m │ reshape_1[\u001b[38;5;34m0\u001b[0m][\u001b[38;5;34m0\u001b[0m]   │\n",
       "│                     │ \u001b[38;5;34m28\u001b[0m, \u001b[38;5;34m2\u001b[0m)            │            │                   │\n",
       "├─────────────────────┼───────────────────┼────────────┼───────────────────┤\n",
       "│ conv_lstm2d_10      │ (\u001b[38;5;45mNone\u001b[0m, \u001b[38;5;34m12\u001b[0m, \u001b[38;5;34m36\u001b[0m,    │        \u001b[38;5;34m296\u001b[0m │ lambda[\u001b[38;5;34m0\u001b[0m][\u001b[38;5;34m0\u001b[0m]      │\n",
       "│ (\u001b[38;5;33mConvLSTM2D\u001b[0m)        │ \u001b[38;5;34m28\u001b[0m, \u001b[38;5;34m2\u001b[0m)            │            │                   │\n",
       "├─────────────────────┼───────────────────┼────────────┼───────────────────┤\n",
       "│ time_distributed    │ (\u001b[38;5;45mNone\u001b[0m, \u001b[38;5;34m12\u001b[0m, \u001b[38;5;34m36\u001b[0m,    │          \u001b[38;5;34m6\u001b[0m │ conv_lstm2d_10[\u001b[38;5;34m0\u001b[0m… │\n",
       "│ (\u001b[38;5;33mTimeDistributed\u001b[0m)   │ \u001b[38;5;34m28\u001b[0m, \u001b[38;5;34m2\u001b[0m)            │            │                   │\n",
       "└─────────────────────┴───────────────────┴────────────┴───────────────────┘\n"
      ]
     },
     "metadata": {},
     "output_type": "display_data"
    },
    {
     "data": {
      "text/html": [
       "<pre style=\"white-space:pre;overflow-x:auto;line-height:normal;font-family:Menlo,'DejaVu Sans Mono',consolas,'Courier New',monospace\"><span style=\"font-weight: bold\"> Total params: </span><span style=\"color: #00af00; text-decoration-color: #00af00\">40,828</span> (159.48 KB)\n",
       "</pre>\n"
      ],
      "text/plain": [
       "\u001b[1m Total params: \u001b[0m\u001b[38;5;34m40,828\u001b[0m (159.48 KB)\n"
      ]
     },
     "metadata": {},
     "output_type": "display_data"
    },
    {
     "data": {
      "text/html": [
       "<pre style=\"white-space:pre;overflow-x:auto;line-height:normal;font-family:Menlo,'DejaVu Sans Mono',consolas,'Courier New',monospace\"><span style=\"font-weight: bold\"> Trainable params: </span><span style=\"color: #00af00; text-decoration-color: #00af00\">40,828</span> (159.48 KB)\n",
       "</pre>\n"
      ],
      "text/plain": [
       "\u001b[1m Trainable params: \u001b[0m\u001b[38;5;34m40,828\u001b[0m (159.48 KB)\n"
      ]
     },
     "metadata": {},
     "output_type": "display_data"
    },
    {
     "data": {
      "text/html": [
       "<pre style=\"white-space:pre;overflow-x:auto;line-height:normal;font-family:Menlo,'DejaVu Sans Mono',consolas,'Courier New',monospace\"><span style=\"font-weight: bold\"> Non-trainable params: </span><span style=\"color: #00af00; text-decoration-color: #00af00\">0</span> (0.00 B)\n",
       "</pre>\n"
      ],
      "text/plain": [
       "\u001b[1m Non-trainable params: \u001b[0m\u001b[38;5;34m0\u001b[0m (0.00 B)\n"
      ]
     },
     "metadata": {},
     "output_type": "display_data"
    }
   ],
   "source": [
    "# Inputs for each variable from GTS    \n",
    "map_inputs = [Input(shape=(n_times_for_lstm, n_lats, n_lons, n_channels_conv_lstm, ), name=f'input_gts_{i}') for i in range(n_vars_from_gts)]\n",
    "\n",
    "# ConvLSTM encoding for maps\n",
    "conv_outputs = [\n",
    "    ConvLSTM2D(\n",
    "            filters = n_filters,\n",
    "            kernel_size = (kernel_size, kernel_size), # Tamaño del kernel\n",
    "            padding = 'same', # Para que la salida tenga el mismo tamaño que la entrada\n",
    "            data_format = 'channels_last', # Forma en que recibe los datos:Docu -> 5D tensor with shape: (samples, time, rows, cols, channels)\n",
    "            return_sequences = False, # No retorna cada secuencia de salida\n",
    "            # return_state=True, # Retorna los estados ocultos de la capa LSTM\n",
    "            recurrent_dropout = recurrent_dropout, dropout = dropout  # Para evitar sobreajuste\n",
    "            )(inp)\n",
    "    for inp in map_inputs\n",
    "]\n",
    "\n",
    "# Input country level data\n",
    "input_ctry_lvl = Input(shape=(vars_ctry_lvl,), name='input_ctry_lvl')\n",
    "mi_dense_ctry_lvl = input_ctry_lvl\n",
    "\n",
    "# Dense layers for country level data\n",
    "for i in dims_nn_ctry_lvl:\n",
    "    mi_dense_ctry_lvl = Dense(i, activation='relu')(mi_dense_ctry_lvl)\n",
    "\n",
    "# Reshape so that it is compatible with the outputs of the LSTM.\n",
    "mi_dense_ctry_lvl = Reshape((n_lats, n_lons, n_channels_conv_lstm))(mi_dense_ctry_lvl)\n",
    "\n",
    "# Concatenate all the outputs of the LSTM layers and the dense layer for country level data\n",
    "mi_concat = Concatenate()(conv_outputs+[mi_dense_ctry_lvl])\n",
    "latent = Conv2D(n_filters, kernel_size=(kernel_size, kernel_size), padding='same', activation='relu')(mi_concat)\n",
    "latent = Reshape((1, n_lats, n_lons, n_filters))(latent)\n",
    "\n",
    "\n",
    "# Decoder\n",
    "decoder_input = Lambda(repeat_latent)(latent) \n",
    "decoder = ConvLSTM2D(filters=n_filters, kernel_size=(kernel_size, kernel_size), padding='same', return_sequences=True)(decoder_input)\n",
    "\n",
    "# Multi-class output\n",
    "output = TimeDistributed(Conv2D(2, (1, 1), activation='softmax'))(decoder)\n",
    "\n",
    "# Model\n",
    "model = Model(inputs = map_inputs + [input_ctry_lvl], outputs=output)\n",
    "model.compile(optimizer='adam', loss='categorical_crossentropy', metrics=['accuracy'])\n",
    "model.summary()"
   ]
  },
  {
   "cell_type": "code",
   "execution_count": 17,
   "id": "9aa3d093",
   "metadata": {},
   "outputs": [],
   "source": [
    "model.compile(optimizer='adam',         # el optimizador sirve para encontrar los pesos que minimizan la función de pérdida\n",
    "                                            # adam: stochastic gradient descent adaptativo\n",
    "                                            # https://www.tensorflow.org/api_docs/python/tf/keras/optimizers\n",
    "                  loss=\"categorical_crossentropy\", # función que evalua que tan bien el algoritmo modela el conjunto de datos\n",
    "                                                   # https://www.tensorflow.org/api_docs/python/tf/keras/losses\n",
    "                  metrics=['accuracy'])"
   ]
  },
  {
   "cell_type": "code",
   "execution_count": null,
   "id": "0c5adf3a",
   "metadata": {},
   "outputs": [
    {
     "name": "stdout",
     "output_type": "stream",
     "text": [
      "Epoch 1/20\n"
     ]
    }
   ],
   "source": [
    "history = model.fit(x = la_lista_de_arrays_train + [X_ctry_lvl_train],\n",
    "                         y = Y_train_f,\n",
    "                        validation_split=0.2,\n",
    "                        batch_size=128,\n",
    "                        epochs=20,   # número de iteraciones sobre los datos\n",
    "                        verbose=1)"
   ]
  },
  {
   "cell_type": "code",
   "execution_count": null,
   "id": "062710ba",
   "metadata": {},
   "outputs": [],
   "source": [
    "model.save_weights(el_path_main/'4. Analisis/model.weights.h5')"
   ]
  },
  {
   "cell_type": "markdown",
   "id": "b264e9f5",
   "metadata": {},
   "source": [
    "# Load Models"
   ]
  },
  {
   "cell_type": "code",
   "execution_count": 15,
   "id": "fce43d6b",
   "metadata": {},
   "outputs": [],
   "source": [
    "n_vars_from_gts = X_gts_oot.shape[1] # N of variables from GTS\n",
    "n_times_for_lstm = X_gts_oot.shape[2] # N of time steps usted for LSTM\n",
    "n_lats = X_gts_oot.shape[3] # N of latitudes\n",
    "n_lons = X_gts_oot.shape[4] # N of longitudes\n",
    "vars_ctry_lvl = X_ctry_lvl_oot.shape[1] # N of variables from country level data\n",
    "n_codmes_fcast = Y_oot.shape[1] # N of codmes for forecast\n"
   ]
  },
  {
   "cell_type": "markdown",
   "id": "96cdabe5",
   "metadata": {},
   "source": [
    "## Define Archiecture"
   ]
  },
  {
   "cell_type": "markdown",
   "id": "175c0c6b",
   "metadata": {},
   "source": [
    "### Simple Model"
   ]
  },
  {
   "cell_type": "code",
   "execution_count": 34,
   "id": "3a731c86",
   "metadata": {},
   "outputs": [],
   "source": [
    "# Set of parameters that will be tunned\n",
    "recurrent_dropout = 0.6\n",
    "dropout = 0.6\n",
    "n_filters = 2\n",
    "kernel_size = 6\n",
    "include_miss_layer = True\n",
    "dims_nn_ctry_lvl_tmp = [16] # La longitud de esta lista indica la cantidad de capas -1 (colcoar lista vacía para que sea de tamaño 1), los valores dentro indican el tamaño de la capa\n",
    "\n",
    "# Set of parameters that are based on the previous ones\n",
    "n_channels_conv_lstm = 2 if include_miss_layer else 1\n",
    "dims_nn_ctry_lvl = dims_nn_ctry_lvl_tmp+[n_lats*n_lons*n_channels_conv_lstm] # La longitud de esta lista indica la cantidad de capas, los valores dentro indican el tamaño de la capa\n",
    "\n",
    "# Set of parameters that are based on the previous ones\n",
    "n_channels_conv_lstm = 2 if include_miss_layer else 1\n",
    "dims_nn_ctry_lvl = dims_nn_ctry_lvl_tmp+[n_lats*n_lons*n_channels_conv_lstm] # La longitud de esta lista indica la cantidad de capas, los valores dentro indican el tamaño de la capa\n",
    "\n",
    "def repeat_latent(x):\n",
    "    return tf.repeat(x, repeats=n_codmes_fcast, axis=1)  # Repeat along time axis\n",
    "\n",
    "\n",
    "mi_inp_gts = Input(shape=(n_times_for_lstm, n_lats, n_lons, n_channels_conv_lstm, ), name=f'input_gts')\n",
    "mi_inp_ctry = Input(shape=(vars_ctry_lvl, ), name=f'input_ctry')\n",
    "\n",
    "mi_lstm = ConvLSTM2D(filters=n_filters,\n",
    "                     kernel_size=(kernel_size, kernel_size),\n",
    "                     padding='same',\n",
    "                     data_format = 'channels_last',\n",
    "                     return_sequences=False,\n",
    "                     recurrent_dropout=recurrent_dropout,\n",
    "                     dropout=dropout,\n",
    "                     name='conv_lstm_1')(mi_inp_gts)\n",
    "\n",
    "mi_dense_ctry = Dense(36*28, activation='relu')(mi_inp_ctry)\n",
    "mi_dense_ctry = Reshape((36, 28, 1))(mi_dense_ctry)\n",
    "\n",
    "mi_encoded = Concatenate(axis=-1)([mi_lstm, mi_dense_ctry])\n",
    "mi_encoded = Reshape((1, n_lats, n_lons, 3))(mi_encoded)\n",
    "mi_encoded = Lambda(repeat_latent)(mi_encoded)\n",
    "\n",
    "mi_decoder = ConvLSTM2D(filters=n_filters,\n",
    "                        kernel_size=(kernel_size, kernel_size),\n",
    "                        padding='same',\n",
    "                        data_format = 'channels_last',\n",
    "                        return_sequences=True,\n",
    "                        recurrent_dropout=recurrent_dropout,\n",
    "                        dropout=dropout,\n",
    "                        name='conv_lstm_2')(mi_encoded)\n",
    "output = TimeDistributed(Conv2D(2, (1, 1), activation='softmax'))(mi_decoder)\n",
    "# Model\n",
    "mi_simple_model = Model(inputs=[mi_inp_gts, mi_inp_ctry], outputs=output)\n",
    "mi_simple_model.compile(optimizer='adam', loss='categorical_crossentropy', metrics=['accuracy'])\n"
   ]
  },
  {
   "cell_type": "markdown",
   "id": "c48eac50",
   "metadata": {},
   "source": [
    "### Complex Model"
   ]
  },
  {
   "cell_type": "code",
   "execution_count": 35,
   "id": "44b3bfb0",
   "metadata": {},
   "outputs": [],
   "source": [
    "# Set of parameters that will be tunned\n",
    "recurrent_dropout = 0.6\n",
    "dropout = 0.6\n",
    "n_filters = 2\n",
    "kernel_size = 6\n",
    "include_miss_layer = True\n",
    "dims_nn_ctry_lvl_tmp = [16] # La longitud de esta lista indica la cantidad de capas -1 (colcoar lista vacía para que sea de tamaño 1), los valores dentro indican el tamaño de la capa\n",
    "\n",
    "# Set of parameters that are based on the previous ones\n",
    "n_channels_conv_lstm = 2 if include_miss_layer else 1\n",
    "dims_nn_ctry_lvl = dims_nn_ctry_lvl_tmp+[n_lats*n_lons*n_channels_conv_lstm] # La longitud de esta lista indica la cantidad de capas, los valores dentro indican el tamaño de la capa"
   ]
  },
  {
   "cell_type": "code",
   "execution_count": 36,
   "id": "77f4f5d1",
   "metadata": {},
   "outputs": [],
   "source": [
    "def repeat_latent(x):\n",
    "    return tf.repeat(x, repeats=n_codmes_fcast, axis=1)  # Repeat along time axis"
   ]
  },
  {
   "cell_type": "code",
   "execution_count": 37,
   "id": "3c8ba371",
   "metadata": {},
   "outputs": [],
   "source": [
    "# Inputs for each variable from GTS\n",
    "map_inputs = [Input(shape=(n_times_for_lstm, n_lats, n_lons, n_channels_conv_lstm, ), name=f'input_gts_{i}') for i in range(n_vars_from_gts)]\n",
    "\n",
    "# ConvLSTM encoding for maps\n",
    "conv_outputs = [\n",
    "    ConvLSTM2D(\n",
    "            filters = n_filters,\n",
    "            kernel_size = (kernel_size, kernel_size), # Tamaño del kernel\n",
    "            padding = 'same', # Para que la salida tenga el mismo tamaño que la entrada\n",
    "            data_format = 'channels_last', # Forma en que recibe los datos:Docu -> 5D tensor with shape: (samples, time, rows, cols, channels)\n",
    "            return_sequences = False, # No retorna cada secuencia de salida\n",
    "            # return_state=True, # Retorna los estados ocultos de la capa LSTM\n",
    "            recurrent_dropout = recurrent_dropout, dropout = dropout  # Para evitar sobreajuste\n",
    "            )(inp)\n",
    "    for inp in map_inputs\n",
    "]\n",
    "\n",
    "# Input country level data\n",
    "input_ctry_lvl = Input(shape=(vars_ctry_lvl,), name='input_ctry_lvl')\n",
    "mi_dense_ctry_lvl = input_ctry_lvl\n",
    "\n",
    "# Dense layers for country level data\n",
    "for i in dims_nn_ctry_lvl:\n",
    "    mi_dense_ctry_lvl = Dense(i, activation='relu')(mi_dense_ctry_lvl)\n",
    "\n",
    "# Reshape so that it is compatible with the outputs of the LSTM.\n",
    "mi_dense_ctry_lvl = Reshape((n_lats, n_lons, n_channels_conv_lstm))(mi_dense_ctry_lvl)\n",
    "\n",
    "# Concatenate all the outputs of the LSTM layers and the dense layer for country level data\n",
    "mi_concat = Concatenate()(conv_outputs+[mi_dense_ctry_lvl])\n",
    "latent = Conv2D(n_filters, kernel_size=(kernel_size, kernel_size), padding='same', activation='relu')(mi_concat)\n",
    "latent = Reshape((1, n_lats, n_lons, n_filters))(latent)\n",
    "\n",
    "\n",
    "# Decoder\n",
    "decoder_input = Lambda(repeat_latent)(latent)\n",
    "decoder = ConvLSTM2D(filters=n_filters, kernel_size=(kernel_size, kernel_size), padding='same', return_sequences=True)(decoder_input)\n",
    "\n",
    "# Multi-class output\n",
    "output = TimeDistributed(Conv2D(2, (1, 1), activation='softmax'))(decoder)\n",
    "\n",
    "# Model\n",
    "complex_model = Model(inputs = map_inputs + [input_ctry_lvl], outputs=output)\n",
    "complex_model.compile(optimizer='adam', loss='categorical_crossentropy', metrics=['accuracy'])"
   ]
  },
  {
   "cell_type": "markdown",
   "id": "d3256c03",
   "metadata": {},
   "source": [
    "## Load Weights"
   ]
  },
  {
   "cell_type": "code",
   "execution_count": 39,
   "id": "996e3424",
   "metadata": {},
   "outputs": [
    {
     "name": "stderr",
     "output_type": "stream",
     "text": [
      "e:\\backup Asus G15 27_10_2021\\Colegio de Mates Bourbaki\\DLA2501 - Deep Learning Avanzado\\.venv\\Lib\\site-packages\\keras\\src\\saving\\saving_lib.py:757: UserWarning: Skipping variable loading for optimizer 'adam', because it has 2 variables whereas the saved optimizer has 22 variables. \n",
      "  saveable.load_own_variables(weights_store.get(inner_path))\n",
      "e:\\backup Asus G15 27_10_2021\\Colegio de Mates Bourbaki\\DLA2501 - Deep Learning Avanzado\\.venv\\Lib\\site-packages\\keras\\src\\saving\\saving_lib.py:757: UserWarning: Skipping variable loading for optimizer 'adam', because it has 2 variables whereas the saved optimizer has 84 variables. \n",
      "  saveable.load_own_variables(weights_store.get(inner_path))\n"
     ]
    }
   ],
   "source": [
    "# Ejecución en Google Colab (Ver 04_Model_Estimation_GoogleColab_v1.ipynb y 04_Model_Estimation_GoogleColab_v2.ipynb)\n",
    "mi_simple_model.load_weights(el_path_main/'4. Analisis/mi_simple_model_menos_datos_v2.weights.h5')\n",
    "complex_model.load_weights(el_path_main/'4. Analisis/ModeloGrande_v3.weights.h5')"
   ]
  },
  {
   "cell_type": "code",
   "execution_count": 40,
   "id": "159c277e",
   "metadata": {},
   "outputs": [
    {
     "name": "stdout",
     "output_type": "stream",
     "text": [
      "\u001b[1m7/7\u001b[0m \u001b[32m━━━━━━━━━━━━━━━━━━━━\u001b[0m\u001b[37m\u001b[0m \u001b[1m2s\u001b[0m 224ms/step\n",
      "WARNING:tensorflow:5 out of the last 15 calls to <function TensorFlowTrainer.make_predict_function.<locals>.one_step_on_data_distributed at 0x000002755C275260> triggered tf.function retracing. Tracing is expensive and the excessive number of tracings could be due to (1) creating @tf.function repeatedly in a loop, (2) passing tensors with different shapes, (3) passing Python objects instead of tensors. For (1), please define your @tf.function outside of the loop. For (2), @tf.function has reduce_retracing=True option that can avoid unnecessary retracing. For (3), please refer to https://www.tensorflow.org/guide/function#controlling_retracing and https://www.tensorflow.org/api_docs/python/tf/function for  more details.\n",
      "\u001b[1m7/7\u001b[0m \u001b[32m━━━━━━━━━━━━━━━━━━━━\u001b[0m\u001b[37m\u001b[0m \u001b[1m13s\u001b[0m 1s/step\n"
     ]
    }
   ],
   "source": [
    "y_hat_simple_oot = mi_simple_model.predict([la_lista_de_arrays_oot[9], X_ctry_lvl_oot], verbose=1)\n",
    "y_hat_complex_oot = complex_model.predict(la_lista_de_arrays_oot + [X_ctry_lvl_oot], verbose=1)"
   ]
  },
  {
   "cell_type": "code",
   "execution_count": 41,
   "id": "d8cf27df",
   "metadata": {},
   "outputs": [
    {
     "data": {
      "text/plain": [
       "['e:\\\\backup Asus G15 27_10_2021\\\\Colegio de Mates Bourbaki\\\\DLA2501 - Deep Learning Avanzado\\\\Flood forecasting\\\\2. Datos\\\\Processed data\\\\OOT_Y_Hat_simple_and_complex_models.pkl']"
      ]
     },
     "execution_count": 41,
     "metadata": {},
     "output_type": "execute_result"
    }
   ],
   "source": [
    "joblib.dump((y_hat_simple_oot, y_hat_complex_oot), el_path_main / '2. Datos/Processed data/OOT_Y_Hat_simple_and_complex_models.pkl')"
   ]
  },
  {
   "cell_type": "code",
   "execution_count": 22,
   "id": "d6c3c504",
   "metadata": {},
   "outputs": [
    {
     "data": {
      "text/plain": [
       "['e:\\\\backup Asus G15 27_10_2021\\\\Colegio de Mates Bourbaki\\\\DLA2501 - Deep Learning Avanzado\\\\Flood forecasting\\\\2. Datos\\\\Processed data\\\\OOT_Y_Hat_complex_model_v3.pkl']"
      ]
     },
     "execution_count": 22,
     "metadata": {},
     "output_type": "execute_result"
    }
   ],
   "source": [
    "joblib.dump(y_hat_complex_oot, el_path_main / '2. Datos/Processed data/OOT_Y_Hat_complex_model_v3.pkl')"
   ]
  },
  {
   "cell_type": "markdown",
   "id": "7adf4b4e",
   "metadata": {},
   "source": [
    "# Benchmark (Logit)"
   ]
  },
  {
   "cell_type": "code",
   "execution_count": 62,
   "id": "35bf5e4c",
   "metadata": {},
   "outputs": [],
   "source": [
    "# Load Arrays\n",
    "X_bench_train, Y_bench_train = joblib.load(el_path_main / '2. Datos/Processed data/TRAIN_data_bench.pkl')\n",
    "X_bench_oot, Y_bench_oot = joblib.load(el_path_main / '2. Datos/Processed data/OOT_data_bench.pkl')"
   ]
  },
  {
   "cell_type": "code",
   "execution_count": 64,
   "id": "d6304d8a",
   "metadata": {},
   "outputs": [
    {
     "data": {
      "text/plain": [
       "((1282176, 27), (1282176, 1))"
      ]
     },
     "execution_count": 64,
     "metadata": {},
     "output_type": "execute_result"
    }
   ],
   "source": [
    "X_bench_train.shape, Y_bench_train.shape"
   ]
  },
  {
   "cell_type": "code",
   "execution_count": 65,
   "id": "90d9fd1f",
   "metadata": {},
   "outputs": [],
   "source": [
    "X_bench_train = X_bench_train[1_000_000:]\n",
    "Y_bench_train = Y_bench_train[1_000_000:]"
   ]
  },
  {
   "cell_type": "code",
   "execution_count": 66,
   "id": "6279b1a0",
   "metadata": {},
   "outputs": [
    {
     "data": {
      "text/plain": [
       "((282176, 27), (282176, 1))"
      ]
     },
     "execution_count": 66,
     "metadata": {},
     "output_type": "execute_result"
    }
   ],
   "source": [
    "X_bench_train.shape, Y_bench_train.shape"
   ]
  },
  {
   "cell_type": "code",
   "execution_count": 67,
   "id": "3b0ea6fd",
   "metadata": {},
   "outputs": [
    {
     "data": {
      "text/plain": [
       "((193536, 27), (193536, 1))"
      ]
     },
     "execution_count": 67,
     "metadata": {},
     "output_type": "execute_result"
    }
   ],
   "source": [
    "X_bench_oot.shape, Y_bench_oot.shape"
   ]
  },
  {
   "cell_type": "code",
   "execution_count": 71,
   "id": "d4f183f9",
   "metadata": {},
   "outputs": [
    {
     "name": "stdout",
     "output_type": "stream",
     "text": [
      "Discrepancia rnd: 0.2606384552053711\n",
      "Discrepancia lhs: 0.1138585335681701\n",
      "La cambio en \"discrepancia\" vs un random sampling es: \u001b[32m-56.32%\u001b[0m\n"
     ]
    },
    {
     "data": {
      "text/plain": [
       "{'l1_ratio': [np.float64(0.8921629508620382), np.float64(0.4706296220153559)],\n",
       " 'C': [np.float64(11.167693415685797), np.float64(7.812627880188023)],\n",
       " 'class_weight': [None, 'balanced'],\n",
       " 'penalty': ['elasticnet'],\n",
       " 'solver': ['saga']}"
      ]
     },
     "execution_count": 71,
     "metadata": {},
     "output_type": "execute_result"
    }
   ],
   "source": [
    "size_grilla = 2\n",
    "\n",
    "min_l1_ratio, max_l1_ratio = 0, 1\n",
    "min_c, max_c = 0, 20\n",
    "dict_params_range = {\n",
    "    'l1_ratio'    : [min_l1_ratio, max_l1_ratio],\n",
    "    'C'           : [min_c, max_c]\n",
    "}\n",
    "dict_params_lhs = sudoku_grid(\n",
    "    params_dict   = dict_params_range, \n",
    "    size_grilla   = size_grilla,\n",
    "    must_be_int   = [] \n",
    ")\n",
    "\n",
    "# Ad-hoc hyperparametrs\n",
    "dict_params_lhs['class_weight'] = [None, 'balanced']\n",
    "dict_params_lhs['penalty']      = ['elasticnet']\n",
    "dict_params_lhs['solver']       = ['saga']\n",
    "dict_params_lhs"
   ]
  },
  {
   "cell_type": "code",
   "execution_count": 72,
   "id": "7a9755c5",
   "metadata": {},
   "outputs": [
    {
     "data": {
      "text/plain": [
       "8"
      ]
     },
     "execution_count": 72,
     "metadata": {},
     "output_type": "execute_result"
    }
   ],
   "source": [
    "grilla_hypetun = ParameterGrid(dict_params_lhs)\n",
    "len(grilla_hypetun)"
   ]
  },
  {
   "cell_type": "code",
   "execution_count": 73,
   "id": "79e85f42",
   "metadata": {},
   "outputs": [
    {
     "data": {
      "text/html": [
       "<style>#sk-container-id-1 {\n",
       "  /* Definition of color scheme common for light and dark mode */\n",
       "  --sklearn-color-text: #000;\n",
       "  --sklearn-color-text-muted: #666;\n",
       "  --sklearn-color-line: gray;\n",
       "  /* Definition of color scheme for unfitted estimators */\n",
       "  --sklearn-color-unfitted-level-0: #fff5e6;\n",
       "  --sklearn-color-unfitted-level-1: #f6e4d2;\n",
       "  --sklearn-color-unfitted-level-2: #ffe0b3;\n",
       "  --sklearn-color-unfitted-level-3: chocolate;\n",
       "  /* Definition of color scheme for fitted estimators */\n",
       "  --sklearn-color-fitted-level-0: #f0f8ff;\n",
       "  --sklearn-color-fitted-level-1: #d4ebff;\n",
       "  --sklearn-color-fitted-level-2: #b3dbfd;\n",
       "  --sklearn-color-fitted-level-3: cornflowerblue;\n",
       "\n",
       "  /* Specific color for light theme */\n",
       "  --sklearn-color-text-on-default-background: var(--sg-text-color, var(--theme-code-foreground, var(--jp-content-font-color1, black)));\n",
       "  --sklearn-color-background: var(--sg-background-color, var(--theme-background, var(--jp-layout-color0, white)));\n",
       "  --sklearn-color-border-box: var(--sg-text-color, var(--theme-code-foreground, var(--jp-content-font-color1, black)));\n",
       "  --sklearn-color-icon: #696969;\n",
       "\n",
       "  @media (prefers-color-scheme: dark) {\n",
       "    /* Redefinition of color scheme for dark theme */\n",
       "    --sklearn-color-text-on-default-background: var(--sg-text-color, var(--theme-code-foreground, var(--jp-content-font-color1, white)));\n",
       "    --sklearn-color-background: var(--sg-background-color, var(--theme-background, var(--jp-layout-color0, #111)));\n",
       "    --sklearn-color-border-box: var(--sg-text-color, var(--theme-code-foreground, var(--jp-content-font-color1, white)));\n",
       "    --sklearn-color-icon: #878787;\n",
       "  }\n",
       "}\n",
       "\n",
       "#sk-container-id-1 {\n",
       "  color: var(--sklearn-color-text);\n",
       "}\n",
       "\n",
       "#sk-container-id-1 pre {\n",
       "  padding: 0;\n",
       "}\n",
       "\n",
       "#sk-container-id-1 input.sk-hidden--visually {\n",
       "  border: 0;\n",
       "  clip: rect(1px 1px 1px 1px);\n",
       "  clip: rect(1px, 1px, 1px, 1px);\n",
       "  height: 1px;\n",
       "  margin: -1px;\n",
       "  overflow: hidden;\n",
       "  padding: 0;\n",
       "  position: absolute;\n",
       "  width: 1px;\n",
       "}\n",
       "\n",
       "#sk-container-id-1 div.sk-dashed-wrapped {\n",
       "  border: 1px dashed var(--sklearn-color-line);\n",
       "  margin: 0 0.4em 0.5em 0.4em;\n",
       "  box-sizing: border-box;\n",
       "  padding-bottom: 0.4em;\n",
       "  background-color: var(--sklearn-color-background);\n",
       "}\n",
       "\n",
       "#sk-container-id-1 div.sk-container {\n",
       "  /* jupyter's `normalize.less` sets `[hidden] { display: none; }`\n",
       "     but bootstrap.min.css set `[hidden] { display: none !important; }`\n",
       "     so we also need the `!important` here to be able to override the\n",
       "     default hidden behavior on the sphinx rendered scikit-learn.org.\n",
       "     See: https://github.com/scikit-learn/scikit-learn/issues/21755 */\n",
       "  display: inline-block !important;\n",
       "  position: relative;\n",
       "}\n",
       "\n",
       "#sk-container-id-1 div.sk-text-repr-fallback {\n",
       "  display: none;\n",
       "}\n",
       "\n",
       "div.sk-parallel-item,\n",
       "div.sk-serial,\n",
       "div.sk-item {\n",
       "  /* draw centered vertical line to link estimators */\n",
       "  background-image: linear-gradient(var(--sklearn-color-text-on-default-background), var(--sklearn-color-text-on-default-background));\n",
       "  background-size: 2px 100%;\n",
       "  background-repeat: no-repeat;\n",
       "  background-position: center center;\n",
       "}\n",
       "\n",
       "/* Parallel-specific style estimator block */\n",
       "\n",
       "#sk-container-id-1 div.sk-parallel-item::after {\n",
       "  content: \"\";\n",
       "  width: 100%;\n",
       "  border-bottom: 2px solid var(--sklearn-color-text-on-default-background);\n",
       "  flex-grow: 1;\n",
       "}\n",
       "\n",
       "#sk-container-id-1 div.sk-parallel {\n",
       "  display: flex;\n",
       "  align-items: stretch;\n",
       "  justify-content: center;\n",
       "  background-color: var(--sklearn-color-background);\n",
       "  position: relative;\n",
       "}\n",
       "\n",
       "#sk-container-id-1 div.sk-parallel-item {\n",
       "  display: flex;\n",
       "  flex-direction: column;\n",
       "}\n",
       "\n",
       "#sk-container-id-1 div.sk-parallel-item:first-child::after {\n",
       "  align-self: flex-end;\n",
       "  width: 50%;\n",
       "}\n",
       "\n",
       "#sk-container-id-1 div.sk-parallel-item:last-child::after {\n",
       "  align-self: flex-start;\n",
       "  width: 50%;\n",
       "}\n",
       "\n",
       "#sk-container-id-1 div.sk-parallel-item:only-child::after {\n",
       "  width: 0;\n",
       "}\n",
       "\n",
       "/* Serial-specific style estimator block */\n",
       "\n",
       "#sk-container-id-1 div.sk-serial {\n",
       "  display: flex;\n",
       "  flex-direction: column;\n",
       "  align-items: center;\n",
       "  background-color: var(--sklearn-color-background);\n",
       "  padding-right: 1em;\n",
       "  padding-left: 1em;\n",
       "}\n",
       "\n",
       "\n",
       "/* Toggleable style: style used for estimator/Pipeline/ColumnTransformer box that is\n",
       "clickable and can be expanded/collapsed.\n",
       "- Pipeline and ColumnTransformer use this feature and define the default style\n",
       "- Estimators will overwrite some part of the style using the `sk-estimator` class\n",
       "*/\n",
       "\n",
       "/* Pipeline and ColumnTransformer style (default) */\n",
       "\n",
       "#sk-container-id-1 div.sk-toggleable {\n",
       "  /* Default theme specific background. It is overwritten whether we have a\n",
       "  specific estimator or a Pipeline/ColumnTransformer */\n",
       "  background-color: var(--sklearn-color-background);\n",
       "}\n",
       "\n",
       "/* Toggleable label */\n",
       "#sk-container-id-1 label.sk-toggleable__label {\n",
       "  cursor: pointer;\n",
       "  display: flex;\n",
       "  width: 100%;\n",
       "  margin-bottom: 0;\n",
       "  padding: 0.5em;\n",
       "  box-sizing: border-box;\n",
       "  text-align: center;\n",
       "  align-items: start;\n",
       "  justify-content: space-between;\n",
       "  gap: 0.5em;\n",
       "}\n",
       "\n",
       "#sk-container-id-1 label.sk-toggleable__label .caption {\n",
       "  font-size: 0.6rem;\n",
       "  font-weight: lighter;\n",
       "  color: var(--sklearn-color-text-muted);\n",
       "}\n",
       "\n",
       "#sk-container-id-1 label.sk-toggleable__label-arrow:before {\n",
       "  /* Arrow on the left of the label */\n",
       "  content: \"▸\";\n",
       "  float: left;\n",
       "  margin-right: 0.25em;\n",
       "  color: var(--sklearn-color-icon);\n",
       "}\n",
       "\n",
       "#sk-container-id-1 label.sk-toggleable__label-arrow:hover:before {\n",
       "  color: var(--sklearn-color-text);\n",
       "}\n",
       "\n",
       "/* Toggleable content - dropdown */\n",
       "\n",
       "#sk-container-id-1 div.sk-toggleable__content {\n",
       "  max-height: 0;\n",
       "  max-width: 0;\n",
       "  overflow: hidden;\n",
       "  text-align: left;\n",
       "  /* unfitted */\n",
       "  background-color: var(--sklearn-color-unfitted-level-0);\n",
       "}\n",
       "\n",
       "#sk-container-id-1 div.sk-toggleable__content.fitted {\n",
       "  /* fitted */\n",
       "  background-color: var(--sklearn-color-fitted-level-0);\n",
       "}\n",
       "\n",
       "#sk-container-id-1 div.sk-toggleable__content pre {\n",
       "  margin: 0.2em;\n",
       "  border-radius: 0.25em;\n",
       "  color: var(--sklearn-color-text);\n",
       "  /* unfitted */\n",
       "  background-color: var(--sklearn-color-unfitted-level-0);\n",
       "}\n",
       "\n",
       "#sk-container-id-1 div.sk-toggleable__content.fitted pre {\n",
       "  /* unfitted */\n",
       "  background-color: var(--sklearn-color-fitted-level-0);\n",
       "}\n",
       "\n",
       "#sk-container-id-1 input.sk-toggleable__control:checked~div.sk-toggleable__content {\n",
       "  /* Expand drop-down */\n",
       "  max-height: 200px;\n",
       "  max-width: 100%;\n",
       "  overflow: auto;\n",
       "}\n",
       "\n",
       "#sk-container-id-1 input.sk-toggleable__control:checked~label.sk-toggleable__label-arrow:before {\n",
       "  content: \"▾\";\n",
       "}\n",
       "\n",
       "/* Pipeline/ColumnTransformer-specific style */\n",
       "\n",
       "#sk-container-id-1 div.sk-label input.sk-toggleable__control:checked~label.sk-toggleable__label {\n",
       "  color: var(--sklearn-color-text);\n",
       "  background-color: var(--sklearn-color-unfitted-level-2);\n",
       "}\n",
       "\n",
       "#sk-container-id-1 div.sk-label.fitted input.sk-toggleable__control:checked~label.sk-toggleable__label {\n",
       "  background-color: var(--sklearn-color-fitted-level-2);\n",
       "}\n",
       "\n",
       "/* Estimator-specific style */\n",
       "\n",
       "/* Colorize estimator box */\n",
       "#sk-container-id-1 div.sk-estimator input.sk-toggleable__control:checked~label.sk-toggleable__label {\n",
       "  /* unfitted */\n",
       "  background-color: var(--sklearn-color-unfitted-level-2);\n",
       "}\n",
       "\n",
       "#sk-container-id-1 div.sk-estimator.fitted input.sk-toggleable__control:checked~label.sk-toggleable__label {\n",
       "  /* fitted */\n",
       "  background-color: var(--sklearn-color-fitted-level-2);\n",
       "}\n",
       "\n",
       "#sk-container-id-1 div.sk-label label.sk-toggleable__label,\n",
       "#sk-container-id-1 div.sk-label label {\n",
       "  /* The background is the default theme color */\n",
       "  color: var(--sklearn-color-text-on-default-background);\n",
       "}\n",
       "\n",
       "/* On hover, darken the color of the background */\n",
       "#sk-container-id-1 div.sk-label:hover label.sk-toggleable__label {\n",
       "  color: var(--sklearn-color-text);\n",
       "  background-color: var(--sklearn-color-unfitted-level-2);\n",
       "}\n",
       "\n",
       "/* Label box, darken color on hover, fitted */\n",
       "#sk-container-id-1 div.sk-label.fitted:hover label.sk-toggleable__label.fitted {\n",
       "  color: var(--sklearn-color-text);\n",
       "  background-color: var(--sklearn-color-fitted-level-2);\n",
       "}\n",
       "\n",
       "/* Estimator label */\n",
       "\n",
       "#sk-container-id-1 div.sk-label label {\n",
       "  font-family: monospace;\n",
       "  font-weight: bold;\n",
       "  display: inline-block;\n",
       "  line-height: 1.2em;\n",
       "}\n",
       "\n",
       "#sk-container-id-1 div.sk-label-container {\n",
       "  text-align: center;\n",
       "}\n",
       "\n",
       "/* Estimator-specific */\n",
       "#sk-container-id-1 div.sk-estimator {\n",
       "  font-family: monospace;\n",
       "  border: 1px dotted var(--sklearn-color-border-box);\n",
       "  border-radius: 0.25em;\n",
       "  box-sizing: border-box;\n",
       "  margin-bottom: 0.5em;\n",
       "  /* unfitted */\n",
       "  background-color: var(--sklearn-color-unfitted-level-0);\n",
       "}\n",
       "\n",
       "#sk-container-id-1 div.sk-estimator.fitted {\n",
       "  /* fitted */\n",
       "  background-color: var(--sklearn-color-fitted-level-0);\n",
       "}\n",
       "\n",
       "/* on hover */\n",
       "#sk-container-id-1 div.sk-estimator:hover {\n",
       "  /* unfitted */\n",
       "  background-color: var(--sklearn-color-unfitted-level-2);\n",
       "}\n",
       "\n",
       "#sk-container-id-1 div.sk-estimator.fitted:hover {\n",
       "  /* fitted */\n",
       "  background-color: var(--sklearn-color-fitted-level-2);\n",
       "}\n",
       "\n",
       "/* Specification for estimator info (e.g. \"i\" and \"?\") */\n",
       "\n",
       "/* Common style for \"i\" and \"?\" */\n",
       "\n",
       ".sk-estimator-doc-link,\n",
       "a:link.sk-estimator-doc-link,\n",
       "a:visited.sk-estimator-doc-link {\n",
       "  float: right;\n",
       "  font-size: smaller;\n",
       "  line-height: 1em;\n",
       "  font-family: monospace;\n",
       "  background-color: var(--sklearn-color-background);\n",
       "  border-radius: 1em;\n",
       "  height: 1em;\n",
       "  width: 1em;\n",
       "  text-decoration: none !important;\n",
       "  margin-left: 0.5em;\n",
       "  text-align: center;\n",
       "  /* unfitted */\n",
       "  border: var(--sklearn-color-unfitted-level-1) 1pt solid;\n",
       "  color: var(--sklearn-color-unfitted-level-1);\n",
       "}\n",
       "\n",
       ".sk-estimator-doc-link.fitted,\n",
       "a:link.sk-estimator-doc-link.fitted,\n",
       "a:visited.sk-estimator-doc-link.fitted {\n",
       "  /* fitted */\n",
       "  border: var(--sklearn-color-fitted-level-1) 1pt solid;\n",
       "  color: var(--sklearn-color-fitted-level-1);\n",
       "}\n",
       "\n",
       "/* On hover */\n",
       "div.sk-estimator:hover .sk-estimator-doc-link:hover,\n",
       ".sk-estimator-doc-link:hover,\n",
       "div.sk-label-container:hover .sk-estimator-doc-link:hover,\n",
       ".sk-estimator-doc-link:hover {\n",
       "  /* unfitted */\n",
       "  background-color: var(--sklearn-color-unfitted-level-3);\n",
       "  color: var(--sklearn-color-background);\n",
       "  text-decoration: none;\n",
       "}\n",
       "\n",
       "div.sk-estimator.fitted:hover .sk-estimator-doc-link.fitted:hover,\n",
       ".sk-estimator-doc-link.fitted:hover,\n",
       "div.sk-label-container:hover .sk-estimator-doc-link.fitted:hover,\n",
       ".sk-estimator-doc-link.fitted:hover {\n",
       "  /* fitted */\n",
       "  background-color: var(--sklearn-color-fitted-level-3);\n",
       "  color: var(--sklearn-color-background);\n",
       "  text-decoration: none;\n",
       "}\n",
       "\n",
       "/* Span, style for the box shown on hovering the info icon */\n",
       ".sk-estimator-doc-link span {\n",
       "  display: none;\n",
       "  z-index: 9999;\n",
       "  position: relative;\n",
       "  font-weight: normal;\n",
       "  right: .2ex;\n",
       "  padding: .5ex;\n",
       "  margin: .5ex;\n",
       "  width: min-content;\n",
       "  min-width: 20ex;\n",
       "  max-width: 50ex;\n",
       "  color: var(--sklearn-color-text);\n",
       "  box-shadow: 2pt 2pt 4pt #999;\n",
       "  /* unfitted */\n",
       "  background: var(--sklearn-color-unfitted-level-0);\n",
       "  border: .5pt solid var(--sklearn-color-unfitted-level-3);\n",
       "}\n",
       "\n",
       ".sk-estimator-doc-link.fitted span {\n",
       "  /* fitted */\n",
       "  background: var(--sklearn-color-fitted-level-0);\n",
       "  border: var(--sklearn-color-fitted-level-3);\n",
       "}\n",
       "\n",
       ".sk-estimator-doc-link:hover span {\n",
       "  display: block;\n",
       "}\n",
       "\n",
       "/* \"?\"-specific style due to the `<a>` HTML tag */\n",
       "\n",
       "#sk-container-id-1 a.estimator_doc_link {\n",
       "  float: right;\n",
       "  font-size: 1rem;\n",
       "  line-height: 1em;\n",
       "  font-family: monospace;\n",
       "  background-color: var(--sklearn-color-background);\n",
       "  border-radius: 1rem;\n",
       "  height: 1rem;\n",
       "  width: 1rem;\n",
       "  text-decoration: none;\n",
       "  /* unfitted */\n",
       "  color: var(--sklearn-color-unfitted-level-1);\n",
       "  border: var(--sklearn-color-unfitted-level-1) 1pt solid;\n",
       "}\n",
       "\n",
       "#sk-container-id-1 a.estimator_doc_link.fitted {\n",
       "  /* fitted */\n",
       "  border: var(--sklearn-color-fitted-level-1) 1pt solid;\n",
       "  color: var(--sklearn-color-fitted-level-1);\n",
       "}\n",
       "\n",
       "/* On hover */\n",
       "#sk-container-id-1 a.estimator_doc_link:hover {\n",
       "  /* unfitted */\n",
       "  background-color: var(--sklearn-color-unfitted-level-3);\n",
       "  color: var(--sklearn-color-background);\n",
       "  text-decoration: none;\n",
       "}\n",
       "\n",
       "#sk-container-id-1 a.estimator_doc_link.fitted:hover {\n",
       "  /* fitted */\n",
       "  background-color: var(--sklearn-color-fitted-level-3);\n",
       "}\n",
       "</style><div id=\"sk-container-id-1\" class=\"sk-top-container\"><div class=\"sk-text-repr-fallback\"><pre>GridSearchCV(cv=5, estimator=LogisticRegression(random_state=0), n_jobs=-1,\n",
       "             param_grid={&#x27;C&#x27;: [np.float64(11.167693415685797),\n",
       "                               np.float64(7.812627880188023)],\n",
       "                         &#x27;class_weight&#x27;: [None, &#x27;balanced&#x27;],\n",
       "                         &#x27;l1_ratio&#x27;: [np.float64(0.8921629508620382),\n",
       "                                      np.float64(0.4706296220153559)],\n",
       "                         &#x27;penalty&#x27;: [&#x27;elasticnet&#x27;], &#x27;solver&#x27;: [&#x27;saga&#x27;]})</pre><b>In a Jupyter environment, please rerun this cell to show the HTML representation or trust the notebook. <br />On GitHub, the HTML representation is unable to render, please try loading this page with nbviewer.org.</b></div><div class=\"sk-container\" hidden><div class=\"sk-item sk-dashed-wrapped\"><div class=\"sk-label-container\"><div class=\"sk-label fitted sk-toggleable\"><input class=\"sk-toggleable__control sk-hidden--visually\" id=\"sk-estimator-id-1\" type=\"checkbox\" ><label for=\"sk-estimator-id-1\" class=\"sk-toggleable__label fitted sk-toggleable__label-arrow\"><div><div>GridSearchCV</div></div><div><a class=\"sk-estimator-doc-link fitted\" rel=\"noreferrer\" target=\"_blank\" href=\"https://scikit-learn.org/1.6/modules/generated/sklearn.model_selection.GridSearchCV.html\">?<span>Documentation for GridSearchCV</span></a><span class=\"sk-estimator-doc-link fitted\">i<span>Fitted</span></span></div></label><div class=\"sk-toggleable__content fitted\"><pre>GridSearchCV(cv=5, estimator=LogisticRegression(random_state=0), n_jobs=-1,\n",
       "             param_grid={&#x27;C&#x27;: [np.float64(11.167693415685797),\n",
       "                               np.float64(7.812627880188023)],\n",
       "                         &#x27;class_weight&#x27;: [None, &#x27;balanced&#x27;],\n",
       "                         &#x27;l1_ratio&#x27;: [np.float64(0.8921629508620382),\n",
       "                                      np.float64(0.4706296220153559)],\n",
       "                         &#x27;penalty&#x27;: [&#x27;elasticnet&#x27;], &#x27;solver&#x27;: [&#x27;saga&#x27;]})</pre></div> </div></div><div class=\"sk-parallel\"><div class=\"sk-parallel-item\"><div class=\"sk-item\"><div class=\"sk-label-container\"><div class=\"sk-label fitted sk-toggleable\"><input class=\"sk-toggleable__control sk-hidden--visually\" id=\"sk-estimator-id-2\" type=\"checkbox\" ><label for=\"sk-estimator-id-2\" class=\"sk-toggleable__label fitted sk-toggleable__label-arrow\"><div><div>best_estimator_: LogisticRegression</div></div></label><div class=\"sk-toggleable__content fitted\"><pre>LogisticRegression(C=np.float64(7.812627880188023),\n",
       "                   l1_ratio=np.float64(0.4706296220153559),\n",
       "                   penalty=&#x27;elasticnet&#x27;, random_state=0, solver=&#x27;saga&#x27;)</pre></div> </div></div><div class=\"sk-serial\"><div class=\"sk-item\"><div class=\"sk-estimator fitted sk-toggleable\"><input class=\"sk-toggleable__control sk-hidden--visually\" id=\"sk-estimator-id-3\" type=\"checkbox\" ><label for=\"sk-estimator-id-3\" class=\"sk-toggleable__label fitted sk-toggleable__label-arrow\"><div><div>LogisticRegression</div></div><div><a class=\"sk-estimator-doc-link fitted\" rel=\"noreferrer\" target=\"_blank\" href=\"https://scikit-learn.org/1.6/modules/generated/sklearn.linear_model.LogisticRegression.html\">?<span>Documentation for LogisticRegression</span></a></div></label><div class=\"sk-toggleable__content fitted\"><pre>LogisticRegression(C=np.float64(7.812627880188023),\n",
       "                   l1_ratio=np.float64(0.4706296220153559),\n",
       "                   penalty=&#x27;elasticnet&#x27;, random_state=0, solver=&#x27;saga&#x27;)</pre></div> </div></div></div></div></div></div></div></div></div>"
      ],
      "text/plain": [
       "GridSearchCV(cv=5, estimator=LogisticRegression(random_state=0), n_jobs=-1,\n",
       "             param_grid={'C': [np.float64(11.167693415685797),\n",
       "                               np.float64(7.812627880188023)],\n",
       "                         'class_weight': [None, 'balanced'],\n",
       "                         'l1_ratio': [np.float64(0.8921629508620382),\n",
       "                                      np.float64(0.4706296220153559)],\n",
       "                         'penalty': ['elasticnet'], 'solver': ['saga']})"
      ]
     },
     "execution_count": 73,
     "metadata": {},
     "output_type": "execute_result"
    }
   ],
   "source": [
    "simple_model_logit = LogisticRegression(random_state=0)\n",
    "simple_model_logit_gs = GridSearchCV(simple_model_logit, dict_params_lhs, cv = 5, n_jobs = -1)\n",
    "simple_model_logit_gs.fit(X_bench_train, Y_bench_train.ravel())\n"
   ]
  },
  {
   "cell_type": "code",
   "execution_count": 74,
   "id": "249e982a",
   "metadata": {},
   "outputs": [
    {
     "data": {
      "application/vnd.microsoft.datawrangler.viewer.v0+json": {
       "columns": [
        {
         "name": "index",
         "rawType": "int64",
         "type": "integer"
        },
        {
         "name": "mean_fit_time",
         "rawType": "float64",
         "type": "float"
        },
        {
         "name": "std_fit_time",
         "rawType": "float64",
         "type": "float"
        },
        {
         "name": "mean_score_time",
         "rawType": "float64",
         "type": "float"
        },
        {
         "name": "std_score_time",
         "rawType": "float64",
         "type": "float"
        },
        {
         "name": "param_C",
         "rawType": "float64",
         "type": "float"
        },
        {
         "name": "param_class_weight",
         "rawType": "object",
         "type": "unknown"
        },
        {
         "name": "param_l1_ratio",
         "rawType": "float64",
         "type": "float"
        },
        {
         "name": "param_penalty",
         "rawType": "object",
         "type": "string"
        },
        {
         "name": "param_solver",
         "rawType": "object",
         "type": "string"
        },
        {
         "name": "params",
         "rawType": "object",
         "type": "unknown"
        },
        {
         "name": "split0_test_score",
         "rawType": "float64",
         "type": "float"
        },
        {
         "name": "split1_test_score",
         "rawType": "float64",
         "type": "float"
        },
        {
         "name": "split2_test_score",
         "rawType": "float64",
         "type": "float"
        },
        {
         "name": "split3_test_score",
         "rawType": "float64",
         "type": "float"
        },
        {
         "name": "split4_test_score",
         "rawType": "float64",
         "type": "float"
        },
        {
         "name": "mean_test_score",
         "rawType": "float64",
         "type": "float"
        },
        {
         "name": "std_test_score",
         "rawType": "float64",
         "type": "float"
        },
        {
         "name": "rank_test_score",
         "rawType": "int32",
         "type": "integer"
        }
       ],
       "ref": "1e6347f0-e47b-445a-a8cb-0fb5adbecb01",
       "rows": [
        [
         "0",
         "28.47990174293518",
         "0.380516657591502",
         "0.010358572006225586",
         "0.0007909895885865945",
         "11.167693415685797",
         null,
         "0.8921629508620382",
         "elasticnet",
         "saga",
         "{'C': np.float64(11.167693415685797), 'class_weight': None, 'l1_ratio': np.float64(0.8921629508620382), 'penalty': 'elasticnet', 'solver': 'saga'}",
         "0.946098235169041",
         "0.9474616815805794",
         "0.9425888189953043",
         "0.9477274740852308",
         "0.9487552051032161",
         "0.9465262829866743",
         "0.002143491171143749",
         "3"
        ],
        [
         "1",
         "23.86800503730774",
         "2.4439446541658776",
         "0.01537308692932129",
         "0.013203644723722641",
         "11.167693415685797",
         null,
         "0.4706296220153559",
         "elasticnet",
         "saga",
         "{'C': np.float64(11.167693415685797), 'class_weight': None, 'l1_ratio': np.float64(0.4706296220153559), 'penalty': 'elasticnet', 'solver': 'saga'}",
         "0.9460627967963711",
         "0.9474616815805794",
         "0.9425710994949943",
         "0.9477274740852308",
         "0.9487552051032161",
         "0.9465156514120784",
         "0.002151448588087022",
         "4"
        ],
        [
         "2",
         "28.535392808914185",
         "0.6790010952797336",
         "0.010418844223022462",
         "0.0014079340359797912",
         "11.167693415685797",
         "balanced",
         "0.8921629508620382",
         "elasticnet",
         "saga",
         "{'C': np.float64(11.167693415685797), 'class_weight': 'balanced', 'l1_ratio': np.float64(0.8921629508620382), 'penalty': 'elasticnet', 'solver': 'saga'}",
         "0.703380820752711",
         "0.6050323380880659",
         "0.8916098166031718",
         "0.8072827146274475",
         "0.831257198547001",
         "0.7677125777236794",
         "0.10154572929965795",
         "7"
        ],
        [
         "3",
         "29.753728818893432",
         "0.8385985488193003",
         "0.012032794952392577",
         "0.0038707764868630696",
         "11.167693415685797",
         "balanced",
         "0.4706296220153559",
         "elasticnet",
         "saga",
         "{'C': np.float64(11.167693415685797), 'class_weight': 'balanced', 'l1_ratio': np.float64(0.4706296220153559), 'penalty': 'elasticnet', 'solver': 'saga'}",
         "0.7811857679495358",
         "0.93399486134491",
         "0.7639939753698946",
         "0.7291042792593249",
         "0.7201382121024187",
         "0.7856834192052168",
         "0.07743941885296458",
         "6"
        ],
        [
         "4",
         "30.418146276473998",
         "0.6804097249249421",
         "0.011662483215332031",
         "0.002931956270160768",
         "7.812627880188023",
         null,
         "0.8921629508620382",
         "elasticnet",
         "saga",
         "{'C': np.float64(7.812627880188023), 'class_weight': None, 'l1_ratio': np.float64(0.8921629508620382), 'penalty': 'elasticnet', 'solver': 'saga'}",
         "0.946098235169041",
         "0.9474794010808896",
         "0.9425710994949943",
         "0.9477274740852308",
         "0.9487729246035261",
         "0.9465298268867365",
         "0.0021552415782108082",
         "2"
        ],
        [
         "5",
         "24.651586484909057",
         "3.7671924218135087",
         "0.008908462524414063",
         "0.0003720947182958312",
         "7.812627880188023",
         null,
         "0.4706296220153559",
         "elasticnet",
         "saga",
         "{'C': np.float64(7.812627880188023), 'class_weight': None, 'l1_ratio': np.float64(0.4706296220153559), 'penalty': 'elasticnet', 'solver': 'saga'}",
         "0.9460627967963711",
         "0.9474794010808896",
         "0.9425888189953043",
         "0.947762913085851",
         "0.9488792416053867",
         "0.9465546343127607",
         "0.0021766270010530587",
         "1"
        ],
        [
         "6",
         "27.49848642349243",
         "2.8989356729831295",
         "0.007811784744262695",
         "0.0019930053422825686",
         "7.812627880188023",
         "balanced",
         "0.8921629508620382",
         "elasticnet",
         "saga",
         "{'C': np.float64(7.812627880188023), 'class_weight': 'balanced', 'l1_ratio': np.float64(0.8921629508620382), 'penalty': 'elasticnet', 'solver': 'saga'}",
         "0.7190623006591538",
         "0.6565252059891911",
         "0.9249401966864534",
         "0.7504562771329848",
         "0.6706476477363338",
         "0.7443263256408233",
         "0.0963688765810746",
         "8"
        ],
        [
         "7",
         "24.038601112365722",
         "0.6362604814519649",
         "0.004705286026000977",
         "0.0005130380621200697",
         "7.812627880188023",
         "balanced",
         "0.4706296220153559",
         "elasticnet",
         "saga",
         "{'C': np.float64(7.812627880188023), 'class_weight': 'balanced', 'l1_ratio': np.float64(0.4706296220153559), 'penalty': 'elasticnet', 'solver': 'saga'}",
         "0.6650896590828549",
         "0.9468592185700363",
         "0.8776291308585098",
         "0.8100823956764419",
         "0.7984761229733321",
         "0.819627305432235",
         "0.09377903116832374",
         "5"
        ]
       ],
       "shape": {
        "columns": 18,
        "rows": 8
       }
      },
      "text/html": [
       "<div>\n",
       "<style scoped>\n",
       "    .dataframe tbody tr th:only-of-type {\n",
       "        vertical-align: middle;\n",
       "    }\n",
       "\n",
       "    .dataframe tbody tr th {\n",
       "        vertical-align: top;\n",
       "    }\n",
       "\n",
       "    .dataframe thead th {\n",
       "        text-align: right;\n",
       "    }\n",
       "</style>\n",
       "<table border=\"1\" class=\"dataframe\">\n",
       "  <thead>\n",
       "    <tr style=\"text-align: right;\">\n",
       "      <th></th>\n",
       "      <th>mean_fit_time</th>\n",
       "      <th>std_fit_time</th>\n",
       "      <th>mean_score_time</th>\n",
       "      <th>std_score_time</th>\n",
       "      <th>param_C</th>\n",
       "      <th>param_class_weight</th>\n",
       "      <th>param_l1_ratio</th>\n",
       "      <th>param_penalty</th>\n",
       "      <th>param_solver</th>\n",
       "      <th>params</th>\n",
       "      <th>split0_test_score</th>\n",
       "      <th>split1_test_score</th>\n",
       "      <th>split2_test_score</th>\n",
       "      <th>split3_test_score</th>\n",
       "      <th>split4_test_score</th>\n",
       "      <th>mean_test_score</th>\n",
       "      <th>std_test_score</th>\n",
       "      <th>rank_test_score</th>\n",
       "    </tr>\n",
       "  </thead>\n",
       "  <tbody>\n",
       "    <tr>\n",
       "      <th>0</th>\n",
       "      <td>28.479902</td>\n",
       "      <td>0.380517</td>\n",
       "      <td>0.010359</td>\n",
       "      <td>0.000791</td>\n",
       "      <td>11.167693</td>\n",
       "      <td>None</td>\n",
       "      <td>0.892163</td>\n",
       "      <td>elasticnet</td>\n",
       "      <td>saga</td>\n",
       "      <td>{'C': 11.167693415685797, 'class_weight': None...</td>\n",
       "      <td>0.946098</td>\n",
       "      <td>0.947462</td>\n",
       "      <td>0.942589</td>\n",
       "      <td>0.947727</td>\n",
       "      <td>0.948755</td>\n",
       "      <td>0.946526</td>\n",
       "      <td>0.002143</td>\n",
       "      <td>3</td>\n",
       "    </tr>\n",
       "    <tr>\n",
       "      <th>1</th>\n",
       "      <td>23.868005</td>\n",
       "      <td>2.443945</td>\n",
       "      <td>0.015373</td>\n",
       "      <td>0.013204</td>\n",
       "      <td>11.167693</td>\n",
       "      <td>None</td>\n",
       "      <td>0.470630</td>\n",
       "      <td>elasticnet</td>\n",
       "      <td>saga</td>\n",
       "      <td>{'C': 11.167693415685797, 'class_weight': None...</td>\n",
       "      <td>0.946063</td>\n",
       "      <td>0.947462</td>\n",
       "      <td>0.942571</td>\n",
       "      <td>0.947727</td>\n",
       "      <td>0.948755</td>\n",
       "      <td>0.946516</td>\n",
       "      <td>0.002151</td>\n",
       "      <td>4</td>\n",
       "    </tr>\n",
       "    <tr>\n",
       "      <th>2</th>\n",
       "      <td>28.535393</td>\n",
       "      <td>0.679001</td>\n",
       "      <td>0.010419</td>\n",
       "      <td>0.001408</td>\n",
       "      <td>11.167693</td>\n",
       "      <td>balanced</td>\n",
       "      <td>0.892163</td>\n",
       "      <td>elasticnet</td>\n",
       "      <td>saga</td>\n",
       "      <td>{'C': 11.167693415685797, 'class_weight': 'bal...</td>\n",
       "      <td>0.703381</td>\n",
       "      <td>0.605032</td>\n",
       "      <td>0.891610</td>\n",
       "      <td>0.807283</td>\n",
       "      <td>0.831257</td>\n",
       "      <td>0.767713</td>\n",
       "      <td>0.101546</td>\n",
       "      <td>7</td>\n",
       "    </tr>\n",
       "    <tr>\n",
       "      <th>3</th>\n",
       "      <td>29.753729</td>\n",
       "      <td>0.838599</td>\n",
       "      <td>0.012033</td>\n",
       "      <td>0.003871</td>\n",
       "      <td>11.167693</td>\n",
       "      <td>balanced</td>\n",
       "      <td>0.470630</td>\n",
       "      <td>elasticnet</td>\n",
       "      <td>saga</td>\n",
       "      <td>{'C': 11.167693415685797, 'class_weight': 'bal...</td>\n",
       "      <td>0.781186</td>\n",
       "      <td>0.933995</td>\n",
       "      <td>0.763994</td>\n",
       "      <td>0.729104</td>\n",
       "      <td>0.720138</td>\n",
       "      <td>0.785683</td>\n",
       "      <td>0.077439</td>\n",
       "      <td>6</td>\n",
       "    </tr>\n",
       "    <tr>\n",
       "      <th>4</th>\n",
       "      <td>30.418146</td>\n",
       "      <td>0.680410</td>\n",
       "      <td>0.011662</td>\n",
       "      <td>0.002932</td>\n",
       "      <td>7.812628</td>\n",
       "      <td>None</td>\n",
       "      <td>0.892163</td>\n",
       "      <td>elasticnet</td>\n",
       "      <td>saga</td>\n",
       "      <td>{'C': 7.812627880188023, 'class_weight': None,...</td>\n",
       "      <td>0.946098</td>\n",
       "      <td>0.947479</td>\n",
       "      <td>0.942571</td>\n",
       "      <td>0.947727</td>\n",
       "      <td>0.948773</td>\n",
       "      <td>0.946530</td>\n",
       "      <td>0.002155</td>\n",
       "      <td>2</td>\n",
       "    </tr>\n",
       "    <tr>\n",
       "      <th>5</th>\n",
       "      <td>24.651586</td>\n",
       "      <td>3.767192</td>\n",
       "      <td>0.008908</td>\n",
       "      <td>0.000372</td>\n",
       "      <td>7.812628</td>\n",
       "      <td>None</td>\n",
       "      <td>0.470630</td>\n",
       "      <td>elasticnet</td>\n",
       "      <td>saga</td>\n",
       "      <td>{'C': 7.812627880188023, 'class_weight': None,...</td>\n",
       "      <td>0.946063</td>\n",
       "      <td>0.947479</td>\n",
       "      <td>0.942589</td>\n",
       "      <td>0.947763</td>\n",
       "      <td>0.948879</td>\n",
       "      <td>0.946555</td>\n",
       "      <td>0.002177</td>\n",
       "      <td>1</td>\n",
       "    </tr>\n",
       "    <tr>\n",
       "      <th>6</th>\n",
       "      <td>27.498486</td>\n",
       "      <td>2.898936</td>\n",
       "      <td>0.007812</td>\n",
       "      <td>0.001993</td>\n",
       "      <td>7.812628</td>\n",
       "      <td>balanced</td>\n",
       "      <td>0.892163</td>\n",
       "      <td>elasticnet</td>\n",
       "      <td>saga</td>\n",
       "      <td>{'C': 7.812627880188023, 'class_weight': 'bala...</td>\n",
       "      <td>0.719062</td>\n",
       "      <td>0.656525</td>\n",
       "      <td>0.924940</td>\n",
       "      <td>0.750456</td>\n",
       "      <td>0.670648</td>\n",
       "      <td>0.744326</td>\n",
       "      <td>0.096369</td>\n",
       "      <td>8</td>\n",
       "    </tr>\n",
       "    <tr>\n",
       "      <th>7</th>\n",
       "      <td>24.038601</td>\n",
       "      <td>0.636260</td>\n",
       "      <td>0.004705</td>\n",
       "      <td>0.000513</td>\n",
       "      <td>7.812628</td>\n",
       "      <td>balanced</td>\n",
       "      <td>0.470630</td>\n",
       "      <td>elasticnet</td>\n",
       "      <td>saga</td>\n",
       "      <td>{'C': 7.812627880188023, 'class_weight': 'bala...</td>\n",
       "      <td>0.665090</td>\n",
       "      <td>0.946859</td>\n",
       "      <td>0.877629</td>\n",
       "      <td>0.810082</td>\n",
       "      <td>0.798476</td>\n",
       "      <td>0.819627</td>\n",
       "      <td>0.093779</td>\n",
       "      <td>5</td>\n",
       "    </tr>\n",
       "  </tbody>\n",
       "</table>\n",
       "</div>"
      ],
      "text/plain": [
       "   mean_fit_time  std_fit_time  mean_score_time  std_score_time    param_C  \\\n",
       "0      28.479902      0.380517         0.010359        0.000791  11.167693   \n",
       "1      23.868005      2.443945         0.015373        0.013204  11.167693   \n",
       "2      28.535393      0.679001         0.010419        0.001408  11.167693   \n",
       "3      29.753729      0.838599         0.012033        0.003871  11.167693   \n",
       "4      30.418146      0.680410         0.011662        0.002932   7.812628   \n",
       "5      24.651586      3.767192         0.008908        0.000372   7.812628   \n",
       "6      27.498486      2.898936         0.007812        0.001993   7.812628   \n",
       "7      24.038601      0.636260         0.004705        0.000513   7.812628   \n",
       "\n",
       "  param_class_weight  param_l1_ratio param_penalty param_solver  \\\n",
       "0               None        0.892163    elasticnet         saga   \n",
       "1               None        0.470630    elasticnet         saga   \n",
       "2           balanced        0.892163    elasticnet         saga   \n",
       "3           balanced        0.470630    elasticnet         saga   \n",
       "4               None        0.892163    elasticnet         saga   \n",
       "5               None        0.470630    elasticnet         saga   \n",
       "6           balanced        0.892163    elasticnet         saga   \n",
       "7           balanced        0.470630    elasticnet         saga   \n",
       "\n",
       "                                              params  split0_test_score  \\\n",
       "0  {'C': 11.167693415685797, 'class_weight': None...           0.946098   \n",
       "1  {'C': 11.167693415685797, 'class_weight': None...           0.946063   \n",
       "2  {'C': 11.167693415685797, 'class_weight': 'bal...           0.703381   \n",
       "3  {'C': 11.167693415685797, 'class_weight': 'bal...           0.781186   \n",
       "4  {'C': 7.812627880188023, 'class_weight': None,...           0.946098   \n",
       "5  {'C': 7.812627880188023, 'class_weight': None,...           0.946063   \n",
       "6  {'C': 7.812627880188023, 'class_weight': 'bala...           0.719062   \n",
       "7  {'C': 7.812627880188023, 'class_weight': 'bala...           0.665090   \n",
       "\n",
       "   split1_test_score  split2_test_score  split3_test_score  split4_test_score  \\\n",
       "0           0.947462           0.942589           0.947727           0.948755   \n",
       "1           0.947462           0.942571           0.947727           0.948755   \n",
       "2           0.605032           0.891610           0.807283           0.831257   \n",
       "3           0.933995           0.763994           0.729104           0.720138   \n",
       "4           0.947479           0.942571           0.947727           0.948773   \n",
       "5           0.947479           0.942589           0.947763           0.948879   \n",
       "6           0.656525           0.924940           0.750456           0.670648   \n",
       "7           0.946859           0.877629           0.810082           0.798476   \n",
       "\n",
       "   mean_test_score  std_test_score  rank_test_score  \n",
       "0         0.946526        0.002143                3  \n",
       "1         0.946516        0.002151                4  \n",
       "2         0.767713        0.101546                7  \n",
       "3         0.785683        0.077439                6  \n",
       "4         0.946530        0.002155                2  \n",
       "5         0.946555        0.002177                1  \n",
       "6         0.744326        0.096369                8  \n",
       "7         0.819627        0.093779                5  "
      ]
     },
     "execution_count": 74,
     "metadata": {},
     "output_type": "execute_result"
    }
   ],
   "source": [
    "pd.DataFrame(simple_model_logit_gs.cv_results_)"
   ]
  },
  {
   "cell_type": "code",
   "execution_count": 75,
   "id": "52d3ee83",
   "metadata": {},
   "outputs": [],
   "source": [
    "best_benchmark_model = simple_model_logit_gs.best_estimator_"
   ]
  },
  {
   "cell_type": "code",
   "execution_count": 76,
   "id": "48b3f12f",
   "metadata": {},
   "outputs": [
    {
     "data": {
      "text/plain": [
       "array([-10.85847415])"
      ]
     },
     "execution_count": 76,
     "metadata": {},
     "output_type": "execute_result"
    }
   ],
   "source": [
    "best_benchmark_model.intercept_"
   ]
  },
  {
   "cell_type": "code",
   "execution_count": 77,
   "id": "e5344575",
   "metadata": {},
   "outputs": [],
   "source": [
    "XB_hat_benchmark_oot = (np.ones(X_bench_oot.shape[0])*best_benchmark_model.intercept_).reshape(-1,1) + X_bench_oot@best_benchmark_model.coef_.T\n",
    "Y_hat_benchmark_oot = (1/(1+np.exp(-XB_hat_benchmark_oot)))"
   ]
  },
  {
   "cell_type": "code",
   "execution_count": 78,
   "id": "e16ca720",
   "metadata": {},
   "outputs": [
    {
     "data": {
      "text/plain": [
       "['e:\\\\backup Asus G15 27_10_2021\\\\Colegio de Mates Bourbaki\\\\DLA2501 - Deep Learning Avanzado\\\\Flood forecasting\\\\2. Datos\\\\Processed data\\\\OOT_Y_hat_benchmark.pkl']"
      ]
     },
     "execution_count": 78,
     "metadata": {},
     "output_type": "execute_result"
    }
   ],
   "source": [
    "joblib.dump((Y_hat_benchmark_oot), el_path_main / '2. Datos/Processed data/OOT_Y_hat_benchmark.pkl')"
   ]
  },
  {
   "cell_type": "code",
   "execution_count": 79,
   "id": "aed425be",
   "metadata": {},
   "outputs": [
    {
     "data": {
      "text/plain": [
       "np.float64(0.8038809141642644)"
      ]
     },
     "execution_count": 79,
     "metadata": {},
     "output_type": "execute_result"
    }
   ],
   "source": [
    "mi_gini(Y_bench_oot, Y_hat_benchmark_oot)"
   ]
  },
  {
   "cell_type": "markdown",
   "id": "7fb04539",
   "metadata": {},
   "source": [
    "# Model Evaluation"
   ]
  },
  {
   "cell_type": "code",
   "execution_count": 80,
   "id": "2094c7b8",
   "metadata": {},
   "outputs": [],
   "source": [
    "y_hat_simple_oot, y_hat_complex_oot = joblib.load(el_path_main / '2. Datos/Processed data/OOT_Y_Hat_simple_and_complex_models.pkl')\n",
    "Y_hat_benchmark_oot = joblib.load(el_path_main / '2. Datos/Processed data/OOT_Y_hat_benchmark.pkl')"
   ]
  },
  {
   "cell_type": "code",
   "execution_count": 81,
   "id": "ca5f1a71",
   "metadata": {},
   "outputs": [
    {
     "data": {
      "text/plain": [
       "((193, 12, 36, 28, 2), (193, 12, 36, 28, 2), (193536, 1), (193, 12, 36, 28))"
      ]
     },
     "execution_count": 81,
     "metadata": {},
     "output_type": "execute_result"
    }
   ],
   "source": [
    "y_hat_simple_oot.shape, y_hat_complex_oot.shape, Y_hat_benchmark_oot.shape, Y_oot.shape"
   ]
  },
  {
   "cell_type": "code",
   "execution_count": 91,
   "id": "70de6f9f",
   "metadata": {},
   "outputs": [],
   "source": [
    "time_step_pred = 12\n",
    "el_th = 0.5\n",
    "# Transform of NN models predictions\n",
    "# y_hat_simple_oot_12m = y_hat_simple_oot[:,time_step_pred-1,:,:, 1].ravel()\n",
    "# y_hat_complex_oot_12m = y_hat_complex_oot[:,time_step_pred-1,:,:, 1].ravel()\n",
    "# Y_oot_12m = Y_oot[:,time_step_pred-1,:,:].ravel()\n",
    "\n",
    "y_hat_simple_oot_12m = y_hat_simple_oot[:,:,:,:, 1].ravel()\n",
    "y_hat_complex_oot_12m = y_hat_complex_oot[:,:,:,:, 1].ravel()\n",
    "Y_oot_12m = Y_oot[:,:,:,:].ravel()"
   ]
  },
  {
   "cell_type": "code",
   "execution_count": 92,
   "id": "1b07ff10",
   "metadata": {},
   "outputs": [
    {
     "data": {
      "text/plain": [
       "((2334528,), (2334528,), (2334528,))"
      ]
     },
     "execution_count": 92,
     "metadata": {},
     "output_type": "execute_result"
    }
   ],
   "source": [
    "y_hat_simple_oot_12m.shape, y_hat_complex_oot_12m.shape, Y_oot_12m.shape"
   ]
  },
  {
   "cell_type": "code",
   "execution_count": 93,
   "id": "1f00e0a4",
   "metadata": {},
   "outputs": [
    {
     "data": {
      "text/plain": [
       "np.float64(0.8038809141642644)"
      ]
     },
     "execution_count": 93,
     "metadata": {},
     "output_type": "execute_result"
    }
   ],
   "source": [
    "mi_gini(Y_bench_oot, Y_hat_benchmark_oot)"
   ]
  },
  {
   "cell_type": "code",
   "execution_count": 94,
   "id": "4752a286",
   "metadata": {},
   "outputs": [
    {
     "data": {
      "text/plain": [
       "np.float64(0.11022086421076627)"
      ]
     },
     "execution_count": 94,
     "metadata": {},
     "output_type": "execute_result"
    }
   ],
   "source": [
    "mi_gini(Y_oot_12m, y_hat_simple_oot_12m)"
   ]
  },
  {
   "cell_type": "code",
   "execution_count": 95,
   "id": "0e4e45ea",
   "metadata": {},
   "outputs": [
    {
     "data": {
      "text/plain": [
       "np.float64(0.11221710032626486)"
      ]
     },
     "execution_count": 95,
     "metadata": {},
     "output_type": "execute_result"
    }
   ],
   "source": [
    "mi_gini(Y_oot_12m, y_hat_complex_oot_12m)"
   ]
  },
  {
   "cell_type": "code",
   "execution_count": 96,
   "id": "1a0175e8",
   "metadata": {},
   "outputs": [
    {
     "data": {
      "text/plain": [
       "0.9456271246264769"
      ]
     },
     "execution_count": 96,
     "metadata": {},
     "output_type": "execute_result"
    }
   ],
   "source": [
    "mi_acu(Y_oot_12m, np.where(y_hat_complex_oot_12m>=el_th, 1, 0))"
   ]
  },
  {
   "cell_type": "code",
   "execution_count": 97,
   "id": "1b04a264",
   "metadata": {},
   "outputs": [
    {
     "data": {
      "text/plain": [
       "0.9033033658195575"
      ]
     },
     "execution_count": 97,
     "metadata": {},
     "output_type": "execute_result"
    }
   ],
   "source": [
    "mi_acu(Y_oot_12m, np.where(y_hat_simple_oot_12m>=el_th, 1, 0))"
   ]
  },
  {
   "cell_type": "code",
   "execution_count": 98,
   "id": "78872ce4",
   "metadata": {},
   "outputs": [
    {
     "data": {
      "text/plain": [
       "0.951182208994709"
      ]
     },
     "execution_count": 98,
     "metadata": {},
     "output_type": "execute_result"
    }
   ],
   "source": [
    "mi_acu(Y_bench_oot, np.where(Y_hat_benchmark_oot>=el_th, 1, 0))"
   ]
  },
  {
   "cell_type": "code",
   "execution_count": 99,
   "id": "6a771f87",
   "metadata": {},
   "outputs": [],
   "source": [
    "df_gts_reescal = pd.read_csv(el_path_main / '2. Datos/Main gridded data/consol_df_peru_reescal.csv')\n",
    "los_lons = df_gts_reescal['lon'].unique()\n",
    "las_lats = df_gts_reescal['lat'].unique()"
   ]
  },
  {
   "cell_type": "code",
   "execution_count": 103,
   "id": "14e0b20e",
   "metadata": {},
   "outputs": [
    {
     "data": {
      "image/png": "[encoded data removed]",
      "text/plain": [
       "<Figure size 1200x600 with 2 Axes>"
      ]
     },
     "metadata": {},
     "output_type": "display_data"
    }
   ],
   "source": [
    "_lon_per, _lat_per = np.meshgrid(los_lons,\n",
    "                                 las_lats)\n",
    "_frs_peru = y_hat_complex_oot[0,11,:,:,1]\n",
    "\n",
    "plt.figure(figsize=(12, 6))\n",
    "plt.pcolormesh(_lon_per, _lat_per, _frs_peru, shading='auto', cmap='hot')\n",
    "plt.colorbar(label='dias lluvias por mes')\n",
    "plt.grid()"
   ]
  },
  {
   "cell_type": "code",
   "execution_count": null,
   "id": "cba90a4f",
   "metadata": {},
   "outputs": [],
   "source": []
  },
  {
   "cell_type": "code",
   "execution_count": null,
   "id": "617f40ba",
   "metadata": {},
   "outputs": [],
   "source": []
  }
 ],
 "metadata": {
  "kernelspec": {
   "display_name": ".venv",
   "language": "python",
   "name": "python3"
  },
  "language_info": {
   "codemirror_mode": {
    "name": "ipython",
    "version": 3
   },
   "file_extension": ".py",
   "mimetype": "text/x-python",
   "name": "python",
   "nbconvert_exporter": "python",
   "pygments_lexer": "ipython3",
   "version": "3.11.7"
  }
 },
 "nbformat": 4,
 "nbformat_minor": 5
}
