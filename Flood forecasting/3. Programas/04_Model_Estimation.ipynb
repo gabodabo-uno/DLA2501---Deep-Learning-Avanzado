{
 "cells": [
  {
   "cell_type": "code",
   "execution_count": 2,
   "id": "6d28f10a",
   "metadata": {},
   "outputs": [],
   "source": [
    "import os\n",
    "import numpy as np\n",
    "import pandas as pd\n",
    "import seaborn as sns\n",
    "from pathlib import Path\n",
    "from itertools import chain\n",
    "import matplotlib.pyplot as plt\n",
    "\n",
    "from sklearn.preprocessing import MinMaxScaler\n",
    "import joblib\n",
    "\n",
    "# Mis utilitarios\n",
    "from utils import *\n"
   ]
  },
  {
   "cell_type": "code",
   "execution_count": 3,
   "id": "358ae829",
   "metadata": {},
   "outputs": [],
   "source": [
    "\n",
    "from tensorflow.keras.preprocessing.sequence import pad_sequences\n",
    "from tensorflow.keras.utils import to_categorical\n",
    "\n",
    "import tensorflow as tf\n",
    "from tensorflow.keras import Sequential, Model, Input\n",
    "from tensorflow.keras.layers import LSTM, Embedding, Dense, TimeDistributed, Dropout, Bidirectional, Concatenate, ConvLSTM2D, Reshape, Conv2D, Lambda\n",
    "from tensorflow.keras.initializers import Constant\n",
    "from tensorflow.keras.utils import plot_model"
   ]
  },
  {
   "cell_type": "markdown",
   "id": "ee697857",
   "metadata": {},
   "source": [
    "# Set Path"
   ]
  },
  {
   "cell_type": "code",
   "execution_count": 4,
   "id": "162a5a19",
   "metadata": {},
   "outputs": [
    {
     "data": {
      "text/plain": [
       "WindowsPath('e:/backup Asus G15 27_10_2021/Colegio de Mates Bourbaki/DLA2501 - Deep Learning Avanzado/Flood forecasting')"
      ]
     },
     "execution_count": 4,
     "metadata": {},
     "output_type": "execute_result"
    }
   ],
   "source": [
    "el_path_main = Path(os.getcwd()).parent\n",
    "el_path_main"
   ]
  },
  {
   "cell_type": "code",
   "execution_count": 5,
   "id": "056921a6",
   "metadata": {},
   "outputs": [],
   "source": [
    "# En caso sea en google Colab\n",
    "# from google.colab import drive\n",
    "# drive.mount('/content/drive')"
   ]
  },
  {
   "cell_type": "markdown",
   "id": "ac0045e1",
   "metadata": {},
   "source": [
    "# Load Tensors"
   ]
  },
  {
   "cell_type": "code",
   "execution_count": null,
   "id": "008e7b74",
   "metadata": {},
   "outputs": [],
   "source": [
    "X_gts_train, Y_train, X_gts_miss_train, X_ctry_lvl_train = joblib.load(el_path_main / '2. Datos/Processed data/TRAIN_data.pkl')\n",
    "# X_gts_oot, Y_oot, X_gts_miss_oot, X_ctry_lvl_oot = joblib.load(el_path_main / '2. Datos/Processed data/OOT_data.pkl')\n",
    "\n",
    "# El orden de los inputs en X_gts_train es:\n",
    "# ['cld', 'dtr', 'frs', 'pet', 'pre', 'tmn', 'tmp', 'tmx', 'vap', 'wet']"
   ]
  },
  {
   "cell_type": "code",
   "execution_count": 6,
   "id": "db532fc7",
   "metadata": {},
   "outputs": [],
   "source": [
    "# Reducimos el tamaño del dataset para que pueda ser ejecutado en local\n",
    "desde_index = 700\n",
    "X_gts_train = X_gts_train[desde_index:,:]\n",
    "Y_train = Y_train[desde_index:,:]\n",
    "X_gts_miss_train = X_gts_miss_train[desde_index:,:]\n",
    "X_ctry_lvl_train = X_ctry_lvl_train[desde_index:,:]"
   ]
  },
  {
   "cell_type": "code",
   "execution_count": 7,
   "id": "0833f1c0",
   "metadata": {},
   "outputs": [
    {
     "data": {
      "text/plain": [
       "((477, 10, 96, 36, 28), (477, 12, 36, 28), (477, 10, 96, 36, 28), (477, 180))"
      ]
     },
     "execution_count": 7,
     "metadata": {},
     "output_type": "execute_result"
    }
   ],
   "source": [
    "# X_gts_train.shape, Y_train.shape, X_gts_miss_oot.shape, X_ctry_lvl_oot.shape\n",
    "X_gts_train.shape, Y_train.shape, X_gts_miss_train.shape, X_ctry_lvl_train.shape"
   ]
  },
  {
   "cell_type": "code",
   "execution_count": 8,
   "id": "d546ea96",
   "metadata": {},
   "outputs": [],
   "source": [
    "def format_Y(Y):\n",
    "    \"\"\"\n",
    "    Formatea Y para que sea un array de numpy con la forma (n_samples, n_classes)\n",
    "    \"\"\"\n",
    "    Y = np.array(Y)\n",
    "    Y = to_categorical(Y, num_classes=2)\n",
    "    return Y"
   ]
  },
  {
   "cell_type": "code",
   "execution_count": 9,
   "id": "08a1317c",
   "metadata": {},
   "outputs": [],
   "source": [
    "Y_train_f = format_Y(Y_train)\n",
    "# Y_oot_f = format_Y(Y_oot)"
   ]
  },
  {
   "cell_type": "code",
   "execution_count": 10,
   "id": "ada1844b",
   "metadata": {},
   "outputs": [
    {
     "data": {
      "text/plain": [
       "((477, 10, 96, 36, 28), (477, 12, 36, 28), (477, 10, 96, 36, 28), (477, 180))"
      ]
     },
     "execution_count": 10,
     "metadata": {},
     "output_type": "execute_result"
    }
   ],
   "source": [
    "X_gts_train.shape, Y_train.shape, X_gts_miss_train.shape, X_ctry_lvl_train.shape"
   ]
  },
  {
   "cell_type": "code",
   "execution_count": 11,
   "id": "b3f73e3d",
   "metadata": {},
   "outputs": [],
   "source": [
    "def gen_X_gts_for_model(X_gts, X_gts_miss):\n",
    "    n_vars = X_gts.shape[1]\n",
    "    lista_array = []\n",
    "    for var in range(n_vars):\n",
    "        X_tmp      = np.expand_dims(X_gts[:, var, :], -1)\n",
    "        X_tmp_miss = np.expand_dims(X_gts_miss[:, var, :], -1)\n",
    "        X = np.concat((X_tmp, X_tmp_miss), axis=-1)\n",
    "        lista_array.append(X)\n",
    "    return lista_array"
   ]
  },
  {
   "cell_type": "code",
   "execution_count": 12,
   "id": "e703f877",
   "metadata": {},
   "outputs": [],
   "source": [
    "# la_lista_de_arrays_oot = gen_X_gts_for_model(X_gts_oot, X_gts_miss_oot)\n",
    "la_lista_de_arrays_train = gen_X_gts_for_model(X_gts_train, X_gts_miss_train)"
   ]
  },
  {
   "cell_type": "code",
   "execution_count": 13,
   "id": "8528d8e9",
   "metadata": {},
   "outputs": [
    {
     "data": {
      "text/plain": [
       "(477, 96, 36, 28, 2)"
      ]
     },
     "execution_count": 13,
     "metadata": {},
     "output_type": "execute_result"
    }
   ],
   "source": [
    "la_lista_de_arrays_train[0].shape"
   ]
  },
  {
   "cell_type": "markdown",
   "id": "9ee353c4",
   "metadata": {},
   "source": [
    "# Version Simple"
   ]
  },
  {
   "cell_type": "code",
   "execution_count": null,
   "id": "f01d8c15",
   "metadata": {},
   "outputs": [],
   "source": [
    "n_vars_from_gts = X_gts_train.shape[1] # N of variables from GTS\n",
    "n_times_for_lstm = X_gts_train.shape[2] # N of time steps usted for LSTM\n",
    "n_lats = X_gts_train.shape[3] # N of latitudes\n",
    "n_lons = X_gts_train.shape[4] # N of longitudes\n",
    "vars_ctry_lvl = X_ctry_lvl_train.shape[1] # N of variables from country level data\n",
    "n_codmes_fcast = Y_train.shape[1] # N of codmes for forecast\n",
    "\n",
    "# Set of parameters that will be tunned\n",
    "recurrent_dropout = 0.2\n",
    "dropout = 0.2   \n",
    "n_filters = 2\n",
    "kernel_size = 3\n",
    "include_miss_layer = True\n",
    "dims_nn_ctry_lvl_tmp = [16] # La longitud de esta lista indica la cantidad de capas -1 (colcoar lista vacía para que sea de tamaño 1), los valores dentro indican el tamaño de la capa\n",
    "\n",
    "# Set of parameters that are based on the previous ones\n",
    "n_channels_conv_lstm = 2 if include_miss_layer else 1\n",
    "dims_nn_ctry_lvl = dims_nn_ctry_lvl_tmp+[n_lats*n_lons*n_channels_conv_lstm] # La longitud de esta lista indica la cantidad de capas, los valores dentro indican el tamaño de la capa"
   ]
  },
  {
   "cell_type": "code",
   "execution_count": 15,
   "id": "1d9d48e2",
   "metadata": {},
   "outputs": [],
   "source": [
    "def repeat_latent(x):\n",
    "    return tf.repeat(x, repeats=n_codmes_fcast, axis=1)  # Repeat along time axis"
   ]
  },
  {
   "cell_type": "code",
   "execution_count": 16,
   "id": "65d639ec",
   "metadata": {},
   "outputs": [
    {
     "name": "stdout",
     "output_type": "stream",
     "text": [
      "WARNING:tensorflow:From e:\\backup Asus G15 27_10_2021\\Colegio de Mates Bourbaki\\DLA2501 - Deep Learning Avanzado\\.venv\\Lib\\site-packages\\keras\\src\\backend\\tensorflow\\core.py:219: The name tf.placeholder is deprecated. Please use tf.compat.v1.placeholder instead.\n",
      "\n"
     ]
    },
    {
     "data": {
      "text/html": [
       "<pre style=\"white-space:pre;overflow-x:auto;line-height:normal;font-family:Menlo,'DejaVu Sans Mono',consolas,'Courier New',monospace\"><span style=\"font-weight: bold\">Model: \"functional\"</span>\n",
       "</pre>\n"
      ],
      "text/plain": [
       "\u001b[1mModel: \"functional\"\u001b[0m\n"
      ]
     },
     "metadata": {},
     "output_type": "display_data"
    },
    {
     "data": {
      "text/html": [
       "<pre style=\"white-space:pre;overflow-x:auto;line-height:normal;font-family:Menlo,'DejaVu Sans Mono',consolas,'Courier New',monospace\">┏━━━━━━━━━━━━━━━━━━━━━┳━━━━━━━━━━━━━━━━━━━┳━━━━━━━━━━━━┳━━━━━━━━━━━━━━━━━━━┓\n",
       "┃<span style=\"font-weight: bold\"> Layer (type)        </span>┃<span style=\"font-weight: bold\"> Output Shape      </span>┃<span style=\"font-weight: bold\">    Param # </span>┃<span style=\"font-weight: bold\"> Connected to      </span>┃\n",
       "┡━━━━━━━━━━━━━━━━━━━━━╇━━━━━━━━━━━━━━━━━━━╇━━━━━━━━━━━━╇━━━━━━━━━━━━━━━━━━━┩\n",
       "│ input_ctry          │ (<span style=\"color: #00d7ff; text-decoration-color: #00d7ff\">None</span>, <span style=\"color: #00af00; text-decoration-color: #00af00\">180</span>)       │          <span style=\"color: #00af00; text-decoration-color: #00af00\">0</span> │ -                 │\n",
       "│ (<span style=\"color: #0087ff; text-decoration-color: #0087ff\">InputLayer</span>)        │                   │            │                   │\n",
       "├─────────────────────┼───────────────────┼────────────┼───────────────────┤\n",
       "│ input_gts           │ (<span style=\"color: #00d7ff; text-decoration-color: #00d7ff\">None</span>, <span style=\"color: #00af00; text-decoration-color: #00af00\">96</span>, <span style=\"color: #00af00; text-decoration-color: #00af00\">36</span>,    │          <span style=\"color: #00af00; text-decoration-color: #00af00\">0</span> │ -                 │\n",
       "│ (<span style=\"color: #0087ff; text-decoration-color: #0087ff\">InputLayer</span>)        │ <span style=\"color: #00af00; text-decoration-color: #00af00\">28</span>, <span style=\"color: #00af00; text-decoration-color: #00af00\">2</span>)            │            │                   │\n",
       "├─────────────────────┼───────────────────┼────────────┼───────────────────┤\n",
       "│ dense (<span style=\"color: #0087ff; text-decoration-color: #0087ff\">Dense</span>)       │ (<span style=\"color: #00d7ff; text-decoration-color: #00d7ff\">None</span>, <span style=\"color: #00af00; text-decoration-color: #00af00\">1008</span>)      │    <span style=\"color: #00af00; text-decoration-color: #00af00\">182,448</span> │ input_ctry[<span style=\"color: #00af00; text-decoration-color: #00af00\">0</span>][<span style=\"color: #00af00; text-decoration-color: #00af00\">0</span>]  │\n",
       "├─────────────────────┼───────────────────┼────────────┼───────────────────┤\n",
       "│ conv_lstm_1         │ (<span style=\"color: #00d7ff; text-decoration-color: #00d7ff\">None</span>, <span style=\"color: #00af00; text-decoration-color: #00af00\">36</span>, <span style=\"color: #00af00; text-decoration-color: #00af00\">28</span>, <span style=\"color: #00af00; text-decoration-color: #00af00\">2</span>) │        <span style=\"color: #00af00; text-decoration-color: #00af00\">296</span> │ input_gts[<span style=\"color: #00af00; text-decoration-color: #00af00\">0</span>][<span style=\"color: #00af00; text-decoration-color: #00af00\">0</span>]   │\n",
       "│ (<span style=\"color: #0087ff; text-decoration-color: #0087ff\">ConvLSTM2D</span>)        │                   │            │                   │\n",
       "├─────────────────────┼───────────────────┼────────────┼───────────────────┤\n",
       "│ reshape (<span style=\"color: #0087ff; text-decoration-color: #0087ff\">Reshape</span>)   │ (<span style=\"color: #00d7ff; text-decoration-color: #00d7ff\">None</span>, <span style=\"color: #00af00; text-decoration-color: #00af00\">36</span>, <span style=\"color: #00af00; text-decoration-color: #00af00\">28</span>, <span style=\"color: #00af00; text-decoration-color: #00af00\">1</span>) │          <span style=\"color: #00af00; text-decoration-color: #00af00\">0</span> │ dense[<span style=\"color: #00af00; text-decoration-color: #00af00\">0</span>][<span style=\"color: #00af00; text-decoration-color: #00af00\">0</span>]       │\n",
       "├─────────────────────┼───────────────────┼────────────┼───────────────────┤\n",
       "│ concatenate         │ (<span style=\"color: #00d7ff; text-decoration-color: #00d7ff\">None</span>, <span style=\"color: #00af00; text-decoration-color: #00af00\">36</span>, <span style=\"color: #00af00; text-decoration-color: #00af00\">28</span>, <span style=\"color: #00af00; text-decoration-color: #00af00\">3</span>) │          <span style=\"color: #00af00; text-decoration-color: #00af00\">0</span> │ conv_lstm_1[<span style=\"color: #00af00; text-decoration-color: #00af00\">0</span>][<span style=\"color: #00af00; text-decoration-color: #00af00\">0</span>… │\n",
       "│ (<span style=\"color: #0087ff; text-decoration-color: #0087ff\">Concatenate</span>)       │                   │            │ reshape[<span style=\"color: #00af00; text-decoration-color: #00af00\">0</span>][<span style=\"color: #00af00; text-decoration-color: #00af00\">0</span>]     │\n",
       "├─────────────────────┼───────────────────┼────────────┼───────────────────┤\n",
       "│ reshape_1 (<span style=\"color: #0087ff; text-decoration-color: #0087ff\">Reshape</span>) │ (<span style=\"color: #00d7ff; text-decoration-color: #00d7ff\">None</span>, <span style=\"color: #00af00; text-decoration-color: #00af00\">1</span>, <span style=\"color: #00af00; text-decoration-color: #00af00\">36</span>, <span style=\"color: #00af00; text-decoration-color: #00af00\">28</span>, │          <span style=\"color: #00af00; text-decoration-color: #00af00\">0</span> │ concatenate[<span style=\"color: #00af00; text-decoration-color: #00af00\">0</span>][<span style=\"color: #00af00; text-decoration-color: #00af00\">0</span>] │\n",
       "│                     │ <span style=\"color: #00af00; text-decoration-color: #00af00\">3</span>)                │            │                   │\n",
       "├─────────────────────┼───────────────────┼────────────┼───────────────────┤\n",
       "│ lambda (<span style=\"color: #0087ff; text-decoration-color: #0087ff\">Lambda</span>)     │ (<span style=\"color: #00d7ff; text-decoration-color: #00d7ff\">None</span>, <span style=\"color: #00af00; text-decoration-color: #00af00\">12</span>, <span style=\"color: #00af00; text-decoration-color: #00af00\">36</span>,    │          <span style=\"color: #00af00; text-decoration-color: #00af00\">0</span> │ reshape_1[<span style=\"color: #00af00; text-decoration-color: #00af00\">0</span>][<span style=\"color: #00af00; text-decoration-color: #00af00\">0</span>]   │\n",
       "│                     │ <span style=\"color: #00af00; text-decoration-color: #00af00\">28</span>, <span style=\"color: #00af00; text-decoration-color: #00af00\">3</span>)            │            │                   │\n",
       "├─────────────────────┼───────────────────┼────────────┼───────────────────┤\n",
       "│ conv_lstm_2         │ (<span style=\"color: #00d7ff; text-decoration-color: #00d7ff\">None</span>, <span style=\"color: #00af00; text-decoration-color: #00af00\">12</span>, <span style=\"color: #00af00; text-decoration-color: #00af00\">36</span>,    │        <span style=\"color: #00af00; text-decoration-color: #00af00\">368</span> │ lambda[<span style=\"color: #00af00; text-decoration-color: #00af00\">0</span>][<span style=\"color: #00af00; text-decoration-color: #00af00\">0</span>]      │\n",
       "│ (<span style=\"color: #0087ff; text-decoration-color: #0087ff\">ConvLSTM2D</span>)        │ <span style=\"color: #00af00; text-decoration-color: #00af00\">28</span>, <span style=\"color: #00af00; text-decoration-color: #00af00\">2</span>)            │            │                   │\n",
       "├─────────────────────┼───────────────────┼────────────┼───────────────────┤\n",
       "│ time_distributed    │ (<span style=\"color: #00d7ff; text-decoration-color: #00d7ff\">None</span>, <span style=\"color: #00af00; text-decoration-color: #00af00\">12</span>, <span style=\"color: #00af00; text-decoration-color: #00af00\">36</span>,    │          <span style=\"color: #00af00; text-decoration-color: #00af00\">6</span> │ conv_lstm_2[<span style=\"color: #00af00; text-decoration-color: #00af00\">0</span>][<span style=\"color: #00af00; text-decoration-color: #00af00\">0</span>] │\n",
       "│ (<span style=\"color: #0087ff; text-decoration-color: #0087ff\">TimeDistributed</span>)   │ <span style=\"color: #00af00; text-decoration-color: #00af00\">28</span>, <span style=\"color: #00af00; text-decoration-color: #00af00\">2</span>)            │            │                   │\n",
       "└─────────────────────┴───────────────────┴────────────┴───────────────────┘\n",
       "</pre>\n"
      ],
      "text/plain": [
       "┏━━━━━━━━━━━━━━━━━━━━━┳━━━━━━━━━━━━━━━━━━━┳━━━━━━━━━━━━┳━━━━━━━━━━━━━━━━━━━┓\n",
       "┃\u001b[1m \u001b[0m\u001b[1mLayer (type)       \u001b[0m\u001b[1m \u001b[0m┃\u001b[1m \u001b[0m\u001b[1mOutput Shape     \u001b[0m\u001b[1m \u001b[0m┃\u001b[1m \u001b[0m\u001b[1m   Param #\u001b[0m\u001b[1m \u001b[0m┃\u001b[1m \u001b[0m\u001b[1mConnected to     \u001b[0m\u001b[1m \u001b[0m┃\n",
       "┡━━━━━━━━━━━━━━━━━━━━━╇━━━━━━━━━━━━━━━━━━━╇━━━━━━━━━━━━╇━━━━━━━━━━━━━━━━━━━┩\n",
       "│ input_ctry          │ (\u001b[38;5;45mNone\u001b[0m, \u001b[38;5;34m180\u001b[0m)       │          \u001b[38;5;34m0\u001b[0m │ -                 │\n",
       "│ (\u001b[38;5;33mInputLayer\u001b[0m)        │                   │            │                   │\n",
       "├─────────────────────┼───────────────────┼────────────┼───────────────────┤\n",
       "│ input_gts           │ (\u001b[38;5;45mNone\u001b[0m, \u001b[38;5;34m96\u001b[0m, \u001b[38;5;34m36\u001b[0m,    │          \u001b[38;5;34m0\u001b[0m │ -                 │\n",
       "│ (\u001b[38;5;33mInputLayer\u001b[0m)        │ \u001b[38;5;34m28\u001b[0m, \u001b[38;5;34m2\u001b[0m)            │            │                   │\n",
       "├─────────────────────┼───────────────────┼────────────┼───────────────────┤\n",
       "│ dense (\u001b[38;5;33mDense\u001b[0m)       │ (\u001b[38;5;45mNone\u001b[0m, \u001b[38;5;34m1008\u001b[0m)      │    \u001b[38;5;34m182,448\u001b[0m │ input_ctry[\u001b[38;5;34m0\u001b[0m][\u001b[38;5;34m0\u001b[0m]  │\n",
       "├─────────────────────┼───────────────────┼────────────┼───────────────────┤\n",
       "│ conv_lstm_1         │ (\u001b[38;5;45mNone\u001b[0m, \u001b[38;5;34m36\u001b[0m, \u001b[38;5;34m28\u001b[0m, \u001b[38;5;34m2\u001b[0m) │        \u001b[38;5;34m296\u001b[0m │ input_gts[\u001b[38;5;34m0\u001b[0m][\u001b[38;5;34m0\u001b[0m]   │\n",
       "│ (\u001b[38;5;33mConvLSTM2D\u001b[0m)        │                   │            │                   │\n",
       "├─────────────────────┼───────────────────┼────────────┼───────────────────┤\n",
       "│ reshape (\u001b[38;5;33mReshape\u001b[0m)   │ (\u001b[38;5;45mNone\u001b[0m, \u001b[38;5;34m36\u001b[0m, \u001b[38;5;34m28\u001b[0m, \u001b[38;5;34m1\u001b[0m) │          \u001b[38;5;34m0\u001b[0m │ dense[\u001b[38;5;34m0\u001b[0m][\u001b[38;5;34m0\u001b[0m]       │\n",
       "├─────────────────────┼───────────────────┼────────────┼───────────────────┤\n",
       "│ concatenate         │ (\u001b[38;5;45mNone\u001b[0m, \u001b[38;5;34m36\u001b[0m, \u001b[38;5;34m28\u001b[0m, \u001b[38;5;34m3\u001b[0m) │          \u001b[38;5;34m0\u001b[0m │ conv_lstm_1[\u001b[38;5;34m0\u001b[0m][\u001b[38;5;34m0\u001b[0m… │\n",
       "│ (\u001b[38;5;33mConcatenate\u001b[0m)       │                   │            │ reshape[\u001b[38;5;34m0\u001b[0m][\u001b[38;5;34m0\u001b[0m]     │\n",
       "├─────────────────────┼───────────────────┼────────────┼───────────────────┤\n",
       "│ reshape_1 (\u001b[38;5;33mReshape\u001b[0m) │ (\u001b[38;5;45mNone\u001b[0m, \u001b[38;5;34m1\u001b[0m, \u001b[38;5;34m36\u001b[0m, \u001b[38;5;34m28\u001b[0m, │          \u001b[38;5;34m0\u001b[0m │ concatenate[\u001b[38;5;34m0\u001b[0m][\u001b[38;5;34m0\u001b[0m] │\n",
       "│                     │ \u001b[38;5;34m3\u001b[0m)                │            │                   │\n",
       "├─────────────────────┼───────────────────┼────────────┼───────────────────┤\n",
       "│ lambda (\u001b[38;5;33mLambda\u001b[0m)     │ (\u001b[38;5;45mNone\u001b[0m, \u001b[38;5;34m12\u001b[0m, \u001b[38;5;34m36\u001b[0m,    │          \u001b[38;5;34m0\u001b[0m │ reshape_1[\u001b[38;5;34m0\u001b[0m][\u001b[38;5;34m0\u001b[0m]   │\n",
       "│                     │ \u001b[38;5;34m28\u001b[0m, \u001b[38;5;34m3\u001b[0m)            │            │                   │\n",
       "├─────────────────────┼───────────────────┼────────────┼───────────────────┤\n",
       "│ conv_lstm_2         │ (\u001b[38;5;45mNone\u001b[0m, \u001b[38;5;34m12\u001b[0m, \u001b[38;5;34m36\u001b[0m,    │        \u001b[38;5;34m368\u001b[0m │ lambda[\u001b[38;5;34m0\u001b[0m][\u001b[38;5;34m0\u001b[0m]      │\n",
       "│ (\u001b[38;5;33mConvLSTM2D\u001b[0m)        │ \u001b[38;5;34m28\u001b[0m, \u001b[38;5;34m2\u001b[0m)            │            │                   │\n",
       "├─────────────────────┼───────────────────┼────────────┼───────────────────┤\n",
       "│ time_distributed    │ (\u001b[38;5;45mNone\u001b[0m, \u001b[38;5;34m12\u001b[0m, \u001b[38;5;34m36\u001b[0m,    │          \u001b[38;5;34m6\u001b[0m │ conv_lstm_2[\u001b[38;5;34m0\u001b[0m][\u001b[38;5;34m0\u001b[0m] │\n",
       "│ (\u001b[38;5;33mTimeDistributed\u001b[0m)   │ \u001b[38;5;34m28\u001b[0m, \u001b[38;5;34m2\u001b[0m)            │            │                   │\n",
       "└─────────────────────┴───────────────────┴────────────┴───────────────────┘\n"
      ]
     },
     "metadata": {},
     "output_type": "display_data"
    },
    {
     "data": {
      "text/html": [
       "<pre style=\"white-space:pre;overflow-x:auto;line-height:normal;font-family:Menlo,'DejaVu Sans Mono',consolas,'Courier New',monospace\"><span style=\"font-weight: bold\"> Total params: </span><span style=\"color: #00af00; text-decoration-color: #00af00\">183,118</span> (715.30 KB)\n",
       "</pre>\n"
      ],
      "text/plain": [
       "\u001b[1m Total params: \u001b[0m\u001b[38;5;34m183,118\u001b[0m (715.30 KB)\n"
      ]
     },
     "metadata": {},
     "output_type": "display_data"
    },
    {
     "data": {
      "text/html": [
       "<pre style=\"white-space:pre;overflow-x:auto;line-height:normal;font-family:Menlo,'DejaVu Sans Mono',consolas,'Courier New',monospace\"><span style=\"font-weight: bold\"> Trainable params: </span><span style=\"color: #00af00; text-decoration-color: #00af00\">183,118</span> (715.30 KB)\n",
       "</pre>\n"
      ],
      "text/plain": [
       "\u001b[1m Trainable params: \u001b[0m\u001b[38;5;34m183,118\u001b[0m (715.30 KB)\n"
      ]
     },
     "metadata": {},
     "output_type": "display_data"
    },
    {
     "data": {
      "text/html": [
       "<pre style=\"white-space:pre;overflow-x:auto;line-height:normal;font-family:Menlo,'DejaVu Sans Mono',consolas,'Courier New',monospace\"><span style=\"font-weight: bold\"> Non-trainable params: </span><span style=\"color: #00af00; text-decoration-color: #00af00\">0</span> (0.00 B)\n",
       "</pre>\n"
      ],
      "text/plain": [
       "\u001b[1m Non-trainable params: \u001b[0m\u001b[38;5;34m0\u001b[0m (0.00 B)\n"
      ]
     },
     "metadata": {},
     "output_type": "display_data"
    }
   ],
   "source": [
    "mi_inp_gts = Input(shape=(n_times_for_lstm, n_lats, n_lons, n_channels_conv_lstm, ), name=f'input_gts')\n",
    "mi_inp_ctry = Input(shape=(vars_ctry_lvl, ), name=f'input_ctry')\n",
    "\n",
    "mi_lstm = ConvLSTM2D(filters=n_filters,\n",
    "                     kernel_size=(kernel_size, kernel_size),\n",
    "                     padding='same',\n",
    "                     data_format = 'channels_last',\n",
    "                     return_sequences=False,\n",
    "                     recurrent_dropout=recurrent_dropout,\n",
    "                     dropout=dropout,\n",
    "                     name='conv_lstm_1')(mi_inp_gts)\n",
    "\n",
    "mi_dense_ctry = Dense(36*28, activation='relu')(mi_inp_ctry)\n",
    "mi_dense_ctry = Reshape((36, 28, 1))(mi_dense_ctry)\n",
    "\n",
    "mi_encoded = Concatenate(axis=-1)([mi_lstm, mi_dense_ctry])\n",
    "mi_encoded = Reshape((1, n_lats, n_lons, 3))(mi_encoded)\n",
    "mi_encoded = Lambda(repeat_latent)(mi_encoded)\n",
    "\n",
    "mi_decoder = ConvLSTM2D(filters=n_filters,\n",
    "                        kernel_size=(kernel_size, kernel_size),\n",
    "                        padding='same',\n",
    "                        data_format = 'channels_last',\n",
    "                        return_sequences=True,\n",
    "                        recurrent_dropout=recurrent_dropout,\n",
    "                        dropout=dropout,\n",
    "                        name='conv_lstm_2')(mi_encoded)\n",
    "output = TimeDistributed(Conv2D(2, (1, 1), activation='softmax'))(mi_decoder)\n",
    "# Model\n",
    "mi_simple_model = Model(inputs=[mi_inp_gts, mi_inp_ctry], outputs=output)\n",
    "mi_simple_model.compile(optimizer='adam', loss='categorical_crossentropy', metrics=['accuracy'])\n",
    "mi_simple_model.summary()\n"
   ]
  },
  {
   "cell_type": "code",
   "execution_count": null,
   "id": "c303b6f0",
   "metadata": {},
   "outputs": [
    {
     "name": "stdout",
     "output_type": "stream",
     "text": [
      "Epoch 1/20\n",
      "\u001b[1m8/8\u001b[0m \u001b[32m━━━━━━━━━━━━━━━━━━━━\u001b[0m\u001b[37m\u001b[0m \u001b[1m18s\u001b[0m 1s/step - accuracy: 0.7760 - loss: 0.6810 - val_accuracy: 0.8446 - val_loss: 0.6561\n",
      "Epoch 2/20\n",
      "\u001b[1m8/8\u001b[0m \u001b[32m━━━━━━━━━━━━━━━━━━━━\u001b[0m\u001b[37m\u001b[0m \u001b[1m8s\u001b[0m 996ms/step - accuracy: 0.7927 - loss: 0.6674 - val_accuracy: 0.8467 - val_loss: 0.6452\n",
      "Epoch 3/20\n",
      "\u001b[1m8/8\u001b[0m \u001b[32m━━━━━━━━━━━━━━━━━━━━\u001b[0m\u001b[37m\u001b[0m \u001b[1m8s\u001b[0m 955ms/step - accuracy: 0.8014 - loss: 0.6565 - val_accuracy: 0.8613 - val_loss: 0.6347\n",
      "Epoch 4/20\n",
      "\u001b[1m8/8\u001b[0m \u001b[32m━━━━━━━━━━━━━━━━━━━━\u001b[0m\u001b[37m\u001b[0m \u001b[1m8s\u001b[0m 931ms/step - accuracy: 0.8130 - loss: 0.6469 - val_accuracy: 0.8645 - val_loss: 0.6260\n",
      "Epoch 5/20\n",
      "\u001b[1m8/8\u001b[0m \u001b[32m━━━━━━━━━━━━━━━━━━━━\u001b[0m\u001b[37m\u001b[0m \u001b[1m8s\u001b[0m 943ms/step - accuracy: 0.8197 - loss: 0.6381 - val_accuracy: 0.8744 - val_loss: 0.6180\n",
      "Epoch 6/20\n",
      "\u001b[1m8/8\u001b[0m \u001b[32m━━━━━━━━━━━━━━━━━━━━\u001b[0m\u001b[37m\u001b[0m \u001b[1m8s\u001b[0m 956ms/step - accuracy: 0.8292 - loss: 0.6295 - val_accuracy: 0.8797 - val_loss: 0.6109\n",
      "Epoch 7/20\n",
      "\u001b[1m8/8\u001b[0m \u001b[32m━━━━━━━━━━━━━━━━━━━━\u001b[0m\u001b[37m\u001b[0m \u001b[1m8s\u001b[0m 942ms/step - accuracy: 0.8354 - loss: 0.6213 - val_accuracy: 0.8875 - val_loss: 0.6028\n",
      "Epoch 8/20\n",
      "\u001b[1m8/8\u001b[0m \u001b[32m━━━━━━━━━━━━━━━━━━━━\u001b[0m\u001b[37m\u001b[0m \u001b[1m8s\u001b[0m 964ms/step - accuracy: 0.8399 - loss: 0.6138 - val_accuracy: 0.9065 - val_loss: 0.5946\n",
      "Epoch 9/20\n",
      "\u001b[1m8/8\u001b[0m \u001b[32m━━━━━━━━━━━━━━━━━━━━\u001b[0m\u001b[37m\u001b[0m \u001b[1m8s\u001b[0m 944ms/step - accuracy: 0.8779 - loss: 0.6048 - val_accuracy: 0.9033 - val_loss: 0.5866\n",
      "Epoch 10/20\n",
      "\u001b[1m8/8\u001b[0m \u001b[32m━━━━━━━━━━━━━━━━━━━━\u001b[0m\u001b[37m\u001b[0m \u001b[1m8s\u001b[0m 950ms/step - accuracy: 0.8803 - loss: 0.5954 - val_accuracy: 0.9042 - val_loss: 0.5777\n",
      "Epoch 11/20\n",
      "\u001b[1m8/8\u001b[0m \u001b[32m━━━━━━━━━━━━━━━━━━━━\u001b[0m\u001b[37m\u001b[0m \u001b[1m8s\u001b[0m 931ms/step - accuracy: 0.8815 - loss: 0.5873 - val_accuracy: 0.9047 - val_loss: 0.5679\n",
      "Epoch 12/20\n",
      "\u001b[1m8/8\u001b[0m \u001b[32m━━━━━━━━━━━━━━━━━━━━\u001b[0m\u001b[37m\u001b[0m \u001b[1m8s\u001b[0m 937ms/step - accuracy: 0.8829 - loss: 0.5780 - val_accuracy: 0.9059 - val_loss: 0.5591\n",
      "Epoch 13/20\n",
      "\u001b[1m8/8\u001b[0m \u001b[32m━━━━━━━━━━━━━━━━━━━━\u001b[0m\u001b[37m\u001b[0m \u001b[1m8s\u001b[0m 936ms/step - accuracy: 0.8823 - loss: 0.5694 - val_accuracy: 0.9065 - val_loss: 0.5508\n",
      "Epoch 14/20\n",
      "\u001b[1m8/8\u001b[0m \u001b[32m━━━━━━━━━━━━━━━━━━━━\u001b[0m\u001b[37m\u001b[0m \u001b[1m8s\u001b[0m 939ms/step - accuracy: 0.8820 - loss: 0.5607 - val_accuracy: 0.9062 - val_loss: 0.5417\n",
      "Epoch 15/20\n",
      "\u001b[1m8/8\u001b[0m \u001b[32m━━━━━━━━━━━━━━━━━━━━\u001b[0m\u001b[37m\u001b[0m \u001b[1m8s\u001b[0m 947ms/step - accuracy: 0.8826 - loss: 0.5522 - val_accuracy: 0.9061 - val_loss: 0.5333\n",
      "Epoch 16/20\n",
      "\u001b[1m8/8\u001b[0m \u001b[32m━━━━━━━━━━━━━━━━━━━━\u001b[0m\u001b[37m\u001b[0m \u001b[1m8s\u001b[0m 928ms/step - accuracy: 0.8839 - loss: 0.5427 - val_accuracy: 0.9024 - val_loss: 0.5235\n",
      "Epoch 17/20\n",
      "\u001b[1m8/8\u001b[0m \u001b[32m━━━━━━━━━━━━━━━━━━━━\u001b[0m\u001b[37m\u001b[0m \u001b[1m8s\u001b[0m 938ms/step - accuracy: 0.8832 - loss: 0.5341 - val_accuracy: 0.9035 - val_loss: 0.5162\n",
      "Epoch 18/20\n",
      "\u001b[1m8/8\u001b[0m \u001b[32m━━━━━━━━━━━━━━━━━━━━\u001b[0m\u001b[37m\u001b[0m \u001b[1m8s\u001b[0m 958ms/step - accuracy: 0.8840 - loss: 0.5259 - val_accuracy: 0.9080 - val_loss: 0.5055\n",
      "Epoch 19/20\n",
      "\u001b[1m8/8\u001b[0m \u001b[32m━━━━━━━━━━━━━━━━━━━━\u001b[0m\u001b[37m\u001b[0m \u001b[1m8s\u001b[0m 938ms/step - accuracy: 0.8843 - loss: 0.5183 - val_accuracy: 0.9132 - val_loss: 0.4959\n",
      "Epoch 20/20\n",
      "\u001b[1m8/8\u001b[0m \u001b[32m━━━━━━━━━━━━━━━━━━━━\u001b[0m\u001b[37m\u001b[0m \u001b[1m8s\u001b[0m 939ms/step - accuracy: 0.8867 - loss: 0.5111 - val_accuracy: 0.9176 - val_loss: 0.4891\n"
     ]
    }
   ],
   "source": [
    "mi_simple_model.compile(optimizer='adam',         # el optimizador sirve para encontrar los pesos que minimizan la función de pérdida\n",
    "                                            # adam: stochastic gradient descent adaptativo\n",
    "                                            # https://www.tensorflow.org/api_docs/python/tf/keras/optimizers\n",
    "                  loss=\"categorical_crossentropy\", # función que evalua que tan bien el algoritmo modela el conjunto de datos\n",
    "                                                   # https://www.tensorflow.org/api_docs/python/tf/keras/losses\n",
    "                  metrics=['accuracy'])\n",
    "\n",
    "mi_simple_model_history = mi_simple_model.fit(x = [la_lista_de_arrays_train[0], X_ctry_lvl_train],\n",
    "                         y = Y_train_f,\n",
    "                        validation_split=0.2,\n",
    "                        batch_size=128,\n",
    "                        epochs=20,   # número de iteraciones sobre los datos\n",
    "                        verbose=1)"
   ]
  },
  {
   "cell_type": "code",
   "execution_count": 19,
   "id": "d4a2780d",
   "metadata": {},
   "outputs": [],
   "source": [
    "mi_simple_model.save_weights(el_path_main/'4. Analisis/mi_simple_model.weights.h5')\n",
    "# Epch20: 2/2 ━━━━━━━━━━━━━━━━━━━━ 2s 488ms/step - accuracy: 0.7543 - loss: 0.6607 - val_accuracy: 0.7655 - val_loss: 0.6424\n"
   ]
  },
  {
   "cell_type": "markdown",
   "id": "0c4bd3e6",
   "metadata": {},
   "source": [
    "# Conv-LSTM"
   ]
  },
  {
   "cell_type": "code",
   "execution_count": 14,
   "id": "c6cb1e87",
   "metadata": {},
   "outputs": [],
   "source": [
    "n_vars_from_gts = X_gts_train.shape[1] # N of variables from GTS\n",
    "n_times_for_lstm = X_gts_train.shape[2] # N of time steps usted for LSTM\n",
    "n_lats = X_gts_train.shape[3] # N of latitudes\n",
    "n_lons = X_gts_train.shape[4] # N of longitudes\n",
    "vars_ctry_lvl = X_ctry_lvl_train.shape[1] # N of variables from country level data\n",
    "n_codmes_fcast = Y_train.shape[1] # N of codmes for forecast\n",
    "\n",
    "# Set of parameters that will be tunned\n",
    "recurrent_dropout = 0.2\n",
    "dropout = 0.2   \n",
    "n_filters = 2\n",
    "kernel_size = 3\n",
    "include_miss_layer = True\n",
    "dims_nn_ctry_lvl_tmp = [16] # La longitud de esta lista indica la cantidad de capas -1 (colcoar lista vacía para que sea de tamaño 1), los valores dentro indican el tamaño de la capa\n",
    "\n",
    "# Set of parameters that are based on the previous ones\n",
    "n_channels_conv_lstm = 2 if include_miss_layer else 1\n",
    "dims_nn_ctry_lvl = dims_nn_ctry_lvl_tmp+[n_lats*n_lons*n_channels_conv_lstm] # La longitud de esta lista indica la cantidad de capas, los valores dentro indican el tamaño de la capa"
   ]
  },
  {
   "cell_type": "code",
   "execution_count": 15,
   "id": "9d3b0c06",
   "metadata": {},
   "outputs": [],
   "source": [
    "def repeat_latent(x):\n",
    "    return tf.repeat(x, repeats=n_codmes_fcast, axis=1)  # Repeat along time axis"
   ]
  },
  {
   "cell_type": "code",
   "execution_count": 16,
   "id": "24338db5",
   "metadata": {},
   "outputs": [
    {
     "name": "stdout",
     "output_type": "stream",
     "text": [
      "WARNING:tensorflow:From e:\\backup Asus G15 27_10_2021\\Colegio de Mates Bourbaki\\DLA2501 - Deep Learning Avanzado\\.venv\\Lib\\site-packages\\keras\\src\\backend\\tensorflow\\core.py:219: The name tf.placeholder is deprecated. Please use tf.compat.v1.placeholder instead.\n",
      "\n"
     ]
    },
    {
     "data": {
      "text/html": [
       "<pre style=\"white-space:pre;overflow-x:auto;line-height:normal;font-family:Menlo,'DejaVu Sans Mono',consolas,'Courier New',monospace\"><span style=\"font-weight: bold\">Model: \"functional\"</span>\n",
       "</pre>\n"
      ],
      "text/plain": [
       "\u001b[1mModel: \"functional\"\u001b[0m\n"
      ]
     },
     "metadata": {},
     "output_type": "display_data"
    },
    {
     "data": {
      "text/html": [
       "<pre style=\"white-space:pre;overflow-x:auto;line-height:normal;font-family:Menlo,'DejaVu Sans Mono',consolas,'Courier New',monospace\">┏━━━━━━━━━━━━━━━━━━━━━┳━━━━━━━━━━━━━━━━━━━┳━━━━━━━━━━━━┳━━━━━━━━━━━━━━━━━━━┓\n",
       "┃<span style=\"font-weight: bold\"> Layer (type)        </span>┃<span style=\"font-weight: bold\"> Output Shape      </span>┃<span style=\"font-weight: bold\">    Param # </span>┃<span style=\"font-weight: bold\"> Connected to      </span>┃\n",
       "┡━━━━━━━━━━━━━━━━━━━━━╇━━━━━━━━━━━━━━━━━━━╇━━━━━━━━━━━━╇━━━━━━━━━━━━━━━━━━━┩\n",
       "│ input_ctry_lvl      │ (<span style=\"color: #00d7ff; text-decoration-color: #00d7ff\">None</span>, <span style=\"color: #00af00; text-decoration-color: #00af00\">180</span>)       │          <span style=\"color: #00af00; text-decoration-color: #00af00\">0</span> │ -                 │\n",
       "│ (<span style=\"color: #0087ff; text-decoration-color: #0087ff\">InputLayer</span>)        │                   │            │                   │\n",
       "├─────────────────────┼───────────────────┼────────────┼───────────────────┤\n",
       "│ dense (<span style=\"color: #0087ff; text-decoration-color: #0087ff\">Dense</span>)       │ (<span style=\"color: #00d7ff; text-decoration-color: #00d7ff\">None</span>, <span style=\"color: #00af00; text-decoration-color: #00af00\">16</span>)        │      <span style=\"color: #00af00; text-decoration-color: #00af00\">2,896</span> │ input_ctry_lvl[<span style=\"color: #00af00; text-decoration-color: #00af00\">0</span>… │\n",
       "├─────────────────────┼───────────────────┼────────────┼───────────────────┤\n",
       "│ input_gts_0         │ (<span style=\"color: #00d7ff; text-decoration-color: #00d7ff\">None</span>, <span style=\"color: #00af00; text-decoration-color: #00af00\">96</span>, <span style=\"color: #00af00; text-decoration-color: #00af00\">36</span>,    │          <span style=\"color: #00af00; text-decoration-color: #00af00\">0</span> │ -                 │\n",
       "│ (<span style=\"color: #0087ff; text-decoration-color: #0087ff\">InputLayer</span>)        │ <span style=\"color: #00af00; text-decoration-color: #00af00\">28</span>, <span style=\"color: #00af00; text-decoration-color: #00af00\">2</span>)            │            │                   │\n",
       "├─────────────────────┼───────────────────┼────────────┼───────────────────┤\n",
       "│ input_gts_1         │ (<span style=\"color: #00d7ff; text-decoration-color: #00d7ff\">None</span>, <span style=\"color: #00af00; text-decoration-color: #00af00\">96</span>, <span style=\"color: #00af00; text-decoration-color: #00af00\">36</span>,    │          <span style=\"color: #00af00; text-decoration-color: #00af00\">0</span> │ -                 │\n",
       "│ (<span style=\"color: #0087ff; text-decoration-color: #0087ff\">InputLayer</span>)        │ <span style=\"color: #00af00; text-decoration-color: #00af00\">28</span>, <span style=\"color: #00af00; text-decoration-color: #00af00\">2</span>)            │            │                   │\n",
       "├─────────────────────┼───────────────────┼────────────┼───────────────────┤\n",
       "│ input_gts_2         │ (<span style=\"color: #00d7ff; text-decoration-color: #00d7ff\">None</span>, <span style=\"color: #00af00; text-decoration-color: #00af00\">96</span>, <span style=\"color: #00af00; text-decoration-color: #00af00\">36</span>,    │          <span style=\"color: #00af00; text-decoration-color: #00af00\">0</span> │ -                 │\n",
       "│ (<span style=\"color: #0087ff; text-decoration-color: #0087ff\">InputLayer</span>)        │ <span style=\"color: #00af00; text-decoration-color: #00af00\">28</span>, <span style=\"color: #00af00; text-decoration-color: #00af00\">2</span>)            │            │                   │\n",
       "├─────────────────────┼───────────────────┼────────────┼───────────────────┤\n",
       "│ input_gts_3         │ (<span style=\"color: #00d7ff; text-decoration-color: #00d7ff\">None</span>, <span style=\"color: #00af00; text-decoration-color: #00af00\">96</span>, <span style=\"color: #00af00; text-decoration-color: #00af00\">36</span>,    │          <span style=\"color: #00af00; text-decoration-color: #00af00\">0</span> │ -                 │\n",
       "│ (<span style=\"color: #0087ff; text-decoration-color: #0087ff\">InputLayer</span>)        │ <span style=\"color: #00af00; text-decoration-color: #00af00\">28</span>, <span style=\"color: #00af00; text-decoration-color: #00af00\">2</span>)            │            │                   │\n",
       "├─────────────────────┼───────────────────┼────────────┼───────────────────┤\n",
       "│ input_gts_4         │ (<span style=\"color: #00d7ff; text-decoration-color: #00d7ff\">None</span>, <span style=\"color: #00af00; text-decoration-color: #00af00\">96</span>, <span style=\"color: #00af00; text-decoration-color: #00af00\">36</span>,    │          <span style=\"color: #00af00; text-decoration-color: #00af00\">0</span> │ -                 │\n",
       "│ (<span style=\"color: #0087ff; text-decoration-color: #0087ff\">InputLayer</span>)        │ <span style=\"color: #00af00; text-decoration-color: #00af00\">28</span>, <span style=\"color: #00af00; text-decoration-color: #00af00\">2</span>)            │            │                   │\n",
       "├─────────────────────┼───────────────────┼────────────┼───────────────────┤\n",
       "│ input_gts_5         │ (<span style=\"color: #00d7ff; text-decoration-color: #00d7ff\">None</span>, <span style=\"color: #00af00; text-decoration-color: #00af00\">96</span>, <span style=\"color: #00af00; text-decoration-color: #00af00\">36</span>,    │          <span style=\"color: #00af00; text-decoration-color: #00af00\">0</span> │ -                 │\n",
       "│ (<span style=\"color: #0087ff; text-decoration-color: #0087ff\">InputLayer</span>)        │ <span style=\"color: #00af00; text-decoration-color: #00af00\">28</span>, <span style=\"color: #00af00; text-decoration-color: #00af00\">2</span>)            │            │                   │\n",
       "├─────────────────────┼───────────────────┼────────────┼───────────────────┤\n",
       "│ input_gts_6         │ (<span style=\"color: #00d7ff; text-decoration-color: #00d7ff\">None</span>, <span style=\"color: #00af00; text-decoration-color: #00af00\">96</span>, <span style=\"color: #00af00; text-decoration-color: #00af00\">36</span>,    │          <span style=\"color: #00af00; text-decoration-color: #00af00\">0</span> │ -                 │\n",
       "│ (<span style=\"color: #0087ff; text-decoration-color: #0087ff\">InputLayer</span>)        │ <span style=\"color: #00af00; text-decoration-color: #00af00\">28</span>, <span style=\"color: #00af00; text-decoration-color: #00af00\">2</span>)            │            │                   │\n",
       "├─────────────────────┼───────────────────┼────────────┼───────────────────┤\n",
       "│ input_gts_7         │ (<span style=\"color: #00d7ff; text-decoration-color: #00d7ff\">None</span>, <span style=\"color: #00af00; text-decoration-color: #00af00\">96</span>, <span style=\"color: #00af00; text-decoration-color: #00af00\">36</span>,    │          <span style=\"color: #00af00; text-decoration-color: #00af00\">0</span> │ -                 │\n",
       "│ (<span style=\"color: #0087ff; text-decoration-color: #0087ff\">InputLayer</span>)        │ <span style=\"color: #00af00; text-decoration-color: #00af00\">28</span>, <span style=\"color: #00af00; text-decoration-color: #00af00\">2</span>)            │            │                   │\n",
       "├─────────────────────┼───────────────────┼────────────┼───────────────────┤\n",
       "│ input_gts_8         │ (<span style=\"color: #00d7ff; text-decoration-color: #00d7ff\">None</span>, <span style=\"color: #00af00; text-decoration-color: #00af00\">96</span>, <span style=\"color: #00af00; text-decoration-color: #00af00\">36</span>,    │          <span style=\"color: #00af00; text-decoration-color: #00af00\">0</span> │ -                 │\n",
       "│ (<span style=\"color: #0087ff; text-decoration-color: #0087ff\">InputLayer</span>)        │ <span style=\"color: #00af00; text-decoration-color: #00af00\">28</span>, <span style=\"color: #00af00; text-decoration-color: #00af00\">2</span>)            │            │                   │\n",
       "├─────────────────────┼───────────────────┼────────────┼───────────────────┤\n",
       "│ input_gts_9         │ (<span style=\"color: #00d7ff; text-decoration-color: #00d7ff\">None</span>, <span style=\"color: #00af00; text-decoration-color: #00af00\">96</span>, <span style=\"color: #00af00; text-decoration-color: #00af00\">36</span>,    │          <span style=\"color: #00af00; text-decoration-color: #00af00\">0</span> │ -                 │\n",
       "│ (<span style=\"color: #0087ff; text-decoration-color: #0087ff\">InputLayer</span>)        │ <span style=\"color: #00af00; text-decoration-color: #00af00\">28</span>, <span style=\"color: #00af00; text-decoration-color: #00af00\">2</span>)            │            │                   │\n",
       "├─────────────────────┼───────────────────┼────────────┼───────────────────┤\n",
       "│ dense_1 (<span style=\"color: #0087ff; text-decoration-color: #0087ff\">Dense</span>)     │ (<span style=\"color: #00d7ff; text-decoration-color: #00d7ff\">None</span>, <span style=\"color: #00af00; text-decoration-color: #00af00\">2016</span>)      │     <span style=\"color: #00af00; text-decoration-color: #00af00\">34,272</span> │ dense[<span style=\"color: #00af00; text-decoration-color: #00af00\">0</span>][<span style=\"color: #00af00; text-decoration-color: #00af00\">0</span>]       │\n",
       "├─────────────────────┼───────────────────┼────────────┼───────────────────┤\n",
       "│ conv_lstm2d         │ (<span style=\"color: #00d7ff; text-decoration-color: #00d7ff\">None</span>, <span style=\"color: #00af00; text-decoration-color: #00af00\">36</span>, <span style=\"color: #00af00; text-decoration-color: #00af00\">28</span>, <span style=\"color: #00af00; text-decoration-color: #00af00\">2</span>) │        <span style=\"color: #00af00; text-decoration-color: #00af00\">296</span> │ input_gts_0[<span style=\"color: #00af00; text-decoration-color: #00af00\">0</span>][<span style=\"color: #00af00; text-decoration-color: #00af00\">0</span>] │\n",
       "│ (<span style=\"color: #0087ff; text-decoration-color: #0087ff\">ConvLSTM2D</span>)        │                   │            │                   │\n",
       "├─────────────────────┼───────────────────┼────────────┼───────────────────┤\n",
       "│ conv_lstm2d_1       │ (<span style=\"color: #00d7ff; text-decoration-color: #00d7ff\">None</span>, <span style=\"color: #00af00; text-decoration-color: #00af00\">36</span>, <span style=\"color: #00af00; text-decoration-color: #00af00\">28</span>, <span style=\"color: #00af00; text-decoration-color: #00af00\">2</span>) │        <span style=\"color: #00af00; text-decoration-color: #00af00\">296</span> │ input_gts_1[<span style=\"color: #00af00; text-decoration-color: #00af00\">0</span>][<span style=\"color: #00af00; text-decoration-color: #00af00\">0</span>] │\n",
       "│ (<span style=\"color: #0087ff; text-decoration-color: #0087ff\">ConvLSTM2D</span>)        │                   │            │                   │\n",
       "├─────────────────────┼───────────────────┼────────────┼───────────────────┤\n",
       "│ conv_lstm2d_2       │ (<span style=\"color: #00d7ff; text-decoration-color: #00d7ff\">None</span>, <span style=\"color: #00af00; text-decoration-color: #00af00\">36</span>, <span style=\"color: #00af00; text-decoration-color: #00af00\">28</span>, <span style=\"color: #00af00; text-decoration-color: #00af00\">2</span>) │        <span style=\"color: #00af00; text-decoration-color: #00af00\">296</span> │ input_gts_2[<span style=\"color: #00af00; text-decoration-color: #00af00\">0</span>][<span style=\"color: #00af00; text-decoration-color: #00af00\">0</span>] │\n",
       "│ (<span style=\"color: #0087ff; text-decoration-color: #0087ff\">ConvLSTM2D</span>)        │                   │            │                   │\n",
       "├─────────────────────┼───────────────────┼────────────┼───────────────────┤\n",
       "│ conv_lstm2d_3       │ (<span style=\"color: #00d7ff; text-decoration-color: #00d7ff\">None</span>, <span style=\"color: #00af00; text-decoration-color: #00af00\">36</span>, <span style=\"color: #00af00; text-decoration-color: #00af00\">28</span>, <span style=\"color: #00af00; text-decoration-color: #00af00\">2</span>) │        <span style=\"color: #00af00; text-decoration-color: #00af00\">296</span> │ input_gts_3[<span style=\"color: #00af00; text-decoration-color: #00af00\">0</span>][<span style=\"color: #00af00; text-decoration-color: #00af00\">0</span>] │\n",
       "│ (<span style=\"color: #0087ff; text-decoration-color: #0087ff\">ConvLSTM2D</span>)        │                   │            │                   │\n",
       "├─────────────────────┼───────────────────┼────────────┼───────────────────┤\n",
       "│ conv_lstm2d_4       │ (<span style=\"color: #00d7ff; text-decoration-color: #00d7ff\">None</span>, <span style=\"color: #00af00; text-decoration-color: #00af00\">36</span>, <span style=\"color: #00af00; text-decoration-color: #00af00\">28</span>, <span style=\"color: #00af00; text-decoration-color: #00af00\">2</span>) │        <span style=\"color: #00af00; text-decoration-color: #00af00\">296</span> │ input_gts_4[<span style=\"color: #00af00; text-decoration-color: #00af00\">0</span>][<span style=\"color: #00af00; text-decoration-color: #00af00\">0</span>] │\n",
       "│ (<span style=\"color: #0087ff; text-decoration-color: #0087ff\">ConvLSTM2D</span>)        │                   │            │                   │\n",
       "├─────────────────────┼───────────────────┼────────────┼───────────────────┤\n",
       "│ conv_lstm2d_5       │ (<span style=\"color: #00d7ff; text-decoration-color: #00d7ff\">None</span>, <span style=\"color: #00af00; text-decoration-color: #00af00\">36</span>, <span style=\"color: #00af00; text-decoration-color: #00af00\">28</span>, <span style=\"color: #00af00; text-decoration-color: #00af00\">2</span>) │        <span style=\"color: #00af00; text-decoration-color: #00af00\">296</span> │ input_gts_5[<span style=\"color: #00af00; text-decoration-color: #00af00\">0</span>][<span style=\"color: #00af00; text-decoration-color: #00af00\">0</span>] │\n",
       "│ (<span style=\"color: #0087ff; text-decoration-color: #0087ff\">ConvLSTM2D</span>)        │                   │            │                   │\n",
       "├─────────────────────┼───────────────────┼────────────┼───────────────────┤\n",
       "│ conv_lstm2d_6       │ (<span style=\"color: #00d7ff; text-decoration-color: #00d7ff\">None</span>, <span style=\"color: #00af00; text-decoration-color: #00af00\">36</span>, <span style=\"color: #00af00; text-decoration-color: #00af00\">28</span>, <span style=\"color: #00af00; text-decoration-color: #00af00\">2</span>) │        <span style=\"color: #00af00; text-decoration-color: #00af00\">296</span> │ input_gts_6[<span style=\"color: #00af00; text-decoration-color: #00af00\">0</span>][<span style=\"color: #00af00; text-decoration-color: #00af00\">0</span>] │\n",
       "│ (<span style=\"color: #0087ff; text-decoration-color: #0087ff\">ConvLSTM2D</span>)        │                   │            │                   │\n",
       "├─────────────────────┼───────────────────┼────────────┼───────────────────┤\n",
       "│ conv_lstm2d_7       │ (<span style=\"color: #00d7ff; text-decoration-color: #00d7ff\">None</span>, <span style=\"color: #00af00; text-decoration-color: #00af00\">36</span>, <span style=\"color: #00af00; text-decoration-color: #00af00\">28</span>, <span style=\"color: #00af00; text-decoration-color: #00af00\">2</span>) │        <span style=\"color: #00af00; text-decoration-color: #00af00\">296</span> │ input_gts_7[<span style=\"color: #00af00; text-decoration-color: #00af00\">0</span>][<span style=\"color: #00af00; text-decoration-color: #00af00\">0</span>] │\n",
       "│ (<span style=\"color: #0087ff; text-decoration-color: #0087ff\">ConvLSTM2D</span>)        │                   │            │                   │\n",
       "├─────────────────────┼───────────────────┼────────────┼───────────────────┤\n",
       "│ conv_lstm2d_8       │ (<span style=\"color: #00d7ff; text-decoration-color: #00d7ff\">None</span>, <span style=\"color: #00af00; text-decoration-color: #00af00\">36</span>, <span style=\"color: #00af00; text-decoration-color: #00af00\">28</span>, <span style=\"color: #00af00; text-decoration-color: #00af00\">2</span>) │        <span style=\"color: #00af00; text-decoration-color: #00af00\">296</span> │ input_gts_8[<span style=\"color: #00af00; text-decoration-color: #00af00\">0</span>][<span style=\"color: #00af00; text-decoration-color: #00af00\">0</span>] │\n",
       "│ (<span style=\"color: #0087ff; text-decoration-color: #0087ff\">ConvLSTM2D</span>)        │                   │            │                   │\n",
       "├─────────────────────┼───────────────────┼────────────┼───────────────────┤\n",
       "│ conv_lstm2d_9       │ (<span style=\"color: #00d7ff; text-decoration-color: #00d7ff\">None</span>, <span style=\"color: #00af00; text-decoration-color: #00af00\">36</span>, <span style=\"color: #00af00; text-decoration-color: #00af00\">28</span>, <span style=\"color: #00af00; text-decoration-color: #00af00\">2</span>) │        <span style=\"color: #00af00; text-decoration-color: #00af00\">296</span> │ input_gts_9[<span style=\"color: #00af00; text-decoration-color: #00af00\">0</span>][<span style=\"color: #00af00; text-decoration-color: #00af00\">0</span>] │\n",
       "│ (<span style=\"color: #0087ff; text-decoration-color: #0087ff\">ConvLSTM2D</span>)        │                   │            │                   │\n",
       "├─────────────────────┼───────────────────┼────────────┼───────────────────┤\n",
       "│ reshape (<span style=\"color: #0087ff; text-decoration-color: #0087ff\">Reshape</span>)   │ (<span style=\"color: #00d7ff; text-decoration-color: #00d7ff\">None</span>, <span style=\"color: #00af00; text-decoration-color: #00af00\">36</span>, <span style=\"color: #00af00; text-decoration-color: #00af00\">28</span>, <span style=\"color: #00af00; text-decoration-color: #00af00\">2</span>) │          <span style=\"color: #00af00; text-decoration-color: #00af00\">0</span> │ dense_1[<span style=\"color: #00af00; text-decoration-color: #00af00\">0</span>][<span style=\"color: #00af00; text-decoration-color: #00af00\">0</span>]     │\n",
       "├─────────────────────┼───────────────────┼────────────┼───────────────────┤\n",
       "│ concatenate         │ (<span style=\"color: #00d7ff; text-decoration-color: #00d7ff\">None</span>, <span style=\"color: #00af00; text-decoration-color: #00af00\">36</span>, <span style=\"color: #00af00; text-decoration-color: #00af00\">28</span>,    │          <span style=\"color: #00af00; text-decoration-color: #00af00\">0</span> │ conv_lstm2d[<span style=\"color: #00af00; text-decoration-color: #00af00\">0</span>][<span style=\"color: #00af00; text-decoration-color: #00af00\">0</span>… │\n",
       "│ (<span style=\"color: #0087ff; text-decoration-color: #0087ff\">Concatenate</span>)       │ <span style=\"color: #00af00; text-decoration-color: #00af00\">22</span>)               │            │ conv_lstm2d_1[<span style=\"color: #00af00; text-decoration-color: #00af00\">0</span>]… │\n",
       "│                     │                   │            │ conv_lstm2d_2[<span style=\"color: #00af00; text-decoration-color: #00af00\">0</span>]… │\n",
       "│                     │                   │            │ conv_lstm2d_3[<span style=\"color: #00af00; text-decoration-color: #00af00\">0</span>]… │\n",
       "│                     │                   │            │ conv_lstm2d_4[<span style=\"color: #00af00; text-decoration-color: #00af00\">0</span>]… │\n",
       "│                     │                   │            │ conv_lstm2d_5[<span style=\"color: #00af00; text-decoration-color: #00af00\">0</span>]… │\n",
       "│                     │                   │            │ conv_lstm2d_6[<span style=\"color: #00af00; text-decoration-color: #00af00\">0</span>]… │\n",
       "│                     │                   │            │ conv_lstm2d_7[<span style=\"color: #00af00; text-decoration-color: #00af00\">0</span>]… │\n",
       "│                     │                   │            │ conv_lstm2d_8[<span style=\"color: #00af00; text-decoration-color: #00af00\">0</span>]… │\n",
       "│                     │                   │            │ conv_lstm2d_9[<span style=\"color: #00af00; text-decoration-color: #00af00\">0</span>]… │\n",
       "│                     │                   │            │ reshape[<span style=\"color: #00af00; text-decoration-color: #00af00\">0</span>][<span style=\"color: #00af00; text-decoration-color: #00af00\">0</span>]     │\n",
       "├─────────────────────┼───────────────────┼────────────┼───────────────────┤\n",
       "│ conv2d (<span style=\"color: #0087ff; text-decoration-color: #0087ff\">Conv2D</span>)     │ (<span style=\"color: #00d7ff; text-decoration-color: #00d7ff\">None</span>, <span style=\"color: #00af00; text-decoration-color: #00af00\">36</span>, <span style=\"color: #00af00; text-decoration-color: #00af00\">28</span>, <span style=\"color: #00af00; text-decoration-color: #00af00\">2</span>) │        <span style=\"color: #00af00; text-decoration-color: #00af00\">398</span> │ concatenate[<span style=\"color: #00af00; text-decoration-color: #00af00\">0</span>][<span style=\"color: #00af00; text-decoration-color: #00af00\">0</span>] │\n",
       "├─────────────────────┼───────────────────┼────────────┼───────────────────┤\n",
       "│ reshape_1 (<span style=\"color: #0087ff; text-decoration-color: #0087ff\">Reshape</span>) │ (<span style=\"color: #00d7ff; text-decoration-color: #00d7ff\">None</span>, <span style=\"color: #00af00; text-decoration-color: #00af00\">1</span>, <span style=\"color: #00af00; text-decoration-color: #00af00\">36</span>, <span style=\"color: #00af00; text-decoration-color: #00af00\">28</span>, │          <span style=\"color: #00af00; text-decoration-color: #00af00\">0</span> │ conv2d[<span style=\"color: #00af00; text-decoration-color: #00af00\">0</span>][<span style=\"color: #00af00; text-decoration-color: #00af00\">0</span>]      │\n",
       "│                     │ <span style=\"color: #00af00; text-decoration-color: #00af00\">2</span>)                │            │                   │\n",
       "├─────────────────────┼───────────────────┼────────────┼───────────────────┤\n",
       "│ lambda (<span style=\"color: #0087ff; text-decoration-color: #0087ff\">Lambda</span>)     │ (<span style=\"color: #00d7ff; text-decoration-color: #00d7ff\">None</span>, <span style=\"color: #00af00; text-decoration-color: #00af00\">12</span>, <span style=\"color: #00af00; text-decoration-color: #00af00\">36</span>,    │          <span style=\"color: #00af00; text-decoration-color: #00af00\">0</span> │ reshape_1[<span style=\"color: #00af00; text-decoration-color: #00af00\">0</span>][<span style=\"color: #00af00; text-decoration-color: #00af00\">0</span>]   │\n",
       "│                     │ <span style=\"color: #00af00; text-decoration-color: #00af00\">28</span>, <span style=\"color: #00af00; text-decoration-color: #00af00\">2</span>)            │            │                   │\n",
       "├─────────────────────┼───────────────────┼────────────┼───────────────────┤\n",
       "│ conv_lstm2d_10      │ (<span style=\"color: #00d7ff; text-decoration-color: #00d7ff\">None</span>, <span style=\"color: #00af00; text-decoration-color: #00af00\">12</span>, <span style=\"color: #00af00; text-decoration-color: #00af00\">36</span>,    │        <span style=\"color: #00af00; text-decoration-color: #00af00\">296</span> │ lambda[<span style=\"color: #00af00; text-decoration-color: #00af00\">0</span>][<span style=\"color: #00af00; text-decoration-color: #00af00\">0</span>]      │\n",
       "│ (<span style=\"color: #0087ff; text-decoration-color: #0087ff\">ConvLSTM2D</span>)        │ <span style=\"color: #00af00; text-decoration-color: #00af00\">28</span>, <span style=\"color: #00af00; text-decoration-color: #00af00\">2</span>)            │            │                   │\n",
       "├─────────────────────┼───────────────────┼────────────┼───────────────────┤\n",
       "│ time_distributed    │ (<span style=\"color: #00d7ff; text-decoration-color: #00d7ff\">None</span>, <span style=\"color: #00af00; text-decoration-color: #00af00\">12</span>, <span style=\"color: #00af00; text-decoration-color: #00af00\">36</span>,    │          <span style=\"color: #00af00; text-decoration-color: #00af00\">6</span> │ conv_lstm2d_10[<span style=\"color: #00af00; text-decoration-color: #00af00\">0</span>… │\n",
       "│ (<span style=\"color: #0087ff; text-decoration-color: #0087ff\">TimeDistributed</span>)   │ <span style=\"color: #00af00; text-decoration-color: #00af00\">28</span>, <span style=\"color: #00af00; text-decoration-color: #00af00\">2</span>)            │            │                   │\n",
       "└─────────────────────┴───────────────────┴────────────┴───────────────────┘\n",
       "</pre>\n"
      ],
      "text/plain": [
       "┏━━━━━━━━━━━━━━━━━━━━━┳━━━━━━━━━━━━━━━━━━━┳━━━━━━━━━━━━┳━━━━━━━━━━━━━━━━━━━┓\n",
       "┃\u001b[1m \u001b[0m\u001b[1mLayer (type)       \u001b[0m\u001b[1m \u001b[0m┃\u001b[1m \u001b[0m\u001b[1mOutput Shape     \u001b[0m\u001b[1m \u001b[0m┃\u001b[1m \u001b[0m\u001b[1m   Param #\u001b[0m\u001b[1m \u001b[0m┃\u001b[1m \u001b[0m\u001b[1mConnected to     \u001b[0m\u001b[1m \u001b[0m┃\n",
       "┡━━━━━━━━━━━━━━━━━━━━━╇━━━━━━━━━━━━━━━━━━━╇━━━━━━━━━━━━╇━━━━━━━━━━━━━━━━━━━┩\n",
       "│ input_ctry_lvl      │ (\u001b[38;5;45mNone\u001b[0m, \u001b[38;5;34m180\u001b[0m)       │          \u001b[38;5;34m0\u001b[0m │ -                 │\n",
       "│ (\u001b[38;5;33mInputLayer\u001b[0m)        │                   │            │                   │\n",
       "├─────────────────────┼───────────────────┼────────────┼───────────────────┤\n",
       "│ dense (\u001b[38;5;33mDense\u001b[0m)       │ (\u001b[38;5;45mNone\u001b[0m, \u001b[38;5;34m16\u001b[0m)        │      \u001b[38;5;34m2,896\u001b[0m │ input_ctry_lvl[\u001b[38;5;34m0\u001b[0m… │\n",
       "├─────────────────────┼───────────────────┼────────────┼───────────────────┤\n",
       "│ input_gts_0         │ (\u001b[38;5;45mNone\u001b[0m, \u001b[38;5;34m96\u001b[0m, \u001b[38;5;34m36\u001b[0m,    │          \u001b[38;5;34m0\u001b[0m │ -                 │\n",
       "│ (\u001b[38;5;33mInputLayer\u001b[0m)        │ \u001b[38;5;34m28\u001b[0m, \u001b[38;5;34m2\u001b[0m)            │            │                   │\n",
       "├─────────────────────┼───────────────────┼────────────┼───────────────────┤\n",
       "│ input_gts_1         │ (\u001b[38;5;45mNone\u001b[0m, \u001b[38;5;34m96\u001b[0m, \u001b[38;5;34m36\u001b[0m,    │          \u001b[38;5;34m0\u001b[0m │ -                 │\n",
       "│ (\u001b[38;5;33mInputLayer\u001b[0m)        │ \u001b[38;5;34m28\u001b[0m, \u001b[38;5;34m2\u001b[0m)            │            │                   │\n",
       "├─────────────────────┼───────────────────┼────────────┼───────────────────┤\n",
       "│ input_gts_2         │ (\u001b[38;5;45mNone\u001b[0m, \u001b[38;5;34m96\u001b[0m, \u001b[38;5;34m36\u001b[0m,    │          \u001b[38;5;34m0\u001b[0m │ -                 │\n",
       "│ (\u001b[38;5;33mInputLayer\u001b[0m)        │ \u001b[38;5;34m28\u001b[0m, \u001b[38;5;34m2\u001b[0m)            │            │                   │\n",
       "├─────────────────────┼───────────────────┼────────────┼───────────────────┤\n",
       "│ input_gts_3         │ (\u001b[38;5;45mNone\u001b[0m, \u001b[38;5;34m96\u001b[0m, \u001b[38;5;34m36\u001b[0m,    │          \u001b[38;5;34m0\u001b[0m │ -                 │\n",
       "│ (\u001b[38;5;33mInputLayer\u001b[0m)        │ \u001b[38;5;34m28\u001b[0m, \u001b[38;5;34m2\u001b[0m)            │            │                   │\n",
       "├─────────────────────┼───────────────────┼────────────┼───────────────────┤\n",
       "│ input_gts_4         │ (\u001b[38;5;45mNone\u001b[0m, \u001b[38;5;34m96\u001b[0m, \u001b[38;5;34m36\u001b[0m,    │          \u001b[38;5;34m0\u001b[0m │ -                 │\n",
       "│ (\u001b[38;5;33mInputLayer\u001b[0m)        │ \u001b[38;5;34m28\u001b[0m, \u001b[38;5;34m2\u001b[0m)            │            │                   │\n",
       "├─────────────────────┼───────────────────┼────────────┼───────────────────┤\n",
       "│ input_gts_5         │ (\u001b[38;5;45mNone\u001b[0m, \u001b[38;5;34m96\u001b[0m, \u001b[38;5;34m36\u001b[0m,    │          \u001b[38;5;34m0\u001b[0m │ -                 │\n",
       "│ (\u001b[38;5;33mInputLayer\u001b[0m)        │ \u001b[38;5;34m28\u001b[0m, \u001b[38;5;34m2\u001b[0m)            │            │                   │\n",
       "├─────────────────────┼───────────────────┼────────────┼───────────────────┤\n",
       "│ input_gts_6         │ (\u001b[38;5;45mNone\u001b[0m, \u001b[38;5;34m96\u001b[0m, \u001b[38;5;34m36\u001b[0m,    │          \u001b[38;5;34m0\u001b[0m │ -                 │\n",
       "│ (\u001b[38;5;33mInputLayer\u001b[0m)        │ \u001b[38;5;34m28\u001b[0m, \u001b[38;5;34m2\u001b[0m)            │            │                   │\n",
       "├─────────────────────┼───────────────────┼────────────┼───────────────────┤\n",
       "│ input_gts_7         │ (\u001b[38;5;45mNone\u001b[0m, \u001b[38;5;34m96\u001b[0m, \u001b[38;5;34m36\u001b[0m,    │          \u001b[38;5;34m0\u001b[0m │ -                 │\n",
       "│ (\u001b[38;5;33mInputLayer\u001b[0m)        │ \u001b[38;5;34m28\u001b[0m, \u001b[38;5;34m2\u001b[0m)            │            │                   │\n",
       "├─────────────────────┼───────────────────┼────────────┼───────────────────┤\n",
       "│ input_gts_8         │ (\u001b[38;5;45mNone\u001b[0m, \u001b[38;5;34m96\u001b[0m, \u001b[38;5;34m36\u001b[0m,    │          \u001b[38;5;34m0\u001b[0m │ -                 │\n",
       "│ (\u001b[38;5;33mInputLayer\u001b[0m)        │ \u001b[38;5;34m28\u001b[0m, \u001b[38;5;34m2\u001b[0m)            │            │                   │\n",
       "├─────────────────────┼───────────────────┼────────────┼───────────────────┤\n",
       "│ input_gts_9         │ (\u001b[38;5;45mNone\u001b[0m, \u001b[38;5;34m96\u001b[0m, \u001b[38;5;34m36\u001b[0m,    │          \u001b[38;5;34m0\u001b[0m │ -                 │\n",
       "│ (\u001b[38;5;33mInputLayer\u001b[0m)        │ \u001b[38;5;34m28\u001b[0m, \u001b[38;5;34m2\u001b[0m)            │            │                   │\n",
       "├─────────────────────┼───────────────────┼────────────┼───────────────────┤\n",
       "│ dense_1 (\u001b[38;5;33mDense\u001b[0m)     │ (\u001b[38;5;45mNone\u001b[0m, \u001b[38;5;34m2016\u001b[0m)      │     \u001b[38;5;34m34,272\u001b[0m │ dense[\u001b[38;5;34m0\u001b[0m][\u001b[38;5;34m0\u001b[0m]       │\n",
       "├─────────────────────┼───────────────────┼────────────┼───────────────────┤\n",
       "│ conv_lstm2d         │ (\u001b[38;5;45mNone\u001b[0m, \u001b[38;5;34m36\u001b[0m, \u001b[38;5;34m28\u001b[0m, \u001b[38;5;34m2\u001b[0m) │        \u001b[38;5;34m296\u001b[0m │ input_gts_0[\u001b[38;5;34m0\u001b[0m][\u001b[38;5;34m0\u001b[0m] │\n",
       "│ (\u001b[38;5;33mConvLSTM2D\u001b[0m)        │                   │            │                   │\n",
       "├─────────────────────┼───────────────────┼────────────┼───────────────────┤\n",
       "│ conv_lstm2d_1       │ (\u001b[38;5;45mNone\u001b[0m, \u001b[38;5;34m36\u001b[0m, \u001b[38;5;34m28\u001b[0m, \u001b[38;5;34m2\u001b[0m) │        \u001b[38;5;34m296\u001b[0m │ input_gts_1[\u001b[38;5;34m0\u001b[0m][\u001b[38;5;34m0\u001b[0m] │\n",
       "│ (\u001b[38;5;33mConvLSTM2D\u001b[0m)        │                   │            │                   │\n",
       "├─────────────────────┼───────────────────┼────────────┼───────────────────┤\n",
       "│ conv_lstm2d_2       │ (\u001b[38;5;45mNone\u001b[0m, \u001b[38;5;34m36\u001b[0m, \u001b[38;5;34m28\u001b[0m, \u001b[38;5;34m2\u001b[0m) │        \u001b[38;5;34m296\u001b[0m │ input_gts_2[\u001b[38;5;34m0\u001b[0m][\u001b[38;5;34m0\u001b[0m] │\n",
       "│ (\u001b[38;5;33mConvLSTM2D\u001b[0m)        │                   │            │                   │\n",
       "├─────────────────────┼───────────────────┼────────────┼───────────────────┤\n",
       "│ conv_lstm2d_3       │ (\u001b[38;5;45mNone\u001b[0m, \u001b[38;5;34m36\u001b[0m, \u001b[38;5;34m28\u001b[0m, \u001b[38;5;34m2\u001b[0m) │        \u001b[38;5;34m296\u001b[0m │ input_gts_3[\u001b[38;5;34m0\u001b[0m][\u001b[38;5;34m0\u001b[0m] │\n",
       "│ (\u001b[38;5;33mConvLSTM2D\u001b[0m)        │                   │            │                   │\n",
       "├─────────────────────┼───────────────────┼────────────┼───────────────────┤\n",
       "│ conv_lstm2d_4       │ (\u001b[38;5;45mNone\u001b[0m, \u001b[38;5;34m36\u001b[0m, \u001b[38;5;34m28\u001b[0m, \u001b[38;5;34m2\u001b[0m) │        \u001b[38;5;34m296\u001b[0m │ input_gts_4[\u001b[38;5;34m0\u001b[0m][\u001b[38;5;34m0\u001b[0m] │\n",
       "│ (\u001b[38;5;33mConvLSTM2D\u001b[0m)        │                   │            │                   │\n",
       "├─────────────────────┼───────────────────┼────────────┼───────────────────┤\n",
       "│ conv_lstm2d_5       │ (\u001b[38;5;45mNone\u001b[0m, \u001b[38;5;34m36\u001b[0m, \u001b[38;5;34m28\u001b[0m, \u001b[38;5;34m2\u001b[0m) │        \u001b[38;5;34m296\u001b[0m │ input_gts_5[\u001b[38;5;34m0\u001b[0m][\u001b[38;5;34m0\u001b[0m] │\n",
       "│ (\u001b[38;5;33mConvLSTM2D\u001b[0m)        │                   │            │                   │\n",
       "├─────────────────────┼───────────────────┼────────────┼───────────────────┤\n",
       "│ conv_lstm2d_6       │ (\u001b[38;5;45mNone\u001b[0m, \u001b[38;5;34m36\u001b[0m, \u001b[38;5;34m28\u001b[0m, \u001b[38;5;34m2\u001b[0m) │        \u001b[38;5;34m296\u001b[0m │ input_gts_6[\u001b[38;5;34m0\u001b[0m][\u001b[38;5;34m0\u001b[0m] │\n",
       "│ (\u001b[38;5;33mConvLSTM2D\u001b[0m)        │                   │            │                   │\n",
       "├─────────────────────┼───────────────────┼────────────┼───────────────────┤\n",
       "│ conv_lstm2d_7       │ (\u001b[38;5;45mNone\u001b[0m, \u001b[38;5;34m36\u001b[0m, \u001b[38;5;34m28\u001b[0m, \u001b[38;5;34m2\u001b[0m) │        \u001b[38;5;34m296\u001b[0m │ input_gts_7[\u001b[38;5;34m0\u001b[0m][\u001b[38;5;34m0\u001b[0m] │\n",
       "│ (\u001b[38;5;33mConvLSTM2D\u001b[0m)        │                   │            │                   │\n",
       "├─────────────────────┼───────────────────┼────────────┼───────────────────┤\n",
       "│ conv_lstm2d_8       │ (\u001b[38;5;45mNone\u001b[0m, \u001b[38;5;34m36\u001b[0m, \u001b[38;5;34m28\u001b[0m, \u001b[38;5;34m2\u001b[0m) │        \u001b[38;5;34m296\u001b[0m │ input_gts_8[\u001b[38;5;34m0\u001b[0m][\u001b[38;5;34m0\u001b[0m] │\n",
       "│ (\u001b[38;5;33mConvLSTM2D\u001b[0m)        │                   │            │                   │\n",
       "├─────────────────────┼───────────────────┼────────────┼───────────────────┤\n",
       "│ conv_lstm2d_9       │ (\u001b[38;5;45mNone\u001b[0m, \u001b[38;5;34m36\u001b[0m, \u001b[38;5;34m28\u001b[0m, \u001b[38;5;34m2\u001b[0m) │        \u001b[38;5;34m296\u001b[0m │ input_gts_9[\u001b[38;5;34m0\u001b[0m][\u001b[38;5;34m0\u001b[0m] │\n",
       "│ (\u001b[38;5;33mConvLSTM2D\u001b[0m)        │                   │            │                   │\n",
       "├─────────────────────┼───────────────────┼────────────┼───────────────────┤\n",
       "│ reshape (\u001b[38;5;33mReshape\u001b[0m)   │ (\u001b[38;5;45mNone\u001b[0m, \u001b[38;5;34m36\u001b[0m, \u001b[38;5;34m28\u001b[0m, \u001b[38;5;34m2\u001b[0m) │          \u001b[38;5;34m0\u001b[0m │ dense_1[\u001b[38;5;34m0\u001b[0m][\u001b[38;5;34m0\u001b[0m]     │\n",
       "├─────────────────────┼───────────────────┼────────────┼───────────────────┤\n",
       "│ concatenate         │ (\u001b[38;5;45mNone\u001b[0m, \u001b[38;5;34m36\u001b[0m, \u001b[38;5;34m28\u001b[0m,    │          \u001b[38;5;34m0\u001b[0m │ conv_lstm2d[\u001b[38;5;34m0\u001b[0m][\u001b[38;5;34m0\u001b[0m… │\n",
       "│ (\u001b[38;5;33mConcatenate\u001b[0m)       │ \u001b[38;5;34m22\u001b[0m)               │            │ conv_lstm2d_1[\u001b[38;5;34m0\u001b[0m]… │\n",
       "│                     │                   │            │ conv_lstm2d_2[\u001b[38;5;34m0\u001b[0m]… │\n",
       "│                     │                   │            │ conv_lstm2d_3[\u001b[38;5;34m0\u001b[0m]… │\n",
       "│                     │                   │            │ conv_lstm2d_4[\u001b[38;5;34m0\u001b[0m]… │\n",
       "│                     │                   │            │ conv_lstm2d_5[\u001b[38;5;34m0\u001b[0m]… │\n",
       "│                     │                   │            │ conv_lstm2d_6[\u001b[38;5;34m0\u001b[0m]… │\n",
       "│                     │                   │            │ conv_lstm2d_7[\u001b[38;5;34m0\u001b[0m]… │\n",
       "│                     │                   │            │ conv_lstm2d_8[\u001b[38;5;34m0\u001b[0m]… │\n",
       "│                     │                   │            │ conv_lstm2d_9[\u001b[38;5;34m0\u001b[0m]… │\n",
       "│                     │                   │            │ reshape[\u001b[38;5;34m0\u001b[0m][\u001b[38;5;34m0\u001b[0m]     │\n",
       "├─────────────────────┼───────────────────┼────────────┼───────────────────┤\n",
       "│ conv2d (\u001b[38;5;33mConv2D\u001b[0m)     │ (\u001b[38;5;45mNone\u001b[0m, \u001b[38;5;34m36\u001b[0m, \u001b[38;5;34m28\u001b[0m, \u001b[38;5;34m2\u001b[0m) │        \u001b[38;5;34m398\u001b[0m │ concatenate[\u001b[38;5;34m0\u001b[0m][\u001b[38;5;34m0\u001b[0m] │\n",
       "├─────────────────────┼───────────────────┼────────────┼───────────────────┤\n",
       "│ reshape_1 (\u001b[38;5;33mReshape\u001b[0m) │ (\u001b[38;5;45mNone\u001b[0m, \u001b[38;5;34m1\u001b[0m, \u001b[38;5;34m36\u001b[0m, \u001b[38;5;34m28\u001b[0m, │          \u001b[38;5;34m0\u001b[0m │ conv2d[\u001b[38;5;34m0\u001b[0m][\u001b[38;5;34m0\u001b[0m]      │\n",
       "│                     │ \u001b[38;5;34m2\u001b[0m)                │            │                   │\n",
       "├─────────────────────┼───────────────────┼────────────┼───────────────────┤\n",
       "│ lambda (\u001b[38;5;33mLambda\u001b[0m)     │ (\u001b[38;5;45mNone\u001b[0m, \u001b[38;5;34m12\u001b[0m, \u001b[38;5;34m36\u001b[0m,    │          \u001b[38;5;34m0\u001b[0m │ reshape_1[\u001b[38;5;34m0\u001b[0m][\u001b[38;5;34m0\u001b[0m]   │\n",
       "│                     │ \u001b[38;5;34m28\u001b[0m, \u001b[38;5;34m2\u001b[0m)            │            │                   │\n",
       "├─────────────────────┼───────────────────┼────────────┼───────────────────┤\n",
       "│ conv_lstm2d_10      │ (\u001b[38;5;45mNone\u001b[0m, \u001b[38;5;34m12\u001b[0m, \u001b[38;5;34m36\u001b[0m,    │        \u001b[38;5;34m296\u001b[0m │ lambda[\u001b[38;5;34m0\u001b[0m][\u001b[38;5;34m0\u001b[0m]      │\n",
       "│ (\u001b[38;5;33mConvLSTM2D\u001b[0m)        │ \u001b[38;5;34m28\u001b[0m, \u001b[38;5;34m2\u001b[0m)            │            │                   │\n",
       "├─────────────────────┼───────────────────┼────────────┼───────────────────┤\n",
       "│ time_distributed    │ (\u001b[38;5;45mNone\u001b[0m, \u001b[38;5;34m12\u001b[0m, \u001b[38;5;34m36\u001b[0m,    │          \u001b[38;5;34m6\u001b[0m │ conv_lstm2d_10[\u001b[38;5;34m0\u001b[0m… │\n",
       "│ (\u001b[38;5;33mTimeDistributed\u001b[0m)   │ \u001b[38;5;34m28\u001b[0m, \u001b[38;5;34m2\u001b[0m)            │            │                   │\n",
       "└─────────────────────┴───────────────────┴────────────┴───────────────────┘\n"
      ]
     },
     "metadata": {},
     "output_type": "display_data"
    },
    {
     "data": {
      "text/html": [
       "<pre style=\"white-space:pre;overflow-x:auto;line-height:normal;font-family:Menlo,'DejaVu Sans Mono',consolas,'Courier New',monospace\"><span style=\"font-weight: bold\"> Total params: </span><span style=\"color: #00af00; text-decoration-color: #00af00\">40,828</span> (159.48 KB)\n",
       "</pre>\n"
      ],
      "text/plain": [
       "\u001b[1m Total params: \u001b[0m\u001b[38;5;34m40,828\u001b[0m (159.48 KB)\n"
      ]
     },
     "metadata": {},
     "output_type": "display_data"
    },
    {
     "data": {
      "text/html": [
       "<pre style=\"white-space:pre;overflow-x:auto;line-height:normal;font-family:Menlo,'DejaVu Sans Mono',consolas,'Courier New',monospace\"><span style=\"font-weight: bold\"> Trainable params: </span><span style=\"color: #00af00; text-decoration-color: #00af00\">40,828</span> (159.48 KB)\n",
       "</pre>\n"
      ],
      "text/plain": [
       "\u001b[1m Trainable params: \u001b[0m\u001b[38;5;34m40,828\u001b[0m (159.48 KB)\n"
      ]
     },
     "metadata": {},
     "output_type": "display_data"
    },
    {
     "data": {
      "text/html": [
       "<pre style=\"white-space:pre;overflow-x:auto;line-height:normal;font-family:Menlo,'DejaVu Sans Mono',consolas,'Courier New',monospace\"><span style=\"font-weight: bold\"> Non-trainable params: </span><span style=\"color: #00af00; text-decoration-color: #00af00\">0</span> (0.00 B)\n",
       "</pre>\n"
      ],
      "text/plain": [
       "\u001b[1m Non-trainable params: \u001b[0m\u001b[38;5;34m0\u001b[0m (0.00 B)\n"
      ]
     },
     "metadata": {},
     "output_type": "display_data"
    }
   ],
   "source": [
    "# Inputs for each variable from GTS    \n",
    "map_inputs = [Input(shape=(n_times_for_lstm, n_lats, n_lons, n_channels_conv_lstm, ), name=f'input_gts_{i}') for i in range(n_vars_from_gts)]\n",
    "\n",
    "# ConvLSTM encoding for maps\n",
    "conv_outputs = [\n",
    "    ConvLSTM2D(\n",
    "            filters = n_filters,\n",
    "            kernel_size = (kernel_size, kernel_size), # Tamaño del kernel\n",
    "            padding = 'same', # Para que la salida tenga el mismo tamaño que la entrada\n",
    "            data_format = 'channels_last', # Forma en que recibe los datos:Docu -> 5D tensor with shape: (samples, time, rows, cols, channels)\n",
    "            return_sequences = False, # No retorna cada secuencia de salida\n",
    "            # return_state=True, # Retorna los estados ocultos de la capa LSTM\n",
    "            recurrent_dropout = recurrent_dropout, dropout = dropout  # Para evitar sobreajuste\n",
    "            )(inp)\n",
    "    for inp in map_inputs\n",
    "]\n",
    "\n",
    "# Input country level data\n",
    "input_ctry_lvl = Input(shape=(vars_ctry_lvl,), name='input_ctry_lvl')\n",
    "mi_dense_ctry_lvl = input_ctry_lvl\n",
    "\n",
    "# Dense layers for country level data\n",
    "for i in dims_nn_ctry_lvl:\n",
    "    mi_dense_ctry_lvl = Dense(i, activation='relu')(mi_dense_ctry_lvl)\n",
    "\n",
    "# Reshape so that it is compatible with the outputs of the LSTM.\n",
    "mi_dense_ctry_lvl = Reshape((n_lats, n_lons, n_channels_conv_lstm))(mi_dense_ctry_lvl)\n",
    "\n",
    "# Concatenate all the outputs of the LSTM layers and the dense layer for country level data\n",
    "mi_concat = Concatenate()(conv_outputs+[mi_dense_ctry_lvl])\n",
    "latent = Conv2D(n_filters, kernel_size=(kernel_size, kernel_size), padding='same', activation='relu')(mi_concat)\n",
    "latent = Reshape((1, n_lats, n_lons, n_filters))(latent)\n",
    "\n",
    "\n",
    "# Decoder\n",
    "decoder_input = Lambda(repeat_latent)(latent) \n",
    "decoder = ConvLSTM2D(filters=n_filters, kernel_size=(kernel_size, kernel_size), padding='same', return_sequences=True)(decoder_input)\n",
    "\n",
    "# Multi-class output\n",
    "output = TimeDistributed(Conv2D(2, (1, 1), activation='softmax'))(decoder)\n",
    "\n",
    "# Model\n",
    "model = Model(inputs = map_inputs + [input_ctry_lvl], outputs=output)\n",
    "model.compile(optimizer='adam', loss='categorical_crossentropy', metrics=['accuracy'])\n",
    "model.summary()"
   ]
  },
  {
   "cell_type": "code",
   "execution_count": 17,
   "id": "9aa3d093",
   "metadata": {},
   "outputs": [],
   "source": [
    "model.compile(optimizer='adam',         # el optimizador sirve para encontrar los pesos que minimizan la función de pérdida\n",
    "                                            # adam: stochastic gradient descent adaptativo\n",
    "                                            # https://www.tensorflow.org/api_docs/python/tf/keras/optimizers\n",
    "                  loss=\"categorical_crossentropy\", # función que evalua que tan bien el algoritmo modela el conjunto de datos\n",
    "                                                   # https://www.tensorflow.org/api_docs/python/tf/keras/losses\n",
    "                  metrics=['accuracy'])"
   ]
  },
  {
   "cell_type": "code",
   "execution_count": null,
   "id": "0c5adf3a",
   "metadata": {},
   "outputs": [
    {
     "name": "stdout",
     "output_type": "stream",
     "text": [
      "Epoch 1/20\n"
     ]
    }
   ],
   "source": [
    "history = model.fit(x = la_lista_de_arrays_train + [X_ctry_lvl_train],\n",
    "                         y = Y_train_f,\n",
    "                        validation_split=0.2,\n",
    "                        batch_size=128,\n",
    "                        epochs=20,   # número de iteraciones sobre los datos\n",
    "                        verbose=1)"
   ]
  },
  {
   "cell_type": "code",
   "execution_count": null,
   "id": "062710ba",
   "metadata": {},
   "outputs": [],
   "source": [
    "model.save_weights(el_path_main/'4. Analisis/model.weights.h5')"
   ]
  },
  {
   "cell_type": "code",
   "execution_count": null,
   "id": "996e3424",
   "metadata": {},
   "outputs": [],
   "source": [
    "# Si es en google Colab\n"
   ]
  },
  {
   "cell_type": "markdown",
   "id": "7adf4b4e",
   "metadata": {},
   "source": [
    "# Benchmark (Logit)"
   ]
  },
  {
   "cell_type": "code",
   "execution_count": 5,
   "id": "5df77337",
   "metadata": {},
   "outputs": [
    {
     "data": {
      "application/vnd.microsoft.datawrangler.viewer.v0+json": {
       "columns": [
        {
         "name": "index",
         "rawType": "int64",
         "type": "integer"
        },
        {
         "name": "lon",
         "rawType": "float64",
         "type": "float"
        },
        {
         "name": "lat",
         "rawType": "float64",
         "type": "float"
        },
        {
         "name": "cld",
         "rawType": "float64",
         "type": "float"
        },
        {
         "name": "dtr",
         "rawType": "float64",
         "type": "float"
        },
        {
         "name": "frs",
         "rawType": "float64",
         "type": "float"
        },
        {
         "name": "pet",
         "rawType": "float64",
         "type": "float"
        },
        {
         "name": "pre",
         "rawType": "float64",
         "type": "float"
        },
        {
         "name": "tmn",
         "rawType": "float64",
         "type": "float"
        },
        {
         "name": "tmp",
         "rawType": "float64",
         "type": "float"
        },
        {
         "name": "tmx",
         "rawType": "float64",
         "type": "float"
        },
        {
         "name": "vap",
         "rawType": "float64",
         "type": "float"
        },
        {
         "name": "wet",
         "rawType": "float64",
         "type": "float"
        },
        {
         "name": "codmes",
         "rawType": "int64",
         "type": "integer"
        },
        {
         "name": "cuadrante_v1",
         "rawType": "float64",
         "type": "float"
        },
        {
         "name": "cuadrante_v2",
         "rawType": "int64",
         "type": "integer"
        },
        {
         "name": "cuadrante_v3",
         "rawType": "int64",
         "type": "integer"
        },
        {
         "name": "mi_y",
         "rawType": "int64",
         "type": "integer"
        },
        {
         "name": "el_th_usado",
         "rawType": "float64",
         "type": "float"
        }
       ],
       "ref": "5bc38428-a43a-4e27-a980-51e4d62252f6",
       "rows": [
        [
         "1364376",
         "-71.75",
         "-8.25",
         "0.7839572192513369",
         "0.2212765924309642",
         null,
         "0.4150943396226416",
         "0.0611611636636636",
         "0.9009901014606412",
         "0.8814589665653496",
         "0.801369860972978",
         "0.9115853102691882",
         "0.4333333333333333",
         "201310",
         "1.0",
         "1",
         "1",
         "0",
         null
        ],
        [
         "1180273",
         "-73.25",
         "-1.75",
         "0.7454545989304813",
         "0.2978723374377545",
         null,
         "0.3962264150943396",
         "0.0833833833833833",
         "0.8737623546098426",
         "0.8753799392097265",
         "0.8253424982055737",
         "0.8597560451368264",
         "0.6",
         "199807",
         "1.0",
         "1",
         "1",
         "0",
         null
        ],
        [
         "306209",
         "-81.25",
         "-3.75",
         null,
         null,
         null,
         null,
         null,
         null,
         null,
         null,
         null,
         null,
         "192604",
         "0.0",
         "0",
         "0",
         "0",
         null
        ],
        [
         "78367",
         "-70.25",
         "-4.75",
         "0.7732620320855614",
         "0.2212765924309642",
         null,
         "0.3018867924528302",
         "0.0699199199199199",
         "0.8638613895083814",
         "0.8358662613981763",
         "0.749999997431507",
         "0.820121901212079",
         "0.5",
         "190706",
         "1.0",
         "1",
         "1",
         "0",
         null
        ],
        [
         "1404522",
         "-74.75",
         "-11.25",
         "0.8406417112299465",
         "0.2978723374377545",
         null,
         "0.4528301886792453",
         "0.1053053103103103",
         "0.7549504763626118",
         "0.729483282674772",
         "0.6609589006262901",
         "0.5548780149464624",
         "0.5333333333333333",
         "201702",
         "1.0",
         "1",
         "1",
         "0",
         null
        ]
       ],
       "shape": {
        "columns": 18,
        "rows": 5
       }
      },
      "text/html": [
       "<div>\n",
       "<style scoped>\n",
       "    .dataframe tbody tr th:only-of-type {\n",
       "        vertical-align: middle;\n",
       "    }\n",
       "\n",
       "    .dataframe tbody tr th {\n",
       "        vertical-align: top;\n",
       "    }\n",
       "\n",
       "    .dataframe thead th {\n",
       "        text-align: right;\n",
       "    }\n",
       "</style>\n",
       "<table border=\"1\" class=\"dataframe\">\n",
       "  <thead>\n",
       "    <tr style=\"text-align: right;\">\n",
       "      <th></th>\n",
       "      <th>lon</th>\n",
       "      <th>lat</th>\n",
       "      <th>cld</th>\n",
       "      <th>dtr</th>\n",
       "      <th>frs</th>\n",
       "      <th>pet</th>\n",
       "      <th>pre</th>\n",
       "      <th>tmn</th>\n",
       "      <th>tmp</th>\n",
       "      <th>tmx</th>\n",
       "      <th>vap</th>\n",
       "      <th>wet</th>\n",
       "      <th>codmes</th>\n",
       "      <th>cuadrante_v1</th>\n",
       "      <th>cuadrante_v2</th>\n",
       "      <th>cuadrante_v3</th>\n",
       "      <th>mi_y</th>\n",
       "      <th>el_th_usado</th>\n",
       "    </tr>\n",
       "  </thead>\n",
       "  <tbody>\n",
       "    <tr>\n",
       "      <th>1364376</th>\n",
       "      <td>-71.75</td>\n",
       "      <td>-8.25</td>\n",
       "      <td>0.783957</td>\n",
       "      <td>0.221277</td>\n",
       "      <td>NaN</td>\n",
       "      <td>0.415094</td>\n",
       "      <td>0.061161</td>\n",
       "      <td>0.900990</td>\n",
       "      <td>0.881459</td>\n",
       "      <td>0.801370</td>\n",
       "      <td>0.911585</td>\n",
       "      <td>0.433333</td>\n",
       "      <td>201310</td>\n",
       "      <td>1.0</td>\n",
       "      <td>1</td>\n",
       "      <td>1</td>\n",
       "      <td>0</td>\n",
       "      <td>NaN</td>\n",
       "    </tr>\n",
       "    <tr>\n",
       "      <th>1180273</th>\n",
       "      <td>-73.25</td>\n",
       "      <td>-1.75</td>\n",
       "      <td>0.745455</td>\n",
       "      <td>0.297872</td>\n",
       "      <td>NaN</td>\n",
       "      <td>0.396226</td>\n",
       "      <td>0.083383</td>\n",
       "      <td>0.873762</td>\n",
       "      <td>0.875380</td>\n",
       "      <td>0.825342</td>\n",
       "      <td>0.859756</td>\n",
       "      <td>0.600000</td>\n",
       "      <td>199807</td>\n",
       "      <td>1.0</td>\n",
       "      <td>1</td>\n",
       "      <td>1</td>\n",
       "      <td>0</td>\n",
       "      <td>NaN</td>\n",
       "    </tr>\n",
       "    <tr>\n",
       "      <th>306209</th>\n",
       "      <td>-81.25</td>\n",
       "      <td>-3.75</td>\n",
       "      <td>NaN</td>\n",
       "      <td>NaN</td>\n",
       "      <td>NaN</td>\n",
       "      <td>NaN</td>\n",
       "      <td>NaN</td>\n",
       "      <td>NaN</td>\n",
       "      <td>NaN</td>\n",
       "      <td>NaN</td>\n",
       "      <td>NaN</td>\n",
       "      <td>NaN</td>\n",
       "      <td>192604</td>\n",
       "      <td>0.0</td>\n",
       "      <td>0</td>\n",
       "      <td>0</td>\n",
       "      <td>0</td>\n",
       "      <td>NaN</td>\n",
       "    </tr>\n",
       "    <tr>\n",
       "      <th>78367</th>\n",
       "      <td>-70.25</td>\n",
       "      <td>-4.75</td>\n",
       "      <td>0.773262</td>\n",
       "      <td>0.221277</td>\n",
       "      <td>NaN</td>\n",
       "      <td>0.301887</td>\n",
       "      <td>0.069920</td>\n",
       "      <td>0.863861</td>\n",
       "      <td>0.835866</td>\n",
       "      <td>0.750000</td>\n",
       "      <td>0.820122</td>\n",
       "      <td>0.500000</td>\n",
       "      <td>190706</td>\n",
       "      <td>1.0</td>\n",
       "      <td>1</td>\n",
       "      <td>1</td>\n",
       "      <td>0</td>\n",
       "      <td>NaN</td>\n",
       "    </tr>\n",
       "    <tr>\n",
       "      <th>1404522</th>\n",
       "      <td>-74.75</td>\n",
       "      <td>-11.25</td>\n",
       "      <td>0.840642</td>\n",
       "      <td>0.297872</td>\n",
       "      <td>NaN</td>\n",
       "      <td>0.452830</td>\n",
       "      <td>0.105305</td>\n",
       "      <td>0.754950</td>\n",
       "      <td>0.729483</td>\n",
       "      <td>0.660959</td>\n",
       "      <td>0.554878</td>\n",
       "      <td>0.533333</td>\n",
       "      <td>201702</td>\n",
       "      <td>1.0</td>\n",
       "      <td>1</td>\n",
       "      <td>1</td>\n",
       "      <td>0</td>\n",
       "      <td>NaN</td>\n",
       "    </tr>\n",
       "  </tbody>\n",
       "</table>\n",
       "</div>"
      ],
      "text/plain": [
       "           lon    lat       cld       dtr  frs       pet       pre       tmn  \\\n",
       "1364376 -71.75  -8.25  0.783957  0.221277  NaN  0.415094  0.061161  0.900990   \n",
       "1180273 -73.25  -1.75  0.745455  0.297872  NaN  0.396226  0.083383  0.873762   \n",
       "306209  -81.25  -3.75       NaN       NaN  NaN       NaN       NaN       NaN   \n",
       "78367   -70.25  -4.75  0.773262  0.221277  NaN  0.301887  0.069920  0.863861   \n",
       "1404522 -74.75 -11.25  0.840642  0.297872  NaN  0.452830  0.105305  0.754950   \n",
       "\n",
       "              tmp       tmx       vap       wet  codmes  cuadrante_v1  \\\n",
       "1364376  0.881459  0.801370  0.911585  0.433333  201310           1.0   \n",
       "1180273  0.875380  0.825342  0.859756  0.600000  199807           1.0   \n",
       "306209        NaN       NaN       NaN       NaN  192604           0.0   \n",
       "78367    0.835866  0.750000  0.820122  0.500000  190706           1.0   \n",
       "1404522  0.729483  0.660959  0.554878  0.533333  201702           1.0   \n",
       "\n",
       "         cuadrante_v2  cuadrante_v3  mi_y  el_th_usado  \n",
       "1364376             1             1     0          NaN  \n",
       "1180273             1             1     0          NaN  \n",
       "306209              0             0     0          NaN  \n",
       "78367               1             1     0          NaN  \n",
       "1404522             1             1     0          NaN  "
      ]
     },
     "execution_count": 5,
     "metadata": {},
     "output_type": "execute_result"
    }
   ],
   "source": [
    "df_gts_reescal = pd.read_csv(el_path_main / '2. Datos/Main gridded data/consol_df_peru_reescal.csv')\n",
    "df_gts_reescal.sample(5)"
   ]
  },
  {
   "cell_type": "code",
   "execution_count": 6,
   "id": "c8eaf361",
   "metadata": {},
   "outputs": [
    {
     "data": {
      "application/vnd.microsoft.datawrangler.viewer.v0+json": {
       "columns": [
        {
         "name": "index",
         "rawType": "int64",
         "type": "integer"
        },
        {
         "name": "codmes",
         "rawType": "int64",
         "type": "integer"
        },
        {
         "name": "country",
         "rawType": "object",
         "type": "string"
        },
        {
         "name": "cld",
         "rawType": "float64",
         "type": "float"
        },
        {
         "name": "dtr",
         "rawType": "float64",
         "type": "float"
        },
        {
         "name": "frs",
         "rawType": "float64",
         "type": "float"
        },
        {
         "name": "pet",
         "rawType": "float64",
         "type": "float"
        },
        {
         "name": "pre",
         "rawType": "float64",
         "type": "float"
        },
        {
         "name": "tmn",
         "rawType": "float64",
         "type": "float"
        },
        {
         "name": "tmp",
         "rawType": "float64",
         "type": "float"
        },
        {
         "name": "tmx",
         "rawType": "float64",
         "type": "float"
        },
        {
         "name": "vap",
         "rawType": "float64",
         "type": "float"
        },
        {
         "name": "wet",
         "rawType": "float64",
         "type": "float"
        },
        {
         "name": "codmes_d",
         "rawType": "object",
         "type": "string"
        },
        {
         "name": "pre_lag",
         "rawType": "float64",
         "type": "float"
        },
        {
         "name": "wet_lag",
         "rawType": "float64",
         "type": "float"
        }
       ],
       "ref": "3d603683-78cd-4748-a11b-8f0b2e400541",
       "rows": [
        [
         "6463",
         "193209",
         "Canada",
         "0.6462035541195476",
         "0.3",
         "0.432258064516129",
         "0.21875",
         "0.0814010853478046",
         "0.596885813148789",
         "0.583904109589041",
         "0.5635451505016722",
         "0.2229508196721311",
         "0.354515050167224",
         "1932-09-01",
         "61.6",
         "12.1"
        ],
        [
         "4700",
         "192401",
         "Guiana",
         "0.7754442649434571",
         "0.1714285714285714",
         "0.0",
         "0.421875",
         "0.4366058214109522",
         "0.9515570934256056",
         "0.9195205479452054",
         "0.8762541806020065",
         "0.8426229508196721",
         "0.6521739130434782",
         "1924-01-01",
         "364.9",
         "23.1"
        ],
        [
         "16273",
         "198010",
         "Chile",
         "0.3069466882067851",
         "0.3642857142857144",
         "0.2967741935483871",
         "0.453125",
         "0.0636408485446472",
         "0.6418685121107267",
         "0.6369863013698629",
         "0.6220735785953176",
         "0.2360655737704918",
         "0.0869565217391304",
         "1980-10-01",
         "77.1",
         "3.9"
        ],
        [
         "8316",
         "194110",
         "Canada",
         "0.6914378029079159",
         "0.2",
         "0.8",
         "0.09375",
         "0.0812366387107383",
         "0.4636678200692042",
         "0.4417808219178081",
         "0.4130434782608695",
         "0.1245901639344262",
         "0.3812709030100334",
         "1941-10-01",
         "48.1",
         "11.4"
        ],
        [
         "15458",
         "197610",
         "Colombia",
         "0.9402261712439418",
         "0.2785714285714285",
         "0.0",
         "0.40625",
         "0.472126295017267",
         "0.92560553633218",
         "0.9058219178082192",
         "0.8745819397993311",
         "0.8655737704918033",
         "0.6354515050167223",
         "1976-10-01",
         "332.0",
         "19.7"
        ]
       ],
       "shape": {
        "columns": 15,
        "rows": 5
       }
      },
      "text/html": [
       "<div>\n",
       "<style scoped>\n",
       "    .dataframe tbody tr th:only-of-type {\n",
       "        vertical-align: middle;\n",
       "    }\n",
       "\n",
       "    .dataframe tbody tr th {\n",
       "        vertical-align: top;\n",
       "    }\n",
       "\n",
       "    .dataframe thead th {\n",
       "        text-align: right;\n",
       "    }\n",
       "</style>\n",
       "<table border=\"1\" class=\"dataframe\">\n",
       "  <thead>\n",
       "    <tr style=\"text-align: right;\">\n",
       "      <th></th>\n",
       "      <th>codmes</th>\n",
       "      <th>country</th>\n",
       "      <th>cld</th>\n",
       "      <th>dtr</th>\n",
       "      <th>frs</th>\n",
       "      <th>pet</th>\n",
       "      <th>pre</th>\n",
       "      <th>tmn</th>\n",
       "      <th>tmp</th>\n",
       "      <th>tmx</th>\n",
       "      <th>vap</th>\n",
       "      <th>wet</th>\n",
       "      <th>codmes_d</th>\n",
       "      <th>pre_lag</th>\n",
       "      <th>wet_lag</th>\n",
       "    </tr>\n",
       "  </thead>\n",
       "  <tbody>\n",
       "    <tr>\n",
       "      <th>6463</th>\n",
       "      <td>193209</td>\n",
       "      <td>Canada</td>\n",
       "      <td>0.646204</td>\n",
       "      <td>0.300000</td>\n",
       "      <td>0.432258</td>\n",
       "      <td>0.218750</td>\n",
       "      <td>0.081401</td>\n",
       "      <td>0.596886</td>\n",
       "      <td>0.583904</td>\n",
       "      <td>0.563545</td>\n",
       "      <td>0.222951</td>\n",
       "      <td>0.354515</td>\n",
       "      <td>1932-09-01</td>\n",
       "      <td>61.6</td>\n",
       "      <td>12.1</td>\n",
       "    </tr>\n",
       "    <tr>\n",
       "      <th>4700</th>\n",
       "      <td>192401</td>\n",
       "      <td>Guiana</td>\n",
       "      <td>0.775444</td>\n",
       "      <td>0.171429</td>\n",
       "      <td>0.000000</td>\n",
       "      <td>0.421875</td>\n",
       "      <td>0.436606</td>\n",
       "      <td>0.951557</td>\n",
       "      <td>0.919521</td>\n",
       "      <td>0.876254</td>\n",
       "      <td>0.842623</td>\n",
       "      <td>0.652174</td>\n",
       "      <td>1924-01-01</td>\n",
       "      <td>364.9</td>\n",
       "      <td>23.1</td>\n",
       "    </tr>\n",
       "    <tr>\n",
       "      <th>16273</th>\n",
       "      <td>198010</td>\n",
       "      <td>Chile</td>\n",
       "      <td>0.306947</td>\n",
       "      <td>0.364286</td>\n",
       "      <td>0.296774</td>\n",
       "      <td>0.453125</td>\n",
       "      <td>0.063641</td>\n",
       "      <td>0.641869</td>\n",
       "      <td>0.636986</td>\n",
       "      <td>0.622074</td>\n",
       "      <td>0.236066</td>\n",
       "      <td>0.086957</td>\n",
       "      <td>1980-10-01</td>\n",
       "      <td>77.1</td>\n",
       "      <td>3.9</td>\n",
       "    </tr>\n",
       "    <tr>\n",
       "      <th>8316</th>\n",
       "      <td>194110</td>\n",
       "      <td>Canada</td>\n",
       "      <td>0.691438</td>\n",
       "      <td>0.200000</td>\n",
       "      <td>0.800000</td>\n",
       "      <td>0.093750</td>\n",
       "      <td>0.081237</td>\n",
       "      <td>0.463668</td>\n",
       "      <td>0.441781</td>\n",
       "      <td>0.413043</td>\n",
       "      <td>0.124590</td>\n",
       "      <td>0.381271</td>\n",
       "      <td>1941-10-01</td>\n",
       "      <td>48.1</td>\n",
       "      <td>11.4</td>\n",
       "    </tr>\n",
       "    <tr>\n",
       "      <th>15458</th>\n",
       "      <td>197610</td>\n",
       "      <td>Colombia</td>\n",
       "      <td>0.940226</td>\n",
       "      <td>0.278571</td>\n",
       "      <td>0.000000</td>\n",
       "      <td>0.406250</td>\n",
       "      <td>0.472126</td>\n",
       "      <td>0.925606</td>\n",
       "      <td>0.905822</td>\n",
       "      <td>0.874582</td>\n",
       "      <td>0.865574</td>\n",
       "      <td>0.635452</td>\n",
       "      <td>1976-10-01</td>\n",
       "      <td>332.0</td>\n",
       "      <td>19.7</td>\n",
       "    </tr>\n",
       "  </tbody>\n",
       "</table>\n",
       "</div>"
      ],
      "text/plain": [
       "       codmes   country       cld       dtr       frs       pet       pre  \\\n",
       "6463   193209    Canada  0.646204  0.300000  0.432258  0.218750  0.081401   \n",
       "4700   192401    Guiana  0.775444  0.171429  0.000000  0.421875  0.436606   \n",
       "16273  198010     Chile  0.306947  0.364286  0.296774  0.453125  0.063641   \n",
       "8316   194110    Canada  0.691438  0.200000  0.800000  0.093750  0.081237   \n",
       "15458  197610  Colombia  0.940226  0.278571  0.000000  0.406250  0.472126   \n",
       "\n",
       "            tmn       tmp       tmx       vap       wet    codmes_d  pre_lag  \\\n",
       "6463   0.596886  0.583904  0.563545  0.222951  0.354515  1932-09-01     61.6   \n",
       "4700   0.951557  0.919521  0.876254  0.842623  0.652174  1924-01-01    364.9   \n",
       "16273  0.641869  0.636986  0.622074  0.236066  0.086957  1980-10-01     77.1   \n",
       "8316   0.463668  0.441781  0.413043  0.124590  0.381271  1941-10-01     48.1   \n",
       "15458  0.925606  0.905822  0.874582  0.865574  0.635452  1976-10-01    332.0   \n",
       "\n",
       "       wet_lag  \n",
       "6463      12.1  \n",
       "4700      23.1  \n",
       "16273      3.9  \n",
       "8316      11.4  \n",
       "15458     19.7  "
      ]
     },
     "execution_count": 6,
     "metadata": {},
     "output_type": "execute_result"
    }
   ],
   "source": [
    "df_ctry_lvl_reescal = pd.read_csv(el_path_main / '2. Datos/Main gridded data/df_ctry_lvl_reescal.csv')\n",
    "df_ctry_lvl_reescal.sample(5)"
   ]
  }
 ],
 "metadata": {
  "kernelspec": {
   "display_name": ".venv",
   "language": "python",
   "name": "python3"
  },
  "language_info": {
   "codemirror_mode": {
    "name": "ipython",
    "version": 3
   },
   "file_extension": ".py",
   "mimetype": "text/x-python",
   "name": "python",
   "nbconvert_exporter": "python",
   "pygments_lexer": "ipython3",
   "version": "3.11.7"
  }
 },
 "nbformat": 4,
 "nbformat_minor": 5
}
