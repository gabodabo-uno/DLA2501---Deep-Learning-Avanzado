{
 "cells": [
  {
   "cell_type": "code",
   "execution_count": 7,
   "id": "38ac304e",
   "metadata": {},
   "outputs": [],
   "source": [
    "import os\n",
    "import numpy as np\n",
    "import pandas as pd\n",
    "import seaborn as sns\n",
    "from pathlib import Path\n",
    "from itertools import chain\n",
    "import re\n",
    "from sklearn.feature_extraction.text import TfidfVectorizer\n",
    "import requests\n",
    "import xarray as xr\n",
    "import matplotlib.pyplot as plt"
   ]
  },
  {
   "cell_type": "markdown",
   "id": "b10dcf20",
   "metadata": {},
   "source": [
    "# Set Path"
   ]
  },
  {
   "cell_type": "code",
   "execution_count": 8,
   "id": "ab806fe0",
   "metadata": {},
   "outputs": [
    {
     "data": {
      "text/plain": [
       "WindowsPath('e:/backup Asus G15 27_10_2021/Colegio de Mates Bourbaki/DLA2501 - Deep Learning Avanzado/Flood forecasting')"
      ]
     },
     "execution_count": 8,
     "metadata": {},
     "output_type": "execute_result"
    }
   ],
   "source": [
    "el_path_main = Path(os.getcwd()).parent\n",
    "el_path_main"
   ]
  },
  {
   "cell_type": "markdown",
   "id": "548814ae",
   "metadata": {},
   "source": [
    "# Load Datasets"
   ]
  },
  {
   "cell_type": "markdown",
   "id": "a920cc47",
   "metadata": {},
   "source": [
    "## Gridded Time Series Dataset"
   ]
  },
  {
   "cell_type": "code",
   "execution_count": null,
   "id": "c44932ef",
   "metadata": {},
   "outputs": [],
   "source": [
    "df_gts = pd.read_csv(el_path_main / '2. Datos/Main gridded data/consol_df_peru.csv')"
   ]
  },
  {
   "cell_type": "code",
   "execution_count": null,
   "id": "01907356",
   "metadata": {},
   "outputs": [
    {
     "data": {
      "text/html": [
       "<div>\n",
       "<style scoped>\n",
       "    .dataframe tbody tr th:only-of-type {\n",
       "        vertical-align: middle;\n",
       "    }\n",
       "\n",
       "    .dataframe tbody tr th {\n",
       "        vertical-align: top;\n",
       "    }\n",
       "\n",
       "    .dataframe thead th {\n",
       "        text-align: right;\n",
       "    }\n",
       "</style>\n",
       "<table border=\"1\" class=\"dataframe\">\n",
       "  <thead>\n",
       "    <tr style=\"text-align: right;\">\n",
       "      <th></th>\n",
       "      <th>lon</th>\n",
       "      <th>lat</th>\n",
       "      <th>cld</th>\n",
       "      <th>dtr</th>\n",
       "      <th>frs</th>\n",
       "      <th>pet</th>\n",
       "      <th>pre</th>\n",
       "      <th>tmn</th>\n",
       "      <th>tmp</th>\n",
       "      <th>tmx</th>\n",
       "      <th>vap</th>\n",
       "      <th>wet</th>\n",
       "      <th>CODMES</th>\n",
       "    </tr>\n",
       "  </thead>\n",
       "  <tbody>\n",
       "    <tr>\n",
       "      <th>552221</th>\n",
       "      <td>-77.25</td>\n",
       "      <td>-10.75</td>\n",
       "      <td>81.3</td>\n",
       "      <td>11.2</td>\n",
       "      <td>0.00</td>\n",
       "      <td>2.9</td>\n",
       "      <td>302.30002</td>\n",
       "      <td>17.1</td>\n",
       "      <td>22.7</td>\n",
       "      <td>28.300001</td>\n",
       "      <td>24.300001</td>\n",
       "      <td>19.859999</td>\n",
       "      <td>191506</td>\n",
       "    </tr>\n",
       "    <tr>\n",
       "      <th>530817</th>\n",
       "      <td>-71.75</td>\n",
       "      <td>-11.25</td>\n",
       "      <td>NaN</td>\n",
       "      <td>NaN</td>\n",
       "      <td>NaN</td>\n",
       "      <td>NaN</td>\n",
       "      <td>NaN</td>\n",
       "      <td>NaN</td>\n",
       "      <td>NaN</td>\n",
       "      <td>NaN</td>\n",
       "      <td>NaN</td>\n",
       "      <td>NaN</td>\n",
       "      <td>199110</td>\n",
       "    </tr>\n",
       "    <tr>\n",
       "      <th>254717</th>\n",
       "      <td>-73.25</td>\n",
       "      <td>-14.75</td>\n",
       "      <td>50.0</td>\n",
       "      <td>18.4</td>\n",
       "      <td>22.92</td>\n",
       "      <td>3.4</td>\n",
       "      <td>12.70000</td>\n",
       "      <td>-2.6</td>\n",
       "      <td>6.6</td>\n",
       "      <td>15.800000</td>\n",
       "      <td>5.200000</td>\n",
       "      <td>3.530000</td>\n",
       "      <td>192306</td>\n",
       "    </tr>\n",
       "  </tbody>\n",
       "</table>\n",
       "</div>"
      ],
      "text/plain": [
       "          lon    lat   cld   dtr    frs  pet        pre   tmn   tmp  \\\n",
       "552221 -77.25 -10.75  81.3  11.2   0.00  2.9  302.30002  17.1  22.7   \n",
       "530817 -71.75 -11.25   NaN   NaN    NaN  NaN        NaN   NaN   NaN   \n",
       "254717 -73.25 -14.75  50.0  18.4  22.92  3.4   12.70000  -2.6   6.6   \n",
       "\n",
       "              tmx        vap        wet  CODMES  \n",
       "552221  28.300001  24.300001  19.859999  191506  \n",
       "530817        NaN        NaN        NaN  199110  \n",
       "254717  15.800000   5.200000   3.530000  192306  "
      ]
     },
     "execution_count": 37,
     "metadata": {},
     "output_type": "execute_result"
    },
    {
     "ename": "",
     "evalue": "",
     "output_type": "error",
     "traceback": [
      "\u001b[1;31mThe Kernel crashed while executing code in the current cell or a previous cell. \n",
      "\u001b[1;31mPlease review the code in the cell(s) to identify a possible cause of the failure. \n",
      "\u001b[1;31mClick <a href='https://aka.ms/vscodeJupyterKernelCrash'>here</a> for more info. \n",
      "\u001b[1;31mView Jupyter <a href='command:jupyter.viewOutput'>log</a> for further details."
     ]
    }
   ],
   "source": [
    "df_gts.sample(3)"
   ]
  },
  {
   "cell_type": "code",
   "execution_count": 33,
   "id": "bb89ab39",
   "metadata": {},
   "outputs": [
    {
     "name": "stdout",
     "output_type": "stream",
     "text": [
      "<class 'pandas.core.frame.DataFrame'>\n",
      "RangeIndex: 581505 entries, 0 to 581504\n",
      "Data columns (total 13 columns):\n",
      " #   Column  Non-Null Count   Dtype  \n",
      "---  ------  --------------   -----  \n",
      " 0   lon     581505 non-null  float64\n",
      " 1   lat     581505 non-null  float64\n",
      " 2   cld     464009 non-null  float64\n",
      " 3   dtr     464009 non-null  float64\n",
      " 4   frs     464009 non-null  float64\n",
      " 5   pet     462767 non-null  float64\n",
      " 6   pre     464009 non-null  float64\n",
      " 7   tmn     464009 non-null  float64\n",
      " 8   tmp     464009 non-null  float64\n",
      " 9   tmx     464009 non-null  float64\n",
      " 10  vap     464009 non-null  float64\n",
      " 11  wet     464009 non-null  float64\n",
      " 12  CODMES  581505 non-null  int64  \n",
      "dtypes: float64(12), int64(1)\n",
      "memory usage: 57.7 MB\n"
     ]
    }
   ],
   "source": [
    "df_gts.info()"
   ]
  },
  {
   "cell_type": "markdown",
   "id": "aebd1846",
   "metadata": {},
   "source": [
    "## Country level dataset"
   ]
  },
  {
   "cell_type": "code",
   "execution_count": 30,
   "id": "7517d9f0",
   "metadata": {},
   "outputs": [],
   "source": [
    "df_consol = pd.read_excel(el_path_main/'2. Datos/Country-level spatial averages/df_consol.xlsx')"
   ]
  },
  {
   "cell_type": "code",
   "execution_count": null,
   "id": "404e0e5f",
   "metadata": {},
   "outputs": [
    {
     "data": {
      "text/html": [
       "<div>\n",
       "<style scoped>\n",
       "    .dataframe tbody tr th:only-of-type {\n",
       "        vertical-align: middle;\n",
       "    }\n",
       "\n",
       "    .dataframe tbody tr th {\n",
       "        vertical-align: top;\n",
       "    }\n",
       "\n",
       "    .dataframe thead th {\n",
       "        text-align: right;\n",
       "    }\n",
       "</style>\n",
       "<table border=\"1\" class=\"dataframe\">\n",
       "  <thead>\n",
       "    <tr style=\"text-align: right;\">\n",
       "      <th></th>\n",
       "      <th>CODMES</th>\n",
       "      <th>COUNTRY</th>\n",
       "      <th>CLD</th>\n",
       "      <th>DTR</th>\n",
       "      <th>FRS</th>\n",
       "      <th>PET</th>\n",
       "      <th>PRE</th>\n",
       "      <th>TMN</th>\n",
       "      <th>TMP</th>\n",
       "      <th>TMX</th>\n",
       "      <th>VAP</th>\n",
       "      <th>WET</th>\n",
       "    </tr>\n",
       "  </thead>\n",
       "  <tbody>\n",
       "    <tr>\n",
       "      <th>6125</th>\n",
       "      <td>193101</td>\n",
       "      <td>Colombia</td>\n",
       "      <td>59.8</td>\n",
       "      <td>11.1</td>\n",
       "      <td>0.1</td>\n",
       "      <td>3.6</td>\n",
       "      <td>92.3</td>\n",
       "      <td>19.6</td>\n",
       "      <td>25.1</td>\n",
       "      <td>30.7</td>\n",
       "      <td>25.0</td>\n",
       "      <td>9.4</td>\n",
       "    </tr>\n",
       "    <tr>\n",
       "      <th>17649</th>\n",
       "      <td>198707</td>\n",
       "      <td>Canada</td>\n",
       "      <td>64.2</td>\n",
       "      <td>10.2</td>\n",
       "      <td>4.1</td>\n",
       "      <td>3.1</td>\n",
       "      <td>67.3</td>\n",
       "      <td>7.3</td>\n",
       "      <td>12.4</td>\n",
       "      <td>17.5</td>\n",
       "      <td>10.8</td>\n",
       "      <td>11.9</td>\n",
       "    </tr>\n",
       "    <tr>\n",
       "      <th>9788</th>\n",
       "      <td>194812</td>\n",
       "      <td>Peru</td>\n",
       "      <td>77.6</td>\n",
       "      <td>11.7</td>\n",
       "      <td>3.4</td>\n",
       "      <td>3.3</td>\n",
       "      <td>157.3</td>\n",
       "      <td>14.1</td>\n",
       "      <td>19.9</td>\n",
       "      <td>25.8</td>\n",
       "      <td>19.2</td>\n",
       "      <td>13.3</td>\n",
       "    </tr>\n",
       "  </tbody>\n",
       "</table>\n",
       "</div>"
      ],
      "text/plain": [
       "       CODMES   COUNTRY   CLD   DTR  FRS  PET    PRE   TMN   TMP   TMX   VAP  \\\n",
       "6125   193101  Colombia  59.8  11.1  0.1  3.6   92.3  19.6  25.1  30.7  25.0   \n",
       "17649  198707    Canada  64.2  10.2  4.1  3.1   67.3   7.3  12.4  17.5  10.8   \n",
       "9788   194812      Peru  77.6  11.7  3.4  3.3  157.3  14.1  19.9  25.8  19.2   \n",
       "\n",
       "        WET  \n",
       "6125    9.4  \n",
       "17649  11.9  \n",
       "9788   13.3  "
      ]
     },
     "execution_count": 10,
     "metadata": {},
     "output_type": "execute_result"
    }
   ],
   "source": [
    "df_consol.sample(3)"
   ]
  },
  {
   "cell_type": "code",
   "execution_count": 36,
   "id": "34302d35",
   "metadata": {},
   "outputs": [
    {
     "name": "stdout",
     "output_type": "stream",
     "text": [
      "<class 'pandas.core.frame.DataFrame'>\n",
      "RangeIndex: 25296 entries, 0 to 25295\n",
      "Data columns (total 12 columns):\n",
      " #   Column   Non-Null Count  Dtype  \n",
      "---  ------   --------------  -----  \n",
      " 0   CODMES   25296 non-null  int64  \n",
      " 1   COUNTRY  25296 non-null  object \n",
      " 2   CLD      25296 non-null  float64\n",
      " 3   DTR      25296 non-null  float64\n",
      " 4   FRS      25296 non-null  float64\n",
      " 5   PET      25296 non-null  float64\n",
      " 6   PRE      25296 non-null  float64\n",
      " 7   TMN      25296 non-null  float64\n",
      " 8   TMP      25296 non-null  float64\n",
      " 9   TMX      25296 non-null  float64\n",
      " 10  VAP      25296 non-null  float64\n",
      " 11  WET      25296 non-null  float64\n",
      "dtypes: float64(10), int64(1), object(1)\n",
      "memory usage: 2.3+ MB\n"
     ]
    }
   ],
   "source": [
    "df_consol.info()"
   ]
  },
  {
   "cell_type": "code",
   "execution_count": null,
   "id": "609db542",
   "metadata": {},
   "outputs": [],
   "source": []
  }
 ],
 "metadata": {
  "kernelspec": {
   "display_name": ".venv",
   "language": "python",
   "name": "python3"
  },
  "language_info": {
   "codemirror_mode": {
    "name": "ipython",
    "version": 3
   },
   "file_extension": ".py",
   "mimetype": "text/x-python",
   "name": "python",
   "nbconvert_exporter": "python",
   "pygments_lexer": "ipython3",
   "version": "3.11.7"
  }
 },
 "nbformat": 4,
 "nbformat_minor": 5
}
