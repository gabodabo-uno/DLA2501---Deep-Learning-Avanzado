{
  "cells": [
    {
      "cell_type": "markdown",
      "id": "e6f59833",
      "metadata": {
        "colab_type": "text",
        "id": "view-in-github"
      },
      "source": [
        "<a href=\"https://colab.research.google.com/github/gabodabo-uno/DLA2501_DeepLearning/blob/cloud_v/Exam01/3.%20Programas/02_EDA.ipynb\" target=\"_parent\"><img src=\"https://colab.research.google.com/assets/colab-badge.svg\" alt=\"Open In Colab\"/></a>"
      ]
    },
    {
      "cell_type": "code",
      "execution_count": 2,
      "id": "70d9dd3c",
      "metadata": {
        "id": "70d9dd3c"
      },
      "outputs": [],
      "source": [
        "import os\n",
        "import numpy as np\n",
        "import pandas as pd\n",
        "import seaborn as sns\n",
        "from pathlib import Path\n",
        "from itertools import chain\n",
        "import re\n",
        "from sklearn.feature_extraction.text import TfidfVectorizer"
      ]
    },
    {
      "cell_type": "code",
      "execution_count": 3,
      "id": "jibkU7wr3iCd",
      "metadata": {
        "colab": {
          "base_uri": "https://localhost:8080/"
        },
        "id": "jibkU7wr3iCd",
        "outputId": "18ac9a86-687e-4901-9591-73c86e518eb9"
      },
      "outputs": [],
      "source": [
        "el_path_main = Path(os.getcwd()).parent"
      ]
    },
    {
      "cell_type": "markdown",
      "id": "a433fecd",
      "metadata": {
        "id": "a433fecd"
      },
      "source": [
        "# Load Dataset"
      ]
    },
    {
      "cell_type": "code",
      "execution_count": 4,
      "id": "69993c6f",
      "metadata": {
        "colab": {
          "base_uri": "https://localhost:8080/",
          "height": 206
        },
        "id": "69993c6f",
        "outputId": "329ee744-5b0d-4dd4-bae4-b00c132ff14f"
      },
      "outputs": [
        {
          "data": {
            "text/html": [
              "<div>\n",
              "<style scoped>\n",
              "    .dataframe tbody tr th:only-of-type {\n",
              "        vertical-align: middle;\n",
              "    }\n",
              "\n",
              "    .dataframe tbody tr th {\n",
              "        vertical-align: top;\n",
              "    }\n",
              "\n",
              "    .dataframe thead th {\n",
              "        text-align: right;\n",
              "    }\n",
              "</style>\n",
              "<table border=\"1\" class=\"dataframe\">\n",
              "  <thead>\n",
              "    <tr style=\"text-align: right;\">\n",
              "      <th></th>\n",
              "      <th>file_name</th>\n",
              "      <th>code</th>\n",
              "      <th>language</th>\n",
              "      <th>dataset_type</th>\n",
              "    </tr>\n",
              "  </thead>\n",
              "  <tbody>\n",
              "    <tr>\n",
              "      <th>0</th>\n",
              "      <td>s819985569.php</td>\n",
              "      <td>&lt;?php\\n//??????????????¬??????????????????????...</td>\n",
              "      <td>PHP</td>\n",
              "      <td>train</td>\n",
              "    </tr>\n",
              "    <tr>\n",
              "      <th>1</th>\n",
              "      <td>s085505690.php</td>\n",
              "      <td>&lt;?php\\n\\ndefine( 'NONE', -1 );\\n\\nclass AOJ103...</td>\n",
              "      <td>PHP</td>\n",
              "      <td>train</td>\n",
              "    </tr>\n",
              "    <tr>\n",
              "      <th>2</th>\n",
              "      <td>s899955607.php</td>\n",
              "      <td>&lt;?php\\n  const DIRS = array('R','D','L','U');\\...</td>\n",
              "      <td>PHP</td>\n",
              "      <td>train</td>\n",
              "    </tr>\n",
              "    <tr>\n",
              "      <th>3</th>\n",
              "      <td>s660365995.php</td>\n",
              "      <td>&lt;?php\\n//その都度計算しているとTLEになるので、最初に$max値で計算\\n \\n$...</td>\n",
              "      <td>PHP</td>\n",
              "      <td>train</td>\n",
              "    </tr>\n",
              "    <tr>\n",
              "      <th>4</th>\n",
              "      <td>s682378491.php</td>\n",
              "      <td>&lt;?php\\nwhile (true) {\\n    $line = trim(fgets(...</td>\n",
              "      <td>PHP</td>\n",
              "      <td>train</td>\n",
              "    </tr>\n",
              "  </tbody>\n",
              "</table>\n",
              "</div>"
            ],
            "text/plain": [
              "        file_name                                               code language  \\\n",
              "0  s819985569.php  <?php\\n//??????????????¬??????????????????????...      PHP   \n",
              "1  s085505690.php  <?php\\n\\ndefine( 'NONE', -1 );\\n\\nclass AOJ103...      PHP   \n",
              "2  s899955607.php  <?php\\n  const DIRS = array('R','D','L','U');\\...      PHP   \n",
              "3  s660365995.php  <?php\\n//その都度計算しているとTLEになるので、最初に$max値で計算\\n \\n$...      PHP   \n",
              "4  s682378491.php  <?php\\nwhile (true) {\\n    $line = trim(fgets(...      PHP   \n",
              "\n",
              "  dataset_type  \n",
              "0        train  \n",
              "1        train  \n",
              "2        train  \n",
              "3        train  \n",
              "4        train  "
            ]
          },
          "execution_count": 4,
          "metadata": {},
          "output_type": "execute_result"
        }
      ],
      "source": [
        "df = pd.read_excel(el_path_main/'2. Datos/df_consol.xlsx')\n",
        "df.head()"
      ]
    },
    {
      "cell_type": "markdown",
      "id": "de1766d0",
      "metadata": {
        "id": "de1766d0"
      },
      "source": [
        "# Limpieza\n",
        "En este caso el análsis será por letra, no por palabra. Además, las mayusc son distintas a las minusc. Además, apoyados de Chat GPT, generamos un excel que me indica las formas de genera comentarios en cada lenguaje de programación:\n",
        "- _Create an Excel file containing expressions used to create comments in different programming languages.\"_\n",
        "\n",
        "Esto lo vamos a usar para limpiar los códigos y quedarnos solo con el código sin comentarios"
      ]
    },
    {
      "cell_type": "code",
      "execution_count": 5,
      "id": "875b58f9",
      "metadata": {
        "colab": {
          "base_uri": "https://localhost:8080/",
          "height": 363
        },
        "id": "875b58f9",
        "outputId": "8cd0fc89-86ba-4a0e-abc2-5daa6af77f34"
      },
      "outputs": [
        {
          "data": {
            "text/html": [
              "<div>\n",
              "<style scoped>\n",
              "    .dataframe tbody tr th:only-of-type {\n",
              "        vertical-align: middle;\n",
              "    }\n",
              "\n",
              "    .dataframe tbody tr th {\n",
              "        vertical-align: top;\n",
              "    }\n",
              "\n",
              "    .dataframe thead th {\n",
              "        text-align: right;\n",
              "    }\n",
              "</style>\n",
              "<table border=\"1\" class=\"dataframe\">\n",
              "  <thead>\n",
              "    <tr style=\"text-align: right;\">\n",
              "      <th></th>\n",
              "      <th>Programming Language</th>\n",
              "      <th>Single-line Comment</th>\n",
              "      <th>Multi-line Comment</th>\n",
              "    </tr>\n",
              "  </thead>\n",
              "  <tbody>\n",
              "    <tr>\n",
              "      <th>0</th>\n",
              "      <td>PHP</td>\n",
              "      <td>// comment</td>\n",
              "      <td>/* comment */</td>\n",
              "    </tr>\n",
              "    <tr>\n",
              "      <th>1</th>\n",
              "      <td>JavaScript</td>\n",
              "      <td>// comment</td>\n",
              "      <td>/* comment */</td>\n",
              "    </tr>\n",
              "    <tr>\n",
              "      <th>2</th>\n",
              "      <td>Rust</td>\n",
              "      <td>// comment</td>\n",
              "      <td>/* comment */</td>\n",
              "    </tr>\n",
              "    <tr>\n",
              "      <th>3</th>\n",
              "      <td>C</td>\n",
              "      <td>// comment</td>\n",
              "      <td>/* comment */</td>\n",
              "    </tr>\n",
              "    <tr>\n",
              "      <th>4</th>\n",
              "      <td>D</td>\n",
              "      <td>// comment</td>\n",
              "      <td>/* comment */</td>\n",
              "    </tr>\n",
              "    <tr>\n",
              "      <th>5</th>\n",
              "      <td>Haskell</td>\n",
              "      <td>-- comment</td>\n",
              "      <td>{- comment -}</td>\n",
              "    </tr>\n",
              "    <tr>\n",
              "      <th>6</th>\n",
              "      <td>Java</td>\n",
              "      <td>// comment</td>\n",
              "      <td>/* comment */</td>\n",
              "    </tr>\n",
              "    <tr>\n",
              "      <th>7</th>\n",
              "      <td>C++</td>\n",
              "      <td>// comment</td>\n",
              "      <td>/* comment */</td>\n",
              "    </tr>\n",
              "    <tr>\n",
              "      <th>8</th>\n",
              "      <td>C#</td>\n",
              "      <td>// comment</td>\n",
              "      <td>/* comment */</td>\n",
              "    </tr>\n",
              "    <tr>\n",
              "      <th>9</th>\n",
              "      <td>Python</td>\n",
              "      <td># comment</td>\n",
              "      <td>\"\"\" comment \"\"\"</td>\n",
              "    </tr>\n",
              "  </tbody>\n",
              "</table>\n",
              "</div>"
            ],
            "text/plain": [
              "  Programming Language Single-line Comment Multi-line Comment\n",
              "0                  PHP          // comment      /* comment */\n",
              "1           JavaScript          // comment      /* comment */\n",
              "2                 Rust          // comment      /* comment */\n",
              "3                    C          // comment      /* comment */\n",
              "4                    D          // comment      /* comment */\n",
              "5              Haskell          -- comment      {- comment -}\n",
              "6                 Java          // comment      /* comment */\n",
              "7                  C++          // comment      /* comment */\n",
              "8                   C#          // comment      /* comment */\n",
              "9               Python           # comment    \"\"\" comment \"\"\""
            ]
          },
          "execution_count": 5,
          "metadata": {},
          "output_type": "execute_result"
        }
      ],
      "source": [
        "df_excel_comments = pd.read_excel(el_path_main/'2. Datos/comment_syntax_selected_languages.xlsx')\n",
        "df_excel_comments[df_excel_comments['Programming Language'].isin(df['language'].value_counts().index)]"
      ]
    },
    {
      "cell_type": "code",
      "execution_count": 6,
      "id": "c5546f61",
      "metadata": {
        "id": "c5546f61"
      },
      "outputs": [],
      "source": [
        "# Function to find all occurrences of a character in a string\n",
        "def busca_all_char_ocur(text, char_to_find):\n",
        "    positions = []\n",
        "    start = 0\n",
        "    while True:\n",
        "        position = text.find(char_to_find, start)\n",
        "        if position == -1:\n",
        "            break\n",
        "        positions.append(position)\n",
        "        start = position + 1\n",
        "    return positions"
      ]
    },
    {
      "cell_type": "code",
      "execution_count": 7,
      "id": "b8cc6f6d",
      "metadata": {
        "colab": {
          "base_uri": "https://localhost:8080/"
        },
        "id": "b8cc6f6d",
        "outputId": "3fab9b96-bcd7-482b-b153-79f77da3b531"
      },
      "outputs": [
        {
          "data": {
            "text/plain": [
              "[0, 14]"
            ]
          },
          "execution_count": 7,
          "metadata": {},
          "output_type": "execute_result"
        }
      ],
      "source": [
        "# Usage example:\n",
        "text = \"Hello, world! Hello, universe!\"\n",
        "char_to_find = 'Hello'\n",
        "busca_all_char_ocur(text, char_to_find)"
      ]
    },
    {
      "cell_type": "code",
      "execution_count": 8,
      "id": "c4a1630c",
      "metadata": {
        "id": "c4a1630c"
      },
      "outputs": [],
      "source": [
        "# Function to find posible end of comments in any lenguage code\n",
        "def get_end_posible(index_ini, df_posibles_end, col_end_comentario = 'end_comentario'):\n",
        "    df_posibles_end_copy = df_posibles_end.copy()\n",
        "    par_ordenado_inicio_fin = []\n",
        "    for i in index_ini:\n",
        "        # Para cada posible end del comentario creamos una diferencia para saber cual es el más cercano\n",
        "        df_posibles_end_copy['dif'] = df_posibles_end_copy[col_end_comentario] - i\n",
        "        df_posibles_end_copy = df_posibles_end_copy[df_posibles_end_copy['dif'] > 0]\n",
        "        try:\n",
        "            el_mini_index_df = df_posibles_end_copy['dif'].idxmin()\n",
        "            el_end = df_posibles_end_copy.loc[el_mini_index_df, col_end_comentario]\n",
        "        except:\n",
        "            el_mini_index_df = -1\n",
        "            el_end = 999_999_999 # Colocamos el último posible caracter del code\n",
        "        par_ordenado_inicio_fin.append([i, el_end])\n",
        "    return par_ordenado_inicio_fin"
      ]
    },
    {
      "cell_type": "code",
      "execution_count": 9,
      "id": "d74e7301",
      "metadata": {
        "id": "d74e7301"
      },
      "outputs": [],
      "source": [
        "# Function to get rid of comments in code\n",
        "def busca_elimina_cadenas_comment_single_line(code, char_comment):\n",
        "\n",
        "    # Identificamos el index del posible inicio de un comentario de una sola línea\n",
        "    el_index_single_line = busca_all_char_ocur(code, char_comment)\n",
        "    end_comentario = busca_all_char_ocur(code, '\\n')\n",
        "\n",
        "    # Identificamos donde termina el comentario de una sola línea\n",
        "    df_end_comentario = pd.DataFrame(end_comentario, columns=['end_comentario'])\n",
        "\n",
        "    # Casos en que no haremos nada:\n",
        "    # 1. No caracteres que indiquen el inicio de un comentario de una sola línea\n",
        "    # 2. No caracteres que indiquen el final de un comentario de una sola línea (\\n)\n",
        "    if (len(el_index_single_line)==0)|(len(end_comentario)==0) :\n",
        "        # No hay comentarios de una sola línea\n",
        "        return code\n",
        "    if len(el_index_single_line) > 0 :\n",
        "        lista_pares_ini_fin_comment = get_end_posible(index_ini = el_index_single_line, df_posibles_end = df_end_comentario)\n",
        "        code_limpio = ''\n",
        "        limpi_desde = 0\n",
        "        for i in lista_pares_ini_fin_comment:\n",
        "            limpi_hasta = i[0]\n",
        "            code_limpio_tmp = code[limpi_desde:limpi_hasta]\n",
        "            limpi_desde = i[1]\n",
        "            code_limpio += code_limpio_tmp\n",
        "        return code_limpio"
      ]
    },
    {
      "cell_type": "code",
      "execution_count": 10,
      "id": "5e24af3b",
      "metadata": {
        "id": "5e24af3b"
      },
      "outputs": [],
      "source": [
        "# Funcion para eliminar comentarios de una sola línea en un código, pero teniendo en cuenta que hay un umbral de\n",
        "#  eliminación que no quiero superar\n",
        "\n",
        "\n",
        "# Caso 1: single line comment\n",
        "def revisa_single_line_comment(code, verb=False, th_elim = 0.3):\n",
        "\n",
        "    code_entrada = code\n",
        "\n",
        "    # Caso de //\n",
        "    caso_comment = '//'\n",
        "    code_salida = busca_elimina_cadenas_comment_single_line(code_entrada, caso_comment)\n",
        "    ptj_elim = len(code_salida)/len(code_entrada)-1\n",
        "\n",
        "    # Si el porcentaje de eliminación es mayor al umbral, no se realizan los cambios\n",
        "    if abs(ptj_elim) > abs(th_elim):\n",
        "        code_entrada = code_entrada\n",
        "        el_print = f'No se eliminaron comentarios de una sola línea por: {caso_comment}, se hubiera eliminado el {ptj_elim:.2%}'\n",
        "    else:\n",
        "        code_entrada = code_salida\n",
        "        el_print = f'Porcentaje datos eliminados single line por {caso_comment}: {ptj_elim:.2%}'\n",
        "    if verb:\n",
        "        print(el_print)\n",
        "\n",
        "    # Caso de --\n",
        "    caso_comment = '--'\n",
        "    code_salida = busca_elimina_cadenas_comment_single_line(code_entrada, caso_comment)\n",
        "    ptj_elim = len(code_salida)/len(code_entrada)-1\n",
        "\n",
        "    # Si el porcentaje de eliminación es mayor al umbral, no se realizan los cambios\n",
        "    if abs(ptj_elim) > abs(th_elim):\n",
        "        code_entrada = code_entrada\n",
        "        el_print = f'No se eliminaron comentarios de una sola línea por: {caso_comment}, se hubiera eliminado el {ptj_elim:.2%}'\n",
        "    else:\n",
        "        code_entrada = code_salida\n",
        "        el_print = f'Porcentaje datos eliminados single line por {caso_comment}: {ptj_elim:.2%}'\n",
        "    if verb:\n",
        "        print(el_print)\n",
        "\n",
        "    # Caso de #\n",
        "    caso_comment = '#'\n",
        "    code_salida = busca_elimina_cadenas_comment_single_line(code_entrada, caso_comment)\n",
        "    ptj_elim = len(code_salida)/len(code_entrada)-1\n",
        "\n",
        "    # Si el porcentaje de eliminación es mayor al umbral, no se realizan los cambios\n",
        "    if abs(ptj_elim) > abs(th_elim):\n",
        "        code_entrada = code_entrada\n",
        "        el_print = f'No se eliminaron comentarios de una sola línea por: {caso_comment}, se hubiera eliminado el {ptj_elim:.2%}'\n",
        "    else:\n",
        "        code_entrada = code_salida\n",
        "        el_print = f'Porcentaje datos eliminados single line por {caso_comment}: {ptj_elim:.2%}'\n",
        "    if verb:\n",
        "        print(el_print)\n",
        "\n",
        "    return code_entrada"
      ]
    },
    {
      "cell_type": "code",
      "execution_count": 11,
      "id": "7999dec9",
      "metadata": {
        "colab": {
          "base_uri": "https://localhost:8080/",
          "height": 221
        },
        "id": "7999dec9",
        "outputId": "04839098-998d-4639-88d5-c42ef83ebfdb"
      },
      "outputs": [
        {
          "name": "stdout",
          "output_type": "stream",
          "text": [
            "Porcentaje datos eliminados single line por //: 0.00%\n",
            "Porcentaje datos eliminados single line por --: 0.00%\n",
            "No se eliminaron comentarios de una sola línea por: #, se hubiera eliminado el -60.30%\n"
          ]
        },
        {
          "data": {
            "text/plain": [
              "\"#! -*- coding: utf-8-unix -*-\\nimport math\\n\\nif __name__=='__main__':\\n  # lines = [x.strip() for x in sys.stdin.readlines() if x != '' and x != '\\\\n']\\n  # n = int(lines[0])\\n  n = int(raw_input())\\n  for i in xrange(n):\\n    # x1, y1, x2, y2, x3, y3, x4, y4 = map(float, lines[i+1].split(' '))\\n    x1, y1, x2, y2, x3, y3, x4, y4 = map(float, raw_input().strip().split(' '))\\n    # if x1 == x2 or x3 == x4:\\n    #   if x1 == x2 and x3 == x4:\\n    #     print 'YES'\\n    #   else:\\n    #     print 'NO'\\n    #   continue\\n    # elif y1 == y2 or y3 == y4:\\n    #   if y1 == y2 and y3 == y4:\\n    #     print 'YES'\\n    #   else:\\n    #     print 'NO'\\n    #   continue\\n    # else:\\n      # if (y2 - y1) * (x4 - x3) == (y4 - y3) * (x2 - x1):\\n    if math.fabs((y2 - y1) * (x4 - x3) - (y4 - y3) * (x2 - x1)) < 1e-10:\\n      print 'YES'\\n    else:\\n      print 'NO'\\n      # a1 = (y2 - y1) / (x2 - x1)\\n      # b1 = y1 - a1 * x1\\n      # a2 = (y4 - y3) / (x4 - x3)\\n      # b2 = y3 - a2 * x3\\n      # if (a1 == a2):# and (b1 != b2):\\n      #   print 'YES'\\n      # else:\\n      #   print 'NO'\\n    # except:\\n    #   break\""
            ]
          },
          "execution_count": 11,
          "metadata": {},
          "output_type": "execute_result"
        }
      ],
      "source": [
        "revisa_single_line_comment(df.loc[999,'code'], verb=True)"
      ]
    },
    {
      "cell_type": "code",
      "execution_count": 12,
      "id": "b8ffbbec",
      "metadata": {
        "colab": {
          "base_uri": "https://localhost:8080/",
          "height": 221
        },
        "id": "b8ffbbec",
        "outputId": "6cf1bb78-4972-45e9-c125-e9e61d8f86b2"
      },
      "outputs": [
        {
          "name": "stdout",
          "output_type": "stream",
          "text": [
            "Porcentaje datos eliminados single line por //: -28.19%\n",
            "Porcentaje datos eliminados single line por --: -3.60%\n",
            "No se eliminaron comentarios de una sola línea por: #, se hubiera eliminado el -99.95%\n"
          ]
        },
        {
          "data": {
            "text/plain": [
              "'#include<stdio.h>\\n#include<stdlib.h>\\n\\nvoid* cmalloc(int size, char* em){\\n\\t\\n\\t\\n\\t\\n\\tvoid* ob = malloc(size);\\n\\tif(ob == NULL){\\n\\t\\tprintf(\"We can\\'t ensure plenty memory in this program. %s \\\\n\", em);\\n\\t\\texit(0);\\n\\t}\\n    return ob;\\n}\\n\\nvoid* crealloc(void* ob, int size, char* em){\\n\\t\\n\\t\\n\\t\\n\\t\\n\\t\\n\\tvoid* ret = realloc(ob, size);\\n\\tif(ret == NULL){\\n\\t\\tprintf(\"We can\\'t re-ensure plenty memory in this program. %s \\\\n\", em);\\n\\t\\texit(0);\\n\\t}\\n\\treturn ret;\\n}\\n\\ntypedef struct {\\n\\tint* arp;\\n\\tint size;\\n\\tint stack_size;\\n}vector_i;\\n\\nint* vector_i_at(const vector_i* ob, int idx){\\n\\t\\n\\tif(ob->size <= idx){\\n\\t\\tprintf(\"at-access in vector overes the range.\\\\n\");\\n\\t\\texit(0);\\n\\t}\\n\\treturn (ob->arp + idx);\\n}\\n\\nvoid vector_i_private_increase(vector_i* ob, int size){\\n\\twhile(ob->stack_size < size)ob->stack_size *= 2;\\n}\\n\\nvoid vector_i_constructor(vector_i* ob, int size){\\n\\t\\n\\tob->size = size;\\n\\tob->stack_size = 1;\\n\\tvector_i_private_increase(ob, size);\\n\\tob->arp = cmalloc(sizeof(int) * ob->stack_size, \"vector initialize failed.\");\\n\\t\\n\\tfor(int i = 0; i < ob->size; i++){\\n\\t\\tob->arp[i] = 0;\\n\\t}\\n}\\nvoid vector_i_destructor(vector_i* ob){\\n\\tob->size = 0;\\n\\tob->stack_size = 0;\\n\\tfree(ob->arp);\\n}\\n\\nvoid vector_i_resize(vector_i* ob, int size){\\n\\tif(ob->size < size){\\n\\t\\tob->arp = crealloc(ob->arp, size, \"We cannot remalloc memory for vector resizing.\");\\n\\t\\t\\n\\t\\tfor(int i = ob->size; i < size; i++){\\n\\t\\t\\t*(ob->arp + i) = 0;\\n\\t\\t}\\n\\t}else {\\n\\t\\tfor(int i = size; i < ob->size; i++){\\n\\t\\t\\t*(ob->arp + i) = 0;\\n\\t\\t}\\n\\t}\\n\\tob->size = size;\\n}\\n\\nint* vector_i_begin(vector_i* ob){\\n\\treturn ob->arp;\\n}\\n\\nint* vector_i_end(vector_i* ob){\\n\\treturn (ob->arp + ob->size);\\n}\\n\\nvoid vector_i_push_back(vector_i* ob, int val){\\n\\tif(ob->size == ob->stack_size){\\n\\t\\tvector_i_private_increase(ob, ob->size + 1);\\n\\t\\tob->arp = crealloc(ob->arp, sizeof(int) * ob->stack_size, \"We can\\'t resize in pushing back.\");\\n\\t}\\n\\t*(ob->arp + ob->size) = val;\\n\\tob->size++;\\n}\\n\\nint vector_i_pop_back(vector_i * ob){\\n\\tif(ob->size == 0){\\n\\t\\tprintf(\"We cannot erase empty vector\");\\n\\t\\texit(1);\\n\\t}\\n\\tob->size'"
            ]
          },
          "execution_count": 12,
          "metadata": {},
          "output_type": "execute_result"
        }
      ],
      "source": [
        "revisa_single_line_comment(df.loc[272,'code'], verb=True)"
      ]
    },
    {
      "cell_type": "code",
      "execution_count": 13,
      "id": "ffc35445",
      "metadata": {
        "colab": {
          "base_uri": "https://localhost:8080/"
        },
        "id": "ffc35445",
        "outputId": "569cf7a4-33a0-4386-8e86-e8f07b7f84f6"
      },
      "outputs": [],
      "source": [
        "\n",
        "df['code_no_comments'] = df['code'].apply(lambda x: revisa_single_line_comment(x, th_elim=0.7))"
      ]
    },
    {
      "cell_type": "code",
      "execution_count": 14,
      "id": "b8e912ce",
      "metadata": {
        "colab": {
          "base_uri": "https://localhost:8080/"
        },
        "id": "b8e912ce",
        "outputId": "c98db6a3-8335-445f-aab1-7cac01c45aa2"
      },
      "outputs": [
        {
          "name": "stdout",
          "output_type": "stream",
          "text": [
            "#! -*- coding: utf-8-unix -*-\n",
            "import math\n",
            "\n",
            "if __name__=='__main__':\n",
            "  # lines = [x.strip() for x in sys.stdin.readlines() if x != '' and x != '\\n']\n",
            "  # n = int(lines[0])\n",
            "  n = int(raw_input())\n",
            "  for i in xrange(n):\n",
            "    # x1, y1, x2, y2, x3, y3, x4, y4 = map(float, lines[i+1].split(' '))\n",
            "    x1, y1, x2, y2, x3, y3, x4, y4 = map(float, raw_input().strip().split(' '))\n",
            "    # if x1 == x2 or x3 == x4:\n",
            "    #   if x1 == x2 and x3 == x4:\n",
            "    #     print 'YES'\n",
            "    #   else:\n",
            "    #     print 'NO'\n",
            "    #   continue\n",
            "    # elif y1 == y2 or y3 == y4:\n",
            "    #   if y1 == y2 and y3 == y4:\n",
            "    #     print 'YES'\n",
            "    #   else:\n",
            "    #     print 'NO'\n",
            "    #   continue\n",
            "    # else:\n",
            "      # if (y2 - y1) * (x4 - x3) == (y4 - y3) * (x2 - x1):\n",
            "    if math.fabs((y2 - y1) * (x4 - x3) - (y4 - y3) * (x2 - x1)) < 1e-10:\n",
            "      print 'YES'\n",
            "    else:\n",
            "      print 'NO'\n",
            "      # a1 = (y2 - y1) / (x2 - x1)\n",
            "      # b1 = y1 - a1 * x1\n",
            "      # a2 = (y4 - y3) / (x4 - x3)\n",
            "      # b2 = y3 - a2 * x3\n",
            "      # if (a1 == a2):# and (b1 != b2):\n",
            "      #   print 'YES'\n",
            "      # else:\n",
            "      #   print 'NO'\n",
            "    # except:\n",
            "    #   break\n"
          ]
        }
      ],
      "source": [
        "print(df.loc[999,'code'])"
      ]
    },
    {
      "cell_type": "code",
      "execution_count": 15,
      "id": "841ab471",
      "metadata": {
        "colab": {
          "base_uri": "https://localhost:8080/"
        },
        "id": "841ab471",
        "outputId": "3a180206-06cf-4e5f-ea10-3b9d2e1203d3"
      },
      "outputs": [
        {
          "name": "stdout",
          "output_type": "stream",
          "text": [
            "\n",
            "import math\n",
            "\n",
            "if __name__=='__main__':\n",
            "  \n",
            "  \n",
            "  n = int(raw_input())\n",
            "  for i in xrange(n):\n",
            "    \n",
            "    x1, y1, x2, y2, x3, y3, x4, y4 = map(float, raw_input().strip().split(' '))\n",
            "    \n",
            "    \n",
            "    \n",
            "    \n",
            "    \n",
            "    \n",
            "    \n",
            "    \n",
            "    \n",
            "    \n",
            "    \n",
            "    \n",
            "    \n",
            "      \n",
            "    if math.fabs((y2 - y1) * (x4 - x3) - (y4 - y3) * (x2 - x1)) < 1e-10:\n",
            "      print 'YES'\n",
            "    else:\n",
            "      print 'NO'\n",
            "      \n",
            "      \n",
            "      \n",
            "      \n",
            "      \n",
            "      \n",
            "      \n",
            "      \n",
            "    \n",
            "    \n"
          ]
        }
      ],
      "source": [
        "print(df.loc[999,'code_no_comments'])"
      ]
    },
    {
      "cell_type": "code",
      "execution_count": 16,
      "id": "e441326a",
      "metadata": {
        "colab": {
          "base_uri": "https://localhost:8080/",
          "height": 461
        },
        "id": "e441326a",
        "outputId": "5b1fb468-0ab6-48ea-f9bd-63590094e17f"
      },
      "outputs": [
        {
          "data": {
            "text/html": [
              "<div>\n",
              "<style scoped>\n",
              "    .dataframe tbody tr th:only-of-type {\n",
              "        vertical-align: middle;\n",
              "    }\n",
              "\n",
              "    .dataframe tbody tr th {\n",
              "        vertical-align: top;\n",
              "    }\n",
              "\n",
              "    .dataframe thead th {\n",
              "        text-align: right;\n",
              "    }\n",
              "</style>\n",
              "<table border=\"1\" class=\"dataframe\">\n",
              "  <thead>\n",
              "    <tr style=\"text-align: right;\">\n",
              "      <th></th>\n",
              "      <th>file_name</th>\n",
              "      <th>code</th>\n",
              "      <th>language</th>\n",
              "      <th>dataset_type</th>\n",
              "      <th>code_no_comments</th>\n",
              "    </tr>\n",
              "  </thead>\n",
              "  <tbody>\n",
              "    <tr>\n",
              "      <th>270</th>\n",
              "      <td>s275698564.c</td>\n",
              "      <td>\\n\\n// j;main(i){for(;9/i;i+=!(j%=9))printf(\"%...</td>\n",
              "      <td>C</td>\n",
              "      <td>train</td>\n",
              "      <td>\\n\\n// j;main(i){for(;9/i;i+=!(j%=9))printf(\"%...</td>\n",
              "    </tr>\n",
              "    <tr>\n",
              "      <th>271</th>\n",
              "      <td>s957179855.c</td>\n",
              "      <td>#include &lt;stdio.h&gt;\\n\\nint main(int argc, const...</td>\n",
              "      <td>C</td>\n",
              "      <td>train</td>\n",
              "      <td>#include &lt;stdio.h&gt;\\n\\nint main(int argc, const...</td>\n",
              "    </tr>\n",
              "    <tr>\n",
              "      <th>272</th>\n",
              "      <td>s637528533.c</td>\n",
              "      <td>#include&lt;stdio.h&gt;\\n#include&lt;stdlib.h&gt;\\n\\nvoid*...</td>\n",
              "      <td>C</td>\n",
              "      <td>train</td>\n",
              "      <td>#include&lt;stdio.h&gt;\\n#include&lt;stdlib.h&gt;\\n\\nvoid*...</td>\n",
              "    </tr>\n",
              "    <tr>\n",
              "      <th>273</th>\n",
              "      <td>s477259846.c</td>\n",
              "      <td>#include &lt;stdio.h&gt;\\nint Maxcheck(int *p,int *q...</td>\n",
              "      <td>C</td>\n",
              "      <td>train</td>\n",
              "      <td>#include &lt;stdio.h&gt;\\nint Maxcheck(int *p,int *q...</td>\n",
              "    </tr>\n",
              "    <tr>\n",
              "      <th>274</th>\n",
              "      <td>s330822575.c</td>\n",
              "      <td>#include &lt;stdio.h&gt;\\n\\n#define MIN(a,b) (((a)&gt;(...</td>\n",
              "      <td>C</td>\n",
              "      <td>train</td>\n",
              "      <td>#include &lt;stdio.h&gt;\\n\\n#define MIN(a,b) (((a)&gt;(...</td>\n",
              "    </tr>\n",
              "    <tr>\n",
              "      <th>...</th>\n",
              "      <td>...</td>\n",
              "      <td>...</td>\n",
              "      <td>...</td>\n",
              "      <td>...</td>\n",
              "      <td>...</td>\n",
              "    </tr>\n",
              "    <tr>\n",
              "      <th>935</th>\n",
              "      <td>s061913833.c</td>\n",
              "      <td>/*\\n\\naとbの最小公倍数、最大公約数を求めよ。\\naとbは20億以下とする。\\nただし...</td>\n",
              "      <td>C</td>\n",
              "      <td>test</td>\n",
              "      <td>/*\\n\\naとbの最小公倍数、最大公約数を求めよ。\\naとbは20億以下とする。\\nただし...</td>\n",
              "    </tr>\n",
              "    <tr>\n",
              "      <th>936</th>\n",
              "      <td>s037283393.c</td>\n",
              "      <td>#include &lt;stdio.h&gt;\\n#include &lt;stdlib.h&gt;\\n\\n// ...</td>\n",
              "      <td>C</td>\n",
              "      <td>test</td>\n",
              "      <td>#include &lt;stdio.h&gt;\\n#include &lt;stdlib.h&gt;\\n\\n// ...</td>\n",
              "    </tr>\n",
              "    <tr>\n",
              "      <th>937</th>\n",
              "      <td>s074878500.c</td>\n",
              "      <td>#include&lt;stdio.h&gt;\\n\\ntypedef struct eq\\n{\\n\\ti...</td>\n",
              "      <td>C</td>\n",
              "      <td>test</td>\n",
              "      <td>#include&lt;stdio.h&gt;\\n\\ntypedef struct eq\\n{\\n\\ti...</td>\n",
              "    </tr>\n",
              "    <tr>\n",
              "      <th>938</th>\n",
              "      <td>s039252775.c</td>\n",
              "      <td>#include &lt;stdio.h&gt;\\n\\nint main(void) \\n{\\n  /*...</td>\n",
              "      <td>C</td>\n",
              "      <td>test</td>\n",
              "      <td>#include &lt;stdio.h&gt;\\n\\nint main(void) \\n{\\n  /*...</td>\n",
              "    </tr>\n",
              "    <tr>\n",
              "      <th>939</th>\n",
              "      <td>s084977814.c</td>\n",
              "      <td>\\n\\n// j;main(i){for(;9/i;i+=!(j%=9))printf(\"%...</td>\n",
              "      <td>C</td>\n",
              "      <td>test</td>\n",
              "      <td>\\n\\n// j;main(i){for(;9/i;i+=!(j%=9))printf(\"%...</td>\n",
              "    </tr>\n",
              "  </tbody>\n",
              "</table>\n",
              "<p>100 rows × 5 columns</p>\n",
              "</div>"
            ],
            "text/plain": [
              "        file_name                                               code language  \\\n",
              "270  s275698564.c  \\n\\n// j;main(i){for(;9/i;i+=!(j%=9))printf(\"%...        C   \n",
              "271  s957179855.c  #include <stdio.h>\\n\\nint main(int argc, const...        C   \n",
              "272  s637528533.c  #include<stdio.h>\\n#include<stdlib.h>\\n\\nvoid*...        C   \n",
              "273  s477259846.c  #include <stdio.h>\\nint Maxcheck(int *p,int *q...        C   \n",
              "274  s330822575.c  #include <stdio.h>\\n\\n#define MIN(a,b) (((a)>(...        C   \n",
              "..            ...                                                ...      ...   \n",
              "935  s061913833.c  /*\\n\\naとbの最小公倍数、最大公約数を求めよ。\\naとbは20億以下とする。\\nただし...        C   \n",
              "936  s037283393.c  #include <stdio.h>\\n#include <stdlib.h>\\n\\n// ...        C   \n",
              "937  s074878500.c  #include<stdio.h>\\n\\ntypedef struct eq\\n{\\n\\ti...        C   \n",
              "938  s039252775.c  #include <stdio.h>\\n\\nint main(void) \\n{\\n  /*...        C   \n",
              "939  s084977814.c  \\n\\n// j;main(i){for(;9/i;i+=!(j%=9))printf(\"%...        C   \n",
              "\n",
              "    dataset_type                                   code_no_comments  \n",
              "270        train  \\n\\n// j;main(i){for(;9/i;i+=!(j%=9))printf(\"%...  \n",
              "271        train  #include <stdio.h>\\n\\nint main(int argc, const...  \n",
              "272        train  #include<stdio.h>\\n#include<stdlib.h>\\n\\nvoid*...  \n",
              "273        train  #include <stdio.h>\\nint Maxcheck(int *p,int *q...  \n",
              "274        train  #include <stdio.h>\\n\\n#define MIN(a,b) (((a)>(...  \n",
              "..           ...                                                ...  \n",
              "935         test  /*\\n\\naとbの最小公倍数、最大公約数を求めよ。\\naとbは20億以下とする。\\nただし...  \n",
              "936         test  #include <stdio.h>\\n#include <stdlib.h>\\n\\n// ...  \n",
              "937         test  #include<stdio.h>\\n\\ntypedef struct eq\\n{\\n\\ti...  \n",
              "938         test  #include <stdio.h>\\n\\nint main(void) \\n{\\n  /*...  \n",
              "939         test  \\n\\n// j;main(i){for(;9/i;i+=!(j%=9))printf(\"%...  \n",
              "\n",
              "[100 rows x 5 columns]"
            ]
          },
          "execution_count": 16,
          "metadata": {},
          "output_type": "execute_result"
        }
      ],
      "source": [
        "df[df['language']=='C']"
      ]
    },
    {
      "cell_type": "code",
      "execution_count": 17,
      "id": "75fbdbab",
      "metadata": {
        "colab": {
          "base_uri": "https://localhost:8080/",
          "height": 165
        },
        "id": "75fbdbab",
        "outputId": "e2264d7e-bc99-4673-b8d3-af4a3c62083a"
      },
      "outputs": [
        {
          "data": {
            "text/plain": [
              "'#include<stdio.h>\\n#include<stdlib.h>\\n\\nvoid* cmalloc(int size, char* em){\\n\\t//malloc with checking.\\n\\t//in em, you can input some error message for identifying the error position.\\n\\t//if you don\\'t input any in em, we won\\'t output any extra message.\\n\\tvoid* ob = malloc(size);\\n\\tif(ob == NULL){\\n\\t\\tprintf(\"We can\\'t ensure plenty memory in this program. %s \\\\n\", em);\\n\\t\\texit(0);\\n\\t}\\n    return ob;\\n}\\n\\nvoid* crealloc(void* ob, int size, char* em){\\n\\t//realloc with checking.\\n\\t//in em, you can input some error message for identifying the error position.\\n\\t//if you don\\'t input any in em, we won\\'t output any extra message.\\n\\t//realloc cost linear time depeding size at worst.\\n\\t\\n\\tvoid* ret = realloc(ob, size);\\n\\tif(ret == NULL){\\n\\t\\tprintf(\"We can\\'t re-ensure plenty memory in this program. %s \\\\n\", em);\\n\\t\\texit(0);\\n\\t}\\n\\treturn ret;\\n}\\n\\ntypedef struct {\\n\\tint* arp;\\n\\tint size;\\n\\tint stack_size;\\n}vector_i;\\n\\nint* vector_i_at(const vector_i* ob, int idx){\\n\\t//ob[idx]\\n\\tif(ob->size <= idx){\\n\\t\\tprintf(\"at-access in vector overes the range.\\\\n\");\\n\\t\\texit(0);\\n\\t}\\n\\treturn (ob->arp + idx);\\n}\\n\\nvoid vector_i_private_increase(vector_i* ob, int size){\\n\\twhile(ob->stack_size < size)ob->stack_size *= 2;\\n}\\n\\nvoid vector_i_constructor(vector_i* ob, int size){\\n\\t//fill the vector by 0.\\n\\tob->size = size;\\n\\tob->stack_size = 1;\\n\\tvector_i_private_increase(ob, size);\\n\\tob->arp = cmalloc(sizeof(int) * ob->stack_size, \"vector initialize failed.\");\\n\\t\\n\\tfor(int i = 0; i < ob->size; i++){\\n\\t\\tob->arp[i] = 0;\\n\\t}\\n}\\nvoid vector_i_destructor(vector_i* ob){\\n\\tob->size = 0;\\n\\tob->stack_size = 0;\\n\\tfree(ob->arp);\\n}\\n\\nvoid vector_i_resize(vector_i* ob, int size){\\n\\tif(ob->size < size){\\n\\t\\tob->arp = crealloc(ob->arp, size, \"We cannot remalloc memory for vector resizing.\");\\n\\t\\t\\n\\t\\tfor(int i = ob->size; i < size; i++){\\n\\t\\t\\t*(ob->arp + i) = 0;\\n\\t\\t}\\n\\t}else {\\n\\t\\tfor(int i = size; i < ob->size; i++){\\n\\t\\t\\t*(ob->arp + i) = 0;\\n\\t\\t}\\n\\t}\\n\\tob->size = size;\\n}\\n\\nint* vector_i_begin(vector_i* ob){\\n\\treturn ob->arp;\\n}\\n\\nint* vector_i_end(vector_i* ob){\\n\\treturn (ob->arp + ob->size);\\n}\\n\\nvoid vector_i_push_back(vector_i* ob, int val){\\n\\tif(ob->size == ob->stack_size){\\n\\t\\tvector_i_private_increase(ob, ob->size + 1);\\n\\t\\tob->arp = crealloc(ob->arp, sizeof(int) * ob->stack_size, \"We can\\'t resize in pushing back.\");\\n\\t}\\n\\t*(ob->arp + ob->size) = val;\\n\\tob->size++;\\n}\\n\\nint vector_i_pop_back(vector_i * ob){\\n\\tif(ob->size == 0){\\n\\t\\tprintf(\"We cannot erase empty vector\");\\n\\t\\texit(1);\\n\\t}\\n\\tob->size--;\\n\\tint ret = ob->arp[ob->size];\\n\\tob->arp[ob->size] = 0;\\n\\treturn ret;\\n}\\n\\n//compare\\nint comp(const int* a, const int* b){\\n\\treturn *a - *b;\\n}\\n\\nint main(){\\n\\tvector_i vi;\\n\\tvector_i_constructor(&vi, 0);\\n\\t\\n\\tfor(int i = 0; i < 10; i++){\\n\\t\\tint tmp;\\n\\t\\tscanf(\"%d\", &tmp);\\n\\t\\tvector_i_push_back(&vi, tmp);\\n\\t}\\n\\t\\n\\tqsort(vector_i_begin(&vi), vi.size, sizeof(int), comp);\\n\\t\\n\\tfor(int i = 9; i >= 7; i--)printf(\"%d\\\\n\", *vector_i_at(&vi, i));\\n\\t\\n\\tvector_i_destructor(&vi);\\n\\treturn 0;\\n}\\n'"
            ]
          },
          "execution_count": 17,
          "metadata": {},
          "output_type": "execute_result"
        }
      ],
      "source": [
        "df.loc[272, 'code']"
      ]
    },
    {
      "cell_type": "code",
      "execution_count": 18,
      "id": "dda44e32",
      "metadata": {
        "colab": {
          "base_uri": "https://localhost:8080/",
          "height": 165
        },
        "id": "dda44e32",
        "outputId": "f06479ee-b576-4202-c0d4-31a7820574a8"
      },
      "outputs": [
        {
          "data": {
            "text/plain": [
              "'#include<stdio.h>\\n#include<stdlib.h>\\n\\nvoid* cmalloc(int size, char* em){\\n\\t\\n\\t\\n\\t\\n\\tvoid* ob = malloc(size);\\n\\tif(ob == NULL){\\n\\t\\tprintf(\"We can\\'t ensure plenty memory in this program. %s \\\\n\", em);\\n\\t\\texit(0);\\n\\t}\\n    return ob;\\n}\\n\\nvoid* crealloc(void* ob, int size, char* em){\\n\\t\\n\\t\\n\\t\\n\\t\\n\\t\\n\\tvoid* ret = realloc(ob, size);\\n\\tif(ret == NULL){\\n\\t\\tprintf(\"We can\\'t re-ensure plenty memory in this program. %s \\\\n\", em);\\n\\t\\texit(0);\\n\\t}\\n\\treturn ret;\\n}\\n\\ntypedef struct {\\n\\tint* arp;\\n\\tint size;\\n\\tint stack_size;\\n}vector_i;\\n\\nint* vector_i_at(const vector_i* ob, int idx){\\n\\t\\n\\tif(ob->size <= idx){\\n\\t\\tprintf(\"at-access in vector overes the range.\\\\n\");\\n\\t\\texit(0);\\n\\t}\\n\\treturn (ob->arp + idx);\\n}\\n\\nvoid vector_i_private_increase(vector_i* ob, int size){\\n\\twhile(ob->stack_size < size)ob->stack_size *= 2;\\n}\\n\\nvoid vector_i_constructor(vector_i* ob, int size){\\n\\t\\n\\tob->size = size;\\n\\tob->stack_size = 1;\\n\\tvector_i_private_increase(ob, size);\\n\\tob->arp = cmalloc(sizeof(int) * ob->stack_size, \"vector initialize failed.\");\\n\\t\\n\\tfor(int i = 0; i < ob->size; i++){\\n\\t\\tob->arp[i] = 0;\\n\\t}\\n}\\nvoid vector_i_destructor(vector_i* ob){\\n\\tob->size = 0;\\n\\tob->stack_size = 0;\\n\\tfree(ob->arp);\\n}\\n\\nvoid vector_i_resize(vector_i* ob, int size){\\n\\tif(ob->size < size){\\n\\t\\tob->arp = crealloc(ob->arp, size, \"We cannot remalloc memory for vector resizing.\");\\n\\t\\t\\n\\t\\tfor(int i = ob->size; i < size; i++){\\n\\t\\t\\t*(ob->arp + i) = 0;\\n\\t\\t}\\n\\t}else {\\n\\t\\tfor(int i = size; i < ob->size; i++){\\n\\t\\t\\t*(ob->arp + i) = 0;\\n\\t\\t}\\n\\t}\\n\\tob->size = size;\\n}\\n\\nint* vector_i_begin(vector_i* ob){\\n\\treturn ob->arp;\\n}\\n\\nint* vector_i_end(vector_i* ob){\\n\\treturn (ob->arp + ob->size);\\n}\\n\\nvoid vector_i_push_back(vector_i* ob, int val){\\n\\tif(ob->size == ob->stack_size){\\n\\t\\tvector_i_private_increase(ob, ob->size + 1);\\n\\t\\tob->arp = crealloc(ob->arp, sizeof(int) * ob->stack_size, \"We can\\'t resize in pushing back.\");\\n\\t}\\n\\t*(ob->arp + ob->size) = val;\\n\\tob->size++;\\n}\\n\\nint vector_i_pop_back(vector_i * ob){\\n\\tif(ob->size == 0){\\n\\t\\tprintf(\"We cannot erase empty vector\");\\n\\t\\texit(1);\\n\\t}\\n\\tob->size'"
            ]
          },
          "execution_count": 18,
          "metadata": {},
          "output_type": "execute_result"
        }
      ],
      "source": [
        "df.loc[272, 'code_no_comments']"
      ]
    },
    {
      "cell_type": "code",
      "execution_count": 19,
      "id": "93c5990c",
      "metadata": {
        "id": "93c5990c"
      },
      "outputs": [],
      "source": [
        "# Caso 2: multi line comment\n",
        "# This case will be considered in a following MVP"
      ]
    },
    {
      "cell_type": "code",
      "execution_count": 20,
      "id": "8f10b8c0",
      "metadata": {
        "colab": {
          "base_uri": "https://localhost:8080/",
          "height": 429
        },
        "id": "8f10b8c0",
        "outputId": "05f0b02f-4840-46b9-dc3b-d54addd8d1bb"
      },
      "outputs": [
        {
          "data": {
            "text/plain": [
              "language\n",
              "PHP           100\n",
              "JavaScript    100\n",
              "Rust          100\n",
              "C             100\n",
              "D             100\n",
              "Haskell       100\n",
              "Java          100\n",
              "C++           100\n",
              "C#            100\n",
              "Python        100\n",
              "Name: count, dtype: int64"
            ]
          },
          "execution_count": 20,
          "metadata": {},
          "output_type": "execute_result"
        }
      ],
      "source": [
        "df['language'].value_counts()"
      ]
    },
    {
      "cell_type": "code",
      "execution_count": 21,
      "id": "28e3dc19",
      "metadata": {
        "colab": {
          "base_uri": "https://localhost:8080/"
        },
        "id": "28e3dc19",
        "outputId": "6e4515a9-dd4f-4d4f-f48a-18b9d602d8bf"
      },
      "outputs": [
        {
          "name": "stdout",
          "output_type": "stream",
          "text": [
            "Número aleatorio: 128\n",
            "// 標準入力\n",
            "var fs = require('fs'),\n",
            "length = fs.fstatSync(process.stdin.fd).size,\n",
            "buffer = new Buffer(length),\n",
            "bytesRead = fs.readSync(process.stdin.fd, buffer, 0, length, 0),\n",
            "input = buffer.toString('utf8', 0, bytesRead).split('\\n');\n",
            "main();\n",
            "  \n",
            "function main(){\n",
            "  var read = 0;\n",
            "  var resultCase = 1;\n",
            "  while(true){\n",
            "    var maxWeight = +input[read++];\n",
            "    if(!maxWeight){\n",
            "      break;\n",
            "    }\n",
            "      \n",
            "    var treasures = +input[read++];\n",
            "    var pdp = new Int16Array(maxWeight + 1);\n",
            "    for(var i = treasures; i--;){\n",
            "      var c = input[read++].split(\",\");\n",
            "      var tv = +c[0];\n",
            "      var tw = +c[1];\n",
            "  \n",
            "      var dp = new Int16Array(maxWeight + 1);\n",
            "      for(var w = 1; w <= maxWeight; w++){\n",
            "        var pdpw = pdp[w];\n",
            "        dp[w] = (w-tw < 0) ? pdpw : max(pdp[w-tw] + tv, pdpw);\n",
            "      }\n",
            "      pdp = dp;\n",
            "    }\n",
            "  \n",
            "    var resultWeight = 1001;\n",
            "    var resultCost = 0;\n",
            "    for(var i = 0; i <= maxWeight; i++){\n",
            "      var pdpi = pdp[i];\n",
            "      if(pdpi > resultCost){\n",
            "        resultCost = pdpi;\n",
            "        resultWeight = i;\n",
            "      }\n",
            "    }\n",
            "      \n",
            "    console.log(\"Case \" + resultCase++ + \":\\n\" + resultCost + \"\\n\" + resultWeight);\n",
            "  }\n",
            "}\n",
            " \n",
            " \n",
            "function max(a, b) {\n",
            "  var t = a - b;\n",
            "  return a - (t & (t >> 31));\n",
            "}\n"
          ]
        }
      ],
      "source": [
        "el_num_aleat = np.random.randint(1,1_000)\n",
        "print(f'Número aleatorio: {el_num_aleat}')\n",
        "print(df.loc[el_num_aleat, 'code'])"
      ]
    },
    {
      "cell_type": "code",
      "execution_count": 22,
      "id": "f35472aa",
      "metadata": {
        "colab": {
          "base_uri": "https://localhost:8080/",
          "height": 241
        },
        "id": "f35472aa",
        "outputId": "1a2835f4-6b4a-4076-e239-dbae0de2c809"
      },
      "outputs": [
        {
          "data": {
            "text/plain": [
              "file_name                                                s511770803.c\n",
              "code                #include <stdio.h>\\n\\n/*\\n\\n??£???????¨????\\n\\...\n",
              "language                                                            C\n",
              "dataset_type                                                    train\n",
              "code_no_comments    #include <stdio.h>\\n\\n/*\\n\\n??£???????¨????\\n\\...\n",
              "Name: 290, dtype: object"
            ]
          },
          "execution_count": 22,
          "metadata": {},
          "output_type": "execute_result"
        }
      ],
      "source": [
        "df.loc[290]"
      ]
    },
    {
      "cell_type": "code",
      "execution_count": null,
      "id": "9f1a954f",
      "metadata": {
        "id": "9f1a954f"
      },
      "outputs": [],
      "source": []
    },
    {
      "cell_type": "markdown",
      "id": "2283c076",
      "metadata": {
        "id": "2283c076"
      },
      "source": [
        "# Generación de otros features"
      ]
    },
    {
      "cell_type": "code",
      "execution_count": 23,
      "id": "b43ccc1c",
      "metadata": {
        "id": "b43ccc1c"
      },
      "outputs": [],
      "source": [
        "# Veamos de que letras está acompañado el caracter \"\\n, \\t\"\n",
        "rep_tab = ' ESTOESUNTABCREADOPORGSB '\n",
        "rep_enter = ' ESTOESUNENTERCREADOPORGSB '\n",
        "# Mantener los espacios en blanco para que en caso el code sea \"print('aa')\\nprint('bb') no se junte como una sola palabra\"\n",
        "\n",
        "df['code_2'] = df['code'].str.replace('\\n', rep_enter)\n",
        "df['code_2'] = df['code_2'].str.replace('\\t', rep_tab)\n",
        "\n",
        "df['count_ENTER'] = df['code'].str.count('\\n')\n",
        "df['count_TAB'] = df['code'].str.count('\\t')\n",
        "\n",
        "df['count_ENTER_no_comments'] = df['code_no_comments'].str.count('\\n')\n",
        "df['count_TAB_no_comments'] = df['code_no_comments'].str.count('\\t')\n",
        "\n"
      ]
    },
    {
      "cell_type": "code",
      "execution_count": 24,
      "id": "f43c0233",
      "metadata": {
        "colab": {
          "base_uri": "https://localhost:8080/",
          "height": 1000
        },
        "id": "f43c0233",
        "outputId": "56e03421-c1cb-43ff-d1a1-557dc50ad9e4"
      },
      "outputs": [
        {
          "data": {
            "text/html": [
              "<div>\n",
              "<style scoped>\n",
              "    .dataframe tbody tr th:only-of-type {\n",
              "        vertical-align: middle;\n",
              "    }\n",
              "\n",
              "    .dataframe tbody tr th {\n",
              "        vertical-align: top;\n",
              "    }\n",
              "\n",
              "    .dataframe thead th {\n",
              "        text-align: right;\n",
              "    }\n",
              "</style>\n",
              "<table border=\"1\" class=\"dataframe\">\n",
              "  <thead>\n",
              "    <tr style=\"text-align: right;\">\n",
              "      <th></th>\n",
              "      <th>dataset_type</th>\n",
              "      <th>test</th>\n",
              "      <th>train</th>\n",
              "    </tr>\n",
              "  </thead>\n",
              "  <tbody>\n",
              "    <tr>\n",
              "      <th rowspan=\"8\" valign=\"top\">count_TAB</th>\n",
              "      <th>count</th>\n",
              "      <td>100.000000</td>\n",
              "      <td>900.000000</td>\n",
              "    </tr>\n",
              "    <tr>\n",
              "      <th>mean</th>\n",
              "      <td>19.200000</td>\n",
              "      <td>25.592222</td>\n",
              "    </tr>\n",
              "    <tr>\n",
              "      <th>std</th>\n",
              "      <td>47.394327</td>\n",
              "      <td>67.637549</td>\n",
              "    </tr>\n",
              "    <tr>\n",
              "      <th>min</th>\n",
              "      <td>0.000000</td>\n",
              "      <td>0.000000</td>\n",
              "    </tr>\n",
              "    <tr>\n",
              "      <th>25%</th>\n",
              "      <td>0.000000</td>\n",
              "      <td>0.000000</td>\n",
              "    </tr>\n",
              "    <tr>\n",
              "      <th>50%</th>\n",
              "      <td>0.000000</td>\n",
              "      <td>0.000000</td>\n",
              "    </tr>\n",
              "    <tr>\n",
              "      <th>75%</th>\n",
              "      <td>9.500000</td>\n",
              "      <td>11.000000</td>\n",
              "    </tr>\n",
              "    <tr>\n",
              "      <th>max</th>\n",
              "      <td>302.000000</td>\n",
              "      <td>654.000000</td>\n",
              "    </tr>\n",
              "    <tr>\n",
              "      <th rowspan=\"8\" valign=\"top\">count_ENTER</th>\n",
              "      <th>count</th>\n",
              "      <td>100.000000</td>\n",
              "      <td>900.000000</td>\n",
              "    </tr>\n",
              "    <tr>\n",
              "      <th>mean</th>\n",
              "      <td>65.070000</td>\n",
              "      <td>66.441111</td>\n",
              "    </tr>\n",
              "    <tr>\n",
              "      <th>std</th>\n",
              "      <td>36.858247</td>\n",
              "      <td>39.182921</td>\n",
              "    </tr>\n",
              "    <tr>\n",
              "      <th>min</th>\n",
              "      <td>21.000000</td>\n",
              "      <td>0.000000</td>\n",
              "    </tr>\n",
              "    <tr>\n",
              "      <th>25%</th>\n",
              "      <td>45.500000</td>\n",
              "      <td>46.000000</td>\n",
              "    </tr>\n",
              "    <tr>\n",
              "      <th>50%</th>\n",
              "      <td>52.000000</td>\n",
              "      <td>53.000000</td>\n",
              "    </tr>\n",
              "    <tr>\n",
              "      <th>75%</th>\n",
              "      <td>78.000000</td>\n",
              "      <td>77.000000</td>\n",
              "    </tr>\n",
              "    <tr>\n",
              "      <th>max</th>\n",
              "      <td>245.000000</td>\n",
              "      <td>359.000000</td>\n",
              "    </tr>\n",
              "    <tr>\n",
              "      <th rowspan=\"8\" valign=\"top\">count_TAB_no_comments</th>\n",
              "      <th>count</th>\n",
              "      <td>100.000000</td>\n",
              "      <td>900.000000</td>\n",
              "    </tr>\n",
              "    <tr>\n",
              "      <th>mean</th>\n",
              "      <td>15.850000</td>\n",
              "      <td>19.576667</td>\n",
              "    </tr>\n",
              "    <tr>\n",
              "      <th>std</th>\n",
              "      <td>44.525869</td>\n",
              "      <td>52.812444</td>\n",
              "    </tr>\n",
              "    <tr>\n",
              "      <th>min</th>\n",
              "      <td>0.000000</td>\n",
              "      <td>0.000000</td>\n",
              "    </tr>\n",
              "    <tr>\n",
              "      <th>25%</th>\n",
              "      <td>0.000000</td>\n",
              "      <td>0.000000</td>\n",
              "    </tr>\n",
              "    <tr>\n",
              "      <th>50%</th>\n",
              "      <td>0.000000</td>\n",
              "      <td>0.000000</td>\n",
              "    </tr>\n",
              "    <tr>\n",
              "      <th>75%</th>\n",
              "      <td>1.000000</td>\n",
              "      <td>1.000000</td>\n",
              "    </tr>\n",
              "    <tr>\n",
              "      <th>max</th>\n",
              "      <td>302.000000</td>\n",
              "      <td>518.000000</td>\n",
              "    </tr>\n",
              "    <tr>\n",
              "      <th rowspan=\"8\" valign=\"top\">count_ENTER_no_comments</th>\n",
              "      <th>count</th>\n",
              "      <td>100.000000</td>\n",
              "      <td>900.000000</td>\n",
              "    </tr>\n",
              "    <tr>\n",
              "      <th>mean</th>\n",
              "      <td>52.390000</td>\n",
              "      <td>55.157778</td>\n",
              "    </tr>\n",
              "    <tr>\n",
              "      <th>std</th>\n",
              "      <td>29.783357</td>\n",
              "      <td>30.588110</td>\n",
              "    </tr>\n",
              "    <tr>\n",
              "      <th>min</th>\n",
              "      <td>13.000000</td>\n",
              "      <td>0.000000</td>\n",
              "    </tr>\n",
              "    <tr>\n",
              "      <th>25%</th>\n",
              "      <td>33.750000</td>\n",
              "      <td>37.000000</td>\n",
              "    </tr>\n",
              "    <tr>\n",
              "      <th>50%</th>\n",
              "      <td>43.000000</td>\n",
              "      <td>47.000000</td>\n",
              "    </tr>\n",
              "    <tr>\n",
              "      <th>75%</th>\n",
              "      <td>66.250000</td>\n",
              "      <td>68.000000</td>\n",
              "    </tr>\n",
              "    <tr>\n",
              "      <th>max</th>\n",
              "      <td>160.000000</td>\n",
              "      <td>228.000000</td>\n",
              "    </tr>\n",
              "  </tbody>\n",
              "</table>\n",
              "</div>"
            ],
            "text/plain": [
              "dataset_type                         test       train\n",
              "count_TAB               count  100.000000  900.000000\n",
              "                        mean    19.200000   25.592222\n",
              "                        std     47.394327   67.637549\n",
              "                        min      0.000000    0.000000\n",
              "                        25%      0.000000    0.000000\n",
              "                        50%      0.000000    0.000000\n",
              "                        75%      9.500000   11.000000\n",
              "                        max    302.000000  654.000000\n",
              "count_ENTER             count  100.000000  900.000000\n",
              "                        mean    65.070000   66.441111\n",
              "                        std     36.858247   39.182921\n",
              "                        min     21.000000    0.000000\n",
              "                        25%     45.500000   46.000000\n",
              "                        50%     52.000000   53.000000\n",
              "                        75%     78.000000   77.000000\n",
              "                        max    245.000000  359.000000\n",
              "count_TAB_no_comments   count  100.000000  900.000000\n",
              "                        mean    15.850000   19.576667\n",
              "                        std     44.525869   52.812444\n",
              "                        min      0.000000    0.000000\n",
              "                        25%      0.000000    0.000000\n",
              "                        50%      0.000000    0.000000\n",
              "                        75%      1.000000    1.000000\n",
              "                        max    302.000000  518.000000\n",
              "count_ENTER_no_comments count  100.000000  900.000000\n",
              "                        mean    52.390000   55.157778\n",
              "                        std     29.783357   30.588110\n",
              "                        min     13.000000    0.000000\n",
              "                        25%     33.750000   37.000000\n",
              "                        50%     43.000000   47.000000\n",
              "                        75%     66.250000   68.000000\n",
              "                        max    160.000000  228.000000"
            ]
          },
          "execution_count": 24,
          "metadata": {},
          "output_type": "execute_result"
        }
      ],
      "source": [
        "df.groupby('dataset_type')[['count_TAB', 'count_ENTER', 'count_TAB_no_comments', 'count_ENTER_no_comments']].describe().T"
      ]
    },
    {
      "cell_type": "code",
      "execution_count": 25,
      "id": "c24887a5",
      "metadata": {
        "id": "c24887a5"
      },
      "outputs": [],
      "source": [
        "# Ptj de caracteres que son ENTER y TAB\n",
        "df['N_letras'] = df['code'].str.len()\n",
        "df['ptj_ENTER'] = df['count_ENTER']/df['N_letras']\n",
        "df['ptj_TAB'] = df['count_TAB']/df['N_letras']\n",
        "\n",
        "df['N_letras_no_comments'] = df['code_no_comments'].str.len()\n",
        "df['ptj_ENTER_no_comments'] = df['count_ENTER_no_comments']/df['N_letras_no_comments']\n",
        "df['ptj_TAB_no_comments'] = df['count_TAB_no_comments']/df['N_letras_no_comments']"
      ]
    },
    {
      "cell_type": "code",
      "execution_count": 26,
      "id": "e1773d71",
      "metadata": {
        "colab": {
          "base_uri": "https://localhost:8080/",
          "height": 448
        },
        "id": "e1773d71",
        "outputId": "03817eb9-a023-48d5-fbf8-12289e21cded"
      },
      "outputs": [
        {
          "data": {
            "text/plain": [
              "<Axes: >"
            ]
          },
          "execution_count": 26,
          "metadata": {},
          "output_type": "execute_result"
        },
        {
          "data": {
            "image/png": "[encoded data removed]",
            "text/plain": [
              "<Figure size 640x480 with 1 Axes>"
            ]
          },
          "metadata": {},
          "output_type": "display_data"
        }
      ],
      "source": [
        "df['ptj_ENTER'].hist()"
      ]
    },
    {
      "cell_type": "code",
      "execution_count": 27,
      "id": "a198d557",
      "metadata": {
        "colab": {
          "base_uri": "https://localhost:8080/",
          "height": 472
        },
        "id": "a198d557",
        "outputId": "e616ab98-8a32-450a-a995-b456a8bf48a7"
      },
      "outputs": [
        {
          "data": {
            "text/plain": [
              "<Axes: xlabel='language', ylabel='ptj_ENTER'>"
            ]
          },
          "execution_count": 27,
          "metadata": {},
          "output_type": "execute_result"
        },
        {
          "data": {
            "image/png": "[encoded data removed]",
            "text/plain": [
              "<Figure size 640x480 with 1 Axes>"
            ]
          },
          "metadata": {},
          "output_type": "display_data"
        }
      ],
      "source": [
        "a = df.groupby(['language', 'dataset_type'])['ptj_ENTER'].mean().reset_index().sort_values('ptj_ENTER')\n",
        "sns.lineplot(data=a, x='language', y='ptj_ENTER', hue='dataset_type', marker='o')"
      ]
    },
    {
      "cell_type": "code",
      "execution_count": 28,
      "id": "55494555",
      "metadata": {
        "colab": {
          "base_uri": "https://localhost:8080/",
          "height": 467
        },
        "id": "55494555",
        "outputId": "a1a1b91f-07ef-4d16-d80d-81837d193e96"
      },
      "outputs": [
        {
          "data": {
            "text/plain": [
              "<Axes: xlabel='language', ylabel='ptj_ENTER_no_comments'>"
            ]
          },
          "execution_count": 28,
          "metadata": {},
          "output_type": "execute_result"
        },
        {
          "data": {
            "image/png": "[encoded data removed]",
            "text/plain": [
              "<Figure size 640x480 with 1 Axes>"
            ]
          },
          "metadata": {},
          "output_type": "display_data"
        }
      ],
      "source": [
        "a = df.groupby(['language', 'dataset_type'])['ptj_ENTER_no_comments'].mean().reset_index().sort_values('ptj_ENTER_no_comments')\n",
        "sns.lineplot(data=a, x='language', y='ptj_ENTER_no_comments', hue='dataset_type', marker='o')"
      ]
    },
    {
      "cell_type": "code",
      "execution_count": 29,
      "id": "7bdcad37",
      "metadata": {
        "colab": {
          "base_uri": "https://localhost:8080/",
          "height": 467
        },
        "id": "7bdcad37",
        "outputId": "e1cf02fb-0028-4a35-eb58-e16c299fad3f"
      },
      "outputs": [
        {
          "data": {
            "text/plain": [
              "<Axes: xlabel='language', ylabel='ptj_TAB'>"
            ]
          },
          "execution_count": 29,
          "metadata": {},
          "output_type": "execute_result"
        },
        {
          "data": {
            "image/png": "[encoded data removed]",
            "text/plain": [
              "<Figure size 640x480 with 1 Axes>"
            ]
          },
          "metadata": {},
          "output_type": "display_data"
        }
      ],
      "source": [
        "a = df.groupby(['language', 'dataset_type'])['ptj_TAB'].mean().reset_index().sort_values('ptj_TAB')\n",
        "sns.lineplot(data=a, x='language', y='ptj_TAB', hue='dataset_type', marker='o')"
      ]
    },
    {
      "cell_type": "code",
      "execution_count": 30,
      "id": "8997af6f",
      "metadata": {
        "colab": {
          "base_uri": "https://localhost:8080/",
          "height": 467
        },
        "id": "8997af6f",
        "outputId": "922fff62-70d9-4e5e-e66a-3882798806b4"
      },
      "outputs": [
        {
          "data": {
            "text/plain": [
              "<Axes: xlabel='language', ylabel='ptj_TAB_no_comments'>"
            ]
          },
          "execution_count": 30,
          "metadata": {},
          "output_type": "execute_result"
        },
        {
          "data": {
            "image/png": "[encoded data removed]",
            "text/plain": [
              "<Figure size 640x480 with 1 Axes>"
            ]
          },
          "metadata": {},
          "output_type": "display_data"
        }
      ],
      "source": [
        "a = df.groupby(['language', 'dataset_type'])['ptj_TAB_no_comments'].mean().reset_index().sort_values('ptj_TAB_no_comments')\n",
        "sns.lineplot(data=a, x='language', y='ptj_TAB_no_comments', hue='dataset_type', marker='o')"
      ]
    },
    {
      "cell_type": "code",
      "execution_count": 31,
      "id": "08bc22d7",
      "metadata": {
        "id": "08bc22d7"
      },
      "outputs": [],
      "source": [
        "# Resulta evidenete que independientemente del dataset, sí podemos identiciar lenguajes por la cantidad de ENTER y TAB que tienen."
      ]
    },
    {
      "cell_type": "code",
      "execution_count": 32,
      "id": "4a44e3c8",
      "metadata": {
        "colab": {
          "base_uri": "https://localhost:8080/",
          "height": 725
        },
        "id": "4a44e3c8",
        "outputId": "3de57d91-ff7d-4e57-8cd8-aae2acec0e6f"
      },
      "outputs": [
        {
          "name": "stdout",
          "output_type": "stream",
          "text": [
            "count    1000.000000\n",
            "mean     1683.544000\n",
            "std       967.377555\n",
            "min       647.000000\n",
            "1%        840.900000\n",
            "5%       1011.000000\n",
            "10%      1033.900000\n",
            "25%      1127.000000\n",
            "50%      1385.000000\n",
            "75%      1771.000000\n",
            "90%      2614.300000\n",
            "95%      3458.500000\n",
            "99%      6171.230000\n",
            "max      8693.000000\n",
            "Name: N_letras, dtype: float64\n"
          ]
        },
        {
          "data": {
            "text/plain": [
              "<Axes: >"
            ]
          },
          "execution_count": 32,
          "metadata": {},
          "output_type": "execute_result"
        },
        {
          "data": {
            "image/png": "[encoded data removed]",
            "text/plain": [
              "<Figure size 640x480 with 1 Axes>"
            ]
          },
          "metadata": {},
          "output_type": "display_data"
        }
      ],
      "source": [
        "print(df['N_letras'].describe(percentiles=[0.01, 0.05, 0.1, 0.25, 0.5, 0.75, 0.9, 0.95, 0.99]))\n",
        "df['N_letras'].hist()"
      ]
    },
    {
      "cell_type": "code",
      "execution_count": 33,
      "id": "0dcd2456",
      "metadata": {
        "colab": {
          "base_uri": "https://localhost:8080/",
          "height": 725
        },
        "id": "0dcd2456",
        "outputId": "7348d526-ea94-49d1-d20c-ec6862e01701"
      },
      "outputs": [
        {
          "name": "stdout",
          "output_type": "stream",
          "text": [
            "count    1000.000000\n",
            "mean     1301.611000\n",
            "std       752.231299\n",
            "min       131.000000\n",
            "1%        296.840000\n",
            "5%        486.000000\n",
            "10%       598.900000\n",
            "25%       791.750000\n",
            "50%      1119.500000\n",
            "75%      1550.750000\n",
            "90%      2200.000000\n",
            "95%      2797.250000\n",
            "99%      3961.170000\n",
            "max      6132.000000\n",
            "Name: N_letras_no_comments, dtype: float64\n"
          ]
        },
        {
          "data": {
            "text/plain": [
              "<Axes: >"
            ]
          },
          "execution_count": 33,
          "metadata": {},
          "output_type": "execute_result"
        },
        {
          "data": {
            "image/png": "[encoded data removed]",
            "text/plain": [
              "<Figure size 640x480 with 1 Axes>"
            ]
          },
          "metadata": {},
          "output_type": "display_data"
        }
      ],
      "source": [
        "print(df['N_letras_no_comments'].describe(percentiles=[0.01, 0.05, 0.1, 0.25, 0.5, 0.75, 0.9, 0.95, 0.99]))\n",
        "df['N_letras_no_comments'].hist()"
      ]
    },
    {
      "cell_type": "markdown",
      "id": "ec651504",
      "metadata": {
        "id": "ec651504"
      },
      "source": [
        "# Generación de matriz"
      ]
    },
    {
      "cell_type": "code",
      "execution_count": 34,
      "id": "e0d7a7c7",
      "metadata": {
        "colab": {
          "base_uri": "https://localhost:8080/"
        },
        "id": "e0d7a7c7",
        "outputId": "2e52cf46-8b5a-45f1-b1f4-fcd7c26f692b"
      },
      "outputs": [
        {
          "name": "stdout",
          "output_type": "stream",
          "text": [
            "alphabet size: 68\n",
            "one-hot encoding for character c: [0, 0, 1, 0, 0, 0, 0, 0, 0, 0, 0, 0, 0, 0, 0, 0, 0, 0, 0, 0, 0, 0, 0, 0, 0, 0, 0, 0, 0, 0, 0, 0, 0, 0, 0, 0, 0, 0, 0, 0, 0, 0, 0, 0, 0, 0, 0, 0, 0, 0, 0, 0, 0, 0, 0, 0, 0, 0, 0, 0, 0, 0, 0, 0, 0, 0, 0, 0]\n"
          ]
        }
      ],
      "source": [
        "letter = 'abcdefghijklmnopqrstuvwxyz'\n",
        "digits = '0123456789'\n",
        "others = '!\"#$%&\\'()*+,-./:;<=>?@[\\\\]^_`{|}~'\n",
        "alphabet = letter + digits + others\n",
        "print('alphabet size:', len(alphabet))\n",
        "\n",
        "# all-zeroes padding vector:\n",
        "pad_vector = [0 for x in alphabet]\n",
        "\n",
        "# pre-calculated one-hot vectors:\n",
        "supported_chars_map = {}\n",
        "\n",
        "for i, ch in enumerate(alphabet):\n",
        "  vec = [0 for x in alphabet]\n",
        "  vec[i] = 1\n",
        "  supported_chars_map[ch] = vec\n",
        "\n",
        "print('one-hot encoding for character c:', supported_chars_map['c'])"
      ]
    },
    {
      "cell_type": "code",
      "execution_count": 35,
      "id": "95e84e6f",
      "metadata": {
        "id": "95e84e6f"
      },
      "outputs": [],
      "source": [
        "def turn_code_into_vector(sample, sample_vectors_size,normalize_whitespace=True):\n",
        "  if normalize_whitespace:\n",
        "    # Map (most) white-space to space and compact to single one:\n",
        "    sample = sample.replace('\\n', ' ').replace('\\r', ' ').replace('\\t', ' ')\n",
        "    sample = re.sub('\\s+', ' ', sample)\n",
        "\n",
        "  # Encode the characters to one-hot vectors:\n",
        "  sample_vectors = []\n",
        "  for ch in sample:\n",
        "    if ch in supported_chars_map:\n",
        "      sample_vectors.append(supported_chars_map[ch])\n",
        "\n",
        "  # Truncate to fixed length:\n",
        "  sample_vectors = sample_vectors[0:sample_vectors_size]\n",
        "\n",
        "  # Pad with 0 vectors:\n",
        "  if len(sample_vectors) < sample_vectors_size:\n",
        "    for i in range(0, sample_vectors_size - len(sample_vectors)):\n",
        "      sample_vectors.append(pad_vector)\n",
        "\n",
        "  return np.array(sample_vectors)"
      ]
    },
    {
      "cell_type": "code",
      "execution_count": 36,
      "id": "f9ace91c",
      "metadata": {
        "colab": {
          "base_uri": "https://localhost:8080/"
        },
        "id": "f9ace91c",
        "outputId": "b3415559-6593-494d-9a6a-9bac877380aa"
      },
      "outputs": [
        {
          "data": {
            "text/plain": [
              "array([[0, 0, 0, ..., 0, 0, 0],\n",
              "       [0, 0, 0, ..., 0, 0, 0],\n",
              "       [0, 0, 0, ..., 0, 0, 0],\n",
              "       ...,\n",
              "       [0, 0, 0, ..., 0, 0, 0],\n",
              "       [0, 0, 0, ..., 0, 0, 0],\n",
              "       [0, 0, 0, ..., 0, 0, 0]])"
            ]
          },
          "execution_count": 36,
          "metadata": {},
          "output_type": "execute_result"
        }
      ],
      "source": [
        "# Usamos 2797 como el tamaño de la cadena de caracteres, pues es el 95% del tamaño de mis códigos\n",
        "turn_code_into_vector(df.loc[el_num_aleat, 'code'], 2797)"
      ]
    },
    {
      "cell_type": "code",
      "execution_count": 37,
      "id": "fc789573",
      "metadata": {
        "colab": {
          "base_uri": "https://localhost:8080/",
          "height": 429
        },
        "id": "fc789573",
        "outputId": "54ef67e0-e2b7-45d1-eb5c-1c3b6908afb9"
      },
      "outputs": [
        {
          "data": {
            "text/plain": [
              "language\n",
              "PHP           100\n",
              "JavaScript    100\n",
              "Rust          100\n",
              "C             100\n",
              "D             100\n",
              "Haskell       100\n",
              "Java          100\n",
              "C++           100\n",
              "C#            100\n",
              "Python        100\n",
              "Name: count, dtype: int64"
            ]
          },
          "execution_count": 37,
          "metadata": {},
          "output_type": "execute_result"
        }
      ],
      "source": [
        "df['language'].value_counts()"
      ]
    },
    {
      "cell_type": "code",
      "execution_count": 38,
      "id": "d0aea496",
      "metadata": {
        "id": "d0aea496"
      },
      "outputs": [],
      "source": [
        "listado_coding_languages = df['language'].value_counts().index.tolist()\n",
        "listado_ys = {}\n",
        "for i, pgr in enumerate(listado_coding_languages):\n",
        "    vec = [0 for x in listado_coding_languages]\n",
        "    vec[i] = 1\n",
        "    listado_ys[pgr] = vec"
      ]
    },
    {
      "cell_type": "code",
      "execution_count": 39,
      "id": "072eea17",
      "metadata": {
        "colab": {
          "base_uri": "https://localhost:8080/"
        },
        "id": "072eea17",
        "outputId": "9b0f1c1d-9ea2-4cfa-ab85-a9d3306bf8a5"
      },
      "outputs": [
        {
          "data": {
            "text/plain": [
              "{'PHP': [1, 0, 0, 0, 0, 0, 0, 0, 0, 0],\n",
              " 'JavaScript': [0, 1, 0, 0, 0, 0, 0, 0, 0, 0],\n",
              " 'Rust': [0, 0, 1, 0, 0, 0, 0, 0, 0, 0],\n",
              " 'C': [0, 0, 0, 1, 0, 0, 0, 0, 0, 0],\n",
              " 'D': [0, 0, 0, 0, 1, 0, 0, 0, 0, 0],\n",
              " 'Haskell': [0, 0, 0, 0, 0, 1, 0, 0, 0, 0],\n",
              " 'Java': [0, 0, 0, 0, 0, 0, 1, 0, 0, 0],\n",
              " 'C++': [0, 0, 0, 0, 0, 0, 0, 1, 0, 0],\n",
              " 'C#': [0, 0, 0, 0, 0, 0, 0, 0, 1, 0],\n",
              " 'Python': [0, 0, 0, 0, 0, 0, 0, 0, 0, 1]}"
            ]
          },
          "execution_count": 39,
          "metadata": {},
          "output_type": "execute_result"
        }
      ],
      "source": [
        "listado_ys"
      ]
    },
    {
      "cell_type": "code",
      "execution_count": 40,
      "id": "45f582f0",
      "metadata": {
        "id": "45f582f0"
      },
      "outputs": [],
      "source": [
        "def genera_X_text_others_y(df, col_x_text, col_x_others, col_y, sample_vectors_size):\n",
        "    X_text = []\n",
        "    X_others = []\n",
        "    y = []\n",
        "    for n, fila in df.iterrows():\n",
        "\n",
        "        x_text_tmp = turn_code_into_vector(fila[col_x_text], sample_vectors_size)\n",
        "        X_text.append(x_text_tmp)\n",
        "\n",
        "        x_others_tmp = fila[col_x_others]\n",
        "        X_others.append(x_others_tmp)\n",
        "\n",
        "        y_tmp = listado_ys[fila[col_y]]\n",
        "        y.append(y_tmp)\n",
        "\n",
        "    X_text = np.array(X_text)\n",
        "    X_others = np.array(X_others)\n",
        "    y = np.array(y)\n",
        "    return X_text, X_others, y\n"
      ]
    },
    {
      "cell_type": "code",
      "execution_count": 41,
      "id": "GmNwOB-0SSPQ",
      "metadata": {
        "colab": {
          "base_uri": "https://localhost:8080/"
        },
        "id": "GmNwOB-0SSPQ",
        "outputId": "3b0b8209-5227-40f3-eba3-8f300d27f51b"
      },
      "outputs": [
        {
          "name": "stdout",
          "output_type": "stream",
          "text": [
            "<class 'pandas.core.frame.DataFrame'>\n",
            "RangeIndex: 1000 entries, 0 to 999\n",
            "Data columns (total 16 columns):\n",
            " #   Column                   Non-Null Count  Dtype  \n",
            "---  ------                   --------------  -----  \n",
            " 0   file_name                1000 non-null   object \n",
            " 1   code                     1000 non-null   object \n",
            " 2   language                 1000 non-null   object \n",
            " 3   dataset_type             1000 non-null   object \n",
            " 4   code_no_comments         1000 non-null   object \n",
            " 5   code_2                   1000 non-null   object \n",
            " 6   count_ENTER              1000 non-null   int64  \n",
            " 7   count_TAB                1000 non-null   int64  \n",
            " 8   count_ENTER_no_comments  1000 non-null   int64  \n",
            " 9   count_TAB_no_comments    1000 non-null   int64  \n",
            " 10  N_letras                 1000 non-null   int64  \n",
            " 11  ptj_ENTER                1000 non-null   float64\n",
            " 12  ptj_TAB                  1000 non-null   float64\n",
            " 13  N_letras_no_comments     1000 non-null   int64  \n",
            " 14  ptj_ENTER_no_comments    1000 non-null   float64\n",
            " 15  ptj_TAB_no_comments      1000 non-null   float64\n",
            "dtypes: float64(4), int64(6), object(6)\n",
            "memory usage: 125.1+ KB\n"
          ]
        }
      ],
      "source": [
        "df.info()"
      ]
    },
    {
      "cell_type": "code",
      "execution_count": 42,
      "id": "81e121c6",
      "metadata": {
        "id": "81e121c6"
      },
      "outputs": [],
      "source": [
        "X_text, X_oth, y = genera_X_text_others_y(df,\n",
        "                       col_x_text = 'code_no_comments',\n",
        "                       col_x_others = ['ptj_TAB_no_comments', 'ptj_ENTER_no_comments'],\n",
        "                       col_y = 'language',\n",
        "                       sample_vectors_size=2797)\n",
        "\n",
        "X_text_train, X_oth_train, y_train = genera_X_text_others_y(df[df['dataset_type']=='train'],\n",
        "                       col_x_text = 'code_no_comments',\n",
        "                       col_x_others = ['ptj_TAB_no_comments', 'ptj_ENTER_no_comments'],\n",
        "                       col_y = 'language',\n",
        "                       sample_vectors_size=2797)\n",
        "\n",
        "X_text_test, X_oth_test, y_test = genera_X_text_others_y(df[df['dataset_type']=='test'],\n",
        "                       col_x_text = 'code_no_comments',\n",
        "                       col_x_others = ['ptj_TAB_no_comments', 'ptj_ENTER_no_comments'],\n",
        "                       col_y = 'language',\n",
        "                       sample_vectors_size=2797)"
      ]
    },
    {
      "cell_type": "code",
      "execution_count": 43,
      "id": "3ffb7abe",
      "metadata": {
        "colab": {
          "base_uri": "https://localhost:8080/"
        },
        "id": "3ffb7abe",
        "outputId": "42b2ba73-1f17-4d3e-d6d9-cba2d9ce17e5"
      },
      "outputs": [
        {
          "data": {
            "text/plain": [
              "(((1000, 2797, 68), (1000, 2), (1000, 10)),\n",
              " ((900, 2797, 68), (900, 2), (900, 10)),\n",
              " ((100, 2797, 68), (100, 2), (100, 10)))"
            ]
          },
          "execution_count": 43,
          "metadata": {},
          "output_type": "execute_result"
        }
      ],
      "source": [
        "((X_text.shape, X_oth.shape, y.shape),\n",
        "(X_text_train.shape,X_oth_train.shape, y_train.shape),\n",
        "(X_text_test.shape, X_oth_test.shape, y_test.shape))"
      ]
    },
    {
      "cell_type": "markdown",
      "id": "f081c7ad",
      "metadata": {
        "id": "f081c7ad"
      },
      "source": [
        "# Modelo"
      ]
    },
    {
      "cell_type": "code",
      "execution_count": 44,
      "id": "cHJl4yZ4EZkm",
      "metadata": {
        "id": "cHJl4yZ4EZkm"
      },
      "outputs": [],
      "source": [
        "\n",
        "from tensorflow.keras.preprocessing.sequence import pad_sequences\n",
        "from tensorflow.keras.utils import to_categorical\n",
        "\n",
        "import tensorflow\n",
        "from tensorflow.keras import Sequential, Model, Input\n",
        "from tensorflow.keras.layers import LSTM, Embedding, Dense, TimeDistributed, Dropout, Bidirectional, Concatenate\n",
        "from tensorflow.keras.initializers import Constant\n",
        "from tensorflow.keras.utils import plot_model"
      ]
    },
    {
      "cell_type": "code",
      "execution_count": 45,
      "id": "wWwYNjlL3Lyi",
      "metadata": {
        "id": "wWwYNjlL3Lyi"
      },
      "outputs": [],
      "source": [
        "from numpy.random import seed\n",
        "seed(1)\n",
        "tensorflow.random.set_seed(2)"
      ]
    },
    {
      "cell_type": "code",
      "execution_count": 46,
      "id": "3886b820",
      "metadata": {
        "colab": {
          "base_uri": "https://localhost:8080/"
        },
        "id": "3886b820",
        "outputId": "1831a047-66ea-461e-f12d-5f44d84c57fe"
      },
      "outputs": [
        {
          "data": {
            "text/plain": [
              "(68, 68)"
            ]
          },
          "execution_count": 46,
          "metadata": {},
          "output_type": "execute_result"
        }
      ],
      "source": [
        "len(alphabet), X_text.shape[2]"
      ]
    },
    {
      "cell_type": "code",
      "execution_count": null,
      "id": "f5878813",
      "metadata": {
        "id": "f5878813"
      },
      "outputs": [],
      "source": [
        "\n",
        "# Params de mi LSTM\n",
        "input_size_lstm_tiempos = X_text.shape[2] #len(alphabet) = 68 es el tamaño del vocalario (68 caracteres)\n",
        "input_size_lstm_vector = X_text.shape[1] #len(alphabet) = 68 es el tamaño del vocalario (68 caracteres)\n",
        "\n",
        "hidden_units_lstm = 32\n",
        "num_layers_lstm = 1\n",
        "\n",
        "# Params para mi capa Densa de otros features\n",
        "input_size_other_feat = X_oth.shape[1]\n",
        "dims_nn_other_feat = [4] # La longitud de esta lista indica la cantidad de capas, los valores dentro indican el tamaño de la capa\n",
        "act_function_oth_feat = 'relu'\n",
        "\n",
        "# Params de capa unión\n",
        "dims_nn_union = [64] # La longitud de esta lista indica la cantidad de capas, los valores dentro indican el tamaño de la capa\n",
        "act_function_union = 'relu'\n",
        "\n",
        "# Params capa unión\n",
        "act_function_final = 'softmax'\n",
        "n_out = y.shape[1]\n",
        "\n"
      ]
    },
    {
      "cell_type": "code",
      "execution_count": 58,
      "id": "c2ede464",
      "metadata": {
        "colab": {
          "base_uri": "https://localhost:8080/",
          "height": 467
        },
        "id": "c2ede464",
        "outputId": "352a12f8-fecf-4cf8-bdd4-3362e33eb35d"
      },
      "outputs": [
        {
          "data": {
            "text/html": [
              "<pre style=\"white-space:pre;overflow-x:auto;line-height:normal;font-family:Menlo,'DejaVu Sans Mono',consolas,'Courier New',monospace\"><span style=\"font-weight: bold\">Model: \"functional_1\"</span>\n",
              "</pre>\n"
            ],
            "text/plain": [
              "\u001b[1mModel: \"functional_1\"\u001b[0m\n"
            ]
          },
          "metadata": {},
          "output_type": "display_data"
        },
        {
          "data": {
            "text/html": [
              "<pre style=\"white-space:pre;overflow-x:auto;line-height:normal;font-family:Menlo,'DejaVu Sans Mono',consolas,'Courier New',monospace\">┏━━━━━━━━━━━━━━━━━━━━━┳━━━━━━━━━━━━━━━━━━━┳━━━━━━━━━━━━┳━━━━━━━━━━━━━━━━━━━┓\n",
              "┃<span style=\"font-weight: bold\"> Layer (type)        </span>┃<span style=\"font-weight: bold\"> Output Shape      </span>┃<span style=\"font-weight: bold\">    Param # </span>┃<span style=\"font-weight: bold\"> Connected to      </span>┃\n",
              "┡━━━━━━━━━━━━━━━━━━━━━╇━━━━━━━━━━━━━━━━━━━╇━━━━━━━━━━━━╇━━━━━━━━━━━━━━━━━━━┩\n",
              "│ input_text          │ (<span style=\"color: #00d7ff; text-decoration-color: #00d7ff\">None</span>, <span style=\"color: #00af00; text-decoration-color: #00af00\">2797</span>, <span style=\"color: #00af00; text-decoration-color: #00af00\">68</span>)  │          <span style=\"color: #00af00; text-decoration-color: #00af00\">0</span> │ -                 │\n",
              "│ (<span style=\"color: #0087ff; text-decoration-color: #0087ff\">InputLayer</span>)        │                   │            │                   │\n",
              "├─────────────────────┼───────────────────┼────────────┼───────────────────┤\n",
              "│ input_other_feat    │ (<span style=\"color: #00d7ff; text-decoration-color: #00d7ff\">None</span>, <span style=\"color: #00af00; text-decoration-color: #00af00\">2</span>)         │          <span style=\"color: #00af00; text-decoration-color: #00af00\">0</span> │ -                 │\n",
              "│ (<span style=\"color: #0087ff; text-decoration-color: #0087ff\">InputLayer</span>)        │                   │            │                   │\n",
              "├─────────────────────┼───────────────────┼────────────┼───────────────────┤\n",
              "│ bidirectional_1     │ (<span style=\"color: #00d7ff; text-decoration-color: #00d7ff\">None</span>, <span style=\"color: #00af00; text-decoration-color: #00af00\">64</span>)        │     <span style=\"color: #00af00; text-decoration-color: #00af00\">25,856</span> │ input_text[<span style=\"color: #00af00; text-decoration-color: #00af00\">0</span>][<span style=\"color: #00af00; text-decoration-color: #00af00\">0</span>]  │\n",
              "│ (<span style=\"color: #0087ff; text-decoration-color: #0087ff\">Bidirectional</span>)     │                   │            │                   │\n",
              "├─────────────────────┼───────────────────┼────────────┼───────────────────┤\n",
              "│ dense_3 (<span style=\"color: #0087ff; text-decoration-color: #0087ff\">Dense</span>)     │ (<span style=\"color: #00d7ff; text-decoration-color: #00d7ff\">None</span>, <span style=\"color: #00af00; text-decoration-color: #00af00\">4</span>)         │         <span style=\"color: #00af00; text-decoration-color: #00af00\">12</span> │ input_other_feat… │\n",
              "├─────────────────────┼───────────────────┼────────────┼───────────────────┤\n",
              "│ concatenate_1       │ (<span style=\"color: #00d7ff; text-decoration-color: #00d7ff\">None</span>, <span style=\"color: #00af00; text-decoration-color: #00af00\">68</span>)        │          <span style=\"color: #00af00; text-decoration-color: #00af00\">0</span> │ bidirectional_1[<span style=\"color: #00af00; text-decoration-color: #00af00\">…</span> │\n",
              "│ (<span style=\"color: #0087ff; text-decoration-color: #0087ff\">Concatenate</span>)       │                   │            │ dense_3[<span style=\"color: #00af00; text-decoration-color: #00af00\">0</span>][<span style=\"color: #00af00; text-decoration-color: #00af00\">0</span>]     │\n",
              "├─────────────────────┼───────────────────┼────────────┼───────────────────┤\n",
              "│ dense_4 (<span style=\"color: #0087ff; text-decoration-color: #0087ff\">Dense</span>)     │ (<span style=\"color: #00d7ff; text-decoration-color: #00d7ff\">None</span>, <span style=\"color: #00af00; text-decoration-color: #00af00\">64</span>)        │      <span style=\"color: #00af00; text-decoration-color: #00af00\">4,416</span> │ concatenate_1[<span style=\"color: #00af00; text-decoration-color: #00af00\">0</span>]… │\n",
              "├─────────────────────┼───────────────────┼────────────┼───────────────────┤\n",
              "│ dense_5 (<span style=\"color: #0087ff; text-decoration-color: #0087ff\">Dense</span>)     │ (<span style=\"color: #00d7ff; text-decoration-color: #00d7ff\">None</span>, <span style=\"color: #00af00; text-decoration-color: #00af00\">10</span>)        │        <span style=\"color: #00af00; text-decoration-color: #00af00\">650</span> │ dense_4[<span style=\"color: #00af00; text-decoration-color: #00af00\">0</span>][<span style=\"color: #00af00; text-decoration-color: #00af00\">0</span>]     │\n",
              "└─────────────────────┴───────────────────┴────────────┴───────────────────┘\n",
              "</pre>\n"
            ],
            "text/plain": [
              "┏━━━━━━━━━━━━━━━━━━━━━┳━━━━━━━━━━━━━━━━━━━┳━━━━━━━━━━━━┳━━━━━━━━━━━━━━━━━━━┓\n",
              "┃\u001b[1m \u001b[0m\u001b[1mLayer (type)       \u001b[0m\u001b[1m \u001b[0m┃\u001b[1m \u001b[0m\u001b[1mOutput Shape     \u001b[0m\u001b[1m \u001b[0m┃\u001b[1m \u001b[0m\u001b[1m   Param #\u001b[0m\u001b[1m \u001b[0m┃\u001b[1m \u001b[0m\u001b[1mConnected to     \u001b[0m\u001b[1m \u001b[0m┃\n",
              "┡━━━━━━━━━━━━━━━━━━━━━╇━━━━━━━━━━━━━━━━━━━╇━━━━━━━━━━━━╇━━━━━━━━━━━━━━━━━━━┩\n",
              "│ input_text          │ (\u001b[38;5;45mNone\u001b[0m, \u001b[38;5;34m2797\u001b[0m, \u001b[38;5;34m68\u001b[0m)  │          \u001b[38;5;34m0\u001b[0m │ -                 │\n",
              "│ (\u001b[38;5;33mInputLayer\u001b[0m)        │                   │            │                   │\n",
              "├─────────────────────┼───────────────────┼────────────┼───────────────────┤\n",
              "│ input_other_feat    │ (\u001b[38;5;45mNone\u001b[0m, \u001b[38;5;34m2\u001b[0m)         │          \u001b[38;5;34m0\u001b[0m │ -                 │\n",
              "│ (\u001b[38;5;33mInputLayer\u001b[0m)        │                   │            │                   │\n",
              "├─────────────────────┼───────────────────┼────────────┼───────────────────┤\n",
              "│ bidirectional_1     │ (\u001b[38;5;45mNone\u001b[0m, \u001b[38;5;34m64\u001b[0m)        │     \u001b[38;5;34m25,856\u001b[0m │ input_text[\u001b[38;5;34m0\u001b[0m][\u001b[38;5;34m0\u001b[0m]  │\n",
              "│ (\u001b[38;5;33mBidirectional\u001b[0m)     │                   │            │                   │\n",
              "├─────────────────────┼───────────────────┼────────────┼───────────────────┤\n",
              "│ dense_3 (\u001b[38;5;33mDense\u001b[0m)     │ (\u001b[38;5;45mNone\u001b[0m, \u001b[38;5;34m4\u001b[0m)         │         \u001b[38;5;34m12\u001b[0m │ input_other_feat… │\n",
              "├─────────────────────┼───────────────────┼────────────┼───────────────────┤\n",
              "│ concatenate_1       │ (\u001b[38;5;45mNone\u001b[0m, \u001b[38;5;34m68\u001b[0m)        │          \u001b[38;5;34m0\u001b[0m │ bidirectional_1[\u001b[38;5;34m…\u001b[0m │\n",
              "│ (\u001b[38;5;33mConcatenate\u001b[0m)       │                   │            │ dense_3[\u001b[38;5;34m0\u001b[0m][\u001b[38;5;34m0\u001b[0m]     │\n",
              "├─────────────────────┼───────────────────┼────────────┼───────────────────┤\n",
              "│ dense_4 (\u001b[38;5;33mDense\u001b[0m)     │ (\u001b[38;5;45mNone\u001b[0m, \u001b[38;5;34m64\u001b[0m)        │      \u001b[38;5;34m4,416\u001b[0m │ concatenate_1[\u001b[38;5;34m0\u001b[0m]… │\n",
              "├─────────────────────┼───────────────────┼────────────┼───────────────────┤\n",
              "│ dense_5 (\u001b[38;5;33mDense\u001b[0m)     │ (\u001b[38;5;45mNone\u001b[0m, \u001b[38;5;34m10\u001b[0m)        │        \u001b[38;5;34m650\u001b[0m │ dense_4[\u001b[38;5;34m0\u001b[0m][\u001b[38;5;34m0\u001b[0m]     │\n",
              "└─────────────────────┴───────────────────┴────────────┴───────────────────┘\n"
            ]
          },
          "metadata": {},
          "output_type": "display_data"
        },
        {
          "data": {
            "text/html": [
              "<pre style=\"white-space:pre;overflow-x:auto;line-height:normal;font-family:Menlo,'DejaVu Sans Mono',consolas,'Courier New',monospace\"><span style=\"font-weight: bold\"> Total params: </span><span style=\"color: #00af00; text-decoration-color: #00af00\">30,934</span> (120.84 KB)\n",
              "</pre>\n"
            ],
            "text/plain": [
              "\u001b[1m Total params: \u001b[0m\u001b[38;5;34m30,934\u001b[0m (120.84 KB)\n"
            ]
          },
          "metadata": {},
          "output_type": "display_data"
        },
        {
          "data": {
            "text/html": [
              "<pre style=\"white-space:pre;overflow-x:auto;line-height:normal;font-family:Menlo,'DejaVu Sans Mono',consolas,'Courier New',monospace\"><span style=\"font-weight: bold\"> Trainable params: </span><span style=\"color: #00af00; text-decoration-color: #00af00\">30,934</span> (120.84 KB)\n",
              "</pre>\n"
            ],
            "text/plain": [
              "\u001b[1m Trainable params: \u001b[0m\u001b[38;5;34m30,934\u001b[0m (120.84 KB)\n"
            ]
          },
          "metadata": {},
          "output_type": "display_data"
        },
        {
          "data": {
            "text/html": [
              "<pre style=\"white-space:pre;overflow-x:auto;line-height:normal;font-family:Menlo,'DejaVu Sans Mono',consolas,'Courier New',monospace\"><span style=\"font-weight: bold\"> Non-trainable params: </span><span style=\"color: #00af00; text-decoration-color: #00af00\">0</span> (0.00 B)\n",
              "</pre>\n"
            ],
            "text/plain": [
              "\u001b[1m Non-trainable params: \u001b[0m\u001b[38;5;34m0\u001b[0m (0.00 B)\n"
            ]
          },
          "metadata": {},
          "output_type": "display_data"
        }
      ],
      "source": [
        "# Input text\n",
        "input_lstm = Input(shape = (input_size_lstm_vector, input_size_lstm_tiempos, ), name='input_text')\n",
        "# Input other features\n",
        "input_oth_feat = Input(shape = (input_size_other_feat,), name='input_other_feat')\n",
        "\n",
        "# LSTM para el texto\n",
        "mi_lstm = input_lstm\n",
        "for i in range(num_layers_lstm):\n",
        "  mi_lstm = Bidirectional(LSTM(units = hidden_units_lstm,\n",
        "                              return_sequences=False, # No retornamos todos los estados h para cada timestep (caracter) (en Name entity recog le pusimos True para scar los predicts de cada palabra)\n",
        "                              recurrent_dropout=0.2, dropout=0.2  # Para evitar sobreajuste\n",
        "                              ))(mi_lstm)\n",
        "# Si le pongo return_sequences = True  ->  (None, 2797, 16) # 16 por que es num_layers_lstm*2 (num_layers_lstm=8)\n",
        "# Si le pongo return_sequences = False ->  (None, 16)\n",
        "\n",
        "# Capa densa para los features\n",
        "mi_dense = input_oth_feat\n",
        "for i in dims_nn_other_feat:\n",
        "  mi_dense = Dense(units = i, activation = act_function_oth_feat)(mi_dense)\n",
        "\n",
        "# Juntamos la info de ambas capas\n",
        "mi_concat = Concatenate()([mi_lstm, mi_dense])\n",
        "for i in dims_nn_union:\n",
        "  mi_concat = Dense(units = i, activation='relu')(mi_concat)\n",
        "\n",
        "# Capa final\n",
        "output = Dense(units = n_out, activation=act_function_final)(mi_concat)\n",
        "\n",
        "CODE_model = Model(inputs=[input_lstm, input_oth_feat], outputs = output)  # unión del modelo\n",
        "CODE_model.summary()"
      ]
    },
    {
      "cell_type": "code",
      "execution_count": 59,
      "id": "-Xpq8fmVLmet",
      "metadata": {
        "colab": {
          "base_uri": "https://localhost:8080/",
          "height": 498
        },
        "id": "-Xpq8fmVLmet",
        "outputId": "406806b6-54ea-4e21-f3a1-a1d75e778d64"
      },
      "outputs": [
        {
          "name": "stdout",
          "output_type": "stream",
          "text": [
            "You must install graphviz (see instructions at https://graphviz.gitlab.io/download/) for `plot_model` to work.\n"
          ]
        }
      ],
      "source": [
        "plot_model(\n",
        "    CODE_model,\n",
        "    show_shapes=True,\n",
        "    show_dtype=False,\n",
        "    show_layer_names=True,\n",
        "    rankdir=\"TD\",\n",
        "    dpi=50,\n",
        ")"
      ]
    },
    {
      "attachments": {
        "image.png": {
          "image/png": "[encoded data removed]"
        }
      },
      "cell_type": "markdown",
      "id": "489f9b3f",
      "metadata": {},
      "source": [
        "La siguiente imagen sale de la versión cloud (donde puse a correr el modelo)\n",
        "![image.png](attachment:image.png)"
      ]
    },
    {
      "cell_type": "code",
      "execution_count": 55,
      "id": "6470edd3",
      "metadata": {
        "id": "6470edd3"
      },
      "outputs": [],
      "source": [
        "# Compile model\n",
        "CODE_model.compile(optimizer='adam',        # el optimizador sirve para encontrar los pesos que minimizan la función de pérdida\n",
        "                                            # adam: stochastic gradient descent adaptativo\n",
        "                                            # https://www.tensorflow.org/api_docs/python/tf/keras/optimizers\n",
        "                  loss=\"categorical_crossentropy\", # función que evalua que tan bien el algoritmo modela el conjunto de datos\n",
        "                                                   # https://www.tensorflow.org/api_docs/python/tf/keras/losses\n",
        "                  metrics=['accuracy'])"
      ]
    },
    {
      "cell_type": "code",
      "execution_count": null,
      "id": "defcd283",
      "metadata": {
        "colab": {
          "base_uri": "https://localhost:8080/"
        },
        "id": "defcd283",
        "outputId": "9f33b866-4b4f-4f4e-963e-47e6527efacb"
      },
      "outputs": [],
      "source": [
        "X_oth_train = X_oth_train.astype(np.float32)\n",
        "# Como hacr fir con GPU\n",
        "# https://www.tensorflow.org/install/pip\n",
        "# 2 Epoch se denirarib 25min sin eso, en el mismo tiempo coalb va 19\n",
        "# history = CODE_model.fit(x = [X_text_train, X_oth_train],\n",
        "#                          y = y_train,\n",
        "#                         validation_split=0.2,\n",
        "#                         batch_size=128,\n",
        "#                         epochs=20,   # número de iteraciones sobre los datos\n",
        "#                         verbose=1)"
      ]
    },
    {
      "cell_type": "code",
      "execution_count": 52,
      "id": "yspVcOEFSa6C",
      "metadata": {
        "id": "yspVcOEFSa6C"
      },
      "outputs": [],
      "source": [
        "# CODE_model.save_weights(el_path_main/'4. Analisis/Weights_CODE_model.weights.h5')"
      ]
    },
    {
      "cell_type": "code",
      "execution_count": 65,
      "id": "RSLT4sLKS0iv",
      "metadata": {
        "id": "RSLT4sLKS0iv"
      },
      "outputs": [],
      "source": [
        "CODE_model.load_weights(el_path_main/'4. Analisis/Weights_CODE_model.weights.h5')"
      ]
    },
    {
      "cell_type": "code",
      "execution_count": 82,
      "id": "566fd35c",
      "metadata": {},
      "outputs": [
        {
          "name": "stdout",
          "output_type": "stream",
          "text": [
            "\u001b[1m4/4\u001b[0m \u001b[32m━━━━━━━━━━━━━━━━━━━━\u001b[0m\u001b[37m\u001b[0m \u001b[1m1s\u001b[0m 142ms/step\n",
            "\u001b[1m32/32\u001b[0m \u001b[32m━━━━━━━━━━━━━━━━━━━━\u001b[0m\u001b[37m\u001b[0m \u001b[1m5s\u001b[0m 160ms/step\n"
          ]
        }
      ],
      "source": [
        "X_oth_test = X_oth_test.astype(np.float32)\n",
        "X_oth = X_oth.astype(np.float32)\n",
        "\n",
        "y_hat_test = CODE_model.predict([X_text_test, X_oth_test], verbose=1)\n",
        "y_hat = CODE_model.predict([X_text, X_oth], verbose=1)"
      ]
    },
    {
      "cell_type": "code",
      "execution_count": null,
      "id": "2abcde2f",
      "metadata": {},
      "outputs": [
        {
          "data": {
            "text/plain": [
              "(100, 10)"
            ]
          },
          "execution_count": 83,
          "metadata": {},
          "output_type": "execute_result"
        }
      ],
      "source": [
        "y_hat_test.shape\n",
        "# El reusltado tiene la forma esperada, es decir (n_samples, n_classes)"
      ]
    },
    {
      "cell_type": "code",
      "execution_count": null,
      "id": "aad72a62",
      "metadata": {},
      "outputs": [],
      "source": [
        "y_hat_test_idx = np.argmax(y_hat_test, axis=1)\n",
        "# Sacamos el índice de la clase con mayor probabilidad"
      ]
    },
    {
      "cell_type": "code",
      "execution_count": 72,
      "id": "8817d7e5",
      "metadata": {},
      "outputs": [
        {
          "data": {
            "text/plain": [
              "(array([7.5623310e-01, 5.3750236e-02, 1.1586183e-01, 3.6841448e-02,\n",
              "        4.0699812e-03, 1.9411676e-02, 1.0753216e-02, 2.5602924e-03,\n",
              "        6.9286078e-05, 4.4889428e-04], dtype=float32),\n",
              " array([1, 0, 0, 0, 0, 0, 0, 0, 0, 0]))"
            ]
          },
          "execution_count": 72,
          "metadata": {},
          "output_type": "execute_result"
        }
      ],
      "source": [
        "y_hat_test[0], y_test[0]"
      ]
    },
    {
      "cell_type": "code",
      "execution_count": null,
      "id": "fb6f0e19",
      "metadata": {},
      "outputs": [],
      "source": [
        "nombre_ys = listado_ys.keys()\n",
        "# Creamos listado de nombres de las clases"
      ]
    },
    {
      "cell_type": "code",
      "execution_count": null,
      "id": "e6400bff",
      "metadata": {},
      "outputs": [],
      "source": [
        "# Creamos un diccionario que nos permita saber a que clase corresponde cada índice\n",
        "idx_to_label = {}\n",
        "for i, label in enumerate(listado_ys):\n",
        "    el_argmax = np.argmax(listado_ys[label])\n",
        "    idx_to_label[el_argmax] = label"
      ]
    },
    {
      "cell_type": "code",
      "execution_count": 95,
      "id": "0a028197",
      "metadata": {},
      "outputs": [
        {
          "data": {
            "text/plain": [
              "{np.int64(0): 'PHP',\n",
              " np.int64(1): 'JavaScript',\n",
              " np.int64(2): 'Rust',\n",
              " np.int64(3): 'C',\n",
              " np.int64(4): 'D',\n",
              " np.int64(5): 'Haskell',\n",
              " np.int64(6): 'Java',\n",
              " np.int64(7): 'C++',\n",
              " np.int64(8): 'C#',\n",
              " np.int64(9): 'Python'}"
            ]
          },
          "execution_count": 95,
          "metadata": {},
          "output_type": "execute_result"
        }
      ],
      "source": [
        "idx_to_label"
      ]
    },
    {
      "cell_type": "code",
      "execution_count": 91,
      "id": "5455068a",
      "metadata": {},
      "outputs": [
        {
          "data": {
            "text/plain": [
              "{'PHP': [1, 0, 0, 0, 0, 0, 0, 0, 0, 0],\n",
              " 'JavaScript': [0, 1, 0, 0, 0, 0, 0, 0, 0, 0],\n",
              " 'Rust': [0, 0, 1, 0, 0, 0, 0, 0, 0, 0],\n",
              " 'C': [0, 0, 0, 1, 0, 0, 0, 0, 0, 0],\n",
              " 'D': [0, 0, 0, 0, 1, 0, 0, 0, 0, 0],\n",
              " 'Haskell': [0, 0, 0, 0, 0, 1, 0, 0, 0, 0],\n",
              " 'Java': [0, 0, 0, 0, 0, 0, 1, 0, 0, 0],\n",
              " 'C++': [0, 0, 0, 0, 0, 0, 0, 1, 0, 0],\n",
              " 'C#': [0, 0, 0, 0, 0, 0, 0, 0, 1, 0],\n",
              " 'Python': [0, 0, 0, 0, 0, 0, 0, 0, 0, 1]}"
            ]
          },
          "execution_count": 91,
          "metadata": {},
          "output_type": "execute_result"
        }
      ],
      "source": [
        "listado_ys"
      ]
    },
    {
      "cell_type": "code",
      "execution_count": 116,
      "id": "3a86ad68",
      "metadata": {},
      "outputs": [
        {
          "data": {
            "text/plain": [
              "{'PHP': [0, 0],\n",
              " 'JavaScript': [0, 0],\n",
              " 'Rust': [0, 0],\n",
              " 'C': [0, 0],\n",
              " 'D': [0, 0],\n",
              " 'Haskell': [0, 0],\n",
              " 'Java': [0, 0],\n",
              " 'C++': [0, 0],\n",
              " 'C#': [0, 0],\n",
              " 'Python': [0, 0]}"
            ]
          },
          "execution_count": 116,
          "metadata": {},
          "output_type": "execute_result"
        }
      ],
      "source": [
        "contador = {i:[0,0] for i in listado_ys}\n",
        "# [N, N correctos]\n",
        "contador"
      ]
    },
    {
      "cell_type": "code",
      "execution_count": 118,
      "id": "16e5a69c",
      "metadata": {},
      "outputs": [],
      "source": [
        "# Con el contador de arriba vamos a ver que tantos casos correctos hay\n",
        "for i in range(y_test.shape[0]):\n",
        "\n",
        "    el_lenguaje = idx_to_label[np.argmax(y_test[i])]\n",
        "    el_lenguaje_pred = idx_to_label[np.argmax(y_hat_test[i])]\n",
        "    contador[el_lenguaje][0] += 1 # Contamos el lenguaje real\n",
        "    if el_lenguaje == el_lenguaje_pred:\n",
        "        contador[el_lenguaje][1] += 1 # Contamos si el lenguaje predicho es correcto\n"
      ]
    },
    {
      "cell_type": "code",
      "execution_count": 120,
      "id": "ffeb4cd9",
      "metadata": {},
      "outputs": [
        {
          "data": {
            "text/plain": [
              "{'PHP': [10, 10],\n",
              " 'JavaScript': [10, 7],\n",
              " 'Rust': [10, 10],\n",
              " 'C': [10, 8],\n",
              " 'D': [10, 9],\n",
              " 'Haskell': [10, 8],\n",
              " 'Java': [10, 7],\n",
              " 'C++': [10, 7],\n",
              " 'C#': [10, 0],\n",
              " 'Python': [10, 0]}"
            ]
          },
          "execution_count": 120,
          "metadata": {},
          "output_type": "execute_result"
        }
      ],
      "source": [
        "contador"
      ]
    },
    {
      "cell_type": "code",
      "execution_count": 121,
      "id": "8dc71cb8",
      "metadata": {},
      "outputs": [],
      "source": [
        "contador = {i:[0,0] for i in listado_ys}\n",
        "# Con el contador de arriba vamos a ver que tantos casos correctos hay\n",
        "for i in range(y.shape[0]):\n",
        "\n",
        "    el_lenguaje = idx_to_label[np.argmax(y[i])]\n",
        "    el_lenguaje_pred = idx_to_label[np.argmax(y_hat[i])]\n",
        "    contador[el_lenguaje][0] += 1 # Contamos el lenguaje real\n",
        "    if el_lenguaje == el_lenguaje_pred:\n",
        "        contador[el_lenguaje][1] += 1 # Contamos si el lenguaje predicho es correcto\n"
      ]
    },
    {
      "cell_type": "code",
      "execution_count": 122,
      "id": "d4d1efbc",
      "metadata": {},
      "outputs": [
        {
          "data": {
            "text/plain": [
              "{'PHP': [100, 100],\n",
              " 'JavaScript': [100, 79],\n",
              " 'Rust': [100, 98],\n",
              " 'C': [100, 85],\n",
              " 'D': [100, 94],\n",
              " 'Haskell': [100, 79],\n",
              " 'Java': [100, 92],\n",
              " 'C++': [100, 85],\n",
              " 'C#': [100, 0],\n",
              " 'Python': [100, 0]}"
            ]
          },
          "execution_count": 122,
          "metadata": {},
          "output_type": "execute_result"
        }
      ],
      "source": [
        "contador"
      ]
    },
    {
      "cell_type": "code",
      "execution_count": null,
      "id": "1524e128",
      "metadata": {},
      "outputs": [],
      "source": [
        "# pip install numpy pandas matplotlib seaborn openpyxl scikit-learn pydot graphviz  tensorflow torch\n",
        "# Antes de ejecutar esto debes crear una copia de typing_extensions_vinicial.py, pues lo sobreescribira y la versión nueva no deja correr el código\n",
        "# pip install tensorflow[and-cuda]"
      ]
    },
    {
      "cell_type": "code",
      "execution_count": null,
      "id": "7c73c49c",
      "metadata": {},
      "outputs": [
        {
          "data": {
            "text/plain": [
              "1"
            ]
          },
          "execution_count": 17,
          "metadata": {},
          "output_type": "execute_result"
        }
      ],
      "source": [
        "\n",
        "# pushd $(dirname $(python -c 'print(__import__(\"tensorflow\").__file__)'))\n",
        "# ln -svf ../nvidia/*/lib/*.so* .\n",
        "# popd\n",
        "# This ensures TensorFlow can find the necessary GPU libraries\n",
        "# import os\n",
        "# os.system(\"pushd $(dirname $(python -c 'print(__import__(\\\"tensorflow\\\").__file__)')) && ln -svf ../nvidia/*/lib/*.so* . && popd\")"
      ]
    },
    {
      "cell_type": "code",
      "execution_count": null,
      "id": "6e17f23f",
      "metadata": {},
      "outputs": [
        {
          "data": {
            "text/plain": [
              "1"
            ]
          },
          "execution_count": 15,
          "metadata": {},
          "output_type": "execute_result"
        }
      ],
      "source": [
        "# ln -sf $(find $(dirname $(dirname $(python -c \"import nvidia.cuda_nvcc;         \n",
        "# os.system(\"ln -sf $(find $(dirname $(dirname $(python -c \\\"import nvidia.cuda_nvcc; && print(nvidia.cuda_nvcc.__file__)\\\"))/*/bin/) -name ptxas -print -quit) $VIRTUAL_ENV/bin/ptxas\")\n",
        "# print(nvidia.cuda_nvcc.__file__)\"))/*/bin/) -name ptxas -print -quit) $VIRTUAL_ENV/bin/ptxas"
      ]
    },
    {
      "cell_type": "code",
      "execution_count": null,
      "id": "3e395c20",
      "metadata": {},
      "outputs": [],
      "source": []
    }
  ],
  "metadata": {
    "colab": {
      "include_colab_link": true,
      "provenance": []
    },
    "kernelspec": {
      "display_name": ".venv",
      "language": "python",
      "name": "python3"
    },
    "language_info": {
      "codemirror_mode": {
        "name": "ipython",
        "version": 3
      },
      "file_extension": ".py",
      "mimetype": "text/x-python",
      "name": "python",
      "nbconvert_exporter": "python",
      "pygments_lexer": "ipython3",
      "version": "3.11.7"
    }
  },
  "nbformat": 4,
  "nbformat_minor": 5
}
