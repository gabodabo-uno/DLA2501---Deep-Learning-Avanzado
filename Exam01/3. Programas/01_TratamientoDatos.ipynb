{
 "cells": [
  {
   "cell_type": "code",
   "execution_count": 6,
   "id": "30212150",
   "metadata": {},
   "outputs": [],
   "source": [
    "# pip install numpy -q\n",
    "# pip install pandas -q\n",
    "# pip install seaborn -q"
   ]
  },
  {
   "cell_type": "code",
   "execution_count": 7,
   "id": "04618492",
   "metadata": {},
   "outputs": [],
   "source": [
    "import os\n",
    "import numpy as np\n",
    "import pandas as pd\n",
    "import seaborn as sns\n",
    "from pathlib import Path\n",
    "from itertools import chain"
   ]
  },
  {
   "cell_type": "code",
   "execution_count": 8,
   "id": "a8cf5510",
   "metadata": {},
   "outputs": [],
   "source": [
    "el_path_main = Path(os.getcwd()).parent\n",
    "el_path_train = el_path_main/'2. Datos/Project_CodeNet_LangClass/train'\n",
    "el_path_test = el_path_main/'2. Datos/Project_CodeNet_LangClass/test'"
   ]
  },
  {
   "cell_type": "markdown",
   "id": "e59185a9",
   "metadata": {},
   "source": [
    "# Data Loading"
   ]
  },
  {
   "cell_type": "code",
   "execution_count": 9,
   "id": "2b8e9c6c",
   "metadata": {},
   "outputs": [],
   "source": [
    "# Read the training and testing datasets\n",
    "df_consol = pd.DataFrame()\n",
    "for folder in chain(el_path_train.iterdir(), el_path_test.iterdir()):\n",
    "    \n",
    "    # Get the type of dataset\n",
    "    dataset_type = folder.parent.name\n",
    "\n",
    "    # Get the folder name (language)\n",
    "    the_language = folder.name\n",
    "\n",
    "    # Ceate an empty array to store the code\n",
    "    array_tmp_code = np.empty(shape=(0, 1), dtype=object)\n",
    "    array_tmp_file_name = np.empty(shape=(0, 1), dtype=object)\n",
    "\n",
    "    for file in folder.iterdir():\n",
    "        # Read the code\n",
    "        if file.is_file():\n",
    "            with open(file, 'r', encoding='utf-8') as f:\n",
    "                the_code = f.read()\n",
    "            array_tmp_code = np.append(array_tmp_code, the_code)\n",
    "            array_tmp_file_name = np.append(array_tmp_file_name, file.name)\n",
    "        else:\n",
    "            print(f'Is not a file.\\n{file}')\n",
    "            pass\n",
    "    tmp_join = np.hstack([array_tmp_file_name.reshape(-1,1), array_tmp_code.reshape(-1,1)])\n",
    "    tmp_df = pd.DataFrame(tmp_join, columns=['file_name', 'code'])\n",
    "    tmp_df['language'] = the_language\n",
    "    tmp_df['dataset_type'] = dataset_type\n",
    "    df_consol = pd.concat([df_consol, tmp_df])"
   ]
  },
  {
   "cell_type": "code",
   "execution_count": 10,
   "id": "7e590f7a",
   "metadata": {},
   "outputs": [],
   "source": [
    "df_consol.to_excel(el_path_main/'2. Datos/df_consol.xlsx', index=False)"
   ]
  }
 ],
 "metadata": {
  "kernelspec": {
   "display_name": ".venv",
   "language": "python",
   "name": "python3"
  },
  "language_info": {
   "codemirror_mode": {
    "name": "ipython",
    "version": 3
   },
   "file_extension": ".py",
   "mimetype": "text/x-python",
   "name": "python",
   "nbconvert_exporter": "python",
   "pygments_lexer": "ipython3",
   "version": "3.13.3"
  }
 },
 "nbformat": 4,
 "nbformat_minor": 5
}
